{
 "cells": [
  {
   "cell_type": "code",
   "execution_count": 1,
   "id": "d6e92f9a-c985-47d3-9a81-f0abcd05dba3",
   "metadata": {},
   "outputs": [
    {
     "data": {
      "text/plain": [
       "{'tracked_total': 0,\n",
       " 'tracked_terminated': 0,\n",
       " 'tracked_failed': [],\n",
       " 'orphaned_discovered': 0,\n",
       " 'orphaned_terminated': 0,\n",
       " 'orphaned_failed': [],\n",
       " 'success': True}"
      ]
     },
     "execution_count": 1,
     "metadata": {},
     "output_type": "execute_result"
    }
   ],
   "source": [
    "import sys\n",
    "sys.path.insert(0, '../..')\n",
    "import syft_client as sc\n",
    "import syft_serve as ss\n",
    "ss.servers.terminate_all()"
   ]
  },
  {
   "cell_type": "code",
   "execution_count": 2,
   "id": "e23b92fe-4b10-4b10-bcc3-60d19ec60e2d",
   "metadata": {},
   "outputs": [],
   "source": [
    "!ps aux | grep uvicorn | grep -v grep | awk '{print $2}' | xargs kill -9"
   ]
  },
  {
   "cell_type": "code",
   "execution_count": 3,
   "id": "3267d9b6-5b94-4654-a4ed-cd646dcc00a8",
   "metadata": {},
   "outputs": [
    {
     "data": {
      "text/html": [
       "<p style='color: #a0a0a0;'>No servers</p>"
      ],
      "text/plain": [
       "No servers"
      ]
     },
     "execution_count": 3,
     "metadata": {},
     "output_type": "execute_result"
    }
   ],
   "source": [
    "ss.servers"
   ]
  },
  {
   "cell_type": "code",
   "execution_count": 4,
   "id": "473ae5c4-26d2-49fd-ab9f-7134bfe61f7e",
   "metadata": {},
   "outputs": [
    {
     "name": "stdout",
     "output_type": "stream",
     "text": [
      "✅ Connected peer-to-peer to 1 peer via: Gmail, Gdrive_Files, Gsheets, Gforms                      \n"
     ]
    }
   ],
   "source": [
    "# do_email = input(\"Enter Data owner email: \")\n",
    "do_email = \"andrew@openmined.org\"\n",
    "do_client = sc.login(do_email)"
   ]
  },
  {
   "cell_type": "code",
   "execution_count": 5,
   "id": "0c7e7ac9",
   "metadata": {},
   "outputs": [],
   "source": [
    "ss.servers['job_runner_andrew_at_openmined_org'].force_terminate()"
   ]
  },
  {
   "cell_type": "code",
   "execution_count": null,
   "id": "bcfbf9ce-20a0-4726-b2b2-b824815bb9d0",
   "metadata": {},
   "outputs": [],
   "source": []
  },
  {
   "cell_type": "markdown",
   "id": "ea6b82e0-a768-4f8f-a930-046f99687116",
   "metadata": {},
   "source": [
    "## Upload Dataset\n"
   ]
  },
  {
   "cell_type": "code",
   "execution_count": 7,
   "id": "d62b5d05",
   "metadata": {},
   "outputs": [
    {
     "name": "stdout",
     "output_type": "stream",
     "text": [
      "Crop data with 10 unique crops saved to ./crop_data/private/data.csv\n",
      "Crop data with 10 unique crops saved to ./crop_data/mock/data.csv\n"
     ]
    }
   ],
   "source": [
    "\n",
    "from utils import generate_crop_data\n",
    "\n",
    "\n",
    "private_path = \"./crop_data/private/data.csv\"\n",
    "generate_crop_data(num_rows=10, output_path=private_path)\n",
    "\n",
    "mock_path = \"./crop_data/mock/data.csv\"\n",
    "generate_crop_data(num_rows=10, output_path=mock_path)\n"
   ]
  },
  {
   "cell_type": "code",
   "execution_count": 8,
   "id": "5ee5dd0a",
   "metadata": {},
   "outputs": [],
   "source": [
    "# Copy it to the syftbox folder in \n",
    "# in private and mock"
   ]
  },
  {
   "cell_type": "markdown",
   "id": "8349630c",
   "metadata": {},
   "source": [
    "## Jobs"
   ]
  },
  {
   "cell_type": "code",
   "execution_count": 9,
   "id": "a1911996",
   "metadata": {},
   "outputs": [
    {
     "data": {
      "text/html": [
       "\n",
       "            <style>\n",
       "\n",
       "                .syftjob-empty {\n",
       "                    padding: 30px 20px;\n",
       "                    text-align: center;\n",
       "                    border-radius: 8px;\n",
       "                    background: linear-gradient(135deg, #f8c073 0%, #f79763 50%, #cc677b 100%);\n",
       "                    border: 1px solid rgba(248,192,115,0.2);\n",
       "                    color: white;\n",
       "                }\n",
       "\n",
       "\n",
       "                .syftjob-empty h3 {\n",
       "                    margin: 0 0 12px 0;\n",
       "                    font-size: 18px;\n",
       "                    color: white;\n",
       "                    font-weight: 600;\n",
       "                }\n",
       "\n",
       "                .syftjob-empty p {\n",
       "                    margin: 0;\n",
       "                    color: rgba(255,255,255,0.9);\n",
       "                    font-size: 16px;\n",
       "                    opacity: 0.95;\n",
       "                }\n",
       "\n",
       "                .syftjob-empty-icon {\n",
       "                    font-size: 24px;\n",
       "                    margin-bottom: 12px;\n",
       "                    display: block;\n",
       "                }\n",
       "\n",
       "                /* Dark theme */\n",
       "                @media (prefers-color-scheme: dark) {\n",
       "                    .syftjob-empty {\n",
       "                        background: linear-gradient(135deg, #2d3748 0%, #4a5568 100%);\n",
       "                        border-color: rgba(74,85,104,0.2);\n",
       "                    }\n",
       "                    .syftjob-empty h3 {\n",
       "                        color: white;\n",
       "                    }\n",
       "                    .syftjob-empty p {\n",
       "                        color: rgba(255,255,255,0.95);\n",
       "                        opacity: 0.95;\n",
       "                    }\n",
       "                }\n",
       "\n",
       "                /* Jupyter dark theme detection */\n",
       "                .jp-RenderedHTMLCommon[data-jp-theme-light=\"false\"] .syftjob-empty,\n",
       "                body[data-jp-theme-light=\"false\"] .syftjob-empty {\n",
       "                    background: linear-gradient(135deg, #2d3748 0%, #4a5568 100%);\n",
       "                    border-color: rgba(74,85,104,0.2);\n",
       "                }\n",
       "                .jp-RenderedHTMLCommon[data-jp-theme-light=\"false\"] .syftjob-empty h3,\n",
       "                body[data-jp-theme-light=\"false\"] .syftjob-empty h3 {\n",
       "                    color: white;\n",
       "                }\n",
       "                .jp-RenderedHTMLCommon[data-jp-theme-light=\"false\"] .syftjob-empty p,\n",
       "                body[data-jp-theme-light=\"false\"] .syftjob-empty p {\n",
       "                    color: rgba(255,255,255,0.95);\n",
       "                    opacity: 0.95;\n",
       "                }\n",
       "            </style>\n",
       "            <div class=\"syftjob-empty\">\n",
       "                <span class=\"syftjob-empty-icon\">📭</span>\n",
       "                <h3>No jobs found</h3>\n",
       "                <p>Submit jobs to see them here</p>\n",
       "            </div>\n",
       "            "
      ],
      "text/plain": [
       "JobsList(0 jobs)"
      ]
     },
     "execution_count": 9,
     "metadata": {},
     "output_type": "execute_result"
    }
   ],
   "source": [
    "do_client.jobs"
   ]
  },
  {
   "cell_type": "code",
   "execution_count": 22,
   "id": "a835210d",
   "metadata": {},
   "outputs": [
    {
     "data": {
      "text/html": [
       "\n",
       "        <style>\n",
       "            .syftjob-single {\n",
       "                font-family: -apple-system, BlinkMacSystemFont, 'Segoe UI', Roboto, sans-serif;\n",
       "                border: 1px solid #e2e8f0;\n",
       "                border-radius: 8px;\n",
       "                padding: 20px;\n",
       "                margin: 16px 0;\n",
       "                background: white;\n",
       "                box-shadow: 0 2px 8px rgba(0,0,0,0.1);\n",
       "                max-width: 600px;\n",
       "            }\n",
       "            .syftjob-single-header {\n",
       "                display: flex;\n",
       "                align-items: center;\n",
       "                gap: 12px;\n",
       "                margin-bottom: 16px;\n",
       "                padding-bottom: 12px;\n",
       "                border-bottom: 1px solid #e2e8f0;\n",
       "            }\n",
       "            .syftjob-single-status {\n",
       "                background: #e8f2ff;\n",
       "                color: #6976ae;\n",
       "                padding: 4px 12px;\n",
       "                border-radius: 16px;\n",
       "                font-size: 12px;\n",
       "                font-weight: 600;\n",
       "                display: inline-flex;\n",
       "                align-items: center;\n",
       "                gap: 4px;\n",
       "            }\n",
       "            .syftjob-single-name {\n",
       "                font-size: 18px;\n",
       "                font-weight: 600;\n",
       "                color: #1a202c;\n",
       "                margin: 0;\n",
       "                flex: 1;\n",
       "            }\n",
       "            .syftjob-single-details {\n",
       "                display: grid;\n",
       "                gap: 8px;\n",
       "                font-size: 14px;\n",
       "                color: #4a5568;\n",
       "            }\n",
       "            .syftjob-single-detail {\n",
       "                display: flex;\n",
       "                align-items: center;\n",
       "                gap: 8px;\n",
       "            }\n",
       "            .syftjob-single-detail strong {\n",
       "                color: #2d3748;\n",
       "                font-weight: 600;\n",
       "                min-width: 100px;\n",
       "            }\n",
       "            .syftjob-single-script {\n",
       "                background: #f7fafc;\n",
       "                border: 1px solid #e2e8f0;\n",
       "                border-radius: 4px;\n",
       "                padding: 12px;\n",
       "                font-family: 'Monaco', 'Menlo', 'SF Mono', monospace;\n",
       "                font-size: 11px;\n",
       "                color: #2d3748;\n",
       "                margin-top: 8px;\n",
       "                overflow: auto;\n",
       "                white-space: pre-wrap;\n",
       "                word-wrap: break-word;\n",
       "                max-height: 200px;\n",
       "                line-height: 1.4;\n",
       "            }\n",
       "            .syftjob-single-outputs {\n",
       "                margin-top: 16px;\n",
       "                padding: 12px;\n",
       "                background: #f8f9fa;\n",
       "                border: 1px solid #e2e8f0;\n",
       "                border-radius: 6px;\n",
       "            }\n",
       "            .syftjob-single-outputs h4 {\n",
       "                margin: 0 0 8px 0;\n",
       "                font-size: 14px;\n",
       "                color: #2d3748;\n",
       "                font-weight: 600;\n",
       "            }\n",
       "            .syftjob-single-outputs-list {\n",
       "                font-family: 'Monaco', 'Menlo', monospace;\n",
       "                font-size: 12px;\n",
       "                color: #4a5568;\n",
       "                line-height: 1.5;\n",
       "                margin: 0;\n",
       "                list-style: none;\n",
       "                padding: 0;\n",
       "            }\n",
       "            .syftjob-single-outputs-item {\n",
       "                padding: 2px 0;\n",
       "            }\n",
       "\n",
       "            /* Dark theme */\n",
       "            @media (prefers-color-scheme: dark) {\n",
       "                .syftjob-single {\n",
       "                    background: #1a202c;\n",
       "                    border-color: #4a5568;\n",
       "                    color: #e2e8f0;\n",
       "                }\n",
       "                .syftjob-single-header {\n",
       "                    border-bottom-color: #4a5568;\n",
       "                }\n",
       "                .syftjob-single-name {\n",
       "                    color: #f7fafc;\n",
       "                }\n",
       "                .syftjob-single-details {\n",
       "                    color: #cbd5e0;\n",
       "                }\n",
       "                .syftjob-single-detail strong {\n",
       "                    color: #e2e8f0;\n",
       "                }\n",
       "                .syftjob-single-script {\n",
       "                    background: #2d3748;\n",
       "                    border-color: #4a5568;\n",
       "                    color: #e2e8f0;\n",
       "                }\n",
       "            }\n",
       "\n",
       "            /* Jupyter dark theme */\n",
       "            .jp-RenderedHTMLCommon[data-jp-theme-light=\"false\"] .syftjob-single,\n",
       "            body[data-jp-theme-light=\"false\"] .syftjob-single {\n",
       "                background: #1a202c;\n",
       "                border-color: #4a5568;\n",
       "                color: #e2e8f0;\n",
       "            }\n",
       "            .jp-RenderedHTMLCommon[data-jp-theme-light=\"false\"] .syftjob-single-header,\n",
       "            body[data-jp-theme-light=\"false\"] .syftjob-single-header {\n",
       "                border-bottom-color: #4a5568;\n",
       "            }\n",
       "            .jp-RenderedHTMLCommon[data-jp-theme-light=\"false\"] .syftjob-single-name,\n",
       "            body[data-jp-theme-light=\"false\"] .syftjob-single-name {\n",
       "                color: #f7fafc;\n",
       "            }\n",
       "            .jp-RenderedHTMLCommon[data-jp-theme-light=\"false\"] .syftjob-single-details,\n",
       "            body[data-jp-theme-light=\"false\"] .syftjob-single-details {\n",
       "                color: #cbd5e0;\n",
       "            }\n",
       "            .jp-RenderedHTMLCommon[data-jp-theme-light=\"false\"] .syftjob-single-detail strong,\n",
       "            body[data-jp-theme-light=\"false\"] .syftjob-single-detail strong {\n",
       "                color: #e2e8f0;\n",
       "            }\n",
       "            .jp-RenderedHTMLCommon[data-jp-theme-light=\"false\"] .syftjob-single-script,\n",
       "            body[data-jp-theme-light=\"false\"] .syftjob-single-script {\n",
       "                background: #2d3748;\n",
       "                border-color: #4a5568;\n",
       "                color: #e2e8f0;\n",
       "            }\n",
       "            .jp-RenderedHTMLCommon[data-jp-theme-light=\"false\"] .syftjob-single-outputs,\n",
       "            body[data-jp-theme-light=\"false\"] .syftjob-single-outputs {\n",
       "                background: #2d3748;\n",
       "                border-color: #4a5568;\n",
       "            }\n",
       "            .jp-RenderedHTMLCommon[data-jp-theme-light=\"false\"] .syftjob-single-outputs h4,\n",
       "            body[data-jp-theme-light=\"false\"] .syftjob-single-outputs h4 {\n",
       "                color: #e2e8f0;\n",
       "            }\n",
       "            .jp-RenderedHTMLCommon[data-jp-theme-light=\"false\"] .syftjob-single-outputs-list,\n",
       "            body[data-jp-theme-light=\"false\"] .syftjob-single-outputs-list {\n",
       "                color: #cbd5e0;\n",
       "            }\n",
       "        </style>\n",
       "        <div class=\"syftjob-single\">\n",
       "            <div class=\"syftjob-single-header\">\n",
       "                <h3 class=\"syftjob-single-name\">Job - 2a6431a0</h3>\n",
       "                <span class=\"syftjob-single-status\">\n",
       "                    📥 INBOX\n",
       "                </span>\n",
       "            </div>\n",
       "            <div class=\"syftjob-single-details\">\n",
       "                <div class=\"syftjob-single-detail\">\n",
       "                    <strong>User:</strong>\n",
       "                    <span>andrew@openmined.org</span>\n",
       "                </div>\n",
       "                <div class=\"syftjob-single-detail\">\n",
       "                    <strong>Submitted by:</strong>\n",
       "                    <span>liamtrask@gmail.com</span>\n",
       "                </div>\n",
       "                <div class=\"syftjob-single-detail\">\n",
       "                    <strong>Location:</strong>\n",
       "                    <span>/Users/atrask/SyftBox_andrew@openmined.org/datasites/andrew@openmined.org/app_data/job/inbox/Job - 2a6431a0</span>\n",
       "                </div>\n",
       "                <div class=\"syftjob-single-detail\">\n",
       "                    <strong>Submitted:</strong>\n",
       "                    <span>2025-10-01 14:42:39</span>\n",
       "                </div>\n",
       "                <div class=\"syftjob-single-detail\">\n",
       "                    <strong>Script:</strong>\n",
       "                    <div class=\"syftjob-single-script\">#!/bin/bash\n",
       "\n",
       "# Create isolated uv virtual environment\n",
       "uv venv\n",
       "\n",
       "# Activate the virtual environment\n",
       "source .venv/bin/activate\n",
       "\n",
       "# Install syft-client and custom dependencies\n",
       "uv pip install &quot;syft-client&quot;\n",
       "\n",
       "# Navigate to code directory and execute\n",
       "cd code\n",
       "python main.py</div>\n",
       "                </div>\n",
       "            </div>\n",
       "        </div>\n",
       "        "
      ],
      "text/plain": [
       "JobInfo(name='Job - 2a6431a0', user='andrew@openmined.org', status='inbox')"
      ]
     },
     "execution_count": 22,
     "metadata": {},
     "output_type": "execute_result"
    }
   ],
   "source": [
    "do_client.jobs[0]"
   ]
  },
  {
   "cell_type": "code",
   "execution_count": 23,
   "id": "87bd8cd9",
   "metadata": {},
   "outputs": [],
   "source": [
    "do_client.jobs[0].approve()"
   ]
  },
  {
   "cell_type": "code",
   "execution_count": null,
   "id": "385b909e",
   "metadata": {},
   "outputs": [],
   "source": [
    "print(ss.servers[1].stdout.tail(50))"
   ]
  },
  {
   "cell_type": "code",
   "execution_count": null,
   "id": "fbb3e0b4",
   "metadata": {},
   "outputs": [],
   "source": [
    "do_client.peers"
   ]
  },
  {
   "cell_type": "code",
   "execution_count": null,
   "id": "b8411918",
   "metadata": {},
   "outputs": [],
   "source": [
    "do_client.jobs[0].stdout"
   ]
  },
  {
   "cell_type": "code",
   "execution_count": null,
   "id": "d648a39c",
   "metadata": {},
   "outputs": [],
   "source": [
    "print(ss.servers[5].stdout.tail(50))"
   ]
  },
  {
   "cell_type": "code",
   "execution_count": null,
   "id": "f7153eac",
   "metadata": {},
   "outputs": [],
   "source": []
  },
  {
   "cell_type": "code",
   "execution_count": null,
   "id": "7c128bf9-1e79-402f-b496-06ae43397245",
   "metadata": {},
   "outputs": [],
   "source": []
  }
 ],
 "metadata": {
  "kernelspec": {
   "display_name": "Python 3 (ipykernel)",
   "language": "python",
   "name": "python3"
  },
  "language_info": {
   "codemirror_mode": {
    "name": "ipython",
    "version": 3
   },
   "file_extension": ".py",
   "mimetype": "text/x-python",
   "name": "python",
   "nbconvert_exporter": "python",
   "pygments_lexer": "ipython3",
   "version": "3.12.9"
  }
 },
 "nbformat": 4,
 "nbformat_minor": 5
}
