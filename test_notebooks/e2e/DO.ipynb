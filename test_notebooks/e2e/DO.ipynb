{
 "cells": [
  {
   "cell_type": "code",
   "execution_count": null,
   "id": "d6e92f9a-c985-47d3-9a81-f0abcd05dba3",
   "metadata": {},
   "outputs": [],
   "source": [
    "import syft_client as sc\n",
    "import syft_serve as ss"
   ]
  },
  {
   "cell_type": "code",
   "execution_count": null,
   "id": "473ae5c4-26d2-49fd-ab9f-7134bfe61f7e",
   "metadata": {},
   "outputs": [],
   "source": [
    "do_email = input(\"Enter Data owner email: \")\n",
    "do_client = sc.login(do_email)"
   ]
  },
  {
   "cell_type": "code",
   "execution_count": null,
   "id": "0c7e7ac9",
   "metadata": {},
   "outputs": [],
   "source": [
    "ss.servers"
   ]
  },
  {
   "cell_type": "markdown",
   "id": "ea6b82e0-a768-4f8f-a930-046f99687116",
   "metadata": {},
   "source": [
    "## Upload Dataset\n"
   ]
  },
  {
   "cell_type": "code",
   "execution_count": null,
   "id": "d62b5d05",
   "metadata": {},
   "outputs": [],
   "source": [
    "\n",
    "from utils import generate_crop_data\n",
    "\n",
    "\n",
    "private_path = \"./crop_data/private/data.csv\"\n",
    "generate_crop_data(num_rows=10, output_path=private_path)\n",
    "\n",
    "mock_path = \"./crop_data/mock/data.csv\"\n",
    "generate_crop_data(num_rows=10, output_path=mock_path)\n"
   ]
  },
  {
   "cell_type": "code",
   "execution_count": null,
   "id": "5ee5dd0a",
   "metadata": {},
   "outputs": [],
   "source": [
    "# Copy it to the syftbox folder in \n",
    "# in private and mock"
   ]
  },
  {
   "cell_type": "markdown",
   "id": "8349630c",
   "metadata": {},
   "source": [
    "## Jobs"
   ]
  },
  {
   "cell_type": "code",
   "execution_count": null,
   "id": "a1911996",
   "metadata": {},
   "outputs": [],
   "source": [
    "do_client.jobs"
   ]
  },
  {
   "cell_type": "code",
   "execution_count": null,
   "id": "a835210d",
   "metadata": {},
   "outputs": [],
   "source": [
    "do_client.jobs[0]"
   ]
  },
  {
   "cell_type": "code",
   "execution_count": null,
   "id": "87bd8cd9",
   "metadata": {},
   "outputs": [],
   "source": [
    "do_client.jobs[0].approve()"
   ]
  },
  {
   "cell_type": "code",
   "execution_count": null,
   "id": "385b909e",
   "metadata": {},
   "outputs": [],
   "source": [
    "print(ss.servers[1].stdout.tail(50))"
   ]
  },
  {
   "cell_type": "code",
   "execution_count": null,
   "id": "fbb3e0b4",
   "metadata": {},
   "outputs": [],
   "source": [
    "do_client.peers"
   ]
  },
  {
   "cell_type": "code",
   "execution_count": null,
   "id": "b8411918",
   "metadata": {},
   "outputs": [],
   "source": [
    "do_client.jobs[0].stdout"
   ]
  },
  {
   "cell_type": "code",
   "execution_count": null,
   "id": "d648a39c",
   "metadata": {},
   "outputs": [],
   "source": [
    "print(ss.servers[5].stdout.tail(50))"
   ]
  },
  {
   "cell_type": "code",
   "execution_count": null,
   "id": "f7153eac",
   "metadata": {},
   "outputs": [],
   "source": []
  }
 ],
 "metadata": {
  "kernelspec": {
   "display_name": "syft-client",
   "language": "python",
   "name": "python3"
  },
  "language_info": {
   "codemirror_mode": {
    "name": "ipython",
    "version": 3
   },
   "file_extension": ".py",
   "mimetype": "text/x-python",
   "name": "python",
   "nbconvert_exporter": "python",
   "pygments_lexer": "ipython3",
   "version": "3.12.8"
  }
 },
 "nbformat": 4,
 "nbformat_minor": 5
}
