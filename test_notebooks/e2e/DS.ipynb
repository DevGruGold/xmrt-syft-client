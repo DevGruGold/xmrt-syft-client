{
 "cells": [
  {
   "cell_type": "code",
   "execution_count": 1,
   "id": "55c58f19-773c-4d9f-8238-1080577fa3cf",
   "metadata": {},
   "outputs": [],
   "source": [
    "import sys\n",
    "sys.path.insert(0, '../..')\n",
    "import syft_client as sc\n",
    "import syft_serve as ss\n",
    "from pathlib import Path"
   ]
  },
  {
   "cell_type": "code",
   "execution_count": 2,
   "id": "5148cb09-6149-455a-85d9-86004e4ab001",
   "metadata": {},
   "outputs": [
    {
     "data": {
      "text/html": [
       "\n",
       "        <div style=\"font-family: -apple-system, BlinkMacSystemFont, 'Segoe UI', Roboto, sans-serif; background: #1e1e1e; border: 1px solid #3e3e3e; border-radius: 5px; padding: 15px;\">\n",
       "            <table style=\"border-collapse: collapse; width: 100%; margin-bottom: 10px; background: #1e1e1e;\">\n",
       "                <thead>\n",
       "                    <tr style=\"border-bottom: 2px solid #3e3e3e; background: #2d2d2d;\">\n",
       "                        <th style=\"padding: 8px; text-align: left; color: #e0e0e0;\">Name</th>\n",
       "                        <th style=\"padding: 8px; text-align: left; color: #e0e0e0;\">Port</th>\n",
       "                        <th style=\"padding: 8px; text-align: left; color: #e0e0e0;\">Status</th>\n",
       "                        <th style=\"padding: 8px; text-align: left; color: #e0e0e0;\">Endpoints</th>\n",
       "                        <th style=\"padding: 8px; text-align: left; color: #e0e0e0;\">Uptime</th>\n",
       "                        <th style=\"padding: 8px; text-align: left; color: #e0e0e0;\">Expires In</th>\n",
       "                        <th style=\"padding: 8px; text-align: left; color: #e0e0e0;\">PID</th>\n",
       "                    </tr>\n",
       "                </thead>\n",
       "                <tbody>\n",
       "                    \n",
       "            <tr style=\"background: #1e1e1e;\">\n",
       "                <td style=\"padding: 8px; color: #e0e0e0;\"><strong>watcher_sender_andrew_openmined_org</strong></td>\n",
       "                <td style=\"padding: 8px; color: #e0e0e0;\">8001</td>\n",
       "                <td style=\"padding: 8px; color: #27ae60;\">✅ Running</td>\n",
       "                <td style=\"padding: 8px; color: #e0e0e0;\"><code>/</code></td>\n",
       "                <td style=\"padding: 8px; color: #e0e0e0;\">47s</td>\n",
       "                <td style=\"padding: 8px; color: #f59e0b; font-weight: 500;\">23h 59m</td>\n",
       "                <td style=\"padding: 8px;\"><code style=\"background: #2d2d2d; padding: 2px 4px; border-radius: 3px; color: #e0e0e0;\">18271</code></td>\n",
       "            </tr>\n",
       "            \n",
       "            <tr style=\"background: #1e1e1e;\">\n",
       "                <td style=\"padding: 8px; color: #e0e0e0;\"><strong>receiver_andrew_openmined_org</strong></td>\n",
       "                <td style=\"padding: 8px; color: #e0e0e0;\">8003</td>\n",
       "                <td style=\"padding: 8px; color: #27ae60;\">✅ Running</td>\n",
       "                <td style=\"padding: 8px; color: #e0e0e0;\"><code>/</code></td>\n",
       "                <td style=\"padding: 8px; color: #e0e0e0;\">37s</td>\n",
       "                <td style=\"padding: 8px; color: #f59e0b; font-weight: 500;\">23h 59m</td>\n",
       "                <td style=\"padding: 8px;\"><code style=\"background: #2d2d2d; padding: 2px 4px; border-radius: 3px; color: #e0e0e0;\">18283</code></td>\n",
       "            </tr>\n",
       "            \n",
       "            <tr style=\"background: #1e1e1e;\">\n",
       "                <td style=\"padding: 8px; color: #e0e0e0;\"><strong>receiver_liamtrask_gmail_com</strong></td>\n",
       "                <td style=\"padding: 8px; color: #e0e0e0;\">8004</td>\n",
       "                <td style=\"padding: 8px; color: #27ae60;\">✅ Running</td>\n",
       "                <td style=\"padding: 8px; color: #e0e0e0;\"><code>/</code></td>\n",
       "                <td style=\"padding: 8px; color: #e0e0e0;\">32s</td>\n",
       "                <td style=\"padding: 8px; color: #f59e0b; font-weight: 500;\">23h 59m</td>\n",
       "                <td style=\"padding: 8px;\"><code style=\"background: #2d2d2d; padding: 2px 4px; border-radius: 3px; color: #e0e0e0;\">18290</code></td>\n",
       "            </tr>\n",
       "            \n",
       "                </tbody>\n",
       "            </table>\n",
       "            <div style=\"color: #a0a0a0; font-size: 14px;\">\n",
       "                3 servers (3 running, 0 stopped)\n",
       "            </div>\n",
       "        </div>\n",
       "        "
      ],
      "text/plain": [
       "Name                                   Port  Status      Endpoints    Uptime      PID\n",
       "-----------------------------------  ------  ----------  -----------  --------  -----\n",
       "watcher_sender_andrew_openmined_org    8001  ✅ Running  /            47s       18271\n",
       "receiver_andrew_openmined_org          8003  ✅ Running  /            37s       18283\n",
       "receiver_liamtrask_gmail_com           8004  ✅ Running  /            32s       18290\n",
       "3 servers (3 running, 0 stopped)"
      ]
     },
     "execution_count": 2,
     "metadata": {},
     "output_type": "execute_result"
    }
   ],
   "source": [
    "ss.servers"
   ]
  },
  {
   "cell_type": "code",
   "execution_count": 3,
   "id": "de071ea6-486f-4a6e-806c-12e69de755a8",
   "metadata": {},
   "outputs": [
    {
     "name": "stdout",
     "output_type": "stream",
     "text": [
      "✅ Connected peer-to-peer to 2 peers via: Gmail, Gdrive_Files, Gsheets, Gforms                    \n"
     ]
    }
   ],
   "source": [
    "# ds_email = input(\"Enter DS email: \")\n",
    "ds_email = \"liamtrask@gmail.com\"\n",
    "ds_client = sc.login(ds_email)"
   ]
  },
  {
   "cell_type": "code",
   "execution_count": 4,
   "id": "5d4b5baf-d89e-44e9-913f-7a9b5e44cece",
   "metadata": {},
   "outputs": [],
   "source": [
    "ss.servers['job_runner_liamtrask_at_gmail_com'].force_terminate()"
   ]
  },
  {
   "cell_type": "code",
   "execution_count": 5,
   "id": "de49ba5c",
   "metadata": {},
   "outputs": [
    {
     "data": {
      "text/html": [
       "\n",
       "        <div style=\"font-family: -apple-system, BlinkMacSystemFont, 'Segoe UI', Roboto, sans-serif; background: #1e1e1e; border: 1px solid #3e3e3e; border-radius: 5px; padding: 15px;\">\n",
       "            <table style=\"border-collapse: collapse; width: 100%; margin-bottom: 10px; background: #1e1e1e;\">\n",
       "                <thead>\n",
       "                    <tr style=\"border-bottom: 2px solid #3e3e3e; background: #2d2d2d;\">\n",
       "                        <th style=\"padding: 8px; text-align: left; color: #e0e0e0;\">Name</th>\n",
       "                        <th style=\"padding: 8px; text-align: left; color: #e0e0e0;\">Port</th>\n",
       "                        <th style=\"padding: 8px; text-align: left; color: #e0e0e0;\">Status</th>\n",
       "                        <th style=\"padding: 8px; text-align: left; color: #e0e0e0;\">Endpoints</th>\n",
       "                        <th style=\"padding: 8px; text-align: left; color: #e0e0e0;\">Uptime</th>\n",
       "                        <th style=\"padding: 8px; text-align: left; color: #e0e0e0;\">Expires In</th>\n",
       "                        <th style=\"padding: 8px; text-align: left; color: #e0e0e0;\">PID</th>\n",
       "                    </tr>\n",
       "                </thead>\n",
       "                <tbody>\n",
       "                    \n",
       "            <tr style=\"background: #1e1e1e;\">\n",
       "                <td style=\"padding: 8px; color: #e0e0e0;\"><strong>watcher_sender_andrew_openmined_org</strong></td>\n",
       "                <td style=\"padding: 8px; color: #e0e0e0;\">8001</td>\n",
       "                <td style=\"padding: 8px; color: #27ae60;\">✅ Running</td>\n",
       "                <td style=\"padding: 8px; color: #e0e0e0;\"><code>/</code></td>\n",
       "                <td style=\"padding: 8px; color: #e0e0e0;\">1m 12s</td>\n",
       "                <td style=\"padding: 8px; color: #f59e0b; font-weight: 500;\">23h 59m</td>\n",
       "                <td style=\"padding: 8px;\"><code style=\"background: #2d2d2d; padding: 2px 4px; border-radius: 3px; color: #e0e0e0;\">18271</code></td>\n",
       "            </tr>\n",
       "            \n",
       "            <tr style=\"background: #1e1e1e;\">\n",
       "                <td style=\"padding: 8px; color: #e0e0e0;\"><strong>receiver_andrew_openmined_org</strong></td>\n",
       "                <td style=\"padding: 8px; color: #e0e0e0;\">8003</td>\n",
       "                <td style=\"padding: 8px; color: #27ae60;\">✅ Running</td>\n",
       "                <td style=\"padding: 8px; color: #e0e0e0;\"><code>/</code></td>\n",
       "                <td style=\"padding: 8px; color: #e0e0e0;\">1m 2s</td>\n",
       "                <td style=\"padding: 8px; color: #f59e0b; font-weight: 500;\">23h 59m</td>\n",
       "                <td style=\"padding: 8px;\"><code style=\"background: #2d2d2d; padding: 2px 4px; border-radius: 3px; color: #e0e0e0;\">18283</code></td>\n",
       "            </tr>\n",
       "            \n",
       "            <tr style=\"background: #1e1e1e;\">\n",
       "                <td style=\"padding: 8px; color: #e0e0e0;\"><strong>receiver_liamtrask_gmail_com</strong></td>\n",
       "                <td style=\"padding: 8px; color: #e0e0e0;\">8004</td>\n",
       "                <td style=\"padding: 8px; color: #27ae60;\">✅ Running</td>\n",
       "                <td style=\"padding: 8px; color: #e0e0e0;\"><code>/</code></td>\n",
       "                <td style=\"padding: 8px; color: #e0e0e0;\">57s</td>\n",
       "                <td style=\"padding: 8px; color: #f59e0b; font-weight: 500;\">23h 59m</td>\n",
       "                <td style=\"padding: 8px;\"><code style=\"background: #2d2d2d; padding: 2px 4px; border-radius: 3px; color: #e0e0e0;\">18290</code></td>\n",
       "            </tr>\n",
       "            \n",
       "            <tr style=\"background: #1e1e1e;\">\n",
       "                <td style=\"padding: 8px; color: #e0e0e0;\"><strong>watcher_sender_liamtrask_gmail_com</strong></td>\n",
       "                <td style=\"padding: 8px; color: #e0e0e0;\">8002</td>\n",
       "                <td style=\"padding: 8px; color: #27ae60;\">✅ Running</td>\n",
       "                <td style=\"padding: 8px; color: #e0e0e0;\"><code>/</code></td>\n",
       "                <td style=\"padding: 8px; color: #e0e0e0;\">15s</td>\n",
       "                <td style=\"padding: 8px; color: #f59e0b; font-weight: 500;\">23h 59m</td>\n",
       "                <td style=\"padding: 8px;\"><code style=\"background: #2d2d2d; padding: 2px 4px; border-radius: 3px; color: #e0e0e0;\">18313</code></td>\n",
       "            </tr>\n",
       "            \n",
       "                </tbody>\n",
       "            </table>\n",
       "            <div style=\"color: #a0a0a0; font-size: 14px;\">\n",
       "                4 servers (4 running, 0 stopped)\n",
       "            </div>\n",
       "        </div>\n",
       "        "
      ],
      "text/plain": [
       "Name                                   Port  Status      Endpoints    Uptime      PID\n",
       "-----------------------------------  ------  ----------  -----------  --------  -----\n",
       "watcher_sender_andrew_openmined_org    8001  ✅ Running  /            1m 12s    18271\n",
       "receiver_andrew_openmined_org          8003  ✅ Running  /            1m 2s     18283\n",
       "receiver_liamtrask_gmail_com           8004  ✅ Running  /            57s       18290\n",
       "watcher_sender_liamtrask_gmail_com     8002  ✅ Running  /            14s       18313\n",
       "4 servers (4 running, 0 stopped)"
      ]
     },
     "execution_count": 5,
     "metadata": {},
     "output_type": "execute_result"
    }
   ],
   "source": [
    "ss.servers"
   ]
  },
  {
   "cell_type": "code",
   "execution_count": 6,
   "id": "b6476a14",
   "metadata": {},
   "outputs": [
    {
     "data": {
      "text/plain": [
       "'liamtrask@gmail.com'"
      ]
     },
     "execution_count": 6,
     "metadata": {},
     "output_type": "execute_result"
    }
   ],
   "source": [
    "ds_client.email"
   ]
  },
  {
   "cell_type": "markdown",
   "id": "8795b8ab-3abf-4bf4-b0f7-d125b6ee8642",
   "metadata": {},
   "source": [
    "## Propose Analysis"
   ]
  },
  {
   "cell_type": "code",
   "execution_count": 7,
   "id": "a3b79a75-8a9a-4490-874a-bf1b6179cf96",
   "metadata": {},
   "outputs": [],
   "source": [
    "code_path = Path(\".\") / \"code\"\n",
    "code_path.mkdir(exist_ok=True)\n",
    "\n",
    "code_file_name = \"main.py\"\n",
    "code_file_path = code_path / code_file_name"
   ]
  },
  {
   "cell_type": "code",
   "execution_count": 8,
   "id": "d45d3a96-5dfd-4162-a45a-9ca962b27479",
   "metadata": {},
   "outputs": [
    {
     "name": "stdout",
     "output_type": "stream",
     "text": [
      "Overwriting code/main.py\n"
     ]
    }
   ],
   "source": [
    "%%writefile {code_file_path}\n",
    "\n",
    "import syft_client as sc\n",
    "\n",
    "data_path = \"syft://private/crop_data/data.csv\"\n",
    "resolved_path = sc.resolve_path(data_path)\n",
    "import csv\n",
    "\n",
    "with open(resolved_path, 'r') as file:\n",
    "    csv_reader = csv.DictReader(file)\n",
    "    total_quantity = 0\n",
    "    for row in csv_reader:\n",
    "        quantity = int(row['Quantity'])\n",
    "        total_quantity += quantity\n",
    "\n",
    "    print(f\"Total Quantity: {total_quantity}\")"
   ]
  },
  {
   "cell_type": "markdown",
   "id": "40af6b9e",
   "metadata": {},
   "source": [
    "### Submit Python Job"
   ]
  },
  {
   "cell_type": "code",
   "execution_count": 9,
   "id": "14ea7cf4",
   "metadata": {},
   "outputs": [],
   "source": [
    "# do_email = input(\"Enter DO email: \")\n",
    "do_email = \"andrew@openmined.org\""
   ]
  },
  {
   "cell_type": "code",
   "execution_count": 10,
   "id": "296f2305",
   "metadata": {},
   "outputs": [
    {
     "data": {
      "text/plain": [
       "PosixPath('/Users/atrask/SyftBox_liamtrask@gmail.com/datasites/andrew@openmined.org/app_data/job/inbox/Job - b061d809')"
      ]
     },
     "execution_count": 10,
     "metadata": {},
     "output_type": "execute_result"
    }
   ],
   "source": [
    "ds_client.submit_python_job(\n",
    "    user=do_email,\n",
    "    code_path=code_path,\n",
    "    entry_point=code_file_name,\n",
    ")"
   ]
  },
  {
   "cell_type": "code",
   "execution_count": 12,
   "id": "f913b36a",
   "metadata": {},
   "outputs": [],
   "source": [
    "# print(ss.servers[4].stdout.tail(50))"
   ]
  },
  {
   "cell_type": "markdown",
   "id": "2f71740d",
   "metadata": {},
   "source": [
    "## Job Status"
   ]
  },
  {
   "cell_type": "code",
   "execution_count": null,
   "id": "55ce26f7",
   "metadata": {},
   "outputs": [],
   "source": [
    "# TODO: Replace this with Peer Client once Ready\n",
    "import syft_job as sj\n",
    "\n",
    "do_client = sj.get_client(ds_client.folder, do_email)"
   ]
  },
  {
   "cell_type": "code",
   "execution_count": null,
   "id": "302f6a2a",
   "metadata": {},
   "outputs": [],
   "source": [
    "do_client.jobs"
   ]
  },
  {
   "cell_type": "code",
   "execution_count": null,
   "id": "273b0f73",
   "metadata": {},
   "outputs": [],
   "source": [
    "do_client.jobs[-1]"
   ]
  },
  {
   "cell_type": "markdown",
   "id": "639bebf4",
   "metadata": {},
   "source": []
  }
 ],
 "metadata": {
  "kernelspec": {
   "display_name": "Python 3 (ipykernel)",
   "language": "python",
   "name": "python3"
  },
  "language_info": {
   "codemirror_mode": {
    "name": "ipython",
    "version": 3
   },
   "file_extension": ".py",
   "mimetype": "text/x-python",
   "name": "python",
   "nbconvert_exporter": "python",
   "pygments_lexer": "ipython3",
   "version": "3.12.9"
  }
 },
 "nbformat": 4,
 "nbformat_minor": 5
}
