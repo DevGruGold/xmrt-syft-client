{
 "cells": [
  {
   "cell_type": "code",
   "execution_count": 1,
   "id": "55c58f19-773c-4d9f-8238-1080577fa3cf",
   "metadata": {},
   "outputs": [],
   "source": [
    "import syft_client as sc\n",
    "import syft_serve as ss\n",
    "from pathlib import Path"
   ]
  },
  {
   "cell_type": "code",
   "execution_count": 2,
   "id": "5148cb09-6149-455a-85d9-86004e4ab001",
   "metadata": {},
   "outputs": [
    {
     "data": {
      "text/html": [
       "<p style='color: #a0a0a0;'>No servers</p>"
      ],
      "text/plain": [
       "No servers"
      ]
     },
     "execution_count": 2,
     "metadata": {},
     "output_type": "execute_result"
    }
   ],
   "source": [
    "ss.servers"
   ]
  },
  {
   "cell_type": "code",
   "execution_count": 3,
   "id": "de071ea6-486f-4a6e-806c-12e69de755a8",
   "metadata": {},
   "outputs": [
    {
     "name": "stdout",
     "output_type": "stream",
     "text": [
      "✅ Connected peer-to-peer to 3 peers via: Gmail, Gdrive_Files, Gsheets, Gforms                        \n"
     ]
    }
   ],
   "source": [
    "# ds_email = input(\"Enter DS email: \")\n",
    "ds_email = \"rasswanth@openmined.org\"\n",
    "ds_client = sc.login(ds_email)"
   ]
  },
  {
   "cell_type": "code",
   "execution_count": 4,
   "id": "de49ba5c",
   "metadata": {},
   "outputs": [
    {
     "data": {
      "text/html": [
       "\n",
       "        <div style=\"font-family: -apple-system, BlinkMacSystemFont, 'Segoe UI', Roboto, sans-serif; background: #1e1e1e; border: 1px solid #3e3e3e; border-radius: 5px; padding: 15px;\">\n",
       "            <table style=\"border-collapse: collapse; width: 100%; margin-bottom: 10px; background: #1e1e1e;\">\n",
       "                <thead>\n",
       "                    <tr style=\"border-bottom: 2px solid #3e3e3e; background: #2d2d2d;\">\n",
       "                        <th style=\"padding: 8px; text-align: left; color: #e0e0e0;\">Name</th>\n",
       "                        <th style=\"padding: 8px; text-align: left; color: #e0e0e0;\">Port</th>\n",
       "                        <th style=\"padding: 8px; text-align: left; color: #e0e0e0;\">Status</th>\n",
       "                        <th style=\"padding: 8px; text-align: left; color: #e0e0e0;\">Endpoints</th>\n",
       "                        <th style=\"padding: 8px; text-align: left; color: #e0e0e0;\">Uptime</th>\n",
       "                        <th style=\"padding: 8px; text-align: left; color: #e0e0e0;\">Expires In</th>\n",
       "                        <th style=\"padding: 8px; text-align: left; color: #e0e0e0;\">PID</th>\n",
       "                    </tr>\n",
       "                </thead>\n",
       "                <tbody>\n",
       "                    \n",
       "            <tr style=\"background: #1e1e1e;\">\n",
       "                <td style=\"padding: 8px; color: #e0e0e0;\"><strong>job_runner_rasswanth_at_openmined_org</strong></td>\n",
       "                <td style=\"padding: 8px; color: #e0e0e0;\">8000</td>\n",
       "                <td style=\"padding: 8px; color: #27ae60;\">✅ Running</td>\n",
       "                <td style=\"padding: 8px; color: #e0e0e0;\"><code>/start</code></td>\n",
       "                <td style=\"padding: 8px; color: #e0e0e0;\">2m 56s</td>\n",
       "                <td style=\"padding: 8px; color: #f59e0b; font-weight: 500;\">23h 59m</td>\n",
       "                <td style=\"padding: 8px;\"><code style=\"background: #2d2d2d; padding: 2px 4px; border-radius: 3px; color: #e0e0e0;\">56034</code></td>\n",
       "            </tr>\n",
       "            \n",
       "            <tr style=\"background: #1e1e1e;\">\n",
       "                <td style=\"padding: 8px; color: #e0e0e0;\"><strong>watcher_sender_rasswanth_openmined_org</strong></td>\n",
       "                <td style=\"padding: 8px; color: #e0e0e0;\">8001</td>\n",
       "                <td style=\"padding: 8px; color: #27ae60;\">✅ Running</td>\n",
       "                <td style=\"padding: 8px; color: #e0e0e0;\"><code>/</code></td>\n",
       "                <td style=\"padding: 8px; color: #e0e0e0;\">2m 47s</td>\n",
       "                <td style=\"padding: 8px; color: #f59e0b; font-weight: 500;\">23h 59m</td>\n",
       "                <td style=\"padding: 8px;\"><code style=\"background: #2d2d2d; padding: 2px 4px; border-radius: 3px; color: #e0e0e0;\">56080</code></td>\n",
       "            </tr>\n",
       "            \n",
       "            <tr style=\"background: #1e1e1e;\">\n",
       "                <td style=\"padding: 8px; color: #e0e0e0;\"><strong>receiver_rasswanth_openmined_org</strong></td>\n",
       "                <td style=\"padding: 8px; color: #e0e0e0;\">8002</td>\n",
       "                <td style=\"padding: 8px; color: #27ae60;\">✅ Running</td>\n",
       "                <td style=\"padding: 8px; color: #e0e0e0;\"><code>/</code></td>\n",
       "                <td style=\"padding: 8px; color: #e0e0e0;\">2m 14s</td>\n",
       "                <td style=\"padding: 8px; color: #f59e0b; font-weight: 500;\">23h 59m</td>\n",
       "                <td style=\"padding: 8px;\"><code style=\"background: #2d2d2d; padding: 2px 4px; border-radius: 3px; color: #e0e0e0;\">56361</code></td>\n",
       "            </tr>\n",
       "            \n",
       "            <tr style=\"background: #1e1e1e;\">\n",
       "                <td style=\"padding: 8px; color: #e0e0e0;\"><strong>job_runner_rasswanthsenthil_at_gmail_com</strong></td>\n",
       "                <td style=\"padding: 8px; color: #e0e0e0;\">8003</td>\n",
       "                <td style=\"padding: 8px; color: #27ae60;\">✅ Running</td>\n",
       "                <td style=\"padding: 8px; color: #e0e0e0;\"><code>/start</code></td>\n",
       "                <td style=\"padding: 8px; color: #e0e0e0;\">41s</td>\n",
       "                <td style=\"padding: 8px; color: #f59e0b; font-weight: 500;\">23h 59m</td>\n",
       "                <td style=\"padding: 8px;\"><code style=\"background: #2d2d2d; padding: 2px 4px; border-radius: 3px; color: #e0e0e0;\">57018</code></td>\n",
       "            </tr>\n",
       "            \n",
       "            <tr style=\"background: #1e1e1e;\">\n",
       "                <td style=\"padding: 8px; color: #e0e0e0;\"><strong>watcher_sender_rasswanthsenthil_gmail_com</strong></td>\n",
       "                <td style=\"padding: 8px; color: #e0e0e0;\">8004</td>\n",
       "                <td style=\"padding: 8px; color: #27ae60;\">✅ Running</td>\n",
       "                <td style=\"padding: 8px; color: #e0e0e0;\"><code>/</code></td>\n",
       "                <td style=\"padding: 8px; color: #e0e0e0;\">34s</td>\n",
       "                <td style=\"padding: 8px; color: #f59e0b; font-weight: 500;\">23h 59m</td>\n",
       "                <td style=\"padding: 8px;\"><code style=\"background: #2d2d2d; padding: 2px 4px; border-radius: 3px; color: #e0e0e0;\">57052</code></td>\n",
       "            </tr>\n",
       "            \n",
       "            <tr style=\"background: #1e1e1e;\">\n",
       "                <td style=\"padding: 8px; color: #e0e0e0;\"><strong>receiver_rasswanthsenthil_gmail_com</strong></td>\n",
       "                <td style=\"padding: 8px; color: #e0e0e0;\">8005</td>\n",
       "                <td style=\"padding: 8px; color: #27ae60;\">✅ Running</td>\n",
       "                <td style=\"padding: 8px; color: #e0e0e0;\"><code>/</code></td>\n",
       "                <td style=\"padding: 8px; color: #e0e0e0;\">16s</td>\n",
       "                <td style=\"padding: 8px; color: #f59e0b; font-weight: 500;\">23h 59m</td>\n",
       "                <td style=\"padding: 8px;\"><code style=\"background: #2d2d2d; padding: 2px 4px; border-radius: 3px; color: #e0e0e0;\">57131</code></td>\n",
       "            </tr>\n",
       "            \n",
       "                </tbody>\n",
       "            </table>\n",
       "            <div style=\"color: #a0a0a0; font-size: 14px;\">\n",
       "                6 servers (6 running, 0 stopped)\n",
       "            </div>\n",
       "        </div>\n",
       "        "
      ],
      "text/plain": [
       "Name                                         Port  Status      Endpoints    Uptime      PID\n",
       "-----------------------------------------  ------  ----------  -----------  --------  -----\n",
       "job_runner_rasswanth_at_openmined_org        8000  ✅ Running  /start       2m 56s    56034\n",
       "watcher_sender_rasswanth_openmined_org       8001  ✅ Running  /            2m 47s    56080\n",
       "receiver_rasswanth_openmined_org             8002  ✅ Running  /            2m 14s    56361\n",
       "job_runner_rasswanthsenthil_at_gmail_com     8003  ✅ Running  /start       41s       57018\n",
       "watcher_sender_rasswanthsenthil_gmail_com    8004  ✅ Running  /            34s       57052\n",
       "receiver_rasswanthsenthil_gmail_com          8005  ✅ Running  /            16s       57131\n",
       "6 servers (6 running, 0 stopped)"
      ]
     },
     "execution_count": 4,
     "metadata": {},
     "output_type": "execute_result"
    }
   ],
   "source": [
    "ss.servers"
   ]
  },
  {
   "cell_type": "code",
   "execution_count": 5,
   "id": "b6476a14",
   "metadata": {},
   "outputs": [
    {
     "data": {
      "text/plain": [
       "'rasswanth@openmined.org'"
      ]
     },
     "execution_count": 5,
     "metadata": {},
     "output_type": "execute_result"
    }
   ],
   "source": [
    "ds_client.email"
   ]
  },
  {
   "cell_type": "markdown",
   "id": "8795b8ab-3abf-4bf4-b0f7-d125b6ee8642",
   "metadata": {},
   "source": [
    "## Propose Analysis"
   ]
  },
  {
   "cell_type": "code",
   "execution_count": 6,
   "id": "a3b79a75-8a9a-4490-874a-bf1b6179cf96",
   "metadata": {},
   "outputs": [],
   "source": [
    "code_path = Path(\".\") / \"code\"\n",
    "code_path.mkdir(exist_ok=True)\n",
    "\n",
    "code_file_name = \"main.py\"\n",
    "code_file_path = code_path / code_file_name"
   ]
  },
  {
   "cell_type": "code",
   "execution_count": 7,
   "id": "d45d3a96-5dfd-4162-a45a-9ca962b27479",
   "metadata": {},
   "outputs": [
    {
     "name": "stdout",
     "output_type": "stream",
     "text": [
      "Overwriting code/main.py\n"
     ]
    }
   ],
   "source": [
    "%%writefile {code_file_path}\n",
    "\n",
    "import syft_client as sc\n",
    "\n",
    "data_path = \"syft://private/crop_data/data.csv\"\n",
    "resolved_path = sc.resolve_path(data_path)\n",
    "import csv\n",
    "\n",
    "with open(resolved_path, 'r') as file:\n",
    "    csv_reader = csv.DictReader(file)\n",
    "    total_quantity = 0\n",
    "    for row in csv_reader:\n",
    "        quantity = int(row['Quantity'])\n",
    "        total_quantity += quantity\n",
    "\n",
    "    print(f\"Total Quantity: {total_quantity}\")"
   ]
  },
  {
   "cell_type": "markdown",
   "id": "40af6b9e",
   "metadata": {},
   "source": [
    "### Submit Python Job"
   ]
  },
  {
   "cell_type": "code",
   "execution_count": 8,
   "id": "14ea7cf4",
   "metadata": {},
   "outputs": [],
   "source": [
    "# do_email = input(\"Enter DO email: \")\n",
    "do_email = \"rasswanthsenthil@gmail.com\""
   ]
  },
  {
   "cell_type": "code",
   "execution_count": 9,
   "id": "296f2305",
   "metadata": {},
   "outputs": [
    {
     "data": {
      "text/plain": [
       "PosixPath('/Users/rasswanths/SyftBox_rasswanth@openmined.org/datasites/rasswanthsenthil@gmail.com/app_data/job/inbox/Job - 1f9de84d')"
      ]
     },
     "execution_count": 9,
     "metadata": {},
     "output_type": "execute_result"
    }
   ],
   "source": [
    "ds_client.submit_python_job(\n",
    "    user=do_email,\n",
    "    code_path=code_path,\n",
    "    entry_point=code_file_name,\n",
    ")"
   ]
  },
  {
   "cell_type": "markdown",
   "id": "2f71740d",
   "metadata": {},
   "source": [
    "## Job Status"
   ]
  },
  {
   "cell_type": "code",
   "execution_count": null,
   "id": "55ce26f7",
   "metadata": {},
   "outputs": [],
   "source": [
    "# TODO: Replace this with Peer Client once Ready\n",
    "import syft_job as sj\n",
    "\n",
    "do_client = sj.get_client(ds_client.folder, do_email)"
   ]
  },
  {
   "cell_type": "code",
   "execution_count": null,
   "id": "302f6a2a",
   "metadata": {},
   "outputs": [],
   "source": [
    "do_client.jobs"
   ]
  },
  {
   "cell_type": "code",
   "execution_count": null,
   "id": "273b0f73",
   "metadata": {},
   "outputs": [],
   "source": [
    "do_client.jobs[-1]"
   ]
  },
  {
   "cell_type": "markdown",
   "id": "639bebf4",
   "metadata": {},
   "source": []
  }
 ],
 "metadata": {
  "kernelspec": {
   "display_name": "syft-client",
   "language": "python",
   "name": "python3"
  },
  "language_info": {
   "codemirror_mode": {
    "name": "ipython",
    "version": 3
   },
   "file_extension": ".py",
   "mimetype": "text/x-python",
   "name": "python",
   "nbconvert_exporter": "python",
   "pygments_lexer": "ipython3",
   "version": "3.12.8"
  }
 },
 "nbformat": 4,
 "nbformat_minor": 5
}
