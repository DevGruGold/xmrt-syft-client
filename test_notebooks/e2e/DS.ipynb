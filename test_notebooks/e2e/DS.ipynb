{
 "cells": [
  {
   "cell_type": "code",
   "execution_count": null,
   "id": "55c58f19-773c-4d9f-8238-1080577fa3cf",
   "metadata": {},
   "outputs": [],
   "source": [
    "import syft_client as sc\n",
    "import syft_serve as ss\n",
    "from pathlib import Path"
   ]
  },
  {
   "cell_type": "code",
   "execution_count": null,
   "id": "5148cb09-6149-455a-85d9-86004e4ab001",
   "metadata": {},
   "outputs": [],
   "source": [
    "ss.servers"
   ]
  },
  {
   "cell_type": "code",
   "execution_count": null,
   "id": "de071ea6-486f-4a6e-806c-12e69de755a8",
   "metadata": {},
   "outputs": [],
   "source": [
    "ds_email = input(\"Enter DS email: \")\n",
    "ds_client = sc.login(ds_email)"
   ]
  },
  {
   "cell_type": "code",
   "execution_count": null,
   "id": "de49ba5c",
   "metadata": {},
   "outputs": [],
   "source": [
    "ss.servers"
   ]
  },
  {
   "cell_type": "code",
   "execution_count": null,
   "id": "b6476a14",
   "metadata": {},
   "outputs": [],
   "source": [
    "ds_client.email"
   ]
  },
  {
   "cell_type": "markdown",
   "id": "8795b8ab-3abf-4bf4-b0f7-d125b6ee8642",
   "metadata": {},
   "source": [
    "## Propose Analysis"
   ]
  },
  {
   "cell_type": "code",
   "execution_count": null,
   "id": "a3b79a75-8a9a-4490-874a-bf1b6179cf96",
   "metadata": {},
   "outputs": [],
   "source": [
    "code_path = Path(\".\") / \"code\"\n",
    "code_path.mkdir(exist_ok=True)\n",
    "\n",
    "code_file_name = \"main.py\"\n",
    "code_file_path = code_path / code_file_name"
   ]
  },
  {
   "cell_type": "code",
   "execution_count": null,
   "id": "d45d3a96-5dfd-4162-a45a-9ca962b27479",
   "metadata": {},
   "outputs": [],
   "source": [
    "%%writefile {code_file_path}\n",
    "\n",
    "import syft_client as sc\n",
    "\n",
    "data_path = \"syft://private/crop_data/data.csv\"\n",
    "resolved_path = sc.resolve_path(data_path)\n",
    "import csv\n",
    "\n",
    "with open(resolved_path, 'r') as file:\n",
    "    csv_reader = csv.DictReader(file)\n",
    "    total_quantity = 0\n",
    "    for row in csv_reader:\n",
    "        quantity = int(row['Quantity'])\n",
    "        total_quantity += quantity\n",
    "\n",
    "    print(f\"Total Quantity: {total_quantity}\")"
   ]
  },
  {
   "cell_type": "markdown",
   "id": "40af6b9e",
   "metadata": {},
   "source": [
    "### Submit Python Job"
   ]
  },
  {
   "cell_type": "code",
   "execution_count": null,
   "id": "14ea7cf4",
   "metadata": {},
   "outputs": [],
   "source": [
    "# do_email = input(\"Enter DO email: \")\n",
    "do_email = \"rasswanthsenthil@gmail.com\""
   ]
  },
  {
   "cell_type": "code",
   "execution_count": null,
   "id": "296f2305",
   "metadata": {},
   "outputs": [],
   "source": [
    "ds_client.submit_python_job(\n",
    "    user=do_email,\n",
    "    code_path=code_path,\n",
    "    entry_point=code_file_name,\n",
    ")"
   ]
  },
  {
   "cell_type": "code",
   "execution_count": null,
   "id": "f913b36a",
   "metadata": {},
   "outputs": [],
   "source": [
    "print(ss.servers[4].stdout.tail(50))"
   ]
  },
  {
   "cell_type": "markdown",
   "id": "2f71740d",
   "metadata": {},
   "source": [
    "## Job Status"
   ]
  },
  {
   "cell_type": "code",
   "execution_count": null,
   "id": "55ce26f7",
   "metadata": {},
   "outputs": [],
   "source": [
    "# TODO: Replace this with Peer Client once Ready\n",
    "import syft_job as sj\n",
    "\n",
    "do_client = sj.get_client(ds_client.folder, do_email)"
   ]
  },
  {
   "cell_type": "code",
   "execution_count": null,
   "id": "302f6a2a",
   "metadata": {},
   "outputs": [],
   "source": [
    "do_client.jobs"
   ]
  },
  {
   "cell_type": "code",
   "execution_count": null,
   "id": "273b0f73",
   "metadata": {},
   "outputs": [],
   "source": [
    "do_client.jobs[-1]"
   ]
  },
  {
   "cell_type": "markdown",
   "id": "639bebf4",
   "metadata": {},
   "source": []
  }
 ],
 "metadata": {
  "kernelspec": {
   "display_name": "syft-client",
   "language": "python",
   "name": "python3"
  },
  "language_info": {
   "codemirror_mode": {
    "name": "ipython",
    "version": 3
   },
   "file_extension": ".py",
   "mimetype": "text/x-python",
   "name": "python",
   "nbconvert_exporter": "python",
   "pygments_lexer": "ipython3",
   "version": "3.12.8"
  }
 },
 "nbformat": 4,
 "nbformat_minor": 5
}
