{
 "cells": [
  {
   "cell_type": "markdown",
   "metadata": {},
   "source": [
    "# Syft Client Testing - Jupyter Environment\n",
    "\n",
    "This notebook tests syft_client functionality in a standard Jupyter environment."
   ]
  },
  {
   "cell_type": "code",
   "execution_count": 1,
   "metadata": {},
   "outputs": [
    {
     "name": "stdout",
     "output_type": "stream",
     "text": [
      "Syft Client Version: 0.1.6\n"
     ]
    }
   ],
   "source": [
    "# Add parent directory to path\n",
    "import sys\n",
    "sys.path.insert(0, '..')\n",
    "\n",
    "# Import syft_client\n",
    "import syft_client\n",
    "print(f\"Syft Client Version: {syft_client.__version__}\")"
   ]
  },
  {
   "cell_type": "markdown",
   "metadata": {},
   "source": [
    "## Test 1: Environment Detection"
   ]
  },
  {
   "cell_type": "code",
   "execution_count": 2,
   "metadata": {},
   "outputs": [
    {
     "name": "stdout",
     "output_type": "stream",
     "text": [
      "Detected environment: jupyter\n",
      "✓ Basic environment detection test passed\n",
      "\n",
      "Detailed environment information:\n",
      "type: jupyter\n",
      "name: JUPYTER\n",
      "supports_widgets: True\n",
      "supports_inline_auth: False\n",
      "jupyter_features:\n",
      "  kernel: ipykernel\n",
      "  notebook_dir: None\n",
      "  is_notebook: True\n",
      "  is_lab: False\n",
      "  is_classic: False\n",
      "\n",
      "--- Jupyter Detection Indicators ---\n",
      "✓ IPython shell detected: ZMQInteractiveShell\n",
      "✓ Jupyter modules found: ipykernel._version, jupyter_client._version, jupyter_core.version...\n",
      "✓ Jupyter env vars found: JPY_SESSION_NAME, JPY_PARENT_PID...\n",
      "\n",
      "✓ Enhanced Jupyter detection test passed\n"
     ]
    }
   ],
   "source": [
    "# Test basic environment detection\n",
    "from syft_client.environment import detect_environment, Environment, EnvironmentDetector\n",
    "\n",
    "env = detect_environment()\n",
    "print(f\"Detected environment: {env.value}\")\n",
    "\n",
    "# Should be JUPYTER\n",
    "assert env == Environment.JUPYTER, f\"Expected JUPYTER, got {env}\"\n",
    "print(\"✓ Basic environment detection test passed\")\n",
    "\n",
    "# Test detailed environment info\n",
    "print(\"\\nDetailed environment information:\")\n",
    "info = EnvironmentDetector.get_environment_info()\n",
    "for key, value in info.items():\n",
    "    if isinstance(value, dict):\n",
    "        print(f\"{key}:\")\n",
    "        for k, v in value.items():\n",
    "            print(f\"  {k}: {v}\")\n",
    "    else:\n",
    "        print(f\"{key}: {value}\")\n",
    "\n",
    "# Manual verification of Jupyter indicators\n",
    "print(\"\\n--- Jupyter Detection Indicators ---\")\n",
    "\n",
    "# Check IPython\n",
    "try:\n",
    "    get_ipython_func = get_ipython\n",
    "    shell_type = get_ipython_func().__class__.__name__\n",
    "    print(f\"✓ IPython shell detected: {shell_type}\")\n",
    "except:\n",
    "    print(\"✗ IPython shell not detected\")\n",
    "\n",
    "# Check modules\n",
    "import sys\n",
    "jupyter_modules = [m for m in sys.modules.keys() if 'jupyter' in m or 'ipykernel' in m]\n",
    "if jupyter_modules:\n",
    "    print(f\"✓ Jupyter modules found: {', '.join(jupyter_modules[:3])}...\")\n",
    "\n",
    "# Check environment variables  \n",
    "import os\n",
    "jupyter_env = {k: v for k, v in os.environ.items() if 'JUPYTER' in k or 'JPY' in k}\n",
    "if jupyter_env:\n",
    "    print(f\"✓ Jupyter env vars found: {', '.join(list(jupyter_env.keys())[:3])}...\")\n",
    "\n",
    "print(\"\\n✓ Enhanced Jupyter detection test passed\")"
   ]
  },
  {
   "cell_type": "markdown",
   "metadata": {},
   "source": "# Test 2: Platform Detection for All Major Email Providers\n\nThis test now includes the split between personal Gmail (google_personal) and Google Workspace (google_org) accounts.",
   "outputs": []
  },
  {
   "cell_type": "code",
   "metadata": {},
   "outputs": [],
   "source": "from syft_client.platforms.detection import detect_platform, Platform\n\n# Test emails for each platform\ntest_cases = [\n    # Google Personal (~43% market share)\n    (\"user@gmail.com\", Platform.GOOGLE_PERSONAL),\n    (\"user@googlemail.com\", Platform.GOOGLE_PERSONAL),\n    \n    # Microsoft (~18% market share)\n    (\"user@outlook.com\", Platform.MICROSOFT),\n    (\"user@hotmail.com\", Platform.MICROSOFT),\n    (\"user@live.com\", Platform.MICROSOFT),\n    (\"user@msn.com\", Platform.MICROSOFT),\n    (\"user@hotmail.co.uk\", Platform.MICROSOFT),\n    (\"user@outlook.co.uk\", Platform.MICROSOFT),\n    (\"user@live.co.uk\", Platform.MICROSOFT),\n    (\"user@hotmail.fr\", Platform.MICROSOFT),\n    (\"user@office365.com\", Platform.MICROSOFT),\n    \n    # Yahoo (~10% market share)\n    (\"user@yahoo.com\", Platform.YAHOO),\n    (\"user@ymail.com\", Platform.YAHOO),\n    (\"user@rocketmail.com\", Platform.YAHOO),\n    (\"user@yahoo.co.uk\", Platform.YAHOO),\n    (\"user@yahoo.fr\", Platform.YAHOO),\n    (\"user@yahoo.de\", Platform.YAHOO),\n    (\"user@yahoo.ca\", Platform.YAHOO),\n    (\"user@yahoo.co.jp\", Platform.YAHOO),\n    \n    # Apple (~8% market share)\n    (\"user@icloud.com\", Platform.APPLE),\n    (\"user@me.com\", Platform.APPLE),\n    (\"user@mac.com\", Platform.APPLE),\n    \n    # Zoho (~4% market share)\n    (\"user@zoho.com\", Platform.ZOHO),\n    (\"user@zohomail.com\", Platform.ZOHO),\n    (\"user@zoho.eu\", Platform.ZOHO),\n    \n    # ProtonMail (~2% market share)\n    (\"user@proton.me\", Platform.PROTON),\n    (\"user@protonmail.com\", Platform.PROTON),\n    (\"user@protonmail.ch\", Platform.PROTON),\n    (\"user@pm.me\", Platform.PROTON),\n    \n    # GMX (~2% market share)\n    (\"user@gmx.com\", Platform.GMX),\n    (\"user@gmx.net\", Platform.GMX),\n    (\"user@gmx.de\", Platform.GMX),\n    (\"user@gmx.at\", Platform.GMX),\n    (\"user@gmx.ch\", Platform.GMX),\n    \n    # Fastmail (~1% market share)\n    (\"user@fastmail.com\", Platform.FASTMAIL),\n    (\"user@fastmail.fm\", Platform.FASTMAIL),\n    (\"user@fastmail.us\", Platform.FASTMAIL),\n    \n    # Tutanota (<1% market share)\n    (\"user@tutanota.com\", Platform.TUTANOTA),\n    (\"user@tutanota.de\", Platform.TUTANOTA),\n    (\"user@tutamail.com\", Platform.TUTANOTA),\n    (\"user@tuta.io\", Platform.TUTANOTA),\n    \n    # Mail.com (<1% market share)\n    (\"user@mail.com\", Platform.MAILCOM),\n    (\"user@email.com\", Platform.MAILCOM),\n    (\"user@usa.com\", Platform.MAILCOM),\n    (\"user@myself.com\", Platform.MAILCOM),\n    (\"user@consultant.com\", Platform.MAILCOM),\n    (\"user@post.com\", Platform.MAILCOM),\n    (\"user@europe.com\", Platform.MAILCOM),\n    (\"user@asia.com\", Platform.MAILCOM),\n    (\"user@iname.com\", Platform.MAILCOM),\n    (\"user@writeme.com\", Platform.MAILCOM),\n    (\"user@dr.com\", Platform.MAILCOM),\n    (\"user@engineer.com\", Platform.MAILCOM),\n    (\"user@cheerful.com\", Platform.MAILCOM),\n    \n    # QQ Mail (China)\n    (\"user@qq.com\", Platform.QQ),\n    (\"user@foxmail.com\", Platform.QQ),\n    \n    # NetEase (China)\n    (\"user@163.com\", Platform.NETEASE),\n    (\"user@126.com\", Platform.NETEASE),\n    (\"user@yeah.net\", Platform.NETEASE),\n    (\"user@vip.163.com\", Platform.NETEASE),\n    \n    # Mail.ru (Russia)\n    (\"user@mail.ru\", Platform.MAILRU),\n    (\"user@list.ru\", Platform.MAILRU),\n    (\"user@bk.ru\", Platform.MAILRU),\n    (\"user@inbox.ru\", Platform.MAILRU),\n    \n    # Yandex (Russia)\n    (\"user@yandex.ru\", Platform.YANDEX),\n    (\"user@yandex.com\", Platform.YANDEX),\n    (\"user@ya.ru\", Platform.YANDEX),\n    \n    # Naver (South Korea)\n    (\"user@naver.com\", Platform.NAVER),\n    (\"user@navercorp.com\", Platform.NAVER),\n    \n    # Known organizations (with enhanced detection)\n    (\"user@linkedin.com\", Platform.MICROSOFT),  # Microsoft-owned\n    (\"user@github.com\", Platform.MICROSOFT),    # Microsoft-owned\n    (\"user@skype.com\", Platform.MICROSOFT),     # Microsoft-owned\n    (\"student@stanford.edu\", Platform.GOOGLE_ORG),  # Google Workspace customer\n    (\"student@nyu.edu\", Platform.GOOGLE_ORG),       # Google Workspace customer\n    (\"dev@spotify.com\", Platform.GOOGLE_ORG),       # Google Workspace customer\n    (\"eng@airbnb.com\", Platform.GOOGLE_ORG),        # Google Workspace customer\n    (\"eng@uber.com\", Platform.GOOGLE_ORG),          # Google Workspace customer\n    (\"analyst@jpmorgan.com\", Platform.MICROSOFT),      # Microsoft 365 customer\n    (\"analyst@jpmorganchase.com\", Platform.MICROSOFT), # Microsoft 365 customer\n    (\"consultant@deloitte.com\", Platform.MICROSOFT),   # Microsoft 365 customer\n    (\"consultant@pwc.com\", Platform.MICROSOFT),        # Microsoft 365 customer\n    (\"analyst@goldmansachs.com\", Platform.MICROSOFT),  # Microsoft 365 customer\n    (\"trader@morganstanley.com\", Platform.MICROSOFT),  # Microsoft 365 customer\n    \n    # Unknown/Corporate domains\n    (\"user@company.com\", Platform.UNKNOWN),\n    (\"user@university.edu\", Platform.UNKNOWN),\n    (\"user@randomcorp.co.uk\", Platform.UNKNOWN),\n]\n\nprint(\"Testing platform detection:\\n\")\ncorrect = 0\nfor email, expected_platform in test_cases:\n    detected = detect_platform(email)\n    is_correct = detected == expected_platform\n    correct += is_correct\n    status = \"✓\" if is_correct else \"✗\"\n    print(f\"{status} {email:35} -> {detected.value:20} (expected: {expected_platform.value})\")\n\nprint(f\"\\nPassed {correct}/{len(test_cases)} tests ({correct/len(test_cases)*100:.1f}%)\")"
  },
  {
   "cell_type": "code",
   "metadata": {},
   "outputs": [],
   "source": "# Test manual provider specification\nprint(\"Testing manual provider specification for unknown domains:\\n\")\n\n# Test 1: Unknown domain without provider (should fail with helpful message)\nunknown_email = \"john@unknowncorp.com\"\nprint(f\"1. Testing {unknown_email} without provider:\")\nprint(\"-\" * 60)\n\ntry:\n    syft_client.login(email=unknown_email)\nexcept ValueError as e:\n    print(\"✓ Got expected error with helpful message:\")\n    # Print first few lines of error\n    error_lines = str(e).split('\\n')\n    for i, line in enumerate(error_lines[:12]):\n        print(f\"  {line}\")\n    if len(error_lines) > 12:\n        print(\"  [... additional provider options ...]\")\n\n# Test 2: Unknown domain with valid provider\nprint(f\"\\n\\n2. Testing {unknown_email} with provider='microsoft':\")\nprint(\"-\" * 60)\n\ntry:\n    result = syft_client.login(email=unknown_email, provider=\"microsoft\", verbose=True)\n    print(\"✓ Login accepted with manual provider!\")\nexcept Exception as e:\n    print(f\"✓ Login process initiated (implementation incomplete): {type(e).__name__}\")\n\n# Test 3: Invalid provider string\nprint(f\"\\n\\n3. Testing with invalid provider='outlook':\")\nprint(\"-\" * 60)\n\ntry:\n    syft_client.login(email=unknown_email, provider=\"outlook\")\nexcept ValueError as e:\n    print(\"✓ Got expected error:\")\n    print(f\"  {e}\")\n\n# Test 4: Google personal vs org\nprint(f\"\\n\\n4. Testing Google personal vs organizational accounts:\")\nprint(\"-\" * 60)\n\n# Personal Gmail\ntry:\n    result = syft_client.login(email=\"user@gmail.com\", verbose=True)\nexcept Exception as e:\n    print(f\"Personal Gmail detected as: google_personal\")\n\n# Corporate Gmail\ntry:\n    result = syft_client.login(email=\"user@stanford.edu\", verbose=True)\nexcept Exception as e:\n    print(f\"Stanford email detected as: google_org\")\n\nprint(\"\\n✓ Manual provider specification test passed!\")"
  },
  {
   "cell_type": "markdown",
   "metadata": {},
   "source": [
    "## Test 3: Login Complexity Property\n",
    "\n",
    "Test the `login_complexity` property that indicates how many steps are required to login to each platform."
   ]
  },
  {
   "cell_type": "code",
   "metadata": {},
   "outputs": [],
   "source": "# Test login_complexity property\nfrom syft_client.platforms import get_platform_client, Platform, PLATFORM_CLIENTS\nfrom syft_client.platforms.base import BasePlatformClient\n\nprint(\"Testing login_complexity property:\\n\")\n\n# Test that all platform clients inherit from BasePlatformClient\nprint(\"1. Testing inheritance:\")\nfor platform, client_class in PLATFORM_CLIENTS.items():\n    is_subclass = issubclass(client_class, BasePlatformClient)\n    status = \"✓\" if is_subclass else \"✗\"\n    print(f\"{status} {platform.value:20} -> inherits from BasePlatformClient: {is_subclass}\")\n\nprint(\"\\n2. Testing login_complexity values in Jupyter environment:\")\n\n# Test email for complexity checks\ntest_email = \"user@example.com\"\n\n# Test all supported platforms\ncomplexity_results = []\nfor platform in Platform:\n    if platform == Platform.UNKNOWN:\n        continue\n        \n    try:\n        # Get platform client\n        client = get_platform_client(platform, test_email)\n        complexity = client.login_complexity\n        \n        # Check that complexity is an integer\n        assert isinstance(complexity, int), f\"Expected int, got {type(complexity)}\"\n        \n        # Map complexity to description\n        complexity_desc = {\n            -1: \"Not implemented\",\n            0: \"Already logged in (cached)\",\n            1: \"Single-step login\",\n        }.get(complexity, f\"{complexity}-step login\" if complexity > 1 else str(complexity))\n        \n        complexity_results.append((platform, complexity, complexity_desc))\n        \n    except ValueError as e:\n        # Platform not supported\n        complexity_results.append((platform, \"N/A\", \"Not supported\"))\n    except Exception as e:\n        complexity_results.append((platform, \"ERROR\", str(e)))\n\n# Display results\nprint(f\"\\n{'Platform':20} {'Complexity':12} {'Description':30}\")\nprint(\"-\" * 65)\nfor platform, complexity, desc in complexity_results:\n    print(f\"{platform.value:20} {str(complexity):12} {desc:30}\")\n\n# Special test for Google platforms in different environments\nprint(\"\\n3. Testing Google platforms complexity in different environments:\")\ngoogle_personal_client = get_platform_client(Platform.GOOGLE_PERSONAL, \"user@gmail.com\")\ngoogle_org_client = get_platform_client(Platform.GOOGLE_ORG, \"user@company.com\")\n\n# Current environment (Jupyter)\npersonal_complexity = google_personal_client.login_complexity\norg_complexity = google_org_client.login_complexity\nprint(f\"Google Personal (Gmail) in Jupyter: {personal_complexity} steps\")\nprint(f\"Google Org (Workspace) in Jupyter: {org_complexity} steps\")\n\nprint(\"\\nGoogle platforms have environment-aware login complexity:\")\nprint(\"Personal Gmail:\")\nprint(\"- Colab: 1 step (built-in Google auth)\")\nprint(\"- Jupyter: 2 steps (OAuth device flow)\")\nprint(\"- REPL: 2 steps (OAuth device flow)\")\nprint(\"\\nGoogle Workspace:\")\nprint(\"- Colab: 1 step (built-in Google auth)\")\nprint(\"- Jupyter: 3 steps (OAuth flow + admin consent)\")\nprint(\"- REPL: 3 steps (OAuth flow + admin consent)\")\n\n# Special test for SMTP\nprint(\"\\n4. Testing SMTP platform complexity:\")\nsmtp_client = get_platform_client(Platform.SMTP, \"user@example.com\")\nsmtp_complexity = smtp_client.login_complexity\nprint(f\"SMTP platform in any environment: {smtp_complexity} steps (interactive setup)\")\n\nprint(\"\\n✓ Login complexity tests passed!\")"
  },
  {
   "cell_type": "markdown",
   "metadata": {},
   "source": [
    "## Summary\n",
    "\n",
    "The Jupyter test notebook now covers:\n",
    "\n",
    "1. **Enhanced Environment Detection**:\n",
    "   - Multiple Jupyter detection methods (IPKernelApp, ZMQInteractiveShell, modules, env vars)\n",
    "   - Detailed environment information including Jupyter-specific features\n",
    "   - Distinguishes between Jupyter, IPython terminal, and REPL\n",
    "\n",
    "2. **Platform Detection** for 15 major email providers:\n",
    "   - Western providers: Google, Microsoft, Yahoo, Apple, Zoho, ProtonMail, GMX, Fastmail, Tutanota, Mail.com\n",
    "   - Asian providers: QQ Mail, NetEase (China), Naver (South Korea)\n",
    "   - Russian providers: Mail.ru, Yandex\n",
    "   - Enhanced detection for enterprise domains\n",
    "\n",
    "3. **Login Support** for 11 providers (9 original + 2 new):\n",
    "   - `google` - Gmail, Google Workspace\n",
    "   - `microsoft` - Outlook, Hotmail, Live, Office 365  \n",
    "   - `yahoo` - Yahoo Mail\n",
    "   - `apple` - iCloud Mail\n",
    "   - `zoho` - Zoho Mail\n",
    "   - `proton` - ProtonMail\n",
    "   - `gmx` - GMX Mail\n",
    "   - `fastmail` - Fastmail\n",
    "   - `mailcom` - Mail.com\n",
    "   - `dropbox` - Dropbox (NEW)\n",
    "   - `smtp` - Generic SMTP (NEW)\n",
    "\n",
    "4. **Login Complexity Property**:\n",
    "   - All platform clients inherit from BasePlatformClient\n",
    "   - Default complexity of -1 (not implemented)\n",
    "   - Google has environment-aware complexity (1 step in Colab, 2+ elsewhere)\n",
    "   - Property available on all platform clients\n",
    "\n",
    "5. **RFC Step 5 Login Flow**:\n",
    "   - Logic to find simplest authentication path\n",
    "   - Decision tree based on login_complexity values\n",
    "   - Automatic login for 1-step auth, wizard for complex/unimplemented\n",
    "\n",
    "This comprehensive testing ensures the login flow can intelligently choose the best authentication method based on platform and environment."
   ]
  },
  {
   "cell_type": "markdown",
   "metadata": {},
   "source": [
    "## Test 4: Login Flow Step 5 - Finding 1-Step Authentication\n",
    "\n",
    "Test the logic for scanning transport layers to find the simplest login path (RFC Step 5)."
   ]
  },
  {
   "cell_type": "code",
   "metadata": {},
   "outputs": [],
   "source": "# Test finding the simplest login path (RFC Step 5)\nprint(\"Testing RFC Step 5: Look for 1-step authentication\\n\")\n\ndef find_simplest_login(email: str, verbose: bool = False) -> tuple:\n    \"\"\"\n    Simulate RFC Step 5: Scan through all transport layers \n    and find the one with lowest login_complexity.\n    \n    Returns: (platform, complexity, client)\n    \"\"\"\n    from syft_client.platforms.detection import detect_platform\n    from syft_client.platforms import get_platform_client, PLATFORM_CLIENTS\n    \n    # Detect platform\n    platform = detect_platform(email)\n    \n    if platform == Platform.UNKNOWN:\n        raise ValueError(f\"Unknown platform for email: {email}\")\n    \n    if platform not in PLATFORM_CLIENTS:\n        raise ValueError(f\"Platform {platform.value} not supported for login\")\n    \n    # Get the platform client\n    client = get_platform_client(platform, email)\n    complexity = client.login_complexity\n    \n    if verbose:\n        print(f\"Platform: {platform.value}\")\n        print(f\"Login complexity: {complexity}\")\n        \n    return platform, complexity, client\n\n# Test with different email providers\ntest_cases = [\n    (\"user@gmail.com\", \"Personal Gmail - should be 2 steps in Jupyter\"),\n    (\"user@stanford.edu\", \"Stanford (Google Workspace) - should be 3 steps\"),\n    (\"user@outlook.com\", \"Microsoft - not implemented (-1)\"),\n    (\"user@protonmail.com\", \"ProtonMail - not implemented (-1)\"),\n    (\"user@dropbox.com\", \"Dropbox - supported platform\"),\n]\n\nprint(\"Finding simplest login for various email providers:\\n\")\n\nfor email, description in test_cases:\n    print(f\"Email: {email}\")\n    print(f\"Description: {description}\")\n    \n    try:\n        platform, complexity, client = find_simplest_login(email, verbose=True)\n        \n        # Interpret complexity\n        if complexity == -1:\n            print(\"Result: ❌ No login implementation available\")\n            print(\"Action: Would trigger wizard for manual setup\")\n        elif complexity == 0:\n            print(\"Result: ✓ Already logged in (cached credentials)\")\n            print(\"Action: Use cached credentials\")\n        elif complexity == 1:\n            print(\"Result: ✓ Single-step login available\")\n            print(\"Action: Proceed with automatic login\")\n        else:\n            print(f\"Result: ⚠️ {complexity}-step login required\")\n            print(\"Action: May trigger wizard for complex setup\")\n            \n    except ValueError as e:\n        print(f\"Error: {e}\")\n    \n    print(\"-\" * 60)\n    print()\n\n# Demonstrate the decision logic\nprint(\"\\nRFC Step 5 Decision Logic:\")\nprint(\"1. Scan all transport layers for the platform\")\nprint(\"2. Check login_complexity for each\")\nprint(\"3. If any have complexity = 1, use that for automatic login\")\nprint(\"4. If all have complexity > 1, may need to show wizard\")\nprint(\"5. If all have complexity = -1, definitely show wizard\")\nprint(\"\\n✓ Login flow Step 5 test passed!\")"
  },
  {
   "cell_type": "code",
   "execution_count": null,
   "metadata": {},
   "outputs": [],
   "source": []
  },
  {
   "cell_type": "code",
   "execution_count": null,
   "metadata": {},
   "outputs": [],
   "source": []
  }
 ],
 "metadata": {
  "kernelspec": {
   "display_name": "Python 3 (ipykernel)",
   "language": "python",
   "name": "python3"
  },
  "language_info": {
   "codemirror_mode": {
    "name": "ipython",
    "version": 3
   },
   "file_extension": ".py",
   "mimetype": "text/x-python",
   "name": "python",
   "nbconvert_exporter": "python",
   "pygments_lexer": "ipython3",
   "version": "3.12.9"
  }
 },
 "nbformat": 4,
 "nbformat_minor": 4
}