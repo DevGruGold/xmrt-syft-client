{
 "cells": [
  {
   "cell_type": "code",
   "execution_count": 1,
   "id": "9b86ea6f-a5b6-429f-b809-f2f06aa0cb8c",
   "metadata": {},
   "outputs": [],
   "source": [
    "import sys\n",
    "sys.path.insert(0, '..')\n",
    "import syft_client as sc"
   ]
  },
  {
   "cell_type": "code",
   "execution_count": 4,
   "id": "18e527b8-28a6-4d98-b562-06b056ace1dc",
   "metadata": {},
   "outputs": [
    {
     "name": "stdout",
     "output_type": "stream",
     "text": [
      "479 μs ± 19.8 μs per loop (mean ± std. dev. of 7 runs, 1,000 loops each)\n"
     ]
    }
   ],
   "source": [
    "%%timeit\n",
    "client = sc.login(\"liamtrask@gmail.com\", init_transport=False)"
   ]
  },
  {
   "cell_type": "code",
   "execution_count": 9,
   "id": "7c794820-49b9-4a7e-9481-0bb9edd8bad7",
   "metadata": {},
   "outputs": [],
   "source": [
    "client = sc.login(\"liamtrask@gmail.com\", init_transport=False)"
   ]
  },
  {
   "cell_type": "code",
   "execution_count": 13,
   "id": "9846cf1f-c555-42f2-86b4-40a9432dccb4",
   "metadata": {},
   "outputs": [
    {
     "data": {
      "text/html": [
       "<pre style=\"white-space:pre;overflow-x:auto;line-height:normal;font-family:Menlo,'DejaVu Sans Mono',consolas,'Courier New',monospace\">╭───────────── SyftClient.email = 'liamtrask@gmail.com' ──────────────╮\n",
       "│                                                                     │\n",
       "│  <span style=\"color: #7f7f7f; text-decoration-color: #7f7f7f\">.folder            </span>= /Users/atrask/SyftBox/liamtrask_at_gmail_com  │\n",
       "│  <span style=\"color: #7f7f7f; text-decoration-color: #7f7f7f\">                   </span>                                                │\n",
       "│  <span style=\"color: #7f7f7f; text-decoration-color: #7f7f7f\">.platforms         </span>                                                │\n",
       "│  <span style=\"color: #bfbf7f; text-decoration-color: #bfbf7f; font-weight: bold\">  .google_personal </span><span style=\"color: #808000; text-decoration-color: #808000; font-weight: bold\">                                              </span>  │\n",
       "│  <span style=\"color: #7f7f7f; text-decoration-color: #7f7f7f\">    ✗ .gmail                                                     </span>  │\n",
       "│  <span style=\"color: #7f7f7f; text-decoration-color: #7f7f7f\">    ✗ .gdrive_files                                              </span>  │\n",
       "│  <span style=\"color: #7f7f7f; text-decoration-color: #7f7f7f\">    ✗ .gsheets                                                   </span>  │\n",
       "│  <span style=\"color: #7f7f7f; text-decoration-color: #7f7f7f\">    ✗ .gforms                                                    </span>  │\n",
       "│                                                                     │\n",
       "╰─────────────────────────────────────────────────────────────────────╯\n",
       "</pre>\n"
      ],
      "text/plain": [
       "╭───────────── SyftClient.email = 'liamtrask@gmail.com' ──────────────╮\n",
       "│                                                                     │\n",
       "│  \u001b[2m.folder            \u001b[0m= /Users/atrask/SyftBox/liamtrask_at_gmail_com  │\n",
       "│  \u001b[2m                   \u001b[0m                                                │\n",
       "│  \u001b[2m.platforms         \u001b[0m                                                │\n",
       "│  \u001b[1;2;33m  .google_personal \u001b[0m\u001b[1;33m                                              \u001b[0m  │\n",
       "│  \u001b[2m    ✗ .gmail       \u001b[0m\u001b[2m                                              \u001b[0m  │\n",
       "│  \u001b[2m    ✗ .gdrive_files\u001b[0m\u001b[2m                                              \u001b[0m  │\n",
       "│  \u001b[2m    ✗ .gsheets     \u001b[0m\u001b[2m                                              \u001b[0m  │\n",
       "│  \u001b[2m    ✗ .gforms      \u001b[0m\u001b[2m                                              \u001b[0m  │\n",
       "│                                                                     │\n",
       "╰─────────────────────────────────────────────────────────────────────╯\n"
      ]
     },
     "metadata": {},
     "output_type": "display_data"
    },
    {
     "data": {
      "text/plain": []
     },
     "execution_count": 13,
     "metadata": {},
     "output_type": "execute_result"
    }
   ],
   "source": [
    "client"
   ]
  },
  {
   "cell_type": "code",
   "execution_count": 15,
   "id": "cac8a93c-bdcc-40c1-a973-ce62d3da301f",
   "metadata": {},
   "outputs": [
    {
     "ename": "RuntimeError",
     "evalue": "Transport 'gmail' is not initialized. Please call .setup() first.",
     "output_type": "error",
     "traceback": [
      "\u001b[31m---------------------------------------------------------------------------\u001b[39m",
      "\u001b[31mRuntimeError\u001b[39m                              Traceback (most recent call last)",
      "\u001b[36mCell\u001b[39m\u001b[36m \u001b[39m\u001b[32mIn[15]\u001b[39m\u001b[32m, line 1\u001b[39m\n\u001b[32m----> \u001b[39m\u001b[32m1\u001b[39m \u001b[43mclient\u001b[49m\u001b[43m.\u001b[49m\u001b[43mplatforms\u001b[49m\u001b[43m.\u001b[49m\u001b[43mgoogle_personal\u001b[49m\u001b[43m.\u001b[49m\u001b[43mgmail\u001b[49m\u001b[43m.\u001b[49m\u001b[43mtest\u001b[49m(\u001b[33m\"\u001b[39m\u001b[33mabc123\u001b[39m\u001b[33m\"\u001b[39m)\n",
      "\u001b[36mFile \u001b[39m\u001b[32m~/Desktop/Laboratory/syft-client/test_notebooks/../syft_client/platforms/google_personal/client.py:137\u001b[39m, in \u001b[36mGooglePersonalClient._create_transport_stubs.<locals>.UninitializedTransport.__getattr__\u001b[39m\u001b[34m(self, name)\u001b[39m\n\u001b[32m    135\u001b[39m     \u001b[38;5;28;01mreturn\u001b[39;00m \u001b[38;5;28mobject\u001b[39m.\u001b[34m__getattribute__\u001b[39m(\u001b[38;5;28mself\u001b[39m, name)\n\u001b[32m    136\u001b[39m \u001b[38;5;28;01mif\u001b[39;00m \u001b[38;5;129;01mnot\u001b[39;00m \u001b[38;5;28mself\u001b[39m._setup_called:\n\u001b[32m--> \u001b[39m\u001b[32m137\u001b[39m     \u001b[38;5;28;01mraise\u001b[39;00m \u001b[38;5;167;01mRuntimeError\u001b[39;00m(\u001b[33mf\u001b[39m\u001b[33m\"\u001b[39m\u001b[33mTransport \u001b[39m\u001b[33m'\u001b[39m\u001b[38;5;132;01m{\u001b[39;00m\u001b[38;5;28mself\u001b[39m._transport_name\u001b[38;5;132;01m}\u001b[39;00m\u001b[33m'\u001b[39m\u001b[33m is not initialized. Please call .setup() first.\u001b[39m\u001b[33m\"\u001b[39m)\n\u001b[32m    138\u001b[39m \u001b[38;5;28;01mif\u001b[39;00m \u001b[38;5;28mself\u001b[39m._real_transport:\n\u001b[32m    139\u001b[39m     \u001b[38;5;28;01mreturn\u001b[39;00m \u001b[38;5;28mgetattr\u001b[39m(\u001b[38;5;28mself\u001b[39m._real_transport, name)\n",
      "\u001b[31mRuntimeError\u001b[39m: Transport 'gmail' is not initialized. Please call .setup() first."
     ]
    }
   ],
   "source": [
    "client.platforms.google_personal.gmail.test(\"abc123\")"
   ]
  },
  {
   "cell_type": "code",
   "execution_count": 4,
   "id": "3596f965-ce10-49ac-9ce1-9e012282f4cb",
   "metadata": {},
   "outputs": [
    {
     "name": "stdout",
     "output_type": "stream",
     "text": [
      "✅ Gmail test successful! Email sent to liamtrask@gmail.com\n",
      "   Email has been deleted as requested\n"
     ]
    },
    {
     "data": {
      "text/plain": [
       "{'success': True,\n",
       " 'url': 'https://mail.google.com/mail/?authuser=liamtrask%40gmail.com#search/from%3Aliamtrask%40gmail.com%20subject%3A%22Test%20Email%20-%20abc123%22'}"
      ]
     },
     "execution_count": 4,
     "metadata": {},
     "output_type": "execute_result"
    }
   ],
   "source": [
    "client.platforms.google_personal.gmail.test(\"abc123\")"
   ]
  },
  {
   "cell_type": "code",
   "execution_count": null,
   "id": "01efcb7c-a6fe-47cb-83e4-dcdd6f0ad306",
   "metadata": {},
   "outputs": [],
   "source": []
  },
  {
   "cell_type": "code",
   "execution_count": null,
   "id": "fcf86f94-52e6-46c0-95f0-d7e774dff2a5",
   "metadata": {},
   "outputs": [],
   "source": []
  },
  {
   "cell_type": "code",
   "execution_count": 8,
   "id": "fd9b7672-1c25-4d33-a466-7ed7465f7250",
   "metadata": {},
   "outputs": [
    {
     "name": "stdout",
     "output_type": "stream",
     "text": [
      "1.81 s ± 253 ms per loop (mean ± std. dev. of 7 runs, 1 loop each)\n"
     ]
    }
   ],
   "source": [
    "%%timeit\n",
    "client = sc.login(\"liamtrask@gmail.com\")"
   ]
  },
  {
   "cell_type": "code",
   "execution_count": 9,
   "id": "440d0edc-1bac-4350-add6-6bd361e12c6e",
   "metadata": {},
   "outputs": [
    {
     "data": {
      "text/html": [
       "<pre style=\"white-space:pre;overflow-x:auto;line-height:normal;font-family:Menlo,'DejaVu Sans Mono',consolas,'Courier New',monospace\">╭───────────── SyftClient.email = 'liamtrask@gmail.com' ─────────────╮\n",
       "│                                                                    │\n",
       "│  <span style=\"color: #7fbfbf; text-decoration-color: #7fbfbf; font-weight: bold\">.folder</span><span style=\"color: #7f7f7f; text-decoration-color: #7f7f7f\"> = /Users/atrask/SyftBox_liamtrask@gmail.com             </span>  │\n",
       "│  <span style=\"color: #7f7f7f; text-decoration-color: #7f7f7f\">                                                                </span>  │\n",
       "│  <span style=\"color: #7fbfbf; text-decoration-color: #7fbfbf; font-weight: bold\">.platforms</span><span style=\"color: #7f7f7f; text-decoration-color: #7f7f7f\">                                                      </span>  │\n",
       "│  <span style=\"color: #7f7f7f; text-decoration-color: #7f7f7f\">  </span><span style=\"color: #bfbf7f; text-decoration-color: #bfbf7f; font-weight: bold\">.google_personal</span><span style=\"color: #7f7f7f; text-decoration-color: #7f7f7f\">                                              </span>  │\n",
       "│  <span style=\"color: #7f7f7f; text-decoration-color: #7f7f7f\">      </span><span style=\"color: #7fbf7f; text-decoration-color: #7fbf7f\">✓</span><span style=\"color: #7f7f7f; text-decoration-color: #7f7f7f\"> .gmail                        </span><span style=\"color: #7fbf7f; text-decoration-color: #7fbf7f\">✓</span><span style=\"color: #7f7f7f; text-decoration-color: #7f7f7f\"> .gdrive_files           </span>  │\n",
       "│  <span style=\"color: #7f7f7f; text-decoration-color: #7f7f7f\">      </span><span style=\"color: #7fbf7f; text-decoration-color: #7fbf7f\">✓</span><span style=\"color: #7f7f7f; text-decoration-color: #7f7f7f\"> .gsheets                      </span><span style=\"color: #7fbf7f; text-decoration-color: #7fbf7f\">✓</span><span style=\"color: #7f7f7f; text-decoration-color: #7f7f7f\"> .gforms                 </span>  │\n",
       "│                                                                    │\n",
       "╰────────────────────────────────────────────────────────────────────╯\n",
       "</pre>\n"
      ],
      "text/plain": [
       "╭───────────── SyftClient.email = 'liamtrask@gmail.com' ─────────────╮\n",
       "│                                                                    │\n",
       "│  \u001b[1;2;36m.folder\u001b[0m\u001b[2m = /Users/atrask/SyftBox_liamtrask@gmail.com             \u001b[0m  │\n",
       "│  \u001b[2m                                                                \u001b[0m  │\n",
       "│  \u001b[1;2;36m.platforms\u001b[0m\u001b[2m                                                      \u001b[0m  │\n",
       "│  \u001b[2m  \u001b[0m\u001b[1;2;33m.google_personal\u001b[0m\u001b[2m                                              \u001b[0m  │\n",
       "│  \u001b[2m  \u001b[0m\u001b[2m    \u001b[0m\u001b[2;32m✓\u001b[0m\u001b[2m .gmail                \u001b[0m\u001b[2m  \u001b[0m\u001b[2m  \u001b[0m\u001b[2m    \u001b[0m\u001b[2;32m✓\u001b[0m\u001b[2m .gdrive_files         \u001b[0m\u001b[2m  \u001b[0m  │\n",
       "│  \u001b[2m  \u001b[0m\u001b[2m    \u001b[0m\u001b[2;32m✓\u001b[0m\u001b[2m .gsheets              \u001b[0m\u001b[2m  \u001b[0m\u001b[2m  \u001b[0m\u001b[2m    \u001b[0m\u001b[2;32m✓\u001b[0m\u001b[2m .gforms               \u001b[0m\u001b[2m  \u001b[0m  │\n",
       "│                                                                    │\n",
       "╰────────────────────────────────────────────────────────────────────╯\n"
      ]
     },
     "metadata": {},
     "output_type": "display_data"
    },
    {
     "data": {
      "text/plain": [
       "''"
      ]
     },
     "execution_count": 9,
     "metadata": {},
     "output_type": "execute_result"
    }
   ],
   "source": [
    "client.__repr__()"
   ]
  },
  {
   "cell_type": "code",
   "execution_count": 5,
   "id": "a661abcd-480b-4d2f-8fe5-f9fac11e2e8b",
   "metadata": {},
   "outputs": [],
   "source": [
    "client.platforms.__repr__()\n",
    "client.platforms.google_personal.__repr__()\n",
    "client.platforms.google_personal.gmail.__repr__()\n",
    "client.platforms.google_personal.gsheets.__repr__()\n",
    "client.platforms.google_personal.gforms.__repr__()\n",
    "client.platforms.google_personal.gdrive_files.__repr__()"
   ]
  },
  {
   "cell_type": "code",
   "execution_count": 7,
   "id": "c9a9d5dc-c940-43fd-8233-20542d508848",
   "metadata": {},
   "outputs": [
    {
     "data": {
      "text/plain": [
       "'https://mail.google.com/mail/?authuser=liamtrask%40gmail.com#search/from%3Aliamtrask%40gmail.com%20subject%3A%22Test%20Email%20-%20abc123%22'"
      ]
     },
     "execution_count": 7,
     "metadata": {},
     "output_type": "execute_result"
    }
   ],
   "source": [
    "client.platforms.google_personal.gmail.test(\"abc123\", cleanup=False)"
   ]
  },
  {
   "cell_type": "code",
   "execution_count": 4,
   "id": "dd50ae35-0bd0-4407-8049-8f0b966b8ba8",
   "metadata": {},
   "outputs": [
    {
     "data": {
      "text/plain": [
       "'https://mail.google.com/mail/?authuser=liamtrask%40gmail.com#search/from%3Aliamtrask%40gmail.com%20subject%3A%22Test%20Email%20-%20abc123%22'"
      ]
     },
     "execution_count": 4,
     "metadata": {},
     "output_type": "execute_result"
    }
   ],
   "source": [
    "client.platforms.google_personal.gmail.test(\"abc123\")\n",
    "client.platforms.google_personal.gdrive_files.test(\"abc123\")\n",
    "client.platforms.google_personal.gsheets.test(\"abc123\")\n",
    "client.platforms.google_personal.gforms.test(\"abc123\")"
   ]
  },
  {
   "cell_type": "code",
   "execution_count": 11,
   "id": "dff99b22-5d1e-4c4b-a5c3-fd5ebd34266b",
   "metadata": {},
   "outputs": [],
   "source": [
    "client2 = sc.login(\"andrew@openmined.org\")"
   ]
  },
  {
   "cell_type": "code",
   "execution_count": null,
   "id": "d87b24ff-fbe1-4b79-b86c-5705e1ae814b",
   "metadata": {},
   "outputs": [],
   "source": [
    "client2.__repr__()"
   ]
  },
  {
   "cell_type": "code",
   "execution_count": null,
   "id": "733ba6ee-e453-4bd5-920c-76de3c37b877",
   "metadata": {},
   "outputs": [],
   "source": [
    "client2.platforms.google_org.__repr__()\n",
    "client2.platforms.google_org.gmail.__repr__()\n",
    "client2.platforms.google_org.gsheets.__repr__()\n",
    "client2.platforms.google_org.gforms.__repr__()\n",
    "client2.platforms.google_org.gdrive_files.__repr__()"
   ]
  },
  {
   "cell_type": "code",
   "execution_count": 5,
   "id": "85653ebc-fc37-4db8-890b-bd44bfb57d97",
   "metadata": {},
   "outputs": [
    {
     "data": {
      "text/plain": [
       "'https://drive.google.com/file/d/1alcZk0_cI4CQktQqbexW6vPk9mRZG4jH/view?usp=drivesdk'"
      ]
     },
     "execution_count": 5,
     "metadata": {},
     "output_type": "execute_result"
    }
   ],
   "source": [
    "client2.platforms.google_org.gmail.test(\"abc123\")\n",
    "client2.platforms.google_org.gdrive_files.test(\"abc123\")\n",
    "client2.platforms.google_org.gsheets.test(\"abc123\")\n",
    "client2.platforms.google_org.gforms.test(\"abc123\")"
   ]
  },
  {
   "cell_type": "code",
   "execution_count": 6,
   "id": "c5a976ca-ed33-4589-9cbf-9590de47dd88",
   "metadata": {},
   "outputs": [
    {
     "data": {
      "text/plain": [
       "'https://docs.google.com/spreadsheets/d/1ZCWT44C2nWZK3JUoiYvyD0H-jfoSMCWxN0w9RTKkjoo/edit'"
      ]
     },
     "execution_count": 6,
     "metadata": {},
     "output_type": "execute_result"
    }
   ],
   "source": []
  },
  {
   "cell_type": "code",
   "execution_count": 7,
   "id": "1dad9d68-b836-407b-8ce1-a8c1f126921f",
   "metadata": {},
   "outputs": [
    {
     "data": {
      "text/plain": [
       "'https://docs.google.com/forms/d/1MH7dZk8NKNdoNMNK2Zlv4RRjzoCSxUzPk-iit702WQ0/viewform'"
      ]
     },
     "execution_count": 7,
     "metadata": {},
     "output_type": "execute_result"
    }
   ],
   "source": []
  },
  {
   "cell_type": "code",
   "execution_count": null,
   "id": "1f81b5a1-37c9-40ac-a28f-98872c3a0752",
   "metadata": {},
   "outputs": [],
   "source": []
  },
  {
   "cell_type": "code",
   "execution_count": null,
   "id": "812b21bf-7f9f-4d4e-b344-a003c457caaa",
   "metadata": {},
   "outputs": [],
   "source": []
  },
  {
   "cell_type": "code",
   "execution_count": 16,
   "id": "ff3bf331-3074-46cc-a05f-b3f744850079",
   "metadata": {},
   "outputs": [],
   "source": []
  },
  {
   "cell_type": "code",
   "execution_count": 17,
   "id": "1a7347b2-1700-4c1f-b5b1-032167113ad3",
   "metadata": {},
   "outputs": [
    {
     "data": {
      "text/html": [
       "<pre style=\"white-space:pre;overflow-x:auto;line-height:normal;font-family:Menlo,'DejaVu Sans Mono',consolas,'Courier New',monospace\">╭──────────── SyftClient.email = 'andrew@openmined.org' ─────────────╮\n",
       "│                                                                    │\n",
       "│  <span style=\"color: #7fbfbf; text-decoration-color: #7fbfbf; font-weight: bold\">.folder</span><span style=\"color: #7f7f7f; text-decoration-color: #7f7f7f\"> = /Users/atrask/SyftBox_andrew@openmined.org            </span>  │\n",
       "│  <span style=\"color: #7f7f7f; text-decoration-color: #7f7f7f\">                                                                </span>  │\n",
       "│  <span style=\"color: #7fbfbf; text-decoration-color: #7fbfbf; font-weight: bold\">.platforms</span><span style=\"color: #7f7f7f; text-decoration-color: #7f7f7f\">                                                      </span>  │\n",
       "│  <span style=\"color: #7f7f7f; text-decoration-color: #7f7f7f\">  </span><span style=\"color: #bfbf7f; text-decoration-color: #bfbf7f; font-weight: bold\">.google_org</span><span style=\"color: #7f7f7f; text-decoration-color: #7f7f7f\">                                                   </span>  │\n",
       "│  <span style=\"color: #7f7f7f; text-decoration-color: #7f7f7f\">      </span><span style=\"color: #7fbf7f; text-decoration-color: #7fbf7f\">✓</span><span style=\"color: #7f7f7f; text-decoration-color: #7f7f7f\"> .gmail                        </span><span style=\"color: #7fbf7f; text-decoration-color: #7fbf7f\">✓</span><span style=\"color: #7f7f7f; text-decoration-color: #7f7f7f\"> .gdrive_files           </span>  │\n",
       "│  <span style=\"color: #7f7f7f; text-decoration-color: #7f7f7f\">      </span><span style=\"color: #7fbf7f; text-decoration-color: #7fbf7f\">✓</span><span style=\"color: #7f7f7f; text-decoration-color: #7f7f7f\"> .gsheets                      </span><span style=\"color: #7fbf7f; text-decoration-color: #7fbf7f\">✓</span><span style=\"color: #7f7f7f; text-decoration-color: #7f7f7f\"> .gforms                 </span>  │\n",
       "│                                                                    │\n",
       "╰────────────────────────────────────────────────────────────────────╯\n",
       "</pre>\n"
      ],
      "text/plain": [
       "╭──────────── SyftClient.email = 'andrew@openmined.org' ─────────────╮\n",
       "│                                                                    │\n",
       "│  \u001b[1;2;36m.folder\u001b[0m\u001b[2m = /Users/atrask/SyftBox_andrew@openmined.org            \u001b[0m  │\n",
       "│  \u001b[2m                                                                \u001b[0m  │\n",
       "│  \u001b[1;2;36m.platforms\u001b[0m\u001b[2m                                                      \u001b[0m  │\n",
       "│  \u001b[2m  \u001b[0m\u001b[1;2;33m.google_org\u001b[0m\u001b[2m                                                   \u001b[0m  │\n",
       "│  \u001b[2m  \u001b[0m\u001b[2m    \u001b[0m\u001b[2;32m✓\u001b[0m\u001b[2m .gmail                \u001b[0m\u001b[2m  \u001b[0m\u001b[2m  \u001b[0m\u001b[2m    \u001b[0m\u001b[2;32m✓\u001b[0m\u001b[2m .gdrive_files         \u001b[0m\u001b[2m  \u001b[0m  │\n",
       "│  \u001b[2m  \u001b[0m\u001b[2m    \u001b[0m\u001b[2;32m✓\u001b[0m\u001b[2m .gsheets              \u001b[0m\u001b[2m  \u001b[0m\u001b[2m  \u001b[0m\u001b[2m    \u001b[0m\u001b[2;32m✓\u001b[0m\u001b[2m .gforms               \u001b[0m\u001b[2m  \u001b[0m  │\n",
       "│                                                                    │\n",
       "╰────────────────────────────────────────────────────────────────────╯\n"
      ]
     },
     "metadata": {},
     "output_type": "display_data"
    },
    {
     "data": {
      "text/plain": []
     },
     "execution_count": 17,
     "metadata": {},
     "output_type": "execute_result"
    }
   ],
   "source": [
    "client2"
   ]
  },
  {
   "cell_type": "code",
   "execution_count": null,
   "id": "42fa090c-1b1e-4e03-aa1b-448285eba465",
   "metadata": {},
   "outputs": [],
   "source": []
  }
 ],
 "metadata": {
  "kernelspec": {
   "display_name": "Python 3 (ipykernel)",
   "language": "python",
   "name": "python3"
  },
  "language_info": {
   "codemirror_mode": {
    "name": "ipython",
    "version": 3
   },
   "file_extension": ".py",
   "mimetype": "text/x-python",
   "name": "python",
   "nbconvert_exporter": "python",
   "pygments_lexer": "ipython3",
   "version": "3.12.9"
  }
 },
 "nbformat": 4,
 "nbformat_minor": 5
}
