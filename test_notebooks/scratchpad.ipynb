{
 "cells": [
  {
   "cell_type": "code",
   "execution_count": 1,
   "id": "9b86ea6f-a5b6-429f-b809-f2f06aa0cb8c",
   "metadata": {},
   "outputs": [],
   "source": [
    "import sys\n",
    "sys.path.insert(0, '..')\n",
    "import syft_client as sc"
   ]
  },
  {
   "cell_type": "code",
   "execution_count": 3,
   "id": "2f1cc835-290f-4cca-a4d1-002036efe4fb",
   "metadata": {},
   "outputs": [
    {
     "name": "stdout",
     "output_type": "stream",
     "text": [
      "\n",
      "Google Personal Account Authentication for liamtrask@gmail.com\n",
      "============================================================\n",
      "\n",
      "Authentication options for personal Gmail:\n",
      "1. App Password (recommended for simplicity)\n",
      "2. OAuth2 (more secure but requires browser)\n"
     ]
    },
    {
     "name": "stdin",
     "output_type": "stream",
     "text": [
      "\n",
      "Choose authentication method (1 or 2) [1]:  1\n"
     ]
    },
    {
     "name": "stdout",
     "output_type": "stream",
     "text": [
      "\n",
      "📱 Gmail App Password Setup\n",
      "------------------------------------------------------------\n",
      "To use syft_client with Gmail, you need an app-specific password.\n",
      "\n",
      "Requirements:\n",
      "1. Two-Factor Authentication (2FA) must be enabled on your Google account\n",
      "2. Generate an app-specific password for syft_client\n",
      "\n",
      "Steps to generate an app password:\n",
      "1. Go to: https://myaccount.google.com/apppasswords\n",
      "2. Sign in to your Google account\n",
      "3. Under 'Select app', choose 'Mail'\n",
      "4. Under 'Select device', choose 'Other' and enter 'syft_client'\n",
      "5. Click 'Generate'\n",
      "6. Copy the 16-character password (ignore spaces)\n",
      "\n",
      "============================================================\n"
     ]
    },
    {
     "name": "stdin",
     "output_type": "stream",
     "text": [
      "\n",
      "Enter your Gmail app password (16 characters):  ········\n"
     ]
    },
    {
     "name": "stdout",
     "output_type": "stream",
     "text": [
      "\n",
      "🔍 Testing Gmail connection...\n",
      "✓ SMTP connection successful\n",
      "✓ IMAP connection successful\n",
      "\n",
      "✅ Authentication successful!\n",
      "\n",
      "💾 Credentials saved for future use\n"
     ]
    }
   ],
   "source": [
    "client = sc.login(\"liamtrask@gmail.com\")"
   ]
  },
  {
   "cell_type": "code",
   "execution_count": 6,
   "id": "0f656546-87e8-44a4-a192-e53f59313853",
   "metadata": {},
   "outputs": [],
   "source": []
  },
  {
   "cell_type": "code",
   "execution_count": null,
   "id": "628001de-9f41-44a7-8db0-6571fb107221",
   "metadata": {},
   "outputs": [],
   "source": []
  }
 ],
 "metadata": {
  "kernelspec": {
   "display_name": "Python 3 (ipykernel)",
   "language": "python",
   "name": "python3"
  },
  "language_info": {
   "codemirror_mode": {
    "name": "ipython",
    "version": 3
   },
   "file_extension": ".py",
   "mimetype": "text/x-python",
   "name": "python",
   "nbconvert_exporter": "python",
   "pygments_lexer": "ipython3",
   "version": "3.12.9"
  }
 },
 "nbformat": 4,
 "nbformat_minor": 5
}
