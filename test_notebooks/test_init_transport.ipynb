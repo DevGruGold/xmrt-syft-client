{
 "cells": [
  {
   "cell_type": "markdown",
   "metadata": {},
   "source": [
    "# Testing init_transport=False behavior\n",
    "\n",
    "This notebook demonstrates how to use transport layers when initialized with `init_transport=False`."
   ]
  },
  {
   "cell_type": "code",
   "execution_count": null,
   "metadata": {},
   "outputs": [],
   "source": [
    "# Import syft_client\n",
    "import sys\n",
    "sys.path.append('..')\n",
    "from syft_client import login"
   ]
  },
  {
   "cell_type": "code",
   "execution_count": null,
   "metadata": {},
   "outputs": [],
   "source": [
    "# Login with init_transport=False\n",
    "sc = login(email='your_email@gmail.com', init_transport=False)\n",
    "sc"
   ]
  },
  {
   "cell_type": "code",
   "metadata": {},
   "outputs": [],
   "source": "# Transport objects exist and are discoverable with tab completion\nprint(\"Available transports:\")\nprint(f\"  - gmail: {type(sc.platforms.google_personal.gmail)}\")\nprint(f\"  - gdrive_files: {type(sc.platforms.google_personal.gdrive_files)}\")\nprint(f\"  - gsheets: {type(sc.platforms.google_personal.gsheets)}\")\nprint(f\"  - gforms: {type(sc.platforms.google_personal.gforms)}\")"
  },
  {
   "cell_type": "code",
   "metadata": {},
   "outputs": [],
   "source": "# Try to use gmail.test() - should fail\ntry:\n    sc.platforms.google_personal.gmail.test()\nexcept RuntimeError as e:\n    print(f\"Error: {e}\")"
  },
  {
   "cell_type": "code",
   "metadata": {},
   "outputs": [],
   "source": "# Setup gmail transport using tab-completable path\n# Type: sc.platforms.google_personal.gmail.<TAB> to see .init() method\nsuccess = sc.platforms.google_personal.gmail.init()\nprint(f\"Gmail initialization successful: {success}\")"
  },
  {
   "cell_type": "code",
   "metadata": {},
   "outputs": [],
   "source": "# Now gmail.test() should work\nresult = sc.platforms.google_personal.gmail.test()\nprint(f\"Test result: {result}\")"
  },
  {
   "cell_type": "code",
   "metadata": {},
   "outputs": [],
   "source": "# Check repr - gmail should show as ready\nsc"
  },
  {
   "cell_type": "code",
   "metadata": {},
   "outputs": [],
   "source": "# Initialize another transport\nsc.platforms.google_personal.gsheets.init()\nprint(\"Google Sheets transport initialized!\")"
  },
  {
   "cell_type": "code",
   "source": "# Or initialize all transports at once\nsc.platforms.google_personal._initialize_transport_layers()\nprint(\"All transports initialized!\")\nsc",
   "metadata": {},
   "outputs": []
  }
 ],
 "metadata": {
  "kernelspec": {
   "display_name": "Python 3",
   "language": "python",
   "name": "python3"
  },
  "language_info": {
   "codemirror_mode": {
    "name": "ipython",
    "version": 3
   },
   "file_extension": ".py",
   "mimetype": "text/x-python",
   "name": "python",
   "nbconvert_exporter": "python",
   "pygments_lexer": "ipython3",
   "version": "3.8.0"
  }
 },
 "nbformat": 4,
 "nbformat_minor": 4
}