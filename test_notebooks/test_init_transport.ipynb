{
 "cells": [
  {
   "cell_type": "markdown",
   "metadata": {},
   "source": [
    "# Testing init_transport=False behavior\n",
    "\n",
    "This notebook demonstrates how to use transport layers when initialized with `init_transport=False`."
   ]
  },
  {
   "cell_type": "code",
   "execution_count": null,
   "metadata": {},
   "outputs": [],
   "source": [
    "# Import syft_client\n",
    "import sys\n",
    "sys.path.append('..')\n",
    "from syft_client import login"
   ]
  },
  {
   "cell_type": "code",
   "execution_count": null,
   "metadata": {},
   "outputs": [],
   "source": [
    "# Login with init_transport=False\n",
    "sc = login(email='your_email@gmail.com', init_transport=False)\n",
    "sc"
   ]
  },
  {
   "cell_type": "code",
   "execution_count": null,
   "metadata": {},
   "outputs": [],
   "source": [
    "# Try to use gmail.test() - should fail\n",
    "try:\n",
    "    sc.platforms.google_personal.gmail.test()\n",
    "except RuntimeError as e:\n",
    "    print(f\"Error: {e}\")"
   ]
  },
  {
   "cell_type": "code",
   "execution_count": null,
   "metadata": {},
   "outputs": [],
   "source": [
    "# Initialize gmail transport\n",
    "sc.platforms.google_personal.initialize_transport('gmail')\n",
    "print(\"Gmail transport initialized!\")"
   ]
  },
  {
   "cell_type": "code",
   "execution_count": null,
   "metadata": {},
   "outputs": [],
   "source": [
    "# Now gmail.test() should work\n",
    "result = sc.platforms.google_personal.gmail.test()\n",
    "print(f\"Test result: {result}\")"
   ]
  },
  {
   "cell_type": "code",
   "execution_count": null,
   "metadata": {},
   "outputs": [],
   "source": [
    "# Check repr - gmail should show as ready\n",
    "sc"
   ]
  },
  {
   "cell_type": "code",
   "execution_count": null,
   "metadata": {},
   "outputs": [],
   "source": [
    "# You can also use setup_transport() for more control\n",
    "sc.platforms.google_personal.setup_transport('gsheets')\n",
    "print(\"Google Sheets transport set up!\")"
   ]
  },
  {
   "cell_type": "code",
   "execution_count": null,
   "metadata": {},
   "outputs": [],
   "source": [
    "# Or initialize all transports at once\n",
    "sc.platforms.google_personal._initialize_transport_layers()\n",
    "print(\"All transports initialized!\")\n",
    "sc"
   ]
  }
 ],
 "metadata": {
  "kernelspec": {
   "display_name": "Python 3",
   "language": "python",
   "name": "python3"
  },
  "language_info": {
   "codemirror_mode": {
    "name": "ipython",
    "version": 3
   },
   "file_extension": ".py",
   "mimetype": "text/x-python",
   "name": "python",
   "nbconvert_exporter": "python",
   "pygments_lexer": "ipython3",
   "version": "3.8.0"
  }
 },
 "nbformat": 4,
 "nbformat_minor": 4
}