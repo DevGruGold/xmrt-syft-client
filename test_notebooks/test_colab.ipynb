{
 "cells": [
  {
   "cell_type": "markdown",
   "metadata": {},
   "source": [
    "# Syft Client - Google Colab Test Notebook\n",
    "\n",
    "This notebook tests syft_client functionality in Google Colab environment."
   ]
  },
  {
   "cell_type": "markdown",
   "metadata": {},
   "source": [
    "## 1. Install syft-client\n",
    "\n",
    "First, install the package from the repository:"
   ]
  },
  {
   "cell_type": "code",
   "execution_count": null,
   "metadata": {},
   "outputs": [],
   "source": [
    "# Install from GitHub (for testing)\n",
    "!pip install git+https://github.com/OpenMined/syft-client.git@andrew_refactor_1"
   ]
  },
  {
   "cell_type": "markdown",
   "metadata": {},
   "source": [
    "## 2. Test Environment Detection"
   ]
  },
  {
   "cell_type": "code",
   "execution_count": null,
   "metadata": {},
   "outputs": [],
   "source": [
    "import syft_client\n",
    "from syft_client.environment import detect_environment, EnvironmentDetector\n",
    "\n",
    "# Check environment detection\n",
    "env = detect_environment()\n",
    "print(f\"Detected environment: {env}\")\n",
    "print(f\"Environment name: {env.name}\")\n",
    "print(f\"Environment value: {env.value}\")\n",
    "\n",
    "# Get detailed environment info\n",
    "env_info = EnvironmentDetector.get_environment_info()\n",
    "print(\"\\nDetailed environment info:\")\n",
    "for key, value in env_info.items():\n",
    "    print(f\"  {key}: {value}\")"
   ]
  },
  {
   "cell_type": "markdown",
   "metadata": {},
   "source": [
    "## 3. Test Login Without Email\n",
    "\n",
    "This should show a Colab-specific error message:"
   ]
  },
  {
   "cell_type": "code",
   "execution_count": null,
   "metadata": {},
   "outputs": [],
   "source": [
    "try:\n",
    "    syft_client.login()\n",
    "except ValueError as e:\n",
    "    print(f\"Expected error: {e}\")"
   ]
  },
  {
   "cell_type": "markdown",
   "metadata": {},
   "source": [
    "## 4. Test Login With Email\n",
    "\n",
    "This tests the basic login flow (will not complete authentication yet):"
   ]
  },
  {
   "cell_type": "code",
   "execution_count": null,
   "metadata": {},
   "outputs": [],
   "source": [
    "# Test with a sample email\n",
    "test_email = \"test@gmail.com\"\n",
    "print(f\"Testing login with email: {test_email}\")\n",
    "\n",
    "try:\n",
    "    result = syft_client.login(email=test_email)\n",
    "    print(f\"Login result: {result}\")\n",
    "except Exception as e:\n",
    "    print(f\"Login not fully implemented yet. Current output shown above.\")"
   ]
  },
  {
   "cell_type": "markdown",
   "metadata": {},
   "source": [
    "## 5. Verify Colab-Specific Features\n",
    "\n",
    "Test that we correctly identify Colab-specific capabilities:"
   ]
  },
  {
   "cell_type": "code",
   "execution_count": null,
   "metadata": {},
   "outputs": [],
   "source": [
    "# Check if we're really in Colab\n",
    "try:\n",
    "    import google.colab\n",
    "    print(\"✓ google.colab module is available\")\n",
    "    print(\"✓ This is definitely Google Colab\")\n",
    "except ImportError:\n",
    "    print(\"✗ google.colab module not found\")\n",
    "    print(\"✗ This notebook should be run in Google Colab\")"
   ]
  }
 ],
 "metadata": {
  "kernelspec": {
   "display_name": "Python 3",
   "language": "python",
   "name": "python3"
  },
  "language_info": {
   "name": "python",
   "version": "3.8.0"
  }
 },
 "nbformat": 4,
 "nbformat_minor": 4
}