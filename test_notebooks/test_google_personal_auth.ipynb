{
 "cells": [
  {
   "cell_type": "markdown",
   "metadata": {},
   "source": [
    "# Google Personal (Gmail) Authentication Test\n",
    "\n",
    "This notebook tests the Gmail app password authentication flow for personal Gmail accounts."
   ]
  },
  {
   "cell_type": "code",
   "execution_count": null,
   "metadata": {},
   "outputs": [],
   "source": [
    "# Add parent directory to path\n",
    "import sys\n",
    "sys.path.insert(0, '..')\n",
    "\n",
    "# Import syft_client\n",
    "import syft_client\n",
    "print(f\"Syft Client Version: {syft_client.__version__}\")"
   ]
  },
  {
   "cell_type": "markdown",
   "metadata": {},
   "source": [
    "## Test 1: Personal Gmail Login with App Password\n",
    "\n",
    "This test demonstrates logging into a personal Gmail account using an app password."
   ]
  },
  {
   "cell_type": "code",
   "execution_count": null,
   "metadata": {},
   "outputs": [],
   "source": [
    "# Test with a personal Gmail account\n",
    "# NOTE: You'll need to generate an app password for your account\n",
    "\n",
    "# Option 1: Let it auto-detect as gmail\n",
    "email = \"your.email@gmail.com\"  # Replace with your Gmail\n",
    "\n",
    "try:\n",
    "    # This will detect it as google_personal and prompt for app password\n",
    "    result = syft_client.login(email=email, verbose=True)\n",
    "    print(\"\\nLogin successful!\")\n",
    "    print(f\"Auth method: {result.get('auth_method')}\")\n",
    "    print(f\"Servers configured: {list(result.get('servers', {}).keys())}\")\n",
    "except Exception as e:\n",
    "    print(f\"Login failed: {e}\")"
   ]
  },
  {
   "cell_type": "markdown",
   "metadata": {},
   "source": [
    "## Test 2: Direct Platform Client Usage\n",
    "\n",
    "Test using the GooglePersonalClient directly for more control."
   ]
  },
  {
   "cell_type": "code",
   "metadata": {},
   "outputs": [],
   "source": "## Summary\n\nThe Google Personal authentication flow with syft-wallet integration:\n\n1. **Requirements**: \n   - Personal Gmail account (gmail.com or googlemail.com)\n   - 2-Factor Authentication enabled\n   - App password generated\n   - syft-wallet installed\n\n2. **Authentication Steps**:\n   - User provides email\n   - System detects it as google_personal\n   - syft-wallet checks for stored credentials\n   - If found: User approves access via native dialog\n   - If not found: User enters app password, stored in syft-wallet\n   - System tests SMTP and IMAP connections\n   - Credentials securely stored in syft-wallet (1Password/Keyring)\n\n3. **Benefits**:\n   - Secure credential storage (never on disk)\n   - User approval for every access\n   - Works across all platforms\n   - Integrates with 1Password if available\n   - No plaintext passwords in memory\n\n4. **Security Features**:\n   - All credentials stored in syft-wallet\n   - User approval required for access\n   - Native OS dialogs (not terminal prompts)\n   - Works in background tasks\n   - Zero-trust security model"
  },
  {
   "cell_type": "markdown",
   "metadata": {},
   "source": [
    "## Test 3: Using Gmail Transport\n",
    "\n",
    "Once authenticated, test sending and receiving emails."
   ]
  },
  {
   "cell_type": "code",
   "execution_count": null,
   "metadata": {},
   "outputs": [],
   "source": [
    "# This assumes you've already authenticated above\n",
    "from syft_client.platforms.google_personal.gmail import GmailTransport\n",
    "\n",
    "# Create transport with credentials from auth\n",
    "if 'auth_result' in locals() and auth_result:\n",
    "    gmail = GmailTransport(auth_result['credentials'])\n",
    "    \n",
    "    # Test sending an email to yourself\n",
    "    test_email = auth_result['email']\n",
    "    test_data = {\n",
    "        'message': 'Test from syft_client',\n",
    "        'timestamp': str(datetime.now()),\n",
    "        'test': True\n",
    "    }\n",
    "    \n",
    "    print(f\"Sending test email to {test_email}...\")\n",
    "    success = gmail.send(\n",
    "        recipient=test_email,\n",
    "        data=test_data,\n",
    "        subject=\"Syft Client Test Email\"\n",
    "    )\n",
    "    \n",
    "    if success:\n",
    "        print(\"✅ Email sent successfully!\")\n",
    "    else:\n",
    "        print(\"❌ Failed to send email\")\n",
    "    \n",
    "    # Test receiving emails\n",
    "    print(\"\\nReceiving recent emails...\")\n",
    "    messages = gmail.receive(limit=5)\n",
    "    \n",
    "    print(f\"\\nFound {len(messages)} recent messages:\")\n",
    "    for msg in messages:\n",
    "        print(f\"- From: {msg['from'][:50]}...\")\n",
    "        print(f\"  Subject: {msg['subject']}\")\n",
    "        print(f\"  Date: {msg['date']}\")\n",
    "        print(f\"  Attachments: {len(msg['attachments'])}\")\n",
    "        print()\n",
    "else:\n",
    "    print(\"Please authenticate first (run Test 2)\")"
   ]
  },
  {
   "cell_type": "markdown",
   "metadata": {},
   "source": [
    "## Test 4: Error Handling\n",
    "\n",
    "Test various error conditions."
   ]
  },
  {
   "cell_type": "code",
   "execution_count": null,
   "metadata": {},
   "outputs": [],
   "source": [
    "# Test 1: Invalid app password length\n",
    "print(\"Test 1: Invalid app password\")\n",
    "print(\"-\" * 40)\n",
    "\n",
    "# This will fail because app passwords must be 16 characters\n",
    "# (The actual test would require interactive input, so this is just a demo)\n",
    "\n",
    "# Test 2: Wrong platform detection\n",
    "print(\"\\nTest 2: Corporate email with personal auth\")\n",
    "print(\"-\" * 40)\n",
    "\n",
    "try:\n",
    "    # This should be detected as google_org, not google_personal\n",
    "    result = syft_client.login(email=\"user@stanford.edu\", verbose=True)\n",
    "except Exception as e:\n",
    "    print(f\"Expected error: {type(e).__name__}\")"
   ]
  },
  {
   "cell_type": "markdown",
   "metadata": {},
   "source": [
    "## Summary\n",
    "\n",
    "The Google Personal authentication flow:\n",
    "\n",
    "1. **Requirements**: \n",
    "   - Personal Gmail account (gmail.com or googlemail.com)\n",
    "   - 2-Factor Authentication enabled\n",
    "   - App password generated\n",
    "\n",
    "2. **Authentication Steps**:\n",
    "   - User provides email\n",
    "   - System detects it as google_personal\n",
    "   - User chooses app password method\n",
    "   - User enters 16-character app password\n",
    "   - System tests SMTP and IMAP connections\n",
    "   - Credentials saved for future use\n",
    "\n",
    "3. **Benefits**:\n",
    "   - Simple one-time setup\n",
    "   - No browser required\n",
    "   - Works in all environments\n",
    "   - Passwords don't expire (unless main password changes)\n",
    "\n",
    "4. **Limitations**:\n",
    "   - Requires 2FA to be enabled\n",
    "   - Less secure than OAuth2\n",
    "   - Passwords revoked if main password changes"
   ]
  }
 ],
 "metadata": {
  "kernelspec": {
   "display_name": "Python 3 (ipykernel)",
   "language": "python",
   "name": "python3"
  },
  "language_info": {
   "codemirror_mode": {
    "name": "ipython",
    "version": 3
   },
   "file_extension": ".py",
   "mimetype": "text/x-python",
   "name": "python",
   "nbconvert_exporter": "python",
   "pygments_lexer": "ipython3",
   "version": "3.12.9"
  }
 },
 "nbformat": 4,
 "nbformat_minor": 4
}