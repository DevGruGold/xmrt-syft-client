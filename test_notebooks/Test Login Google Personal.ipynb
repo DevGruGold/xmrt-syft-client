{
 "cells": [
  {
   "cell_type": "code",
   "execution_count": 1,
   "id": "9b86ea6f-a5b6-429f-b809-f2f06aa0cb8c",
   "metadata": {},
   "outputs": [],
   "source": [
    "import sys\n",
    "sys.path.insert(0, '..')\n",
    "import syft_client as sc"
   ]
  },
  {
   "cell_type": "markdown",
   "id": "5a5df319-6870-4881-a357-2e393bf1e3ad",
   "metadata": {},
   "source": [
    "# Test 1: Login Speed when init_transport=False"
   ]
  },
  {
   "cell_type": "code",
   "execution_count": 2,
   "id": "18e527b8-28a6-4d98-b562-06b056ace1dc",
   "metadata": {},
   "outputs": [
    {
     "name": "stdout",
     "output_type": "stream",
     "text": [
      "461 μs ± 6.3 μs per loop (mean ± std. dev. of 7 runs, 1,000 loops each)\n"
     ]
    }
   ],
   "source": [
    "%%timeit\n",
    "client = sc.login(\"liamtrask@gmail.com\", init_transport=False)"
   ]
  },
  {
   "cell_type": "markdown",
   "id": "20cae1bc-c81a-42ef-9876-bca501066cc7",
   "metadata": {},
   "source": [
    "# Test 2: Test login(init_transport=False)"
   ]
  },
  {
   "cell_type": "code",
   "execution_count": 3,
   "id": "7c794820-49b9-4a7e-9481-0bb9edd8bad7",
   "metadata": {},
   "outputs": [],
   "source": [
    "client = sc.login(\"liamtrask@gmail.com\", init_transport=False)"
   ]
  },
  {
   "cell_type": "markdown",
   "id": "39dde3b4-1c46-454c-a338-d1a591c8c596",
   "metadata": {},
   "source": [
    "# Test 3: Test __repr__ has .folder and .google_personal with transports logged out"
   ]
  },
  {
   "cell_type": "code",
   "execution_count": 4,
   "id": "9846cf1f-c555-42f2-86b4-40a9432dccb4",
   "metadata": {},
   "outputs": [
    {
     "data": {
      "text/html": [
       "<pre style=\"white-space:pre;overflow-x:auto;line-height:normal;font-family:Menlo,'DejaVu Sans Mono',consolas,'Courier New',monospace\">╭──────── SyftClient.email = 'liamtrask@gmail.com' ────────╮\n",
       "│                                                          │\n",
       "│  <span style=\"color: #7f7f7f; text-decoration-color: #7f7f7f\">.folder</span> = /Users/atrask/SyftBox/liamtrask_at_gmail_com  │\n",
       "│                                                          │\n",
       "│  <span style=\"color: #7f7f7f; text-decoration-color: #7f7f7f\">.platforms</span>                                              │\n",
       "│    <span style=\"color: #808000; text-decoration-color: #808000; font-weight: bold\">.google_personal</span>                                      │\n",
       "│      <span style=\"color: #7f7f7f; text-decoration-color: #7f7f7f\">✗</span> <span style=\"color: #7f7f7f; text-decoration-color: #7f7f7f\">.gmail</span> <span style=\"color: #7f7f7f; text-decoration-color: #7f7f7f\">(call .init() to initialize)</span>               │\n",
       "│      <span style=\"color: #7f7f7f; text-decoration-color: #7f7f7f\">✗</span> <span style=\"color: #7f7f7f; text-decoration-color: #7f7f7f\">.gdrive_files</span> <span style=\"color: #7f7f7f; text-decoration-color: #7f7f7f\">(call .init() to initialize)</span>        │\n",
       "│      <span style=\"color: #7f7f7f; text-decoration-color: #7f7f7f\">✗</span> <span style=\"color: #7f7f7f; text-decoration-color: #7f7f7f\">.gsheets</span> <span style=\"color: #7f7f7f; text-decoration-color: #7f7f7f\">(call .init() to initialize)</span>             │\n",
       "│      <span style=\"color: #7f7f7f; text-decoration-color: #7f7f7f\">✗</span> <span style=\"color: #7f7f7f; text-decoration-color: #7f7f7f\">.gforms</span> <span style=\"color: #7f7f7f; text-decoration-color: #7f7f7f\">(call .init() to initialize)</span>              │\n",
       "│                                                          │\n",
       "╰──────────────────────────────────────────────────────────╯\n",
       "</pre>\n"
      ],
      "text/plain": [
       "╭──────── SyftClient.email = 'liamtrask@gmail.com' ────────╮\n",
       "│                                                          │\n",
       "│  \u001b[2m.folder\u001b[0m = /Users/atrask/SyftBox/liamtrask_at_gmail_com  │\n",
       "│                                                          │\n",
       "│  \u001b[2m.platforms\u001b[0m                                              │\n",
       "│    \u001b[1;33m.google_personal\u001b[0m                                      │\n",
       "│      \u001b[2m✗\u001b[0m \u001b[2m.gmail\u001b[0m \u001b[2m(call .init() to initialize)\u001b[0m               │\n",
       "│      \u001b[2m✗\u001b[0m \u001b[2m.gdrive_files\u001b[0m \u001b[2m(call .init() to initialize)\u001b[0m        │\n",
       "│      \u001b[2m✗\u001b[0m \u001b[2m.gsheets\u001b[0m \u001b[2m(call .init() to initialize)\u001b[0m             │\n",
       "│      \u001b[2m✗\u001b[0m \u001b[2m.gforms\u001b[0m \u001b[2m(call .init() to initialize)\u001b[0m              │\n",
       "│                                                          │\n",
       "╰──────────────────────────────────────────────────────────╯\n"
      ]
     },
     "metadata": {},
     "output_type": "display_data"
    },
    {
     "data": {
      "text/plain": []
     },
     "execution_count": 4,
     "metadata": {},
     "output_type": "execute_result"
    }
   ],
   "source": [
    "client"
   ]
  },
  {
   "cell_type": "code",
   "execution_count": 5,
   "id": "ebd6f173-352f-4013-b7f8-fefd9ab055c3",
   "metadata": {},
   "outputs": [
    {
     "data": {
      "text/html": [
       "<pre style=\"white-space:pre;overflow-x:auto;line-height:normal;font-family:Menlo,'DejaVu Sans Mono',consolas,'Courier New',monospace\">╭─────────────────── Platforms ────────────────────╮\n",
       "│                                                  │\n",
       "│  <span style=\"color: #808000; text-decoration-color: #808000; font-weight: bold\">.google_personal</span>                                │\n",
       "│    <span style=\"color: #7f7f7f; text-decoration-color: #7f7f7f\">✗</span> <span style=\"color: #7f7f7f; text-decoration-color: #7f7f7f\">.gmail</span> <span style=\"color: #7f7f7f; text-decoration-color: #7f7f7f\">(call .init() to initialize)</span>         │\n",
       "│    <span style=\"color: #7f7f7f; text-decoration-color: #7f7f7f\">✗</span> <span style=\"color: #7f7f7f; text-decoration-color: #7f7f7f\">.gdrive_files</span> <span style=\"color: #7f7f7f; text-decoration-color: #7f7f7f\">(call .init() to initialize)</span>  │\n",
       "│    <span style=\"color: #7f7f7f; text-decoration-color: #7f7f7f\">✗</span> <span style=\"color: #7f7f7f; text-decoration-color: #7f7f7f\">.gsheets</span> <span style=\"color: #7f7f7f; text-decoration-color: #7f7f7f\">(call .init() to initialize)</span>       │\n",
       "│    <span style=\"color: #7f7f7f; text-decoration-color: #7f7f7f\">✗</span> <span style=\"color: #7f7f7f; text-decoration-color: #7f7f7f\">.gforms</span> <span style=\"color: #7f7f7f; text-decoration-color: #7f7f7f\">(call .init() to initialize)</span>        │\n",
       "│                                                  │\n",
       "╰──────────────────────────────────────────────────╯\n",
       "</pre>\n"
      ],
      "text/plain": [
       "╭─────────────────── Platforms ────────────────────╮\n",
       "│                                                  │\n",
       "│  \u001b[1;33m.google_personal\u001b[0m                                │\n",
       "│    \u001b[2m✗\u001b[0m \u001b[2m.gmail\u001b[0m \u001b[2m(call .init() to initialize)\u001b[0m         │\n",
       "│    \u001b[2m✗\u001b[0m \u001b[2m.gdrive_files\u001b[0m \u001b[2m(call .init() to initialize)\u001b[0m  │\n",
       "│    \u001b[2m✗\u001b[0m \u001b[2m.gsheets\u001b[0m \u001b[2m(call .init() to initialize)\u001b[0m       │\n",
       "│    \u001b[2m✗\u001b[0m \u001b[2m.gforms\u001b[0m \u001b[2m(call .init() to initialize)\u001b[0m        │\n",
       "│                                                  │\n",
       "╰──────────────────────────────────────────────────╯\n"
      ]
     },
     "metadata": {},
     "output_type": "display_data"
    },
    {
     "data": {
      "text/plain": []
     },
     "execution_count": 5,
     "metadata": {},
     "output_type": "execute_result"
    }
   ],
   "source": [
    "client.platforms"
   ]
  },
  {
   "cell_type": "code",
   "execution_count": 6,
   "id": "8f956c56-406b-4775-b8eb-9ebf35d8b720",
   "metadata": {},
   "outputs": [
    {
     "data": {
      "text/html": [
       "<pre style=\"white-space:pre;overflow-x:auto;line-height:normal;font-family:Menlo,'DejaVu Sans Mono',consolas,'Courier New',monospace\">╭──────── GooglePersonalClient(email='liamtrask@gmail.com') ─────────╮\n",
       "│                                                                    │\n",
       "│  <span style=\"color: #7f7f7f; text-decoration-color: #7f7f7f; font-weight: bold\"> .gmail        </span><span style=\"color: #7f7f7f; text-decoration-color: #7f7f7f\"> ○         </span><span style=\"color: #bfbf7f; text-decoration-color: #bfbf7f\">0 steps</span><span style=\"color: #7f7f7f; text-decoration-color: #7f7f7f\">       keystore,               </span>  │\n",
       "│  <span style=\"color: #7f7f7f; text-decoration-color: #7f7f7f; font-weight: bold\">               </span><span style=\"color: #7f7f7f; text-decoration-color: #7f7f7f\">                         notifications, HTML     </span>  │\n",
       "│  <span style=\"color: #7f7f7f; text-decoration-color: #7f7f7f; font-weight: bold\"> .gdrive_files </span><span style=\"color: #7f7f7f; text-decoration-color: #7f7f7f\"> ○         </span><span style=\"color: #bfbf7f; text-decoration-color: #bfbf7f\">0 steps</span><span style=\"color: #7f7f7f; text-decoration-color: #7f7f7f\">       keystore, public        </span>  │\n",
       "│  <span style=\"color: #7f7f7f; text-decoration-color: #7f7f7f; font-weight: bold\">               </span><span style=\"color: #7f7f7f; text-decoration-color: #7f7f7f\">                         sharing                 </span>  │\n",
       "│  <span style=\"color: #7f7f7f; text-decoration-color: #7f7f7f; font-weight: bold\"> .gsheets      </span><span style=\"color: #7f7f7f; text-decoration-color: #7f7f7f\"> ○         </span><span style=\"color: #bfbf7f; text-decoration-color: #bfbf7f\">0 steps</span><span style=\"color: #7f7f7f; text-decoration-color: #7f7f7f\">       keystore, public        </span>  │\n",
       "│  <span style=\"color: #7f7f7f; text-decoration-color: #7f7f7f; font-weight: bold\">               </span><span style=\"color: #7f7f7f; text-decoration-color: #7f7f7f\">                         sharing                 </span>  │\n",
       "│  <span style=\"color: #7f7f7f; text-decoration-color: #7f7f7f; font-weight: bold\"> .gforms       </span><span style=\"color: #7f7f7f; text-decoration-color: #7f7f7f\"> ○         </span><span style=\"color: #bfbf7f; text-decoration-color: #bfbf7f\">0 steps</span><span style=\"color: #7f7f7f; text-decoration-color: #7f7f7f\">       HTML                    </span>  │\n",
       "│                                                                    │\n",
       "╰────────────────────────────────────────────────────────────────────╯\n",
       "</pre>\n"
      ],
      "text/plain": [
       "╭──────── GooglePersonalClient(email='liamtrask@gmail.com') ─────────╮\n",
       "│                                                                    │\n",
       "│  \u001b[1;2m \u001b[0m\u001b[1;2m.gmail       \u001b[0m\u001b[1;2m \u001b[0m\u001b[2m \u001b[0m\u001b[2m○\u001b[0m\u001b[2m       \u001b[0m\u001b[2m \u001b[0m\u001b[2m \u001b[0m\u001b[2;33m0 steps\u001b[0m\u001b[2m     \u001b[0m\u001b[2m \u001b[0m\u001b[2m \u001b[0m\u001b[2mkeystore,              \u001b[0m\u001b[2m \u001b[0m  │\n",
       "│  \u001b[1;2m               \u001b[0m\u001b[2m          \u001b[0m\u001b[2m              \u001b[0m\u001b[2m \u001b[0m\u001b[2mnotifications, HTML    \u001b[0m\u001b[2m \u001b[0m  │\n",
       "│  \u001b[1;2m \u001b[0m\u001b[1;2m.gdrive_files\u001b[0m\u001b[1;2m \u001b[0m\u001b[2m \u001b[0m\u001b[2m○\u001b[0m\u001b[2m       \u001b[0m\u001b[2m \u001b[0m\u001b[2m \u001b[0m\u001b[2;33m0 steps\u001b[0m\u001b[2m     \u001b[0m\u001b[2m \u001b[0m\u001b[2m \u001b[0m\u001b[2mkeystore, public       \u001b[0m\u001b[2m \u001b[0m  │\n",
       "│  \u001b[1;2m               \u001b[0m\u001b[2m          \u001b[0m\u001b[2m              \u001b[0m\u001b[2m \u001b[0m\u001b[2msharing                \u001b[0m\u001b[2m \u001b[0m  │\n",
       "│  \u001b[1;2m \u001b[0m\u001b[1;2m.gsheets     \u001b[0m\u001b[1;2m \u001b[0m\u001b[2m \u001b[0m\u001b[2m○\u001b[0m\u001b[2m       \u001b[0m\u001b[2m \u001b[0m\u001b[2m \u001b[0m\u001b[2;33m0 steps\u001b[0m\u001b[2m     \u001b[0m\u001b[2m \u001b[0m\u001b[2m \u001b[0m\u001b[2mkeystore, public       \u001b[0m\u001b[2m \u001b[0m  │\n",
       "│  \u001b[1;2m               \u001b[0m\u001b[2m          \u001b[0m\u001b[2m              \u001b[0m\u001b[2m \u001b[0m\u001b[2msharing                \u001b[0m\u001b[2m \u001b[0m  │\n",
       "│  \u001b[1;2m \u001b[0m\u001b[1;2m.gforms      \u001b[0m\u001b[1;2m \u001b[0m\u001b[2m \u001b[0m\u001b[2m○\u001b[0m\u001b[2m       \u001b[0m\u001b[2m \u001b[0m\u001b[2m \u001b[0m\u001b[2;33m0 steps\u001b[0m\u001b[2m     \u001b[0m\u001b[2m \u001b[0m\u001b[2m \u001b[0m\u001b[2mHTML                   \u001b[0m\u001b[2m \u001b[0m  │\n",
       "│                                                                    │\n",
       "╰────────────────────────────────────────────────────────────────────╯\n"
      ]
     },
     "metadata": {},
     "output_type": "display_data"
    },
    {
     "data": {
      "text/plain": []
     },
     "execution_count": 6,
     "metadata": {},
     "output_type": "execute_result"
    }
   ],
   "source": [
    "client.platforms.google_personal"
   ]
  },
  {
   "cell_type": "code",
   "execution_count": 7,
   "id": "4599b3ce-81c8-4008-b4ee-51b5a5aa722c",
   "metadata": {},
   "outputs": [
    {
     "data": {
      "text/plain": [
       "<syft_client.platforms.google_personal.client.GooglePersonalClient._create_transport_stubs.<locals>.UninitializedTransport at 0x1134ff920>"
      ]
     },
     "execution_count": 7,
     "metadata": {},
     "output_type": "execute_result"
    }
   ],
   "source": [
    "client.platforms.google_personal.gmail"
   ]
  },
  {
   "cell_type": "markdown",
   "id": "f565fe25-fabd-4e99-b0a3-12395b176727",
   "metadata": {},
   "source": [
    "# Test 4: Test that gmail doesn't work (cuz not initialized)"
   ]
  },
  {
   "cell_type": "code",
   "execution_count": 6,
   "id": "cac8a93c-bdcc-40c1-a973-ce62d3da301f",
   "metadata": {},
   "outputs": [
    {
     "ename": "RuntimeError",
     "evalue": "Transport 'gmail' is not initialized. Please call .init() first.",
     "output_type": "error",
     "traceback": [
      "\u001b[31m---------------------------------------------------------------------------\u001b[39m",
      "\u001b[31mRuntimeError\u001b[39m                              Traceback (most recent call last)",
      "\u001b[36mCell\u001b[39m\u001b[36m \u001b[39m\u001b[32mIn[6]\u001b[39m\u001b[32m, line 1\u001b[39m\n\u001b[32m----> \u001b[39m\u001b[32m1\u001b[39m \u001b[43mclient\u001b[49m\u001b[43m.\u001b[49m\u001b[43mplatforms\u001b[49m\u001b[43m.\u001b[49m\u001b[43mgoogle_personal\u001b[49m\u001b[43m.\u001b[49m\u001b[43mgmail\u001b[49m\u001b[43m.\u001b[49m\u001b[43mtest\u001b[49m(\u001b[33m\"\u001b[39m\u001b[33mabc123\u001b[39m\u001b[33m\"\u001b[39m)\n",
      "\u001b[36mFile \u001b[39m\u001b[32m~/Desktop/Laboratory/syft-client/test_notebooks/../syft_client/platforms/google_personal/client.py:200\u001b[39m, in \u001b[36mGooglePersonalClient._create_transport_stubs.<locals>.UninitializedTransport.__getattr__\u001b[39m\u001b[34m(self, name)\u001b[39m\n\u001b[32m    198\u001b[39m     \u001b[38;5;28;01mreturn\u001b[39;00m \u001b[38;5;28mobject\u001b[39m.\u001b[34m__getattribute__\u001b[39m(\u001b[38;5;28mself\u001b[39m, name)\n\u001b[32m    199\u001b[39m \u001b[38;5;28;01mif\u001b[39;00m \u001b[38;5;129;01mnot\u001b[39;00m \u001b[38;5;28mself\u001b[39m._setup_called:\n\u001b[32m--> \u001b[39m\u001b[32m200\u001b[39m     \u001b[38;5;28;01mraise\u001b[39;00m \u001b[38;5;167;01mRuntimeError\u001b[39;00m(\u001b[33mf\u001b[39m\u001b[33m\"\u001b[39m\u001b[33mTransport \u001b[39m\u001b[33m'\u001b[39m\u001b[38;5;132;01m{\u001b[39;00m\u001b[38;5;28mself\u001b[39m._transport_name\u001b[38;5;132;01m}\u001b[39;00m\u001b[33m'\u001b[39m\u001b[33m is not initialized. Please call .init() first.\u001b[39m\u001b[33m\"\u001b[39m)\n\u001b[32m    201\u001b[39m \u001b[38;5;28;01mif\u001b[39;00m \u001b[38;5;28mself\u001b[39m._real_transport:\n\u001b[32m    202\u001b[39m     \u001b[38;5;28;01mreturn\u001b[39;00m \u001b[38;5;28mgetattr\u001b[39m(\u001b[38;5;28mself\u001b[39m._real_transport, name)\n",
      "\u001b[31mRuntimeError\u001b[39m: Transport 'gmail' is not initialized. Please call .init() first."
     ]
    }
   ],
   "source": [
    "client.platforms.google_personal.gmail.test(\"abc123\")"
   ]
  },
  {
   "cell_type": "markdown",
   "id": "baabf58a-e833-4890-8754-25c868e27cb2",
   "metadata": {},
   "source": [
    "# Test 5: Test that gmail initializes with useful printing about what to do next"
   ]
  },
  {
   "cell_type": "code",
   "execution_count": 7,
   "id": "82bd3e86-ee1c-4d33-b7e2-84c31acbce5f",
   "metadata": {},
   "outputs": [
    {
     "name": "stdout",
     "output_type": "stream",
     "text": [
      "\n",
      "Initializing gmail transport...\n",
      "  • Creating gmail transport instance...\n",
      "  • Setting up with OAuth2 credentials...\n",
      "  ✓ OAuth2 credentials configured\n",
      "\n"
     ]
    },
    {
     "data": {
      "text/html": [
       "<pre style=\"white-space:pre;overflow-x:auto;line-height:normal;font-family:Menlo,'DejaVu Sans Mono',consolas,'Courier New',monospace\"><span style=\"color: #008000; text-decoration-color: #008000\">╭────────────────────────────────────────────────────╮</span>\n",
       "<span style=\"color: #008000; text-decoration-color: #008000\">│</span> <span style=\"color: #008000; text-decoration-color: #008000; font-weight: bold\">✓ gmail transport initialized successfully!</span>        <span style=\"color: #008000; text-decoration-color: #008000\">│</span>\n",
       "<span style=\"color: #008000; text-decoration-color: #008000\">│</span>                                                    <span style=\"color: #008000; text-decoration-color: #008000\">│</span>\n",
       "<span style=\"color: #008000; text-decoration-color: #008000\">│</span> <span style=\"font-weight: bold\">What you can do now:</span>                               <span style=\"color: #008000; text-decoration-color: #008000\">│</span>\n",
       "<span style=\"color: #008000; text-decoration-color: #008000\">│</span>   • Send emails: <span style=\"color: #008080; text-decoration-color: #008080\">.send(recipient, data, subject)</span>   <span style=\"color: #008000; text-decoration-color: #008000\">│</span>\n",
       "<span style=\"color: #008000; text-decoration-color: #008000\">│</span>   • Read emails: <span style=\"color: #008080; text-decoration-color: #008080\">.receive(limit=10)</span>                <span style=\"color: #008000; text-decoration-color: #008000\">│</span>\n",
       "<span style=\"color: #008000; text-decoration-color: #008000\">│</span>   • Test setup: <span style=\"color: #008080; text-decoration-color: #008080\">.test()</span>                            <span style=\"color: #008000; text-decoration-color: #008000\">│</span>\n",
       "<span style=\"color: #008000; text-decoration-color: #008000\">│</span>                                                    <span style=\"color: #008000; text-decoration-color: #008000\">│</span>\n",
       "<span style=\"color: #008000; text-decoration-color: #008000\">│</span> <span style=\"color: #7f7f7f; text-decoration-color: #7f7f7f\">Access via: client.platforms.google_personal.gmail</span> <span style=\"color: #008000; text-decoration-color: #008000\">│</span>\n",
       "<span style=\"color: #008000; text-decoration-color: #008000\">╰────────────────────────────────────────────────────╯</span>\n",
       "</pre>\n"
      ],
      "text/plain": [
       "\u001b[32m╭────────────────────────────────────────────────────╮\u001b[0m\n",
       "\u001b[32m│\u001b[0m \u001b[1;32m✓ gmail transport initialized successfully!\u001b[0m        \u001b[32m│\u001b[0m\n",
       "\u001b[32m│\u001b[0m                                                    \u001b[32m│\u001b[0m\n",
       "\u001b[32m│\u001b[0m \u001b[1mWhat you can do now:\u001b[0m                               \u001b[32m│\u001b[0m\n",
       "\u001b[32m│\u001b[0m   • Send emails: \u001b[36m.send(recipient, data, subject)\u001b[0m   \u001b[32m│\u001b[0m\n",
       "\u001b[32m│\u001b[0m   • Read emails: \u001b[36m.receive(limit=10)\u001b[0m                \u001b[32m│\u001b[0m\n",
       "\u001b[32m│\u001b[0m   • Test setup: \u001b[36m.test()\u001b[0m                            \u001b[32m│\u001b[0m\n",
       "\u001b[32m│\u001b[0m                                                    \u001b[32m│\u001b[0m\n",
       "\u001b[32m│\u001b[0m \u001b[2mAccess via: client.platforms.google_personal.gmail\u001b[0m \u001b[32m│\u001b[0m\n",
       "\u001b[32m╰────────────────────────────────────────────────────╯\u001b[0m\n"
      ]
     },
     "metadata": {},
     "output_type": "display_data"
    },
    {
     "data": {
      "text/plain": [
       "True"
      ]
     },
     "execution_count": 7,
     "metadata": {},
     "output_type": "execute_result"
    }
   ],
   "source": [
    "client.platforms.google_personal.gmail.init()"
   ]
  },
  {
   "cell_type": "markdown",
   "id": "9e1e5657-2524-450c-a9db-7d1667c4ee0b",
   "metadata": {},
   "source": [
    "# Test 6: Test that calling .init() again fails gracefully"
   ]
  },
  {
   "cell_type": "code",
   "execution_count": 8,
   "id": "0c8a43df-e623-4fc5-bde3-91f0554ec7a0",
   "metadata": {},
   "outputs": [
    {
     "data": {
      "text/html": [
       "<pre style=\"white-space:pre;overflow-x:auto;line-height:normal;font-family:Menlo,'DejaVu Sans Mono',consolas,'Courier New',monospace\"><span style=\"color: #008000; text-decoration-color: #008000\">╭────────────────────────────────────────────────────╮</span>\n",
       "<span style=\"color: #008000; text-decoration-color: #008000\">│</span> <span style=\"color: #008000; text-decoration-color: #008000; font-weight: bold\">✓ gmail transport is already initialized!</span>          <span style=\"color: #008000; text-decoration-color: #008000\">│</span>\n",
       "<span style=\"color: #008000; text-decoration-color: #008000\">│</span>                                                    <span style=\"color: #008000; text-decoration-color: #008000\">│</span>\n",
       "<span style=\"color: #008000; text-decoration-color: #008000\">│</span> No action needed - this transport is ready to use. <span style=\"color: #008000; text-decoration-color: #008000\">│</span>\n",
       "<span style=\"color: #008000; text-decoration-color: #008000\">│</span>                                                    <span style=\"color: #008000; text-decoration-color: #008000\">│</span>\n",
       "<span style=\"color: #008000; text-decoration-color: #008000\">│</span> <span style=\"font-weight: bold\">Available methods:</span>                                 <span style=\"color: #008000; text-decoration-color: #008000\">│</span>\n",
       "<span style=\"color: #008000; text-decoration-color: #008000\">│</span>   • Send emails: <span style=\"color: #008080; text-decoration-color: #008080\">.send(recipient, data, subject)</span>   <span style=\"color: #008000; text-decoration-color: #008000\">│</span>\n",
       "<span style=\"color: #008000; text-decoration-color: #008000\">│</span>   • Read emails: <span style=\"color: #008080; text-decoration-color: #008080\">.receive(limit=10)</span>                <span style=\"color: #008000; text-decoration-color: #008000\">│</span>\n",
       "<span style=\"color: #008000; text-decoration-color: #008000\">│</span>   • Test setup: <span style=\"color: #008080; text-decoration-color: #008080\">.test()</span>                            <span style=\"color: #008000; text-decoration-color: #008000\">│</span>\n",
       "<span style=\"color: #008000; text-decoration-color: #008000\">│</span>                                                    <span style=\"color: #008000; text-decoration-color: #008000\">│</span>\n",
       "<span style=\"color: #008000; text-decoration-color: #008000\">│</span> <span style=\"color: #7f7f7f; text-decoration-color: #7f7f7f\">Access via: client.platforms.google_personal.gmail</span> <span style=\"color: #008000; text-decoration-color: #008000\">│</span>\n",
       "<span style=\"color: #008000; text-decoration-color: #008000\">╰────────────────────────────────────────────────────╯</span>\n",
       "</pre>\n"
      ],
      "text/plain": [
       "\u001b[32m╭────────────────────────────────────────────────────╮\u001b[0m\n",
       "\u001b[32m│\u001b[0m \u001b[1;32m✓ gmail transport is already initialized!\u001b[0m          \u001b[32m│\u001b[0m\n",
       "\u001b[32m│\u001b[0m                                                    \u001b[32m│\u001b[0m\n",
       "\u001b[32m│\u001b[0m No action needed - this transport is ready to use. \u001b[32m│\u001b[0m\n",
       "\u001b[32m│\u001b[0m                                                    \u001b[32m│\u001b[0m\n",
       "\u001b[32m│\u001b[0m \u001b[1mAvailable methods:\u001b[0m                                 \u001b[32m│\u001b[0m\n",
       "\u001b[32m│\u001b[0m   • Send emails: \u001b[36m.send(recipient, data, subject)\u001b[0m   \u001b[32m│\u001b[0m\n",
       "\u001b[32m│\u001b[0m   • Read emails: \u001b[36m.receive(limit=10)\u001b[0m                \u001b[32m│\u001b[0m\n",
       "\u001b[32m│\u001b[0m   • Test setup: \u001b[36m.test()\u001b[0m                            \u001b[32m│\u001b[0m\n",
       "\u001b[32m│\u001b[0m                                                    \u001b[32m│\u001b[0m\n",
       "\u001b[32m│\u001b[0m \u001b[2mAccess via: client.platforms.google_personal.gmail\u001b[0m \u001b[32m│\u001b[0m\n",
       "\u001b[32m╰────────────────────────────────────────────────────╯\u001b[0m\n"
      ]
     },
     "metadata": {},
     "output_type": "display_data"
    },
    {
     "data": {
      "text/plain": [
       "True"
      ]
     },
     "execution_count": 8,
     "metadata": {},
     "output_type": "execute_result"
    }
   ],
   "source": [
    "client.platforms.google_personal.gmail.init()"
   ]
  },
  {
   "cell_type": "markdown",
   "id": "806a6762-b006-4d5c-b7df-7779e2139d00",
   "metadata": {},
   "source": [
    "# Test 7: Test that sending emails works again"
   ]
  },
  {
   "cell_type": "code",
   "execution_count": 9,
   "id": "4aa4094b-aa77-4c34-abe2-168511c9a511",
   "metadata": {},
   "outputs": [
    {
     "name": "stdout",
     "output_type": "stream",
     "text": [
      "✅ Gmail test successful! Email sent to liamtrask@gmail.com\n"
     ]
    },
    {
     "data": {
      "text/plain": [
       "{'success': True,\n",
       " 'url': 'https://mail.google.com/mail/?authuser=liamtrask%40gmail.com#search/from%3Aliamtrask%40gmail.com%20subject%3A%22Test%20Email%20-%20abc123%22'}"
      ]
     },
     "execution_count": 9,
     "metadata": {},
     "output_type": "execute_result"
    }
   ],
   "source": [
    "client.platforms.google_personal.gmail.test(\"abc123\", cleanup=False)"
   ]
  },
  {
   "cell_type": "markdown",
   "id": "72d80a41-a7e4-4c05-aa57-c9edaa8a6ad9",
   "metadata": {},
   "source": [
    "# Test 8: Test that sending emails cleans up correctly"
   ]
  },
  {
   "cell_type": "code",
   "execution_count": 10,
   "id": "b758a99e-3d58-46fa-ae07-70d46d9dad94",
   "metadata": {},
   "outputs": [
    {
     "name": "stdout",
     "output_type": "stream",
     "text": [
      "✅ Gmail test successful! Email sent to liamtrask@gmail.com\n",
      "   Email has been deleted as requested (re-run test(cleanup=False) to see the email yourself.)\n"
     ]
    },
    {
     "data": {
      "text/plain": [
       "{'success': True,\n",
       " 'url': 'https://mail.google.com/mail/?authuser=liamtrask%40gmail.com#search/from%3Aliamtrask%40gmail.com%20subject%3A%22Test%20Email%20-%20abc123%22'}"
      ]
     },
     "execution_count": 10,
     "metadata": {},
     "output_type": "execute_result"
    }
   ],
   "source": [
    "client.platforms.google_personal.gmail.test(\"abc123\")"
   ]
  },
  {
   "cell_type": "markdown",
   "id": "06f83731-453c-4a61-b14d-b8890db58eda",
   "metadata": {},
   "source": [
    "# Test 9: Test that other transports still don't work (only initialized one)"
   ]
  },
  {
   "cell_type": "code",
   "execution_count": 11,
   "id": "065a88cc-c6c6-4ac4-af8f-8ab39d50905e",
   "metadata": {},
   "outputs": [
    {
     "ename": "RuntimeError",
     "evalue": "Transport 'gdrive_files' is not initialized. Please call .init() first.",
     "output_type": "error",
     "traceback": [
      "\u001b[31m---------------------------------------------------------------------------\u001b[39m",
      "\u001b[31mRuntimeError\u001b[39m                              Traceback (most recent call last)",
      "\u001b[36mCell\u001b[39m\u001b[36m \u001b[39m\u001b[32mIn[11]\u001b[39m\u001b[32m, line 2\u001b[39m\n\u001b[32m      1\u001b[39m \u001b[38;5;66;03m# make sure the other ones still don't work\u001b[39;00m\n\u001b[32m----> \u001b[39m\u001b[32m2\u001b[39m \u001b[43mclient\u001b[49m\u001b[43m.\u001b[49m\u001b[43mplatforms\u001b[49m\u001b[43m.\u001b[49m\u001b[43mgoogle_personal\u001b[49m\u001b[43m.\u001b[49m\u001b[43mgdrive_files\u001b[49m\u001b[43m.\u001b[49m\u001b[43mtest\u001b[49m(\u001b[33m\"\u001b[39m\u001b[33mabc123\u001b[39m\u001b[33m\"\u001b[39m, cleanup=\u001b[38;5;28;01mFalse\u001b[39;00m)\n",
      "\u001b[36mFile \u001b[39m\u001b[32m~/Desktop/Laboratory/syft-client/test_notebooks/../syft_client/platforms/google_personal/client.py:200\u001b[39m, in \u001b[36mGooglePersonalClient._create_transport_stubs.<locals>.UninitializedTransport.__getattr__\u001b[39m\u001b[34m(self, name)\u001b[39m\n\u001b[32m    198\u001b[39m     \u001b[38;5;28;01mreturn\u001b[39;00m \u001b[38;5;28mobject\u001b[39m.\u001b[34m__getattribute__\u001b[39m(\u001b[38;5;28mself\u001b[39m, name)\n\u001b[32m    199\u001b[39m \u001b[38;5;28;01mif\u001b[39;00m \u001b[38;5;129;01mnot\u001b[39;00m \u001b[38;5;28mself\u001b[39m._setup_called:\n\u001b[32m--> \u001b[39m\u001b[32m200\u001b[39m     \u001b[38;5;28;01mraise\u001b[39;00m \u001b[38;5;167;01mRuntimeError\u001b[39;00m(\u001b[33mf\u001b[39m\u001b[33m\"\u001b[39m\u001b[33mTransport \u001b[39m\u001b[33m'\u001b[39m\u001b[38;5;132;01m{\u001b[39;00m\u001b[38;5;28mself\u001b[39m._transport_name\u001b[38;5;132;01m}\u001b[39;00m\u001b[33m'\u001b[39m\u001b[33m is not initialized. Please call .init() first.\u001b[39m\u001b[33m\"\u001b[39m)\n\u001b[32m    201\u001b[39m \u001b[38;5;28;01mif\u001b[39;00m \u001b[38;5;28mself\u001b[39m._real_transport:\n\u001b[32m    202\u001b[39m     \u001b[38;5;28;01mreturn\u001b[39;00m \u001b[38;5;28mgetattr\u001b[39m(\u001b[38;5;28mself\u001b[39m._real_transport, name)\n",
      "\u001b[31mRuntimeError\u001b[39m: Transport 'gdrive_files' is not initialized. Please call .init() first."
     ]
    }
   ],
   "source": [
    "# make sure the other ones still don't work\n",
    "client.platforms.google_personal.gdrive_files.test(\"abc123\", cleanup=False)"
   ]
  },
  {
   "cell_type": "code",
   "execution_count": 12,
   "id": "ff76a49a-44d7-4dad-be66-d4002d5c9f1f",
   "metadata": {},
   "outputs": [
    {
     "ename": "RuntimeError",
     "evalue": "Transport 'gsheets' is not initialized. Please call .init() first.",
     "output_type": "error",
     "traceback": [
      "\u001b[31m---------------------------------------------------------------------------\u001b[39m",
      "\u001b[31mRuntimeError\u001b[39m                              Traceback (most recent call last)",
      "\u001b[36mCell\u001b[39m\u001b[36m \u001b[39m\u001b[32mIn[12]\u001b[39m\u001b[32m, line 2\u001b[39m\n\u001b[32m      1\u001b[39m \u001b[38;5;66;03m# make sure the other ones still don't work\u001b[39;00m\n\u001b[32m----> \u001b[39m\u001b[32m2\u001b[39m \u001b[43mclient\u001b[49m\u001b[43m.\u001b[49m\u001b[43mplatforms\u001b[49m\u001b[43m.\u001b[49m\u001b[43mgoogle_personal\u001b[49m\u001b[43m.\u001b[49m\u001b[43mgsheets\u001b[49m\u001b[43m.\u001b[49m\u001b[43mtest\u001b[49m(\u001b[33m\"\u001b[39m\u001b[33mabc123\u001b[39m\u001b[33m\"\u001b[39m, cleanup=\u001b[38;5;28;01mFalse\u001b[39;00m)\n",
      "\u001b[36mFile \u001b[39m\u001b[32m~/Desktop/Laboratory/syft-client/test_notebooks/../syft_client/platforms/google_personal/client.py:200\u001b[39m, in \u001b[36mGooglePersonalClient._create_transport_stubs.<locals>.UninitializedTransport.__getattr__\u001b[39m\u001b[34m(self, name)\u001b[39m\n\u001b[32m    198\u001b[39m     \u001b[38;5;28;01mreturn\u001b[39;00m \u001b[38;5;28mobject\u001b[39m.\u001b[34m__getattribute__\u001b[39m(\u001b[38;5;28mself\u001b[39m, name)\n\u001b[32m    199\u001b[39m \u001b[38;5;28;01mif\u001b[39;00m \u001b[38;5;129;01mnot\u001b[39;00m \u001b[38;5;28mself\u001b[39m._setup_called:\n\u001b[32m--> \u001b[39m\u001b[32m200\u001b[39m     \u001b[38;5;28;01mraise\u001b[39;00m \u001b[38;5;167;01mRuntimeError\u001b[39;00m(\u001b[33mf\u001b[39m\u001b[33m\"\u001b[39m\u001b[33mTransport \u001b[39m\u001b[33m'\u001b[39m\u001b[38;5;132;01m{\u001b[39;00m\u001b[38;5;28mself\u001b[39m._transport_name\u001b[38;5;132;01m}\u001b[39;00m\u001b[33m'\u001b[39m\u001b[33m is not initialized. Please call .init() first.\u001b[39m\u001b[33m\"\u001b[39m)\n\u001b[32m    201\u001b[39m \u001b[38;5;28;01mif\u001b[39;00m \u001b[38;5;28mself\u001b[39m._real_transport:\n\u001b[32m    202\u001b[39m     \u001b[38;5;28;01mreturn\u001b[39;00m \u001b[38;5;28mgetattr\u001b[39m(\u001b[38;5;28mself\u001b[39m._real_transport, name)\n",
      "\u001b[31mRuntimeError\u001b[39m: Transport 'gsheets' is not initialized. Please call .init() first."
     ]
    }
   ],
   "source": [
    "# make sure the other ones still don't work\n",
    "client.platforms.google_personal.gsheets.test(\"abc123\", cleanup=False)"
   ]
  },
  {
   "cell_type": "code",
   "execution_count": 13,
   "id": "3f9ec2bc-6a53-4573-9c0b-8319d87ed2c9",
   "metadata": {},
   "outputs": [
    {
     "ename": "RuntimeError",
     "evalue": "Transport 'gforms' is not initialized. Please call .init() first.",
     "output_type": "error",
     "traceback": [
      "\u001b[31m---------------------------------------------------------------------------\u001b[39m",
      "\u001b[31mRuntimeError\u001b[39m                              Traceback (most recent call last)",
      "\u001b[36mCell\u001b[39m\u001b[36m \u001b[39m\u001b[32mIn[13]\u001b[39m\u001b[32m, line 2\u001b[39m\n\u001b[32m      1\u001b[39m \u001b[38;5;66;03m# make sure the other ones still don't work\u001b[39;00m\n\u001b[32m----> \u001b[39m\u001b[32m2\u001b[39m \u001b[43mclient\u001b[49m\u001b[43m.\u001b[49m\u001b[43mplatforms\u001b[49m\u001b[43m.\u001b[49m\u001b[43mgoogle_personal\u001b[49m\u001b[43m.\u001b[49m\u001b[43mgforms\u001b[49m\u001b[43m.\u001b[49m\u001b[43mtest\u001b[49m(\u001b[33m\"\u001b[39m\u001b[33mabc123\u001b[39m\u001b[33m\"\u001b[39m, cleanup=\u001b[38;5;28;01mFalse\u001b[39;00m)\n",
      "\u001b[36mFile \u001b[39m\u001b[32m~/Desktop/Laboratory/syft-client/test_notebooks/../syft_client/platforms/google_personal/client.py:200\u001b[39m, in \u001b[36mGooglePersonalClient._create_transport_stubs.<locals>.UninitializedTransport.__getattr__\u001b[39m\u001b[34m(self, name)\u001b[39m\n\u001b[32m    198\u001b[39m     \u001b[38;5;28;01mreturn\u001b[39;00m \u001b[38;5;28mobject\u001b[39m.\u001b[34m__getattribute__\u001b[39m(\u001b[38;5;28mself\u001b[39m, name)\n\u001b[32m    199\u001b[39m \u001b[38;5;28;01mif\u001b[39;00m \u001b[38;5;129;01mnot\u001b[39;00m \u001b[38;5;28mself\u001b[39m._setup_called:\n\u001b[32m--> \u001b[39m\u001b[32m200\u001b[39m     \u001b[38;5;28;01mraise\u001b[39;00m \u001b[38;5;167;01mRuntimeError\u001b[39;00m(\u001b[33mf\u001b[39m\u001b[33m\"\u001b[39m\u001b[33mTransport \u001b[39m\u001b[33m'\u001b[39m\u001b[38;5;132;01m{\u001b[39;00m\u001b[38;5;28mself\u001b[39m._transport_name\u001b[38;5;132;01m}\u001b[39;00m\u001b[33m'\u001b[39m\u001b[33m is not initialized. Please call .init() first.\u001b[39m\u001b[33m\"\u001b[39m)\n\u001b[32m    201\u001b[39m \u001b[38;5;28;01mif\u001b[39;00m \u001b[38;5;28mself\u001b[39m._real_transport:\n\u001b[32m    202\u001b[39m     \u001b[38;5;28;01mreturn\u001b[39;00m \u001b[38;5;28mgetattr\u001b[39m(\u001b[38;5;28mself\u001b[39m._real_transport, name)\n",
      "\u001b[31mRuntimeError\u001b[39m: Transport 'gforms' is not initialized. Please call .init() first."
     ]
    }
   ],
   "source": [
    "# make sure the other ones still don't work\n",
    "client.platforms.google_personal.gforms.test(\"abc123\", cleanup=False)"
   ]
  },
  {
   "cell_type": "markdown",
   "id": "7f9c9d2b-1b39-41bf-8deb-96c0d84fc523",
   "metadata": {},
   "source": [
    "# Test 10: Test that client.__repr__ shows that only gmail is initialized"
   ]
  },
  {
   "cell_type": "code",
   "execution_count": 14,
   "id": "1dbf121f-2926-4cc9-892d-48267bbd4f72",
   "metadata": {},
   "outputs": [
    {
     "data": {
      "text/html": [
       "<pre style=\"white-space:pre;overflow-x:auto;line-height:normal;font-family:Menlo,'DejaVu Sans Mono',consolas,'Courier New',monospace\">╭──────── SyftClient.email = 'liamtrask@gmail.com' ────────╮\n",
       "│                                                          │\n",
       "│  <span style=\"color: #7f7f7f; text-decoration-color: #7f7f7f\">.folder</span> = /Users/atrask/SyftBox/liamtrask_at_gmail_com  │\n",
       "│                                                          │\n",
       "│  <span style=\"color: #7f7f7f; text-decoration-color: #7f7f7f\">.platforms</span>                                              │\n",
       "│    <span style=\"color: #808000; text-decoration-color: #808000; font-weight: bold\">.google_personal</span>                                      │\n",
       "│      <span style=\"color: #008000; text-decoration-color: #008000\">✓</span> <span style=\"color: #008000; text-decoration-color: #008000\">.gmail</span>                                            │\n",
       "│      <span style=\"color: #7f7f7f; text-decoration-color: #7f7f7f\">✗</span> <span style=\"color: #7f7f7f; text-decoration-color: #7f7f7f\">.gdrive_files</span> <span style=\"color: #7f7f7f; text-decoration-color: #7f7f7f\">(call .init() to initialize)</span>        │\n",
       "│      <span style=\"color: #7f7f7f; text-decoration-color: #7f7f7f\">✗</span> <span style=\"color: #7f7f7f; text-decoration-color: #7f7f7f\">.gsheets</span> <span style=\"color: #7f7f7f; text-decoration-color: #7f7f7f\">(call .init() to initialize)</span>             │\n",
       "│      <span style=\"color: #7f7f7f; text-decoration-color: #7f7f7f\">✗</span> <span style=\"color: #7f7f7f; text-decoration-color: #7f7f7f\">.gforms</span> <span style=\"color: #7f7f7f; text-decoration-color: #7f7f7f\">(call .init() to initialize)</span>              │\n",
       "│                                                          │\n",
       "╰──────────────────────────────────────────────────────────╯\n",
       "</pre>\n"
      ],
      "text/plain": [
       "╭──────── SyftClient.email = 'liamtrask@gmail.com' ────────╮\n",
       "│                                                          │\n",
       "│  \u001b[2m.folder\u001b[0m = /Users/atrask/SyftBox/liamtrask_at_gmail_com  │\n",
       "│                                                          │\n",
       "│  \u001b[2m.platforms\u001b[0m                                              │\n",
       "│    \u001b[1;33m.google_personal\u001b[0m                                      │\n",
       "│      \u001b[32m✓\u001b[0m \u001b[32m.gmail\u001b[0m                                            │\n",
       "│      \u001b[2m✗\u001b[0m \u001b[2m.gdrive_files\u001b[0m \u001b[2m(call .init() to initialize)\u001b[0m        │\n",
       "│      \u001b[2m✗\u001b[0m \u001b[2m.gsheets\u001b[0m \u001b[2m(call .init() to initialize)\u001b[0m             │\n",
       "│      \u001b[2m✗\u001b[0m \u001b[2m.gforms\u001b[0m \u001b[2m(call .init() to initialize)\u001b[0m              │\n",
       "│                                                          │\n",
       "╰──────────────────────────────────────────────────────────╯\n"
      ]
     },
     "metadata": {},
     "output_type": "display_data"
    },
    {
     "data": {
      "text/plain": []
     },
     "execution_count": 14,
     "metadata": {},
     "output_type": "execute_result"
    }
   ],
   "source": [
    "client"
   ]
  },
  {
   "cell_type": "markdown",
   "id": "8e8bcb40-12de-4ac0-b3d2-6331efd9f499",
   "metadata": {},
   "source": [
    "# Test 11: initialize gdrive and test"
   ]
  },
  {
   "cell_type": "code",
   "execution_count": 15,
   "id": "bfccecb4-d360-46f2-a686-28b232c4161a",
   "metadata": {},
   "outputs": [
    {
     "name": "stdout",
     "output_type": "stream",
     "text": [
      "\n",
      "Initializing gdrive_files transport...\n",
      "  • Creating gdrive_files transport instance...\n",
      "  • Setting up with OAuth2 credentials...\n",
      "  ✓ OAuth2 credentials configured\n",
      "\n"
     ]
    },
    {
     "data": {
      "text/html": [
       "<pre style=\"white-space:pre;overflow-x:auto;line-height:normal;font-family:Menlo,'DejaVu Sans Mono',consolas,'Courier New',monospace\"><span style=\"color: #008000; text-decoration-color: #008000\">╭───────────────────────────────────────────────────────────╮</span>\n",
       "<span style=\"color: #008000; text-decoration-color: #008000\">│</span> <span style=\"color: #008000; text-decoration-color: #008000; font-weight: bold\">✓ gdrive_files transport initialized successfully!</span>        <span style=\"color: #008000; text-decoration-color: #008000\">│</span>\n",
       "<span style=\"color: #008000; text-decoration-color: #008000\">│</span>                                                           <span style=\"color: #008000; text-decoration-color: #008000\">│</span>\n",
       "<span style=\"color: #008000; text-decoration-color: #008000\">│</span> <span style=\"font-weight: bold\">What you can do now:</span>                                      <span style=\"color: #008000; text-decoration-color: #008000\">│</span>\n",
       "<span style=\"color: #008000; text-decoration-color: #008000\">│</span>   • List files: <span style=\"color: #008080; text-decoration-color: #008080\">.list_files()</span>                             <span style=\"color: #008000; text-decoration-color: #008000\">│</span>\n",
       "<span style=\"color: #008000; text-decoration-color: #008000\">│</span>   • Upload file: <span style=\"color: #008080; text-decoration-color: #008080\">.upload_file(filepath)</span>                   <span style=\"color: #008000; text-decoration-color: #008000\">│</span>\n",
       "<span style=\"color: #008000; text-decoration-color: #008000\">│</span>   • Download file: <span style=\"color: #008080; text-decoration-color: #008080\">.download_file(file_id, save_path)</span>     <span style=\"color: #008000; text-decoration-color: #008000\">│</span>\n",
       "<span style=\"color: #008000; text-decoration-color: #008000\">│</span>                                                           <span style=\"color: #008000; text-decoration-color: #008000\">│</span>\n",
       "<span style=\"color: #008000; text-decoration-color: #008000\">│</span> <span style=\"color: #7f7f7f; text-decoration-color: #7f7f7f\">Access via: client.platforms.google_personal.gdrive_files</span> <span style=\"color: #008000; text-decoration-color: #008000\">│</span>\n",
       "<span style=\"color: #008000; text-decoration-color: #008000\">╰───────────────────────────────────────────────────────────╯</span>\n",
       "</pre>\n"
      ],
      "text/plain": [
       "\u001b[32m╭───────────────────────────────────────────────────────────╮\u001b[0m\n",
       "\u001b[32m│\u001b[0m \u001b[1;32m✓ gdrive_files transport initialized successfully!\u001b[0m        \u001b[32m│\u001b[0m\n",
       "\u001b[32m│\u001b[0m                                                           \u001b[32m│\u001b[0m\n",
       "\u001b[32m│\u001b[0m \u001b[1mWhat you can do now:\u001b[0m                                      \u001b[32m│\u001b[0m\n",
       "\u001b[32m│\u001b[0m   • List files: \u001b[36m.list_files()\u001b[0m                             \u001b[32m│\u001b[0m\n",
       "\u001b[32m│\u001b[0m   • Upload file: \u001b[36m.upload_file(filepath)\u001b[0m                   \u001b[32m│\u001b[0m\n",
       "\u001b[32m│\u001b[0m   • Download file: \u001b[36m.download_file(file_id, save_path)\u001b[0m     \u001b[32m│\u001b[0m\n",
       "\u001b[32m│\u001b[0m                                                           \u001b[32m│\u001b[0m\n",
       "\u001b[32m│\u001b[0m \u001b[2mAccess via: client.platforms.google_personal.gdrive_files\u001b[0m \u001b[32m│\u001b[0m\n",
       "\u001b[32m╰───────────────────────────────────────────────────────────╯\u001b[0m\n"
      ]
     },
     "metadata": {},
     "output_type": "display_data"
    },
    {
     "data": {
      "text/plain": [
       "True"
      ]
     },
     "execution_count": 15,
     "metadata": {},
     "output_type": "execute_result"
    }
   ],
   "source": [
    "client.platforms.google_personal.gdrive_files.init()"
   ]
  },
  {
   "cell_type": "code",
   "execution_count": 16,
   "id": "95e6d3b0-6b62-4ee3-a16f-62516c17ad77",
   "metadata": {},
   "outputs": [
    {
     "name": "stdout",
     "output_type": "stream",
     "text": [
      "✅ Google Drive test successful! File created in SyftClient\n"
     ]
    },
    {
     "data": {
      "text/plain": [
       "{'success': True,\n",
       " 'url': 'https://drive.google.com/file/d/1dzOKm4tP4HUNZFpCEmW0VOLXcoFn9qRM/view?usp=drivesdk'}"
      ]
     },
     "execution_count": 16,
     "metadata": {},
     "output_type": "execute_result"
    }
   ],
   "source": [
    "# test that gdrive_files worksa nd you can see the file\n",
    "client.platforms.google_personal.gdrive_files.test(\"abc123\", cleanup=False)"
   ]
  },
  {
   "cell_type": "code",
   "execution_count": 17,
   "id": "a6caaed0-ee31-4844-8711-e5151d1ee890",
   "metadata": {},
   "outputs": [
    {
     "data": {
      "text/html": [
       "<pre style=\"white-space:pre;overflow-x:auto;line-height:normal;font-family:Menlo,'DejaVu Sans Mono',consolas,'Courier New',monospace\">╭──────── SyftClient.email = 'liamtrask@gmail.com' ────────╮\n",
       "│                                                          │\n",
       "│  <span style=\"color: #7f7f7f; text-decoration-color: #7f7f7f\">.folder</span> = /Users/atrask/SyftBox/liamtrask_at_gmail_com  │\n",
       "│                                                          │\n",
       "│  <span style=\"color: #7f7f7f; text-decoration-color: #7f7f7f\">.platforms</span>                                              │\n",
       "│    <span style=\"color: #808000; text-decoration-color: #808000; font-weight: bold\">.google_personal</span>                                      │\n",
       "│      <span style=\"color: #008000; text-decoration-color: #008000\">✓</span> <span style=\"color: #008000; text-decoration-color: #008000\">.gmail</span>                                            │\n",
       "│      <span style=\"color: #008000; text-decoration-color: #008000\">✓</span> <span style=\"color: #008000; text-decoration-color: #008000\">.gdrive_files</span>                                     │\n",
       "│      <span style=\"color: #7f7f7f; text-decoration-color: #7f7f7f\">✗</span> <span style=\"color: #7f7f7f; text-decoration-color: #7f7f7f\">.gsheets</span> <span style=\"color: #7f7f7f; text-decoration-color: #7f7f7f\">(call .init() to initialize)</span>             │\n",
       "│      <span style=\"color: #7f7f7f; text-decoration-color: #7f7f7f\">✗</span> <span style=\"color: #7f7f7f; text-decoration-color: #7f7f7f\">.gforms</span> <span style=\"color: #7f7f7f; text-decoration-color: #7f7f7f\">(call .init() to initialize)</span>              │\n",
       "│                                                          │\n",
       "╰──────────────────────────────────────────────────────────╯\n",
       "</pre>\n"
      ],
      "text/plain": [
       "╭──────── SyftClient.email = 'liamtrask@gmail.com' ────────╮\n",
       "│                                                          │\n",
       "│  \u001b[2m.folder\u001b[0m = /Users/atrask/SyftBox/liamtrask_at_gmail_com  │\n",
       "│                                                          │\n",
       "│  \u001b[2m.platforms\u001b[0m                                              │\n",
       "│    \u001b[1;33m.google_personal\u001b[0m                                      │\n",
       "│      \u001b[32m✓\u001b[0m \u001b[32m.gmail\u001b[0m                                            │\n",
       "│      \u001b[32m✓\u001b[0m \u001b[32m.gdrive_files\u001b[0m                                     │\n",
       "│      \u001b[2m✗\u001b[0m \u001b[2m.gsheets\u001b[0m \u001b[2m(call .init() to initialize)\u001b[0m             │\n",
       "│      \u001b[2m✗\u001b[0m \u001b[2m.gforms\u001b[0m \u001b[2m(call .init() to initialize)\u001b[0m              │\n",
       "│                                                          │\n",
       "╰──────────────────────────────────────────────────────────╯\n"
      ]
     },
     "metadata": {},
     "output_type": "display_data"
    },
    {
     "data": {
      "text/plain": []
     },
     "execution_count": 17,
     "metadata": {},
     "output_type": "execute_result"
    }
   ],
   "source": [
    "# test that gdrive_Files shows up in client repr\n",
    "client"
   ]
  },
  {
   "cell_type": "code",
   "execution_count": 18,
   "id": "5a90fadf-89e9-47fc-8c5d-d8f32b79eed3",
   "metadata": {},
   "outputs": [
    {
     "data": {
      "text/html": [
       "<pre style=\"white-space:pre;overflow-x:auto;line-height:normal;font-family:Menlo,'DejaVu Sans Mono',consolas,'Courier New',monospace\"><span style=\"color: #008000; text-decoration-color: #008000\">╭──────────────────────────────────────────────────────────╮</span>\n",
       "<span style=\"color: #008000; text-decoration-color: #008000\">│</span> <span style=\"color: #008000; text-decoration-color: #008000; font-weight: bold\">✓ gdrivefiles transport is already initialized!</span>          <span style=\"color: #008000; text-decoration-color: #008000\">│</span>\n",
       "<span style=\"color: #008000; text-decoration-color: #008000\">│</span>                                                          <span style=\"color: #008000; text-decoration-color: #008000\">│</span>\n",
       "<span style=\"color: #008000; text-decoration-color: #008000\">│</span> No action needed - this transport is ready to use.       <span style=\"color: #008000; text-decoration-color: #008000\">│</span>\n",
       "<span style=\"color: #008000; text-decoration-color: #008000\">│</span>                                                          <span style=\"color: #008000; text-decoration-color: #008000\">│</span>\n",
       "<span style=\"color: #008000; text-decoration-color: #008000\">│</span> <span style=\"font-weight: bold\">Available methods:</span>                                       <span style=\"color: #008000; text-decoration-color: #008000\">│</span>\n",
       "<span style=\"color: #008000; text-decoration-color: #008000\">│</span>   • List files: <span style=\"color: #008080; text-decoration-color: #008080\">.list_files()</span>                            <span style=\"color: #008000; text-decoration-color: #008000\">│</span>\n",
       "<span style=\"color: #008000; text-decoration-color: #008000\">│</span>   • Upload file: <span style=\"color: #008080; text-decoration-color: #008080\">.upload_file(filepath)</span>                  <span style=\"color: #008000; text-decoration-color: #008000\">│</span>\n",
       "<span style=\"color: #008000; text-decoration-color: #008000\">│</span>   • Download file: <span style=\"color: #008080; text-decoration-color: #008080\">.download_file(file_id, save_path)</span>    <span style=\"color: #008000; text-decoration-color: #008000\">│</span>\n",
       "<span style=\"color: #008000; text-decoration-color: #008000\">│</span>                                                          <span style=\"color: #008000; text-decoration-color: #008000\">│</span>\n",
       "<span style=\"color: #008000; text-decoration-color: #008000\">│</span> <span style=\"color: #7f7f7f; text-decoration-color: #7f7f7f\">Access via: client.platforms.google_personal.gdrivefiles</span> <span style=\"color: #008000; text-decoration-color: #008000\">│</span>\n",
       "<span style=\"color: #008000; text-decoration-color: #008000\">╰──────────────────────────────────────────────────────────╯</span>\n",
       "</pre>\n"
      ],
      "text/plain": [
       "\u001b[32m╭──────────────────────────────────────────────────────────╮\u001b[0m\n",
       "\u001b[32m│\u001b[0m \u001b[1;32m✓ gdrivefiles transport is already initialized!\u001b[0m          \u001b[32m│\u001b[0m\n",
       "\u001b[32m│\u001b[0m                                                          \u001b[32m│\u001b[0m\n",
       "\u001b[32m│\u001b[0m No action needed - this transport is ready to use.       \u001b[32m│\u001b[0m\n",
       "\u001b[32m│\u001b[0m                                                          \u001b[32m│\u001b[0m\n",
       "\u001b[32m│\u001b[0m \u001b[1mAvailable methods:\u001b[0m                                       \u001b[32m│\u001b[0m\n",
       "\u001b[32m│\u001b[0m   • List files: \u001b[36m.list_files()\u001b[0m                            \u001b[32m│\u001b[0m\n",
       "\u001b[32m│\u001b[0m   • Upload file: \u001b[36m.upload_file(filepath)\u001b[0m                  \u001b[32m│\u001b[0m\n",
       "\u001b[32m│\u001b[0m   • Download file: \u001b[36m.download_file(file_id, save_path)\u001b[0m    \u001b[32m│\u001b[0m\n",
       "\u001b[32m│\u001b[0m                                                          \u001b[32m│\u001b[0m\n",
       "\u001b[32m│\u001b[0m \u001b[2mAccess via: client.platforms.google_personal.gdrivefiles\u001b[0m \u001b[32m│\u001b[0m\n",
       "\u001b[32m╰──────────────────────────────────────────────────────────╯\u001b[0m\n"
      ]
     },
     "metadata": {},
     "output_type": "display_data"
    },
    {
     "data": {
      "text/plain": [
       "True"
      ]
     },
     "execution_count": 18,
     "metadata": {},
     "output_type": "execute_result"
    }
   ],
   "source": [
    "# test that calling init twice fails gracefully\n",
    "client.platforms.google_personal.gdrive_files.init()"
   ]
  },
  {
   "cell_type": "code",
   "execution_count": 19,
   "id": "13c93908-b39b-4646-b731-f7d7035e715f",
   "metadata": {},
   "outputs": [
    {
     "ename": "RuntimeError",
     "evalue": "Transport 'gsheets' is not initialized. Please call .init() first.",
     "output_type": "error",
     "traceback": [
      "\u001b[31m---------------------------------------------------------------------------\u001b[39m",
      "\u001b[31mRuntimeError\u001b[39m                              Traceback (most recent call last)",
      "\u001b[36mCell\u001b[39m\u001b[36m \u001b[39m\u001b[32mIn[19]\u001b[39m\u001b[32m, line 2\u001b[39m\n\u001b[32m      1\u001b[39m \u001b[38;5;66;03m# make sure the other ones still don't work\u001b[39;00m\n\u001b[32m----> \u001b[39m\u001b[32m2\u001b[39m \u001b[43mclient\u001b[49m\u001b[43m.\u001b[49m\u001b[43mplatforms\u001b[49m\u001b[43m.\u001b[49m\u001b[43mgoogle_personal\u001b[49m\u001b[43m.\u001b[49m\u001b[43mgsheets\u001b[49m\u001b[43m.\u001b[49m\u001b[43mtest\u001b[49m(\u001b[33m\"\u001b[39m\u001b[33mabc123\u001b[39m\u001b[33m\"\u001b[39m, cleanup=\u001b[38;5;28;01mFalse\u001b[39;00m)\n",
      "\u001b[36mFile \u001b[39m\u001b[32m~/Desktop/Laboratory/syft-client/test_notebooks/../syft_client/platforms/google_personal/client.py:200\u001b[39m, in \u001b[36mGooglePersonalClient._create_transport_stubs.<locals>.UninitializedTransport.__getattr__\u001b[39m\u001b[34m(self, name)\u001b[39m\n\u001b[32m    198\u001b[39m     \u001b[38;5;28;01mreturn\u001b[39;00m \u001b[38;5;28mobject\u001b[39m.\u001b[34m__getattribute__\u001b[39m(\u001b[38;5;28mself\u001b[39m, name)\n\u001b[32m    199\u001b[39m \u001b[38;5;28;01mif\u001b[39;00m \u001b[38;5;129;01mnot\u001b[39;00m \u001b[38;5;28mself\u001b[39m._setup_called:\n\u001b[32m--> \u001b[39m\u001b[32m200\u001b[39m     \u001b[38;5;28;01mraise\u001b[39;00m \u001b[38;5;167;01mRuntimeError\u001b[39;00m(\u001b[33mf\u001b[39m\u001b[33m\"\u001b[39m\u001b[33mTransport \u001b[39m\u001b[33m'\u001b[39m\u001b[38;5;132;01m{\u001b[39;00m\u001b[38;5;28mself\u001b[39m._transport_name\u001b[38;5;132;01m}\u001b[39;00m\u001b[33m'\u001b[39m\u001b[33m is not initialized. Please call .init() first.\u001b[39m\u001b[33m\"\u001b[39m)\n\u001b[32m    201\u001b[39m \u001b[38;5;28;01mif\u001b[39;00m \u001b[38;5;28mself\u001b[39m._real_transport:\n\u001b[32m    202\u001b[39m     \u001b[38;5;28;01mreturn\u001b[39;00m \u001b[38;5;28mgetattr\u001b[39m(\u001b[38;5;28mself\u001b[39m._real_transport, name)\n",
      "\u001b[31mRuntimeError\u001b[39m: Transport 'gsheets' is not initialized. Please call .init() first."
     ]
    }
   ],
   "source": [
    "# make sure the other ones still don't work\n",
    "client.platforms.google_personal.gsheets.test(\"abc123\", cleanup=False)"
   ]
  },
  {
   "cell_type": "code",
   "execution_count": 20,
   "id": "121ec71f-8282-423b-850e-65d2d8cd8bc2",
   "metadata": {},
   "outputs": [
    {
     "ename": "RuntimeError",
     "evalue": "Transport 'gforms' is not initialized. Please call .init() first.",
     "output_type": "error",
     "traceback": [
      "\u001b[31m---------------------------------------------------------------------------\u001b[39m",
      "\u001b[31mRuntimeError\u001b[39m                              Traceback (most recent call last)",
      "\u001b[36mCell\u001b[39m\u001b[36m \u001b[39m\u001b[32mIn[20]\u001b[39m\u001b[32m, line 2\u001b[39m\n\u001b[32m      1\u001b[39m \u001b[38;5;66;03m# make sure the other ones still don't work\u001b[39;00m\n\u001b[32m----> \u001b[39m\u001b[32m2\u001b[39m \u001b[43mclient\u001b[49m\u001b[43m.\u001b[49m\u001b[43mplatforms\u001b[49m\u001b[43m.\u001b[49m\u001b[43mgoogle_personal\u001b[49m\u001b[43m.\u001b[49m\u001b[43mgforms\u001b[49m\u001b[43m.\u001b[49m\u001b[43mtest\u001b[49m(\u001b[33m\"\u001b[39m\u001b[33mabc123\u001b[39m\u001b[33m\"\u001b[39m, cleanup=\u001b[38;5;28;01mFalse\u001b[39;00m)\n",
      "\u001b[36mFile \u001b[39m\u001b[32m~/Desktop/Laboratory/syft-client/test_notebooks/../syft_client/platforms/google_personal/client.py:200\u001b[39m, in \u001b[36mGooglePersonalClient._create_transport_stubs.<locals>.UninitializedTransport.__getattr__\u001b[39m\u001b[34m(self, name)\u001b[39m\n\u001b[32m    198\u001b[39m     \u001b[38;5;28;01mreturn\u001b[39;00m \u001b[38;5;28mobject\u001b[39m.\u001b[34m__getattribute__\u001b[39m(\u001b[38;5;28mself\u001b[39m, name)\n\u001b[32m    199\u001b[39m \u001b[38;5;28;01mif\u001b[39;00m \u001b[38;5;129;01mnot\u001b[39;00m \u001b[38;5;28mself\u001b[39m._setup_called:\n\u001b[32m--> \u001b[39m\u001b[32m200\u001b[39m     \u001b[38;5;28;01mraise\u001b[39;00m \u001b[38;5;167;01mRuntimeError\u001b[39;00m(\u001b[33mf\u001b[39m\u001b[33m\"\u001b[39m\u001b[33mTransport \u001b[39m\u001b[33m'\u001b[39m\u001b[38;5;132;01m{\u001b[39;00m\u001b[38;5;28mself\u001b[39m._transport_name\u001b[38;5;132;01m}\u001b[39;00m\u001b[33m'\u001b[39m\u001b[33m is not initialized. Please call .init() first.\u001b[39m\u001b[33m\"\u001b[39m)\n\u001b[32m    201\u001b[39m \u001b[38;5;28;01mif\u001b[39;00m \u001b[38;5;28mself\u001b[39m._real_transport:\n\u001b[32m    202\u001b[39m     \u001b[38;5;28;01mreturn\u001b[39;00m \u001b[38;5;28mgetattr\u001b[39m(\u001b[38;5;28mself\u001b[39m._real_transport, name)\n",
      "\u001b[31mRuntimeError\u001b[39m: Transport 'gforms' is not initialized. Please call .init() first."
     ]
    }
   ],
   "source": [
    "# make sure the other ones still don't work\n",
    "client.platforms.google_personal.gforms.test(\"abc123\", cleanup=False)"
   ]
  },
  {
   "cell_type": "code",
   "execution_count": 21,
   "id": "34e520fb-1bd4-4b0b-9bf1-d943091d5022",
   "metadata": {},
   "outputs": [
    {
     "data": {
      "text/html": [
       "<pre style=\"white-space:pre;overflow-x:auto;line-height:normal;font-family:Menlo,'DejaVu Sans Mono',consolas,'Courier New',monospace\">╭──────── SyftClient.email = 'liamtrask@gmail.com' ────────╮\n",
       "│                                                          │\n",
       "│  <span style=\"color: #7f7f7f; text-decoration-color: #7f7f7f\">.folder</span> = /Users/atrask/SyftBox/liamtrask_at_gmail_com  │\n",
       "│                                                          │\n",
       "│  <span style=\"color: #7f7f7f; text-decoration-color: #7f7f7f\">.platforms</span>                                              │\n",
       "│    <span style=\"color: #808000; text-decoration-color: #808000; font-weight: bold\">.google_personal</span>                                      │\n",
       "│      <span style=\"color: #008000; text-decoration-color: #008000\">✓</span> <span style=\"color: #008000; text-decoration-color: #008000\">.gmail</span>                                            │\n",
       "│      <span style=\"color: #008000; text-decoration-color: #008000\">✓</span> <span style=\"color: #008000; text-decoration-color: #008000\">.gdrive_files</span>                                     │\n",
       "│      <span style=\"color: #7f7f7f; text-decoration-color: #7f7f7f\">✗</span> <span style=\"color: #7f7f7f; text-decoration-color: #7f7f7f\">.gsheets</span> <span style=\"color: #7f7f7f; text-decoration-color: #7f7f7f\">(call .init() to initialize)</span>             │\n",
       "│      <span style=\"color: #7f7f7f; text-decoration-color: #7f7f7f\">✗</span> <span style=\"color: #7f7f7f; text-decoration-color: #7f7f7f\">.gforms</span> <span style=\"color: #7f7f7f; text-decoration-color: #7f7f7f\">(call .init() to initialize)</span>              │\n",
       "│                                                          │\n",
       "╰──────────────────────────────────────────────────────────╯\n",
       "</pre>\n"
      ],
      "text/plain": [
       "╭──────── SyftClient.email = 'liamtrask@gmail.com' ────────╮\n",
       "│                                                          │\n",
       "│  \u001b[2m.folder\u001b[0m = /Users/atrask/SyftBox/liamtrask_at_gmail_com  │\n",
       "│                                                          │\n",
       "│  \u001b[2m.platforms\u001b[0m                                              │\n",
       "│    \u001b[1;33m.google_personal\u001b[0m                                      │\n",
       "│      \u001b[32m✓\u001b[0m \u001b[32m.gmail\u001b[0m                                            │\n",
       "│      \u001b[32m✓\u001b[0m \u001b[32m.gdrive_files\u001b[0m                                     │\n",
       "│      \u001b[2m✗\u001b[0m \u001b[2m.gsheets\u001b[0m \u001b[2m(call .init() to initialize)\u001b[0m             │\n",
       "│      \u001b[2m✗\u001b[0m \u001b[2m.gforms\u001b[0m \u001b[2m(call .init() to initialize)\u001b[0m              │\n",
       "│                                                          │\n",
       "╰──────────────────────────────────────────────────────────╯\n"
      ]
     },
     "metadata": {},
     "output_type": "display_data"
    },
    {
     "data": {
      "text/plain": []
     },
     "execution_count": 21,
     "metadata": {},
     "output_type": "execute_result"
    }
   ],
   "source": [
    "client"
   ]
  },
  {
   "cell_type": "markdown",
   "id": "9ad82135-c8ce-4ad9-8286-ef5fda68f2fd",
   "metadata": {},
   "source": [
    "# Test 11: initialize gsheets and test"
   ]
  },
  {
   "cell_type": "code",
   "execution_count": 22,
   "id": "0e5708bd-32ca-4342-83ac-e3abb96c244e",
   "metadata": {},
   "outputs": [
    {
     "name": "stdout",
     "output_type": "stream",
     "text": [
      "\n",
      "Initializing gsheets transport...\n",
      "  • Creating gsheets transport instance...\n",
      "  • Setting up with OAuth2 credentials...\n",
      "  ✓ OAuth2 credentials configured\n",
      "\n"
     ]
    },
    {
     "data": {
      "text/html": [
       "<pre style=\"white-space:pre;overflow-x:auto;line-height:normal;font-family:Menlo,'DejaVu Sans Mono',consolas,'Courier New',monospace\"><span style=\"color: #008000; text-decoration-color: #008000\">╭─────────────────────────────────────────────────────────────╮</span>\n",
       "<span style=\"color: #008000; text-decoration-color: #008000\">│</span> <span style=\"color: #008000; text-decoration-color: #008000; font-weight: bold\">✓ gsheets transport initialized successfully!</span>               <span style=\"color: #008000; text-decoration-color: #008000\">│</span>\n",
       "<span style=\"color: #008000; text-decoration-color: #008000\">│</span>                                                             <span style=\"color: #008000; text-decoration-color: #008000\">│</span>\n",
       "<span style=\"color: #008000; text-decoration-color: #008000\">│</span> <span style=\"font-weight: bold\">What you can do now:</span>                                        <span style=\"color: #008000; text-decoration-color: #008000\">│</span>\n",
       "<span style=\"color: #008000; text-decoration-color: #008000\">│</span>   • Read sheet: <span style=\"color: #008080; text-decoration-color: #008080\">.read_sheet(spreadsheet_id, range)</span>          <span style=\"color: #008000; text-decoration-color: #008000\">│</span>\n",
       "<span style=\"color: #008000; text-decoration-color: #008000\">│</span>   • Write data: <span style=\"color: #008080; text-decoration-color: #008080\">.write_sheet(spreadsheet_id, range, values)</span> <span style=\"color: #008000; text-decoration-color: #008000\">│</span>\n",
       "<span style=\"color: #008000; text-decoration-color: #008000\">│</span>   • Create sheet: <span style=\"color: #008080; text-decoration-color: #008080\">.create_sheet(title)</span>                      <span style=\"color: #008000; text-decoration-color: #008000\">│</span>\n",
       "<span style=\"color: #008000; text-decoration-color: #008000\">│</span>                                                             <span style=\"color: #008000; text-decoration-color: #008000\">│</span>\n",
       "<span style=\"color: #008000; text-decoration-color: #008000\">│</span> <span style=\"color: #7f7f7f; text-decoration-color: #7f7f7f\">Access via: client.platforms.google_personal.gsheets</span>        <span style=\"color: #008000; text-decoration-color: #008000\">│</span>\n",
       "<span style=\"color: #008000; text-decoration-color: #008000\">╰─────────────────────────────────────────────────────────────╯</span>\n",
       "</pre>\n"
      ],
      "text/plain": [
       "\u001b[32m╭─────────────────────────────────────────────────────────────╮\u001b[0m\n",
       "\u001b[32m│\u001b[0m \u001b[1;32m✓ gsheets transport initialized successfully!\u001b[0m               \u001b[32m│\u001b[0m\n",
       "\u001b[32m│\u001b[0m                                                             \u001b[32m│\u001b[0m\n",
       "\u001b[32m│\u001b[0m \u001b[1mWhat you can do now:\u001b[0m                                        \u001b[32m│\u001b[0m\n",
       "\u001b[32m│\u001b[0m   • Read sheet: \u001b[36m.read_sheet(spreadsheet_id, range)\u001b[0m          \u001b[32m│\u001b[0m\n",
       "\u001b[32m│\u001b[0m   • Write data: \u001b[36m.write_sheet(spreadsheet_id, range, values)\u001b[0m \u001b[32m│\u001b[0m\n",
       "\u001b[32m│\u001b[0m   • Create sheet: \u001b[36m.create_sheet(title)\u001b[0m                      \u001b[32m│\u001b[0m\n",
       "\u001b[32m│\u001b[0m                                                             \u001b[32m│\u001b[0m\n",
       "\u001b[32m│\u001b[0m \u001b[2mAccess via: client.platforms.google_personal.gsheets\u001b[0m        \u001b[32m│\u001b[0m\n",
       "\u001b[32m╰─────────────────────────────────────────────────────────────╯\u001b[0m\n"
      ]
     },
     "metadata": {},
     "output_type": "display_data"
    },
    {
     "data": {
      "text/plain": [
       "True"
      ]
     },
     "execution_count": 22,
     "metadata": {},
     "output_type": "execute_result"
    }
   ],
   "source": [
    "client.platforms.google_personal.gsheets.init()"
   ]
  },
  {
   "cell_type": "code",
   "execution_count": 23,
   "id": "63cbaa1c-9440-4ed7-8810-f266f371f678",
   "metadata": {},
   "outputs": [
    {
     "name": "stdout",
     "output_type": "stream",
     "text": [
      "✅ Google Sheets test successful! Spreadsheet created with test data\n"
     ]
    },
    {
     "data": {
      "text/plain": [
       "{'success': True,\n",
       " 'url': 'https://docs.google.com/spreadsheets/d/1GjbDsvpgs-BdKskRNVR8hDvoJdvPIIp7N-E8BEnLe60/edit'}"
      ]
     },
     "execution_count": 23,
     "metadata": {},
     "output_type": "execute_result"
    }
   ],
   "source": [
    "# test that gsheets worksa nd you can see the file\n",
    "client.platforms.google_personal.gsheets.test(\"abc123\", cleanup=False)"
   ]
  },
  {
   "cell_type": "code",
   "execution_count": 24,
   "id": "8c3d1ab7-1920-497c-b0fc-81b4b0850e78",
   "metadata": {},
   "outputs": [
    {
     "data": {
      "text/html": [
       "<pre style=\"white-space:pre;overflow-x:auto;line-height:normal;font-family:Menlo,'DejaVu Sans Mono',consolas,'Courier New',monospace\"><span style=\"color: #008000; text-decoration-color: #008000\">╭─────────────────────────────────────────────────────────────╮</span>\n",
       "<span style=\"color: #008000; text-decoration-color: #008000\">│</span> <span style=\"color: #008000; text-decoration-color: #008000; font-weight: bold\">✓ gsheets transport is already initialized!</span>                 <span style=\"color: #008000; text-decoration-color: #008000\">│</span>\n",
       "<span style=\"color: #008000; text-decoration-color: #008000\">│</span>                                                             <span style=\"color: #008000; text-decoration-color: #008000\">│</span>\n",
       "<span style=\"color: #008000; text-decoration-color: #008000\">│</span> No action needed - this transport is ready to use.          <span style=\"color: #008000; text-decoration-color: #008000\">│</span>\n",
       "<span style=\"color: #008000; text-decoration-color: #008000\">│</span>                                                             <span style=\"color: #008000; text-decoration-color: #008000\">│</span>\n",
       "<span style=\"color: #008000; text-decoration-color: #008000\">│</span> <span style=\"font-weight: bold\">Available methods:</span>                                          <span style=\"color: #008000; text-decoration-color: #008000\">│</span>\n",
       "<span style=\"color: #008000; text-decoration-color: #008000\">│</span>   • Read sheet: <span style=\"color: #008080; text-decoration-color: #008080\">.read_sheet(spreadsheet_id, range)</span>          <span style=\"color: #008000; text-decoration-color: #008000\">│</span>\n",
       "<span style=\"color: #008000; text-decoration-color: #008000\">│</span>   • Write data: <span style=\"color: #008080; text-decoration-color: #008080\">.write_sheet(spreadsheet_id, range, values)</span> <span style=\"color: #008000; text-decoration-color: #008000\">│</span>\n",
       "<span style=\"color: #008000; text-decoration-color: #008000\">│</span>   • Create sheet: <span style=\"color: #008080; text-decoration-color: #008080\">.create_sheet(title)</span>                      <span style=\"color: #008000; text-decoration-color: #008000\">│</span>\n",
       "<span style=\"color: #008000; text-decoration-color: #008000\">│</span>                                                             <span style=\"color: #008000; text-decoration-color: #008000\">│</span>\n",
       "<span style=\"color: #008000; text-decoration-color: #008000\">│</span> <span style=\"color: #7f7f7f; text-decoration-color: #7f7f7f\">Access via: client.platforms.google_personal.gsheets</span>        <span style=\"color: #008000; text-decoration-color: #008000\">│</span>\n",
       "<span style=\"color: #008000; text-decoration-color: #008000\">╰─────────────────────────────────────────────────────────────╯</span>\n",
       "</pre>\n"
      ],
      "text/plain": [
       "\u001b[32m╭─────────────────────────────────────────────────────────────╮\u001b[0m\n",
       "\u001b[32m│\u001b[0m \u001b[1;32m✓ gsheets transport is already initialized!\u001b[0m                 \u001b[32m│\u001b[0m\n",
       "\u001b[32m│\u001b[0m                                                             \u001b[32m│\u001b[0m\n",
       "\u001b[32m│\u001b[0m No action needed - this transport is ready to use.          \u001b[32m│\u001b[0m\n",
       "\u001b[32m│\u001b[0m                                                             \u001b[32m│\u001b[0m\n",
       "\u001b[32m│\u001b[0m \u001b[1mAvailable methods:\u001b[0m                                          \u001b[32m│\u001b[0m\n",
       "\u001b[32m│\u001b[0m   • Read sheet: \u001b[36m.read_sheet(spreadsheet_id, range)\u001b[0m          \u001b[32m│\u001b[0m\n",
       "\u001b[32m│\u001b[0m   • Write data: \u001b[36m.write_sheet(spreadsheet_id, range, values)\u001b[0m \u001b[32m│\u001b[0m\n",
       "\u001b[32m│\u001b[0m   • Create sheet: \u001b[36m.create_sheet(title)\u001b[0m                      \u001b[32m│\u001b[0m\n",
       "\u001b[32m│\u001b[0m                                                             \u001b[32m│\u001b[0m\n",
       "\u001b[32m│\u001b[0m \u001b[2mAccess via: client.platforms.google_personal.gsheets\u001b[0m        \u001b[32m│\u001b[0m\n",
       "\u001b[32m╰─────────────────────────────────────────────────────────────╯\u001b[0m\n"
      ]
     },
     "metadata": {},
     "output_type": "display_data"
    },
    {
     "data": {
      "text/plain": [
       "True"
      ]
     },
     "execution_count": 24,
     "metadata": {},
     "output_type": "execute_result"
    }
   ],
   "source": [
    "# ensure calling init() a second time fails gracefully\n",
    "client.platforms.google_personal.gsheets.init()"
   ]
  },
  {
   "cell_type": "code",
   "execution_count": 25,
   "id": "382db145-dd02-46b3-af09-c4704d3d5474",
   "metadata": {},
   "outputs": [
    {
     "data": {
      "text/html": [
       "<pre style=\"white-space:pre;overflow-x:auto;line-height:normal;font-family:Menlo,'DejaVu Sans Mono',consolas,'Courier New',monospace\">╭──────── SyftClient.email = 'liamtrask@gmail.com' ────────╮\n",
       "│                                                          │\n",
       "│  <span style=\"color: #7f7f7f; text-decoration-color: #7f7f7f\">.folder</span> = /Users/atrask/SyftBox/liamtrask_at_gmail_com  │\n",
       "│                                                          │\n",
       "│  <span style=\"color: #7f7f7f; text-decoration-color: #7f7f7f\">.platforms</span>                                              │\n",
       "│    <span style=\"color: #808000; text-decoration-color: #808000; font-weight: bold\">.google_personal</span>                                      │\n",
       "│      <span style=\"color: #008000; text-decoration-color: #008000\">✓</span> <span style=\"color: #008000; text-decoration-color: #008000\">.gmail</span>                                            │\n",
       "│      <span style=\"color: #008000; text-decoration-color: #008000\">✓</span> <span style=\"color: #008000; text-decoration-color: #008000\">.gdrive_files</span>                                     │\n",
       "│      <span style=\"color: #008000; text-decoration-color: #008000\">✓</span> <span style=\"color: #008000; text-decoration-color: #008000\">.gsheets</span>                                          │\n",
       "│      <span style=\"color: #7f7f7f; text-decoration-color: #7f7f7f\">✗</span> <span style=\"color: #7f7f7f; text-decoration-color: #7f7f7f\">.gforms</span> <span style=\"color: #7f7f7f; text-decoration-color: #7f7f7f\">(call .init() to initialize)</span>              │\n",
       "│                                                          │\n",
       "╰──────────────────────────────────────────────────────────╯\n",
       "</pre>\n"
      ],
      "text/plain": [
       "╭──────── SyftClient.email = 'liamtrask@gmail.com' ────────╮\n",
       "│                                                          │\n",
       "│  \u001b[2m.folder\u001b[0m = /Users/atrask/SyftBox/liamtrask_at_gmail_com  │\n",
       "│                                                          │\n",
       "│  \u001b[2m.platforms\u001b[0m                                              │\n",
       "│    \u001b[1;33m.google_personal\u001b[0m                                      │\n",
       "│      \u001b[32m✓\u001b[0m \u001b[32m.gmail\u001b[0m                                            │\n",
       "│      \u001b[32m✓\u001b[0m \u001b[32m.gdrive_files\u001b[0m                                     │\n",
       "│      \u001b[32m✓\u001b[0m \u001b[32m.gsheets\u001b[0m                                          │\n",
       "│      \u001b[2m✗\u001b[0m \u001b[2m.gforms\u001b[0m \u001b[2m(call .init() to initialize)\u001b[0m              │\n",
       "│                                                          │\n",
       "╰──────────────────────────────────────────────────────────╯\n"
      ]
     },
     "metadata": {},
     "output_type": "display_data"
    },
    {
     "data": {
      "text/plain": []
     },
     "execution_count": 25,
     "metadata": {},
     "output_type": "execute_result"
    }
   ],
   "source": [
    "client"
   ]
  },
  {
   "cell_type": "code",
   "execution_count": 26,
   "id": "ebceb929-b9b8-46cd-9c0d-da73027b0307",
   "metadata": {},
   "outputs": [
    {
     "ename": "RuntimeError",
     "evalue": "Transport 'gforms' is not initialized. Please call .init() first.",
     "output_type": "error",
     "traceback": [
      "\u001b[31m---------------------------------------------------------------------------\u001b[39m",
      "\u001b[31mRuntimeError\u001b[39m                              Traceback (most recent call last)",
      "\u001b[36mCell\u001b[39m\u001b[36m \u001b[39m\u001b[32mIn[26]\u001b[39m\u001b[32m, line 2\u001b[39m\n\u001b[32m      1\u001b[39m \u001b[38;5;66;03m# make sure the other ones still don't work\u001b[39;00m\n\u001b[32m----> \u001b[39m\u001b[32m2\u001b[39m \u001b[43mclient\u001b[49m\u001b[43m.\u001b[49m\u001b[43mplatforms\u001b[49m\u001b[43m.\u001b[49m\u001b[43mgoogle_personal\u001b[49m\u001b[43m.\u001b[49m\u001b[43mgforms\u001b[49m\u001b[43m.\u001b[49m\u001b[43mtest\u001b[49m(\u001b[33m\"\u001b[39m\u001b[33mabc123\u001b[39m\u001b[33m\"\u001b[39m, cleanup=\u001b[38;5;28;01mFalse\u001b[39;00m)\n",
      "\u001b[36mFile \u001b[39m\u001b[32m~/Desktop/Laboratory/syft-client/test_notebooks/../syft_client/platforms/google_personal/client.py:200\u001b[39m, in \u001b[36mGooglePersonalClient._create_transport_stubs.<locals>.UninitializedTransport.__getattr__\u001b[39m\u001b[34m(self, name)\u001b[39m\n\u001b[32m    198\u001b[39m     \u001b[38;5;28;01mreturn\u001b[39;00m \u001b[38;5;28mobject\u001b[39m.\u001b[34m__getattribute__\u001b[39m(\u001b[38;5;28mself\u001b[39m, name)\n\u001b[32m    199\u001b[39m \u001b[38;5;28;01mif\u001b[39;00m \u001b[38;5;129;01mnot\u001b[39;00m \u001b[38;5;28mself\u001b[39m._setup_called:\n\u001b[32m--> \u001b[39m\u001b[32m200\u001b[39m     \u001b[38;5;28;01mraise\u001b[39;00m \u001b[38;5;167;01mRuntimeError\u001b[39;00m(\u001b[33mf\u001b[39m\u001b[33m\"\u001b[39m\u001b[33mTransport \u001b[39m\u001b[33m'\u001b[39m\u001b[38;5;132;01m{\u001b[39;00m\u001b[38;5;28mself\u001b[39m._transport_name\u001b[38;5;132;01m}\u001b[39;00m\u001b[33m'\u001b[39m\u001b[33m is not initialized. Please call .init() first.\u001b[39m\u001b[33m\"\u001b[39m)\n\u001b[32m    201\u001b[39m \u001b[38;5;28;01mif\u001b[39;00m \u001b[38;5;28mself\u001b[39m._real_transport:\n\u001b[32m    202\u001b[39m     \u001b[38;5;28;01mreturn\u001b[39;00m \u001b[38;5;28mgetattr\u001b[39m(\u001b[38;5;28mself\u001b[39m._real_transport, name)\n",
      "\u001b[31mRuntimeError\u001b[39m: Transport 'gforms' is not initialized. Please call .init() first."
     ]
    }
   ],
   "source": [
    "# make sure the other ones still don't work\n",
    "client.platforms.google_personal.gforms.test(\"abc123\", cleanup=False)"
   ]
  },
  {
   "cell_type": "markdown",
   "id": "0f27d0fe-a1aa-4d43-b0d7-c13ef7683ae3",
   "metadata": {},
   "source": [
    "# Test 12: Initialize GForms and test"
   ]
  },
  {
   "cell_type": "code",
   "execution_count": 27,
   "id": "620a1075-c863-4523-a51c-96a5d4c1209f",
   "metadata": {},
   "outputs": [
    {
     "name": "stdout",
     "output_type": "stream",
     "text": [
      "\n",
      "Initializing gforms transport...\n",
      "  • Creating gforms transport instance...\n",
      "  • Setting up with OAuth2 credentials...\n",
      "  ✓ OAuth2 credentials configured\n",
      "\n"
     ]
    },
    {
     "data": {
      "text/html": [
       "<pre style=\"white-space:pre;overflow-x:auto;line-height:normal;font-family:Menlo,'DejaVu Sans Mono',consolas,'Courier New',monospace\"><span style=\"color: #008000; text-decoration-color: #008000\">╭─────────────────────────────────────────────────────╮</span>\n",
       "<span style=\"color: #008000; text-decoration-color: #008000\">│</span> <span style=\"color: #008000; text-decoration-color: #008000; font-weight: bold\">✓ gforms transport initialized successfully!</span>        <span style=\"color: #008000; text-decoration-color: #008000\">│</span>\n",
       "<span style=\"color: #008000; text-decoration-color: #008000\">│</span>                                                     <span style=\"color: #008000; text-decoration-color: #008000\">│</span>\n",
       "<span style=\"color: #008000; text-decoration-color: #008000\">│</span> <span style=\"font-weight: bold\">What you can do now:</span>                                <span style=\"color: #008000; text-decoration-color: #008000\">│</span>\n",
       "<span style=\"color: #008000; text-decoration-color: #008000\">│</span>   • List forms: <span style=\"color: #008080; text-decoration-color: #008080\">.list_forms()</span>                       <span style=\"color: #008000; text-decoration-color: #008000\">│</span>\n",
       "<span style=\"color: #008000; text-decoration-color: #008000\">│</span>   • Get responses: <span style=\"color: #008080; text-decoration-color: #008080\">.get_responses(form_id)</span>          <span style=\"color: #008000; text-decoration-color: #008000\">│</span>\n",
       "<span style=\"color: #008000; text-decoration-color: #008000\">│</span>   • Create form: <span style=\"color: #008080; text-decoration-color: #008080\">.create_form(title)</span>                <span style=\"color: #008000; text-decoration-color: #008000\">│</span>\n",
       "<span style=\"color: #008000; text-decoration-color: #008000\">│</span>                                                     <span style=\"color: #008000; text-decoration-color: #008000\">│</span>\n",
       "<span style=\"color: #008000; text-decoration-color: #008000\">│</span> <span style=\"color: #7f7f7f; text-decoration-color: #7f7f7f\">Access via: client.platforms.google_personal.gforms</span> <span style=\"color: #008000; text-decoration-color: #008000\">│</span>\n",
       "<span style=\"color: #008000; text-decoration-color: #008000\">╰─────────────────────────────────────────────────────╯</span>\n",
       "</pre>\n"
      ],
      "text/plain": [
       "\u001b[32m╭─────────────────────────────────────────────────────╮\u001b[0m\n",
       "\u001b[32m│\u001b[0m \u001b[1;32m✓ gforms transport initialized successfully!\u001b[0m        \u001b[32m│\u001b[0m\n",
       "\u001b[32m│\u001b[0m                                                     \u001b[32m│\u001b[0m\n",
       "\u001b[32m│\u001b[0m \u001b[1mWhat you can do now:\u001b[0m                                \u001b[32m│\u001b[0m\n",
       "\u001b[32m│\u001b[0m   • List forms: \u001b[36m.list_forms()\u001b[0m                       \u001b[32m│\u001b[0m\n",
       "\u001b[32m│\u001b[0m   • Get responses: \u001b[36m.get_responses(form_id)\u001b[0m          \u001b[32m│\u001b[0m\n",
       "\u001b[32m│\u001b[0m   • Create form: \u001b[36m.create_form(title)\u001b[0m                \u001b[32m│\u001b[0m\n",
       "\u001b[32m│\u001b[0m                                                     \u001b[32m│\u001b[0m\n",
       "\u001b[32m│\u001b[0m \u001b[2mAccess via: client.platforms.google_personal.gforms\u001b[0m \u001b[32m│\u001b[0m\n",
       "\u001b[32m╰─────────────────────────────────────────────────────╯\u001b[0m\n"
      ]
     },
     "metadata": {},
     "output_type": "display_data"
    },
    {
     "data": {
      "text/plain": [
       "True"
      ]
     },
     "execution_count": 27,
     "metadata": {},
     "output_type": "execute_result"
    }
   ],
   "source": [
    "client.platforms.google_personal.gforms.init()"
   ]
  },
  {
   "cell_type": "code",
   "execution_count": 28,
   "id": "f8142490-fb94-4257-a36d-61a0d56bdc6c",
   "metadata": {},
   "outputs": [
    {
     "name": "stdout",
     "output_type": "stream",
     "text": [
      "✅ Google Forms test successful! Form created with 3 test questions\n"
     ]
    },
    {
     "data": {
      "text/plain": [
       "{'success': True,\n",
       " 'url': 'https://docs.google.com/forms/d/1R8KtH0USPSHzwTpQ_L0QfGN2fdOMntMUVwjJWTqRkNY/viewform'}"
      ]
     },
     "execution_count": 28,
     "metadata": {},
     "output_type": "execute_result"
    }
   ],
   "source": [
    "# test that gsheets worksa nd you can see the file\n",
    "client.platforms.google_personal.gforms.test(\"abc123\", cleanup=False)"
   ]
  },
  {
   "cell_type": "code",
   "execution_count": 29,
   "id": "d29ec613-ef7a-4718-8ade-9a8c3ad74de8",
   "metadata": {},
   "outputs": [
    {
     "data": {
      "text/html": [
       "<pre style=\"white-space:pre;overflow-x:auto;line-height:normal;font-family:Menlo,'DejaVu Sans Mono',consolas,'Courier New',monospace\"><span style=\"color: #008000; text-decoration-color: #008000\">╭─────────────────────────────────────────────────────╮</span>\n",
       "<span style=\"color: #008000; text-decoration-color: #008000\">│</span> <span style=\"color: #008000; text-decoration-color: #008000; font-weight: bold\">✓ gforms transport is already initialized!</span>          <span style=\"color: #008000; text-decoration-color: #008000\">│</span>\n",
       "<span style=\"color: #008000; text-decoration-color: #008000\">│</span>                                                     <span style=\"color: #008000; text-decoration-color: #008000\">│</span>\n",
       "<span style=\"color: #008000; text-decoration-color: #008000\">│</span> No action needed - this transport is ready to use.  <span style=\"color: #008000; text-decoration-color: #008000\">│</span>\n",
       "<span style=\"color: #008000; text-decoration-color: #008000\">│</span>                                                     <span style=\"color: #008000; text-decoration-color: #008000\">│</span>\n",
       "<span style=\"color: #008000; text-decoration-color: #008000\">│</span> <span style=\"font-weight: bold\">Available methods:</span>                                  <span style=\"color: #008000; text-decoration-color: #008000\">│</span>\n",
       "<span style=\"color: #008000; text-decoration-color: #008000\">│</span>   • List forms: <span style=\"color: #008080; text-decoration-color: #008080\">.list_forms()</span>                       <span style=\"color: #008000; text-decoration-color: #008000\">│</span>\n",
       "<span style=\"color: #008000; text-decoration-color: #008000\">│</span>   • Get responses: <span style=\"color: #008080; text-decoration-color: #008080\">.get_responses(form_id)</span>          <span style=\"color: #008000; text-decoration-color: #008000\">│</span>\n",
       "<span style=\"color: #008000; text-decoration-color: #008000\">│</span>   • Create form: <span style=\"color: #008080; text-decoration-color: #008080\">.create_form(title)</span>                <span style=\"color: #008000; text-decoration-color: #008000\">│</span>\n",
       "<span style=\"color: #008000; text-decoration-color: #008000\">│</span>                                                     <span style=\"color: #008000; text-decoration-color: #008000\">│</span>\n",
       "<span style=\"color: #008000; text-decoration-color: #008000\">│</span> <span style=\"color: #7f7f7f; text-decoration-color: #7f7f7f\">Access via: client.platforms.google_personal.gforms</span> <span style=\"color: #008000; text-decoration-color: #008000\">│</span>\n",
       "<span style=\"color: #008000; text-decoration-color: #008000\">╰─────────────────────────────────────────────────────╯</span>\n",
       "</pre>\n"
      ],
      "text/plain": [
       "\u001b[32m╭─────────────────────────────────────────────────────╮\u001b[0m\n",
       "\u001b[32m│\u001b[0m \u001b[1;32m✓ gforms transport is already initialized!\u001b[0m          \u001b[32m│\u001b[0m\n",
       "\u001b[32m│\u001b[0m                                                     \u001b[32m│\u001b[0m\n",
       "\u001b[32m│\u001b[0m No action needed - this transport is ready to use.  \u001b[32m│\u001b[0m\n",
       "\u001b[32m│\u001b[0m                                                     \u001b[32m│\u001b[0m\n",
       "\u001b[32m│\u001b[0m \u001b[1mAvailable methods:\u001b[0m                                  \u001b[32m│\u001b[0m\n",
       "\u001b[32m│\u001b[0m   • List forms: \u001b[36m.list_forms()\u001b[0m                       \u001b[32m│\u001b[0m\n",
       "\u001b[32m│\u001b[0m   • Get responses: \u001b[36m.get_responses(form_id)\u001b[0m          \u001b[32m│\u001b[0m\n",
       "\u001b[32m│\u001b[0m   • Create form: \u001b[36m.create_form(title)\u001b[0m                \u001b[32m│\u001b[0m\n",
       "\u001b[32m│\u001b[0m                                                     \u001b[32m│\u001b[0m\n",
       "\u001b[32m│\u001b[0m \u001b[2mAccess via: client.platforms.google_personal.gforms\u001b[0m \u001b[32m│\u001b[0m\n",
       "\u001b[32m╰─────────────────────────────────────────────────────╯\u001b[0m\n"
      ]
     },
     "metadata": {},
     "output_type": "display_data"
    },
    {
     "data": {
      "text/plain": [
       "True"
      ]
     },
     "execution_count": 29,
     "metadata": {},
     "output_type": "execute_result"
    }
   ],
   "source": [
    "# ensure calling init() a second time fails gracefully\n",
    "client.platforms.google_personal.gforms.init()"
   ]
  },
  {
   "cell_type": "code",
   "execution_count": 30,
   "id": "d3c59478-5f2e-4f96-b85c-946cb98dd8a4",
   "metadata": {},
   "outputs": [
    {
     "data": {
      "text/html": [
       "<pre style=\"white-space:pre;overflow-x:auto;line-height:normal;font-family:Menlo,'DejaVu Sans Mono',consolas,'Courier New',monospace\">╭──────── SyftClient.email = 'liamtrask@gmail.com' ────────╮\n",
       "│                                                          │\n",
       "│  <span style=\"color: #7f7f7f; text-decoration-color: #7f7f7f\">.folder</span> = /Users/atrask/SyftBox/liamtrask_at_gmail_com  │\n",
       "│                                                          │\n",
       "│  <span style=\"color: #7f7f7f; text-decoration-color: #7f7f7f\">.platforms</span>                                              │\n",
       "│    <span style=\"color: #808000; text-decoration-color: #808000; font-weight: bold\">.google_personal</span>                                      │\n",
       "│      <span style=\"color: #008000; text-decoration-color: #008000\">✓</span> <span style=\"color: #008000; text-decoration-color: #008000\">.gmail</span>                                            │\n",
       "│      <span style=\"color: #008000; text-decoration-color: #008000\">✓</span> <span style=\"color: #008000; text-decoration-color: #008000\">.gdrive_files</span>                                     │\n",
       "│      <span style=\"color: #008000; text-decoration-color: #008000\">✓</span> <span style=\"color: #008000; text-decoration-color: #008000\">.gsheets</span>                                          │\n",
       "│      <span style=\"color: #008000; text-decoration-color: #008000\">✓</span> <span style=\"color: #008000; text-decoration-color: #008000\">.gforms</span>                                           │\n",
       "│                                                          │\n",
       "╰──────────────────────────────────────────────────────────╯\n",
       "</pre>\n"
      ],
      "text/plain": [
       "╭──────── SyftClient.email = 'liamtrask@gmail.com' ────────╮\n",
       "│                                                          │\n",
       "│  \u001b[2m.folder\u001b[0m = /Users/atrask/SyftBox/liamtrask_at_gmail_com  │\n",
       "│                                                          │\n",
       "│  \u001b[2m.platforms\u001b[0m                                              │\n",
       "│    \u001b[1;33m.google_personal\u001b[0m                                      │\n",
       "│      \u001b[32m✓\u001b[0m \u001b[32m.gmail\u001b[0m                                            │\n",
       "│      \u001b[32m✓\u001b[0m \u001b[32m.gdrive_files\u001b[0m                                     │\n",
       "│      \u001b[32m✓\u001b[0m \u001b[32m.gsheets\u001b[0m                                          │\n",
       "│      \u001b[32m✓\u001b[0m \u001b[32m.gforms\u001b[0m                                           │\n",
       "│                                                          │\n",
       "╰──────────────────────────────────────────────────────────╯\n"
      ]
     },
     "metadata": {},
     "output_type": "display_data"
    },
    {
     "data": {
      "text/plain": []
     },
     "execution_count": 30,
     "metadata": {},
     "output_type": "execute_result"
    }
   ],
   "source": [
    "client"
   ]
  },
  {
   "cell_type": "markdown",
   "id": "303b4e39-7d15-4f25-b3f6-1d645ab9dc4f",
   "metadata": {},
   "source": [
    "# Test 13: Reinitialize and test transports aren't there"
   ]
  },
  {
   "cell_type": "code",
   "execution_count": 31,
   "id": "895fe302-76f6-4b5b-89f3-17cf1838901d",
   "metadata": {},
   "outputs": [],
   "source": [
    "client = sc.login(\"liamtrask@gmail.com\", init_transport=False)"
   ]
  },
  {
   "cell_type": "code",
   "execution_count": 32,
   "id": "9feaa7f7-dbb5-4ad4-94a7-0c66c6593bb0",
   "metadata": {},
   "outputs": [
    {
     "data": {
      "text/html": [
       "<pre style=\"white-space:pre;overflow-x:auto;line-height:normal;font-family:Menlo,'DejaVu Sans Mono',consolas,'Courier New',monospace\">╭──────── SyftClient.email = 'liamtrask@gmail.com' ────────╮\n",
       "│                                                          │\n",
       "│  <span style=\"color: #7f7f7f; text-decoration-color: #7f7f7f\">.folder</span> = /Users/atrask/SyftBox/liamtrask_at_gmail_com  │\n",
       "│                                                          │\n",
       "│  <span style=\"color: #7f7f7f; text-decoration-color: #7f7f7f\">.platforms</span>                                              │\n",
       "│    <span style=\"color: #808000; text-decoration-color: #808000; font-weight: bold\">.google_personal</span>                                      │\n",
       "│      <span style=\"color: #7f7f7f; text-decoration-color: #7f7f7f\">✗</span> <span style=\"color: #7f7f7f; text-decoration-color: #7f7f7f\">.gmail</span> <span style=\"color: #7f7f7f; text-decoration-color: #7f7f7f\">(call .init() to initialize)</span>               │\n",
       "│      <span style=\"color: #7f7f7f; text-decoration-color: #7f7f7f\">✗</span> <span style=\"color: #7f7f7f; text-decoration-color: #7f7f7f\">.gdrive_files</span> <span style=\"color: #7f7f7f; text-decoration-color: #7f7f7f\">(call .init() to initialize)</span>        │\n",
       "│      <span style=\"color: #7f7f7f; text-decoration-color: #7f7f7f\">✗</span> <span style=\"color: #7f7f7f; text-decoration-color: #7f7f7f\">.gsheets</span> <span style=\"color: #7f7f7f; text-decoration-color: #7f7f7f\">(call .init() to initialize)</span>             │\n",
       "│      <span style=\"color: #7f7f7f; text-decoration-color: #7f7f7f\">✗</span> <span style=\"color: #7f7f7f; text-decoration-color: #7f7f7f\">.gforms</span> <span style=\"color: #7f7f7f; text-decoration-color: #7f7f7f\">(call .init() to initialize)</span>              │\n",
       "│                                                          │\n",
       "╰──────────────────────────────────────────────────────────╯\n",
       "</pre>\n"
      ],
      "text/plain": [
       "╭──────── SyftClient.email = 'liamtrask@gmail.com' ────────╮\n",
       "│                                                          │\n",
       "│  \u001b[2m.folder\u001b[0m = /Users/atrask/SyftBox/liamtrask_at_gmail_com  │\n",
       "│                                                          │\n",
       "│  \u001b[2m.platforms\u001b[0m                                              │\n",
       "│    \u001b[1;33m.google_personal\u001b[0m                                      │\n",
       "│      \u001b[2m✗\u001b[0m \u001b[2m.gmail\u001b[0m \u001b[2m(call .init() to initialize)\u001b[0m               │\n",
       "│      \u001b[2m✗\u001b[0m \u001b[2m.gdrive_files\u001b[0m \u001b[2m(call .init() to initialize)\u001b[0m        │\n",
       "│      \u001b[2m✗\u001b[0m \u001b[2m.gsheets\u001b[0m \u001b[2m(call .init() to initialize)\u001b[0m             │\n",
       "│      \u001b[2m✗\u001b[0m \u001b[2m.gforms\u001b[0m \u001b[2m(call .init() to initialize)\u001b[0m              │\n",
       "│                                                          │\n",
       "╰──────────────────────────────────────────────────────────╯\n"
      ]
     },
     "metadata": {},
     "output_type": "display_data"
    },
    {
     "data": {
      "text/plain": []
     },
     "execution_count": 32,
     "metadata": {},
     "output_type": "execute_result"
    }
   ],
   "source": [
    "client"
   ]
  },
  {
   "cell_type": "code",
   "execution_count": 33,
   "id": "3c53f5fb-7fc5-426b-beee-7267b7d17c34",
   "metadata": {},
   "outputs": [
    {
     "ename": "RuntimeError",
     "evalue": "Transport 'gmail' is not initialized. Please call .init() first.",
     "output_type": "error",
     "traceback": [
      "\u001b[31m---------------------------------------------------------------------------\u001b[39m",
      "\u001b[31mRuntimeError\u001b[39m                              Traceback (most recent call last)",
      "\u001b[36mCell\u001b[39m\u001b[36m \u001b[39m\u001b[32mIn[33]\u001b[39m\u001b[32m, line 2\u001b[39m\n\u001b[32m      1\u001b[39m \u001b[38;5;66;03m# test that gsheets worksa nd you can see the file\u001b[39;00m\n\u001b[32m----> \u001b[39m\u001b[32m2\u001b[39m \u001b[43mclient\u001b[49m\u001b[43m.\u001b[49m\u001b[43mplatforms\u001b[49m\u001b[43m.\u001b[49m\u001b[43mgoogle_personal\u001b[49m\u001b[43m.\u001b[49m\u001b[43mgmail\u001b[49m\u001b[43m.\u001b[49m\u001b[43mtest\u001b[49m(\u001b[33m\"\u001b[39m\u001b[33mabc123\u001b[39m\u001b[33m\"\u001b[39m, cleanup=\u001b[38;5;28;01mFalse\u001b[39;00m)\n",
      "\u001b[36mFile \u001b[39m\u001b[32m~/Desktop/Laboratory/syft-client/test_notebooks/../syft_client/platforms/google_personal/client.py:200\u001b[39m, in \u001b[36mGooglePersonalClient._create_transport_stubs.<locals>.UninitializedTransport.__getattr__\u001b[39m\u001b[34m(self, name)\u001b[39m\n\u001b[32m    198\u001b[39m     \u001b[38;5;28;01mreturn\u001b[39;00m \u001b[38;5;28mobject\u001b[39m.\u001b[34m__getattribute__\u001b[39m(\u001b[38;5;28mself\u001b[39m, name)\n\u001b[32m    199\u001b[39m \u001b[38;5;28;01mif\u001b[39;00m \u001b[38;5;129;01mnot\u001b[39;00m \u001b[38;5;28mself\u001b[39m._setup_called:\n\u001b[32m--> \u001b[39m\u001b[32m200\u001b[39m     \u001b[38;5;28;01mraise\u001b[39;00m \u001b[38;5;167;01mRuntimeError\u001b[39;00m(\u001b[33mf\u001b[39m\u001b[33m\"\u001b[39m\u001b[33mTransport \u001b[39m\u001b[33m'\u001b[39m\u001b[38;5;132;01m{\u001b[39;00m\u001b[38;5;28mself\u001b[39m._transport_name\u001b[38;5;132;01m}\u001b[39;00m\u001b[33m'\u001b[39m\u001b[33m is not initialized. Please call .init() first.\u001b[39m\u001b[33m\"\u001b[39m)\n\u001b[32m    201\u001b[39m \u001b[38;5;28;01mif\u001b[39;00m \u001b[38;5;28mself\u001b[39m._real_transport:\n\u001b[32m    202\u001b[39m     \u001b[38;5;28;01mreturn\u001b[39;00m \u001b[38;5;28mgetattr\u001b[39m(\u001b[38;5;28mself\u001b[39m._real_transport, name)\n",
      "\u001b[31mRuntimeError\u001b[39m: Transport 'gmail' is not initialized. Please call .init() first."
     ]
    }
   ],
   "source": [
    "# test that gsheets worksa nd you can see the file\n",
    "client.platforms.google_personal.gmail.test(\"abc123\", cleanup=False)"
   ]
  },
  {
   "cell_type": "markdown",
   "id": "993d6fdf-7644-4cf7-9799-62051278459f",
   "metadata": {},
   "source": [
    "# Test 14: test init_transport=True"
   ]
  },
  {
   "cell_type": "code",
   "execution_count": 34,
   "id": "1f99298b-66c0-48f3-bb02-136a840a27fd",
   "metadata": {},
   "outputs": [],
   "source": [
    "client = sc.login(\"liamtrask@gmail.com\")"
   ]
  },
  {
   "cell_type": "code",
   "execution_count": 35,
   "id": "1d0653a6-fe6e-447b-b642-00ffbd03494a",
   "metadata": {},
   "outputs": [
    {
     "data": {
      "text/html": [
       "<pre style=\"white-space:pre;overflow-x:auto;line-height:normal;font-family:Menlo,'DejaVu Sans Mono',consolas,'Courier New',monospace\">╭──────── SyftClient.email = 'liamtrask@gmail.com' ────────╮\n",
       "│                                                          │\n",
       "│  <span style=\"color: #7f7f7f; text-decoration-color: #7f7f7f\">.folder</span> = /Users/atrask/SyftBox/liamtrask_at_gmail_com  │\n",
       "│                                                          │\n",
       "│  <span style=\"color: #7f7f7f; text-decoration-color: #7f7f7f\">.platforms</span>                                              │\n",
       "│    <span style=\"color: #808000; text-decoration-color: #808000; font-weight: bold\">.google_personal</span>                                      │\n",
       "│      <span style=\"color: #008000; text-decoration-color: #008000\">✓</span> <span style=\"color: #008000; text-decoration-color: #008000\">.gmail</span>                                            │\n",
       "│      <span style=\"color: #008000; text-decoration-color: #008000\">✓</span> <span style=\"color: #008000; text-decoration-color: #008000\">.gdrive_files</span>                                     │\n",
       "│      <span style=\"color: #008000; text-decoration-color: #008000\">✓</span> <span style=\"color: #008000; text-decoration-color: #008000\">.gsheets</span>                                          │\n",
       "│      <span style=\"color: #008000; text-decoration-color: #008000\">✓</span> <span style=\"color: #008000; text-decoration-color: #008000\">.gforms</span>                                           │\n",
       "│                                                          │\n",
       "╰──────────────────────────────────────────────────────────╯\n",
       "</pre>\n"
      ],
      "text/plain": [
       "╭──────── SyftClient.email = 'liamtrask@gmail.com' ────────╮\n",
       "│                                                          │\n",
       "│  \u001b[2m.folder\u001b[0m = /Users/atrask/SyftBox/liamtrask_at_gmail_com  │\n",
       "│                                                          │\n",
       "│  \u001b[2m.platforms\u001b[0m                                              │\n",
       "│    \u001b[1;33m.google_personal\u001b[0m                                      │\n",
       "│      \u001b[32m✓\u001b[0m \u001b[32m.gmail\u001b[0m                                            │\n",
       "│      \u001b[32m✓\u001b[0m \u001b[32m.gdrive_files\u001b[0m                                     │\n",
       "│      \u001b[32m✓\u001b[0m \u001b[32m.gsheets\u001b[0m                                          │\n",
       "│      \u001b[32m✓\u001b[0m \u001b[32m.gforms\u001b[0m                                           │\n",
       "│                                                          │\n",
       "╰──────────────────────────────────────────────────────────╯\n"
      ]
     },
     "metadata": {},
     "output_type": "display_data"
    },
    {
     "data": {
      "text/plain": []
     },
     "execution_count": 35,
     "metadata": {},
     "output_type": "execute_result"
    }
   ],
   "source": [
    "client"
   ]
  },
  {
   "cell_type": "code",
   "execution_count": 36,
   "id": "3cf6e598-9b6f-454d-8d51-d6211fc4b8e7",
   "metadata": {},
   "outputs": [
    {
     "name": "stdout",
     "output_type": "stream",
     "text": [
      "✅ Gmail test successful! Email sent to liamtrask@gmail.com\n"
     ]
    },
    {
     "data": {
      "text/plain": [
       "{'success': True,\n",
       " 'url': 'https://mail.google.com/mail/?authuser=liamtrask%40gmail.com#search/from%3Aliamtrask%40gmail.com%20subject%3A%22Test%20Email%20-%20abc123%22'}"
      ]
     },
     "execution_count": 36,
     "metadata": {},
     "output_type": "execute_result"
    }
   ],
   "source": [
    "# test that gsheets worksa nd you can see the file\n",
    "client.platforms.google_personal.gmail.test(\"abc123\", cleanup=False)"
   ]
  },
  {
   "cell_type": "code",
   "execution_count": 37,
   "id": "51119675-3f30-4dbb-a77b-a380b9aeae62",
   "metadata": {},
   "outputs": [
    {
     "name": "stdout",
     "output_type": "stream",
     "text": [
      "✅ Google Drive test successful! File created in SyftClient\n"
     ]
    },
    {
     "data": {
      "text/plain": [
       "{'success': True,\n",
       " 'url': 'https://drive.google.com/file/d/1ZS9afMsgky91Np0vciEaa6kQPv05JzrJ/view?usp=drivesdk'}"
      ]
     },
     "execution_count": 37,
     "metadata": {},
     "output_type": "execute_result"
    }
   ],
   "source": [
    "# test that gsheets worksa nd you can see the file\n",
    "client.platforms.google_personal.gdrive_files.test(\"abc123\", cleanup=False)"
   ]
  },
  {
   "cell_type": "code",
   "execution_count": 38,
   "id": "ecc136bc-50bf-4d76-bcdb-d6a6d6195cfa",
   "metadata": {},
   "outputs": [
    {
     "name": "stdout",
     "output_type": "stream",
     "text": [
      "✅ Google Sheets test successful! Spreadsheet created with test data\n"
     ]
    },
    {
     "data": {
      "text/plain": [
       "{'success': True,\n",
       " 'url': 'https://docs.google.com/spreadsheets/d/1Dr5qu-qJuZYzP8OauSpG1twfFf52ot1Kz0IzTVSB0Is/edit'}"
      ]
     },
     "execution_count": 38,
     "metadata": {},
     "output_type": "execute_result"
    }
   ],
   "source": [
    "# test that gsheets worksa nd you can see the file\n",
    "client.platforms.google_personal.gsheets.test(\"abc123\", cleanup=False)"
   ]
  },
  {
   "cell_type": "code",
   "execution_count": 39,
   "id": "2ad80e85-1d4a-440f-8485-ca0f5c066d86",
   "metadata": {},
   "outputs": [
    {
     "name": "stdout",
     "output_type": "stream",
     "text": [
      "✅ Google Forms test successful! Form created with 3 test questions\n"
     ]
    },
    {
     "data": {
      "text/plain": [
       "{'success': True,\n",
       " 'url': 'https://docs.google.com/forms/d/1qJwNUFzZPMMqShf7Bwr0pnMvSts0wJRkwv9WO86p21I/viewform'}"
      ]
     },
     "execution_count": 39,
     "metadata": {},
     "output_type": "execute_result"
    }
   ],
   "source": [
    "# test that gsheets worksa nd you can see the file\n",
    "client.platforms.google_personal.gforms.test(\"abc123\", cleanup=False)"
   ]
  },
  {
   "cell_type": "code",
   "execution_count": null,
   "id": "8c0f3791-7422-4cf7-ab18-6fe9daa309f8",
   "metadata": {},
   "outputs": [],
   "source": []
  },
  {
   "cell_type": "code",
   "execution_count": null,
   "id": "df515abd-eb9d-4156-830a-afecffb023d9",
   "metadata": {},
   "outputs": [],
   "source": []
  }
 ],
 "metadata": {
  "kernelspec": {
   "display_name": "Python 3 (ipykernel)",
   "language": "python",
   "name": "python3"
  },
  "language_info": {
   "codemirror_mode": {
    "name": "ipython",
    "version": 3
   },
   "file_extension": ".py",
   "mimetype": "text/x-python",
   "name": "python",
   "nbconvert_exporter": "python",
   "pygments_lexer": "ipython3",
   "version": "3.12.9"
  }
 },
 "nbformat": 4,
 "nbformat_minor": 5
}
