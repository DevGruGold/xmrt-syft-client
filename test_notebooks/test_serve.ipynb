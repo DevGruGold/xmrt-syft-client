{
 "cells": [
  {
   "cell_type": "code",
   "execution_count": 1,
   "id": "d8e459dd",
   "metadata": {},
   "outputs": [],
   "source": [
    "import syft_client as sc\n",
    "import syft_serve as ss\n",
    "from loguru import logger"
   ]
  },
  {
   "cell_type": "code",
   "execution_count": 2,
   "id": "94848146",
   "metadata": {},
   "outputs": [
    {
     "name": "stdout",
     "output_type": "stream",
     "text": [
      "✅ Connected peer-to-peer to 3 peers via: Gmail, Gdrive_Files, Gsheets, Gforms                       \n"
     ]
    }
   ],
   "source": [
    "client = sc.login(\"rasswanth@openmined.org\")"
   ]
  },
  {
   "cell_type": "code",
   "execution_count": null,
   "id": "58eff507",
   "metadata": {},
   "outputs": [],
   "source": [
    "\n",
    "def create_job_runner_functions(syftbox_folder: str, poll_interval: int = 1):\n",
    "    \"\"\"Factory that returns syft-serve compatible functions\"\"\"\n",
    "\n",
    "    def start_runner():\n",
    "        \"\"\"Function compatible with syft-serve\"\"\"\n",
    "        import threading\n",
    "        import tempfile\n",
    "        import os\n",
    "        from pathlib import Path\n",
    "\n",
    "        # Use a file-based lock\n",
    "        lock_file = Path(tempfile.gettempdir()) / f\"job_runner_{abs(hash(syftbox_folder))}.lock\"\n",
    "\n",
    "        # Try to create lock file atomically\n",
    "        try:\n",
    "            fd = os.open(lock_file, os.O_CREAT | os.O_EXCL | os.O_WRONLY)\n",
    "            os.write(fd, str(os.getpid()).encode())\n",
    "            os.close(fd)\n",
    "        except OSError:\n",
    "            # Lock file exists, check if process is still running\n",
    "            try:\n",
    "                with open(lock_file, 'r') as f:\n",
    "                    pid = int(f.read().strip())\n",
    "                    os.kill(pid, 0)  # Check if process exists\n",
    "                return {\"status\": \"already_running\"}\n",
    "            except (ValueError, ProcessLookupError, FileNotFoundError):\n",
    "                # Stale lock file, remove it\n",
    "                lock_file.unlink(missing_ok=True)\n",
    "                try:\n",
    "                  fd = os.open(lock_file, os.O_CREAT | os.O_EXCL | os.O_WRONLY)\n",
    "                  os.write(fd, str(os.getpid()).encode())\n",
    "                  os.close(fd)\n",
    "                except OSError:\n",
    "                    return {\"status\": \"error\", \"message\": \"Failed to acquire lock\"}\n",
    "                \n",
    "        def _main_job_runner():\n",
    "            print(\"Hello from job runner!\")\n",
    "\n",
    "        # Start the job\n",
    "        thread = threading.Thread(target=_main_job_runner, daemon=True)\n",
    "        thread.start()\n",
    "\n",
    "        return {\n",
    "            \"syftbox_folder\": syftbox_folder,\n",
    "            \"poll_interval\": poll_interval\n",
    "        }\n",
    "\n",
    "    return start_runner\n",
    "\n",
    "# Create the functions\n",
    "start_fn = create_job_runner_functions(\"/path/to/syftbox\", poll_interval=1)\n",
    "\n",
    "# Cell 2: Create syft-serve server\n",
    "server = ss.create(\n",
    "    name=\"job_runner\",\n",
    "    endpoints={\n",
    "        \"/start\": start_fn,\n",
    "    },\n",
    "    dependencies=[],\n",
    "    force=True,\n",
    ")"
   ]
  },
  {
   "cell_type": "code",
   "execution_count": 4,
   "id": "1820b682",
   "metadata": {},
   "outputs": [
    {
     "data": {
      "text/html": [
       "\n",
       "        <div style=\"background: #1e1e1e; border: 1px solid #3e3e3e; border-radius: 5px; padding: 15px; font-family: -apple-system, BlinkMacSystemFont, 'Segoe UI', Roboto, sans-serif;\">\n",
       "            <h3 style=\"margin: 0 0 10px 0; color: #e0e0e0;\">🚀 job_runner</h3>\n",
       "            <table style=\"width: 100%; border-collapse: collapse;\">\n",
       "                <tr>\n",
       "                    <td style=\"padding: 5px 10px 5px 0; color: #a0a0a0; vertical-align: top;\">Status:</td>\n",
       "                    <td style=\"padding: 5px 0; color: #27ae60; font-weight: bold;\">✅ Running</td>\n",
       "                </tr>\n",
       "                <tr>\n",
       "                    <td style=\"padding: 5px 10px 5px 0; color: #a0a0a0; vertical-align: top;\">URL:</td>\n",
       "                    <td style=\"padding: 5px 0;\"><a href=\"http://localhost:8000\" target=\"_blank\" style=\"color: #66b3ff; text-decoration: none;\">http://localhost:8000</a></td>\n",
       "                </tr>\n",
       "                <tr>\n",
       "                    <td style=\"padding: 5px 10px 5px 0; color: #a0a0a0; vertical-align: top;\">Endpoints:</td>\n",
       "                    <td style=\"padding: 5px 0; color: #e0e0e0;\"><ul style='margin: 0; padding-left: 20px;'><li><code>/start</code></li></ul></td>\n",
       "                </tr>\n",
       "                <tr>\n",
       "                    <td style=\"padding: 5px 10px 5px 0; color: #a0a0a0; vertical-align: top;\">Uptime:</td>\n",
       "                    <td style=\"padding: 5px 0; color: #e0e0e0;\">3s</td>\n",
       "                </tr>\n",
       "                <tr>\n",
       "                    <td style=\"padding: 5px 10px 5px 0; color: #a0a0a0; vertical-align: top;\">Expires In:</td>\n",
       "                    <td style=\"padding: 5px 0; font-weight: bold; color: #f59e0b;\">⏰ 23h 59m</td>\n",
       "                </tr>\n",
       "                <tr>\n",
       "                    <td style=\"padding: 5px 10px 5px 0; color: #a0a0a0; vertical-align: top;\">PID:</td>\n",
       "                    <td style=\"padding: 5px 0;\"><code style=\"background: #2d2d2d; padding: 2px 4px; border-radius: 3px; color: #e0e0e0;\">18055</code></td>\n",
       "                </tr>\n",
       "            </table>\n",
       "            \n",
       "            <div style=\"margin-top: 10px; display: grid; grid-template-columns: 1fr 1fr; gap: 10px;\">\n",
       "                <div style=\"padding: 8px; background: #1a1a1a; border-radius: 3px; border: 1px solid #3e3e3e;\">\n",
       "                    <div style=\"color: #a0a0a0; font-size: 11px; margin-bottom: 5px;\">Recent logs:</div>\n",
       "                    <div style=\"font-size: 11px; color: #e0e0e0;\"><span style='color: #9ca3af; font-family: monospace;'>INFO:     127.0.0.1:54722 - \"GET /health HTTP/1.1\" 200 OK</span><br><span style='color: #9ca3af; font-family: monospace;'>INFO:     127.0.0.1:54724 - \"GET /health HTTP/1.1\" 200 OK</span><br><span style='color: #9ca3af; font-family: monospace;'>INFO:     127.0.0.1:54726 - \"GET /health HTTP/1.1\" 200 OK</span></div>\n",
       "                </div>\n",
       "                <div style=\"padding: 8px; background: #1a1a1a; border-radius: 3px; border: 1px solid #3e3e3e;\">\n",
       "                    <div style=\"color: #a0a0a0; font-size: 11px; margin-bottom: 5px;\">Recent errors:</div>\n",
       "                    <div style=\"font-size: 11px;\"><span style='color: #ff6b6b; font-family: monospace;'>INFO:     Waiting for application startup.</span><br><span style='color: #ff6b6b; font-family: monospace;'>INFO:     Application startup complete.</span><br><span style='color: #ff6b6b; font-family: monospace;'>INFO:     Uvicorn running on http://127.0.0.1:8000 (Press CTRL+C to quit)</span></div>\n",
       "                </div>\n",
       "            </div>\n",
       "            \n",
       "            <div style=\"margin-top: 10px; padding-top: 10px; border-top: 1px solid #3e3e3e; font-size: 12px; color: #a0a0a0;\">\n",
       "                Try: <code style=\"background: #2d2d2d; padding: 2px 4px; border-radius: 3px;\">server.stdout.tail(20)</code>, <code style=\"background: #2d2d2d; padding: 2px 4px; border-radius: 3px;\">server.stderr.tail(20)</code>, <code style=\"background: #2d2d2d; padding: 2px 4px; border-radius: 3px;\">server.env</code>, <code style=\"background: #2d2d2d; padding: 2px 4px; border-radius: 3px;\">server.terminate()</code>\n",
       "            </div>\n",
       "        </div>\n",
       "        "
      ],
      "text/plain": [
       "Server: job_runner\n",
       "├── Status: ✅ Running\n",
       "├── URL: http://localhost:8000\n",
       "├── Endpoints: /start\n",
       "├── Uptime: 3s\n",
       "├── Expires: ⏰ 23h 59m\n",
       "└── PID: 18055"
      ]
     },
     "execution_count": 4,
     "metadata": {},
     "output_type": "execute_result"
    }
   ],
   "source": [
    "server"
   ]
  },
  {
   "cell_type": "code",
   "execution_count": 5,
   "id": "276a8d38",
   "metadata": {},
   "outputs": [
    {
     "data": {
      "text/html": [
       "\n",
       "        <div style=\"font-family: -apple-system, BlinkMacSystemFont, 'Segoe UI', Roboto, sans-serif; background: #1e1e1e; border: 1px solid #3e3e3e; border-radius: 5px; padding: 15px;\">\n",
       "            <table style=\"border-collapse: collapse; width: 100%; margin-bottom: 10px; background: #1e1e1e;\">\n",
       "                <thead>\n",
       "                    <tr style=\"border-bottom: 2px solid #3e3e3e; background: #2d2d2d;\">\n",
       "                        <th style=\"padding: 8px; text-align: left; color: #e0e0e0;\">Name</th>\n",
       "                        <th style=\"padding: 8px; text-align: left; color: #e0e0e0;\">Port</th>\n",
       "                        <th style=\"padding: 8px; text-align: left; color: #e0e0e0;\">Status</th>\n",
       "                        <th style=\"padding: 8px; text-align: left; color: #e0e0e0;\">Endpoints</th>\n",
       "                        <th style=\"padding: 8px; text-align: left; color: #e0e0e0;\">Uptime</th>\n",
       "                        <th style=\"padding: 8px; text-align: left; color: #e0e0e0;\">Expires In</th>\n",
       "                        <th style=\"padding: 8px; text-align: left; color: #e0e0e0;\">PID</th>\n",
       "                    </tr>\n",
       "                </thead>\n",
       "                <tbody>\n",
       "                    \n",
       "            <tr style=\"background: #1e1e1e;\">\n",
       "                <td style=\"padding: 8px; color: #e0e0e0;\"><strong>job_runner</strong></td>\n",
       "                <td style=\"padding: 8px; color: #e0e0e0;\">8000</td>\n",
       "                <td style=\"padding: 8px; color: #27ae60;\">✅ Running</td>\n",
       "                <td style=\"padding: 8px; color: #e0e0e0;\"><code>/start</code></td>\n",
       "                <td style=\"padding: 8px; color: #e0e0e0;\">4s</td>\n",
       "                <td style=\"padding: 8px; color: #f59e0b; font-weight: 500;\">23h 59m</td>\n",
       "                <td style=\"padding: 8px;\"><code style=\"background: #2d2d2d; padding: 2px 4px; border-radius: 3px; color: #e0e0e0;\">18055</code></td>\n",
       "            </tr>\n",
       "            \n",
       "                </tbody>\n",
       "            </table>\n",
       "            <div style=\"color: #a0a0a0; font-size: 14px;\">\n",
       "                1 servers (1 running, 0 stopped)\n",
       "            </div>\n",
       "        </div>\n",
       "        "
      ],
      "text/plain": [
       "Name          Port  Status      Endpoints    Uptime      PID\n",
       "----------  ------  ----------  -----------  --------  -----\n",
       "job_runner    8000  ✅ Running  /start       4s        18055\n",
       "1 servers (1 running, 0 stopped)"
      ]
     },
     "execution_count": 5,
     "metadata": {},
     "output_type": "execute_result"
    }
   ],
   "source": [
    "ss.servers"
   ]
  },
  {
   "cell_type": "code",
   "execution_count": 10,
   "id": "286234b9",
   "metadata": {},
   "outputs": [],
   "source": [
    "import requests\n",
    "res = requests.get(f\"{server.url}/start\")\n",
    "\n",
    "res.raise_for_status()"
   ]
  },
  {
   "cell_type": "code",
   "execution_count": 11,
   "id": "fb11abf2",
   "metadata": {},
   "outputs": [
    {
     "data": {
      "text/plain": [
       "b'{\"status\":\"already_running\"}'"
      ]
     },
     "execution_count": 11,
     "metadata": {},
     "output_type": "execute_result"
    }
   ],
   "source": [
    "res.content"
   ]
  },
  {
   "cell_type": "code",
   "execution_count": null,
   "id": "48394496",
   "metadata": {},
   "outputs": [],
   "source": [
    "ss.servers[0]"
   ]
  },
  {
   "cell_type": "code",
   "execution_count": null,
   "id": "99a9f7ea",
   "metadata": {},
   "outputs": [],
   "source": [
    "ss.terminate_all()"
   ]
  },
  {
   "cell_type": "code",
   "execution_count": null,
   "id": "5c1e5621",
   "metadata": {},
   "outputs": [],
   "source": []
  }
 ],
 "metadata": {
  "kernelspec": {
   "display_name": "syft-client",
   "language": "python",
   "name": "python3"
  },
  "language_info": {
   "codemirror_mode": {
    "name": "ipython",
    "version": 3
   },
   "file_extension": ".py",
   "mimetype": "text/x-python",
   "name": "python",
   "nbconvert_exporter": "python",
   "pygments_lexer": "ipython3",
   "version": "3.12.8"
  }
 },
 "nbformat": 4,
 "nbformat_minor": 5
}
