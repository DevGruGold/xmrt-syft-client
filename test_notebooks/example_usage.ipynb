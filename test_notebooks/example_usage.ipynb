{
 "cells": [
  {
   "cell_type": "markdown",
   "metadata": {},
   "source": [
    "# SyftClient Usage Example\n",
    "\n",
    "This notebook demonstrates how to use the new SyftClient object structure."
   ]
  },
  {
   "cell_type": "code",
   "execution_count": null,
   "metadata": {},
   "outputs": [],
   "source": [
    "import syft_client as sc"
   ]
  },
  {
   "cell_type": "markdown",
   "metadata": {},
   "source": [
    "## Login to create a SyftClient\n",
    "\n",
    "The `login()` function returns a `SyftClient` object that manages all your authenticated platforms:"
   ]
  },
  {
   "cell_type": "code",
   "execution_count": null,
   "metadata": {},
   "outputs": [],
   "source": [
    "# Login with your email\n",
    "client = sc.login(\"your@gmail.com\")\n",
    "\n",
    "# The client object now contains your authenticated platform\n",
    "print(client)"
   ]
  },
  {
   "cell_type": "markdown",
   "metadata": {},
   "source": [
    "## Exploring the SyftClient\n",
    "\n",
    "The SyftClient provides methods to explore what platforms and transports are available:"
   ]
  },
  {
   "cell_type": "code",
   "metadata": {},
   "outputs": [],
   "source": "# Get the authenticated email\nprint(\"Authenticated email:\", client.email)\n\n# Get the platform name\nprint(f\"\\nPlatform: {client.platform_name}\")\n\n# Get the platform client object\nprint(f\"\\nPlatform client: {client.platform}\")\n\n# Get available transport layers\nprint(f\"\\nAvailable transports: {client.transports}\")"
  },
  {
   "cell_type": "markdown",
   "metadata": {},
   "source": "## Future: Managing Multiple Accounts\n\nIn the future, you might want to manage multiple accounts. For now, each login creates a new SyftClient for that specific email:",
   "outputs": []
  },
  {
   "cell_type": "code",
   "metadata": {},
   "outputs": [],
   "source": "# Each login creates a separate client\ngmail_client = sc.login(\"your@gmail.com\")\noutlook_client = sc.login(\"your@outlook.com\")\n\nprint(f\"Gmail client: {gmail_client.email}\")\nprint(f\"Outlook client: {outlook_client.email}\")"
  },
  {
   "cell_type": "markdown",
   "metadata": {},
   "source": [
    "## Future: Using Transport Layers\n",
    "\n",
    "Eventually you'll be able to use the transport layers to sync files:"
   ]
  },
  {
   "cell_type": "code",
   "metadata": {},
   "outputs": [],
   "source": "# Future API (not implemented yet):\n# gmail_transport = client.get_transport(\"GmailTransport\")\n# gdrive_transport = client.get_transport(\"GDriveFilesTransport\")\n\n# Send files via email\n# gmail_transport.send_file(\"data.csv\", to=\"colleague@example.com\")\n\n# Sync via Google Drive\n# gdrive_transport.sync_folder(\"/path/to/folder\")"
  }
 ],
 "metadata": {
  "kernelspec": {
   "display_name": "Python 3",
   "language": "python",
   "name": "python3"
  },
  "language_info": {
   "codemirror_mode": {
    "name": "ipython",
    "version": 3
   },
   "file_extension": ".py",
   "mimetype": "text/x-python",
   "name": "python",
   "nbconvert_exporter": "python",
   "pygments_lexer": "ipython3",
   "version": "3.8.0"
  }
 },
 "nbformat": 4,
 "nbformat_minor": 4
}