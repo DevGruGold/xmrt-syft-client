{
 "cells": [
  {
   "cell_type": "code",
   "execution_count": 1,
   "id": "2b38078c-9b58-4d63-a6b3-387d2e6d2d41",
   "metadata": {},
   "outputs": [],
   "source": [
    "# !uv pip install -e /Users/atrask/Desktop/Laboratory/syft-job"
   ]
  },
  {
   "cell_type": "code",
   "execution_count": 1,
   "id": "c1597c93-e089-4b7d-9ca7-0997c477ede2",
   "metadata": {},
   "outputs": [
    {
     "data": {
      "text/plain": [
       "{'tracked_total': 0,\n",
       " 'tracked_terminated': 0,\n",
       " 'tracked_failed': [],\n",
       " 'orphaned_discovered': 0,\n",
       " 'orphaned_terminated': 0,\n",
       " 'orphaned_failed': [],\n",
       " 'success': True}"
      ]
     },
     "execution_count": 1,
     "metadata": {},
     "output_type": "execute_result"
    }
   ],
   "source": [
    "import sys\n",
    "sys.path.insert(0, '..')\n",
    "import syft_client as sc\n",
    "import syft_serve as ss\n",
    "ss.servers.terminate_all()"
   ]
  },
  {
   "cell_type": "code",
   "execution_count": 2,
   "id": "78eb0832-968a-4c8e-880b-012034008b4d",
   "metadata": {},
   "outputs": [],
   "source": [
    "!ps aux | grep uvicorn | grep -v grep | awk '{print $2}' | xargs kill -9"
   ]
  },
  {
   "cell_type": "code",
   "execution_count": 4,
   "id": "b3c62feb-71bb-4b7f-a74a-1180fcf4dc1e",
   "metadata": {},
   "outputs": [
    {
     "name": "stdout",
     "output_type": "stream",
     "text": [
      "✅ Connected peer-to-peer to 2 peers via: Gmail, Gdrive_Files, Gsheets, Gforms                    \n",
      "✅ Connected peer-to-peer to 1 peer via: Gmail, Gdrive_Files, Gsheets, Gforms                      \n"
     ]
    }
   ],
   "source": [
    "client1 = sc.login(\"liamtrask@gmail.com\")\n",
    "client2 = sc.login(\"andrew@openmined.org\")"
   ]
  },
  {
   "cell_type": "code",
   "execution_count": 15,
   "id": "f25b41f3-519e-4bed-a1f0-5df4890bca79",
   "metadata": {},
   "outputs": [
    {
     "data": {
      "text/html": [
       "\n",
       "        <div style=\"font-family: -apple-system, BlinkMacSystemFont, 'Segoe UI', Roboto, sans-serif; background: #1e1e1e; border: 1px solid #3e3e3e; border-radius: 5px; padding: 15px;\">\n",
       "            <table style=\"border-collapse: collapse; width: 100%; margin-bottom: 10px; background: #1e1e1e;\">\n",
       "                <thead>\n",
       "                    <tr style=\"border-bottom: 2px solid #3e3e3e; background: #2d2d2d;\">\n",
       "                        <th style=\"padding: 8px; text-align: left; color: #e0e0e0;\">Name</th>\n",
       "                        <th style=\"padding: 8px; text-align: left; color: #e0e0e0;\">Port</th>\n",
       "                        <th style=\"padding: 8px; text-align: left; color: #e0e0e0;\">Status</th>\n",
       "                        <th style=\"padding: 8px; text-align: left; color: #e0e0e0;\">Endpoints</th>\n",
       "                        <th style=\"padding: 8px; text-align: left; color: #e0e0e0;\">Uptime</th>\n",
       "                        <th style=\"padding: 8px; text-align: left; color: #e0e0e0;\">Expires In</th>\n",
       "                        <th style=\"padding: 8px; text-align: left; color: #e0e0e0;\">PID</th>\n",
       "                    </tr>\n",
       "                </thead>\n",
       "                <tbody>\n",
       "                    \n",
       "            <tr style=\"background: #1e1e1e;\">\n",
       "                <td style=\"padding: 8px; color: #e0e0e0;\"><strong>watcher_sender_liamtrask_gmail_com</strong></td>\n",
       "                <td style=\"padding: 8px; color: #e0e0e0;\">8000</td>\n",
       "                <td style=\"padding: 8px; color: #27ae60;\">✅ Running</td>\n",
       "                <td style=\"padding: 8px; color: #e0e0e0;\"><code>/</code></td>\n",
       "                <td style=\"padding: 8px; color: #e0e0e0;\">7m 56s</td>\n",
       "                <td style=\"padding: 8px; color: #f59e0b; font-weight: 500;\">23h 59m</td>\n",
       "                <td style=\"padding: 8px;\"><code style=\"background: #2d2d2d; padding: 2px 4px; border-radius: 3px; color: #e0e0e0;\">14775</code></td>\n",
       "            </tr>\n",
       "            \n",
       "            <tr style=\"background: #1e1e1e;\">\n",
       "                <td style=\"padding: 8px; color: #e0e0e0;\"><strong>receiver_liamtrask_gmail_com</strong></td>\n",
       "                <td style=\"padding: 8px; color: #e0e0e0;\">8001</td>\n",
       "                <td style=\"padding: 8px; color: #27ae60;\">✅ Running</td>\n",
       "                <td style=\"padding: 8px; color: #e0e0e0;\"><code>/</code></td>\n",
       "                <td style=\"padding: 8px; color: #e0e0e0;\">7m 48s</td>\n",
       "                <td style=\"padding: 8px; color: #f59e0b; font-weight: 500;\">23h 59m</td>\n",
       "                <td style=\"padding: 8px;\"><code style=\"background: #2d2d2d; padding: 2px 4px; border-radius: 3px; color: #e0e0e0;\">14780</code></td>\n",
       "            </tr>\n",
       "            \n",
       "            <tr style=\"background: #1e1e1e;\">\n",
       "                <td style=\"padding: 8px; color: #e0e0e0;\"><strong>watcher_sender_andrew_openmined_org</strong></td>\n",
       "                <td style=\"padding: 8px; color: #e0e0e0;\">8002</td>\n",
       "                <td style=\"padding: 8px; color: #27ae60;\">✅ Running</td>\n",
       "                <td style=\"padding: 8px; color: #e0e0e0;\"><code>/</code></td>\n",
       "                <td style=\"padding: 8px; color: #e0e0e0;\">7m 37s</td>\n",
       "                <td style=\"padding: 8px; color: #f59e0b; font-weight: 500;\">23h 59m</td>\n",
       "                <td style=\"padding: 8px;\"><code style=\"background: #2d2d2d; padding: 2px 4px; border-radius: 3px; color: #e0e0e0;\">14787</code></td>\n",
       "            </tr>\n",
       "            \n",
       "            <tr style=\"background: #1e1e1e;\">\n",
       "                <td style=\"padding: 8px; color: #e0e0e0;\"><strong>receiver_andrew_openmined_org</strong></td>\n",
       "                <td style=\"padding: 8px; color: #e0e0e0;\">8003</td>\n",
       "                <td style=\"padding: 8px; color: #27ae60;\">✅ Running</td>\n",
       "                <td style=\"padding: 8px; color: #e0e0e0;\"><code>/</code></td>\n",
       "                <td style=\"padding: 8px; color: #e0e0e0;\">7m 28s</td>\n",
       "                <td style=\"padding: 8px; color: #f59e0b; font-weight: 500;\">23h 59m</td>\n",
       "                <td style=\"padding: 8px;\"><code style=\"background: #2d2d2d; padding: 2px 4px; border-radius: 3px; color: #e0e0e0;\">14791</code></td>\n",
       "            </tr>\n",
       "            \n",
       "                </tbody>\n",
       "            </table>\n",
       "            <div style=\"color: #a0a0a0; font-size: 14px;\">\n",
       "                4 servers (4 running, 0 stopped)\n",
       "            </div>\n",
       "        </div>\n",
       "        "
      ],
      "text/plain": [
       "Name                                   Port  Status      Endpoints    Uptime      PID\n",
       "-----------------------------------  ------  ----------  -----------  --------  -----\n",
       "watcher_sender_liamtrask_gmail_com     8000  ✅ Running  /            7m 56s    14775\n",
       "receiver_liamtrask_gmail_com           8001  ✅ Running  /            7m 47s    14780\n",
       "watcher_sender_andrew_openmined_org    8002  ✅ Running  /            7m 37s    14787\n",
       "receiver_andrew_openmined_org          8003  ✅ Running  /            7m 28s    14791\n",
       "4 servers (4 running, 0 stopped)"
      ]
     },
     "execution_count": 15,
     "metadata": {},
     "output_type": "execute_result"
    }
   ],
   "source": [
    "ss.servers"
   ]
  },
  {
   "cell_type": "code",
   "execution_count": 14,
   "id": "f7f078d2-1a17-4583-a6b7-738591a46284",
   "metadata": {},
   "outputs": [],
   "source": [
    "# https://huggingface.co/datasets/Dahoas/instruct-synthetic-prompt-responses"
   ]
  },
  {
   "cell_type": "code",
   "execution_count": 7,
   "id": "7f1a311f-df54-4b77-8f08-483d318363ad",
   "metadata": {},
   "outputs": [],
   "source": [
    "SAMPLE_BASH_SCRIPT = \"\"\"\n",
    "#!/bin/bash\n",
    "\n",
    "# Colors 1234\n",
    "RED='\\033[0;31m'\n",
    "GREEN='\\033[0;32m'\n",
    "YELLOW='\\033[1;33m'\n",
    "CYAN='\\033[0;36m'\n",
    "NC='\\033[0m' # No Color\n",
    "\n",
    "# Clear the screen\n",
    "clear\n",
    "\n",
    "# Print header with border\n",
    "echo -e \"${CYAN}==============================${NC}\"\n",
    "echo -e \"${GREEN}     🌟 Current Date 🌟     ${NC}\"\n",
    "echo -e \"${CYAN}==============================${NC}\"\n",
    "\n",
    "# Animate dots\n",
    "for i in {1..3}; do\n",
    "  echo -n \".\"\n",
    "  sleep 0.3\n",
    "done\n",
    "echo \"\"\n",
    "\n",
    "# Print date in yellow\n",
    "echo -e \"${YELLOW}$(date)${NC}\"\n",
    "\n",
    "# Footer\n",
    "echo -e \"${CYAN}==============================${NC}\"\n",
    "\"\"\""
   ]
  },
  {
   "cell_type": "code",
   "execution_count": 11,
   "id": "28327d9c-29dc-402b-91c2-ed39b82bfcc7",
   "metadata": {},
   "outputs": [
    {
     "data": {
      "text/plain": [
       "PosixPath('/Users/atrask/SyftBox_liamtrask@gmail.com/datasites/andrew@openmined.org/app_data/job/inbox/Job - 707258b9')"
      ]
     },
     "execution_count": 11,
     "metadata": {},
     "output_type": "execute_result"
    }
   ],
   "source": [
    "client1.submit_bash_job(user=\"andrew@openmined.org\", \n",
    "                        script=SAMPLE_BASH_SCRIPT)"
   ]
  },
  {
   "cell_type": "code",
   "execution_count": 16,
   "id": "384bff0d-4119-4a05-a5d0-05fdf4a1bf6e",
   "metadata": {},
   "outputs": [
    {
     "data": {
      "text/html": [
       "\n",
       "            <style>\n",
       "\n",
       "                .syftjob-empty {\n",
       "                    padding: 30px 20px;\n",
       "                    text-align: center;\n",
       "                    border-radius: 8px;\n",
       "                    background: linear-gradient(135deg, #f8c073 0%, #f79763 50%, #cc677b 100%);\n",
       "                    border: 1px solid rgba(248,192,115,0.2);\n",
       "                    color: white;\n",
       "                }\n",
       "\n",
       "\n",
       "                .syftjob-empty h3 {\n",
       "                    margin: 0 0 12px 0;\n",
       "                    font-size: 18px;\n",
       "                    color: white;\n",
       "                    font-weight: 600;\n",
       "                }\n",
       "\n",
       "                .syftjob-empty p {\n",
       "                    margin: 0;\n",
       "                    color: rgba(255,255,255,0.9);\n",
       "                    font-size: 16px;\n",
       "                    opacity: 0.95;\n",
       "                }\n",
       "\n",
       "                .syftjob-empty-icon {\n",
       "                    font-size: 24px;\n",
       "                    margin-bottom: 12px;\n",
       "                    display: block;\n",
       "                }\n",
       "\n",
       "                /* Dark theme */\n",
       "                @media (prefers-color-scheme: dark) {\n",
       "                    .syftjob-empty {\n",
       "                        background: linear-gradient(135deg, #2d3748 0%, #4a5568 100%);\n",
       "                        border-color: rgba(74,85,104,0.2);\n",
       "                    }\n",
       "                    .syftjob-empty h3 {\n",
       "                        color: white;\n",
       "                    }\n",
       "                    .syftjob-empty p {\n",
       "                        color: rgba(255,255,255,0.95);\n",
       "                        opacity: 0.95;\n",
       "                    }\n",
       "                }\n",
       "\n",
       "                /* Jupyter dark theme detection */\n",
       "                .jp-RenderedHTMLCommon[data-jp-theme-light=\"false\"] .syftjob-empty,\n",
       "                body[data-jp-theme-light=\"false\"] .syftjob-empty {\n",
       "                    background: linear-gradient(135deg, #2d3748 0%, #4a5568 100%);\n",
       "                    border-color: rgba(74,85,104,0.2);\n",
       "                }\n",
       "                .jp-RenderedHTMLCommon[data-jp-theme-light=\"false\"] .syftjob-empty h3,\n",
       "                body[data-jp-theme-light=\"false\"] .syftjob-empty h3 {\n",
       "                    color: white;\n",
       "                }\n",
       "                .jp-RenderedHTMLCommon[data-jp-theme-light=\"false\"] .syftjob-empty p,\n",
       "                body[data-jp-theme-light=\"false\"] .syftjob-empty p {\n",
       "                    color: rgba(255,255,255,0.95);\n",
       "                    opacity: 0.95;\n",
       "                }\n",
       "            </style>\n",
       "            <div class=\"syftjob-empty\">\n",
       "                <span class=\"syftjob-empty-icon\">📭</span>\n",
       "                <h3>No jobs found</h3>\n",
       "                <p>Submit jobs to see them here</p>\n",
       "            </div>\n",
       "            "
      ],
      "text/plain": [
       "JobsList(0 jobs)"
      ]
     },
     "execution_count": 16,
     "metadata": {},
     "output_type": "execute_result"
    }
   ],
   "source": [
    "client1.jobs"
   ]
  },
  {
   "cell_type": "code",
   "execution_count": 13,
   "id": "4691cd65-d3b0-4d32-aae6-e29ede76352f",
   "metadata": {
    "scrolled": true
   },
   "outputs": [],
   "source": [
    "# for row in ss.servers['watcher_sender_liamtrask_gmail_com'].stdout.lines():\n",
    "#     print(row)"
   ]
  },
  {
   "cell_type": "code",
   "execution_count": 20,
   "id": "02f4bbaa-a8b4-4d25-9cf3-31c5f75c35fa",
   "metadata": {},
   "outputs": [],
   "source": [
    "# ss.servers['watcher_sender_andrew_openmined_org'].stdout.lines()"
   ]
  },
  {
   "cell_type": "code",
   "execution_count": null,
   "id": "8d4545c7-2ee5-4988-be42-b0e82206d45b",
   "metadata": {},
   "outputs": [],
   "source": [
    "# ss.servers['watcher_sender_andrew_openmined_org'].stderr.lines()"
   ]
  },
  {
   "cell_type": "code",
   "execution_count": 21,
   "id": "87f3a045-53a2-4722-a4d7-361e0dfbd3c7",
   "metadata": {
    "scrolled": true
   },
   "outputs": [],
   "source": [
    "# ss.servers['receiver_andrew_openmined_org'].stdout.lines()"
   ]
  },
  {
   "cell_type": "code",
   "execution_count": 22,
   "id": "7bb6eb09-0d2b-43af-896a-1539778f204d",
   "metadata": {
    "scrolled": true
   },
   "outputs": [],
   "source": [
    "# ss.servers['receiver_liamtrask_gmail_com'].stdout.lines()"
   ]
  },
  {
   "cell_type": "code",
   "execution_count": 23,
   "id": "88379a13-a684-4747-b9ce-e7b3c7c542b4",
   "metadata": {},
   "outputs": [],
   "source": [
    "# peer = client2.peers['liamtrask@gmail.com']\n",
    "# peer.check_inbox()"
   ]
  },
  {
   "cell_type": "code",
   "execution_count": 24,
   "id": "ec8aa13c-e414-4ca8-b69e-3ed81224d247",
   "metadata": {},
   "outputs": [],
   "source": [
    "# peer2 = client1.peers['andrew@openmined.org']\n",
    "# peer2.check_inbox()"
   ]
  },
  {
   "cell_type": "code",
   "execution_count": null,
   "id": "90b89947-584f-4895-b499-f14223b8d64f",
   "metadata": {},
   "outputs": [],
   "source": []
  },
  {
   "cell_type": "code",
   "execution_count": 57,
   "id": "81623e8a-77bf-4049-b97e-f766edfa2423",
   "metadata": {},
   "outputs": [],
   "source": [
    "# ss.servers['receiver_liamtrask_gmail_com'].force_terminate()"
   ]
  },
  {
   "cell_type": "code",
   "execution_count": 58,
   "id": "60cc86ed-3198-4503-8cd0-e8e0a4140199",
   "metadata": {},
   "outputs": [],
   "source": [
    "# ss.servers['watcher_sender_andrew_openmined_org'].force_terminate()"
   ]
  },
  {
   "cell_type": "code",
   "execution_count": 44,
   "id": "fdb555ab-341a-4f8b-96b8-0689347ef54b",
   "metadata": {},
   "outputs": [],
   "source": []
  },
  {
   "cell_type": "code",
   "execution_count": null,
   "id": "fc742359-0055-4165-a0a5-4a8444a7ed85",
   "metadata": {},
   "outputs": [],
   "source": []
  }
 ],
 "metadata": {
  "kernelspec": {
   "display_name": "Python 3 (ipykernel)",
   "language": "python",
   "name": "python3"
  },
  "language_info": {
   "codemirror_mode": {
    "name": "ipython",
    "version": 3
   },
   "file_extension": ".py",
   "mimetype": "text/x-python",
   "name": "python",
   "nbconvert_exporter": "python",
   "pygments_lexer": "ipython3",
   "version": "3.12.9"
  }
 },
 "nbformat": 4,
 "nbformat_minor": 5
}
