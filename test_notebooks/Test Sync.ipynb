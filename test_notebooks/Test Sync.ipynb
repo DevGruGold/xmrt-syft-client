{
 "cells": [
  {
   "cell_type": "code",
   "execution_count": 1,
   "id": "c1597c93-e089-4b7d-9ca7-0997c477ede2",
   "metadata": {},
   "outputs": [],
   "source": [
    "import sys\n",
    "sys.path.insert(0, '..')\n",
    "import syft_client as sc\n",
    "import syft_serve as ss"
   ]
  },
  {
   "cell_type": "code",
   "execution_count": 2,
   "id": "0c1c4206-a57e-46a8-bc12-d25209cccfa4",
   "metadata": {},
   "outputs": [
    {
     "name": "stdout",
     "output_type": "stream",
     "text": [
      "✅ Connected peer-to-peer to 3 peers via: Gmail, Gdrive_Files, Gsheets, Gforms                    \n",
      "\n",
      "📡 Watcher already running | 📥 Receiver already running\n",
      "✅ Connected peer-to-peer to 3 peers via: Gmail, Gdrive_Files, Gsheets, Gforms                     \n",
      "\n",
      "📡 Watcher already running | 📥 Receiver already running\n"
     ]
    }
   ],
   "source": [
    "client1 = sc.login(\"liamtrask@gmail.com\")\n",
    "client2 = sc.login(\"andrew@openmined.org\")"
   ]
  },
  {
   "cell_type": "code",
   "execution_count": null,
   "id": "23e9e6ba-59c7-4416-843b-e0de5dbdd5ca",
   "metadata": {},
   "outputs": [],
   "source": []
  },
  {
   "cell_type": "code",
   "execution_count": null,
   "id": "3b572e70-e60d-46b0-9582-3734408a3d8b",
   "metadata": {},
   "outputs": [],
   "source": []
  },
  {
   "cell_type": "code",
   "execution_count": 12,
   "id": "9aab7cce-6910-45bf-a5c9-6c096d6d22d6",
   "metadata": {},
   "outputs": [
    {
     "data": {
      "text/plain": [
       "{'status': 'already_running',\n",
       " 'message': 'Watcher already active for andrew@openmined.org'}"
      ]
     },
     "execution_count": 12,
     "metadata": {},
     "output_type": "execute_result"
    }
   ],
   "source": [
    "# Start watchers for both\n",
    "client1.start_watcher()  # or client1.watcher.start()\n",
    "client2.start_watcher()  # or client2.watcher.start()"
   ]
  },
  {
   "cell_type": "code",
   "execution_count": 7,
   "id": "1d5d9e68-25dd-428d-b67a-f4222f2a962d",
   "metadata": {},
   "outputs": [
    {
     "data": {
      "text/html": [
       "\n",
       "        <div style=\"font-family: -apple-system, BlinkMacSystemFont, 'Segoe UI', Roboto, sans-serif; background: #1e1e1e; border: 1px solid #3e3e3e; border-radius: 5px; padding: 15px;\">\n",
       "            <table style=\"border-collapse: collapse; width: 100%; margin-bottom: 10px; background: #1e1e1e;\">\n",
       "                <thead>\n",
       "                    <tr style=\"border-bottom: 2px solid #3e3e3e; background: #2d2d2d;\">\n",
       "                        <th style=\"padding: 8px; text-align: left; color: #e0e0e0;\">Name</th>\n",
       "                        <th style=\"padding: 8px; text-align: left; color: #e0e0e0;\">Port</th>\n",
       "                        <th style=\"padding: 8px; text-align: left; color: #e0e0e0;\">Status</th>\n",
       "                        <th style=\"padding: 8px; text-align: left; color: #e0e0e0;\">Endpoints</th>\n",
       "                        <th style=\"padding: 8px; text-align: left; color: #e0e0e0;\">Uptime</th>\n",
       "                        <th style=\"padding: 8px; text-align: left; color: #e0e0e0;\">Expires In</th>\n",
       "                        <th style=\"padding: 8px; text-align: left; color: #e0e0e0;\">PID</th>\n",
       "                    </tr>\n",
       "                </thead>\n",
       "                <tbody>\n",
       "                    \n",
       "            <tr style=\"background: #1e1e1e;\">\n",
       "                <td style=\"padding: 8px; color: #e0e0e0;\"><strong>watcher_sender_liamtrask_gmail_com</strong></td>\n",
       "                <td style=\"padding: 8px; color: #e0e0e0;\">8000</td>\n",
       "                <td style=\"padding: 8px; color: #27ae60;\">✅ Running</td>\n",
       "                <td style=\"padding: 8px; color: #e0e0e0;\"><code>/</code></td>\n",
       "                <td style=\"padding: 8px; color: #e0e0e0;\">31s</td>\n",
       "                <td style=\"padding: 8px; color: #f59e0b; font-weight: 500;\">23h 59m</td>\n",
       "                <td style=\"padding: 8px;\"><code style=\"background: #2d2d2d; padding: 2px 4px; border-radius: 3px; color: #e0e0e0;\">35977</code></td>\n",
       "            </tr>\n",
       "            \n",
       "            <tr style=\"background: #1e1e1e;\">\n",
       "                <td style=\"padding: 8px; color: #e0e0e0;\"><strong>watcher_sender_andrew_openmined_org</strong></td>\n",
       "                <td style=\"padding: 8px; color: #e0e0e0;\">8002</td>\n",
       "                <td style=\"padding: 8px; color: #27ae60;\">✅ Running</td>\n",
       "                <td style=\"padding: 8px; color: #e0e0e0;\"><code>/</code></td>\n",
       "                <td style=\"padding: 8px; color: #e0e0e0;\">16s</td>\n",
       "                <td style=\"padding: 8px; color: #f59e0b; font-weight: 500;\">23h 59m</td>\n",
       "                <td style=\"padding: 8px;\"><code style=\"background: #2d2d2d; padding: 2px 4px; border-radius: 3px; color: #e0e0e0;\">35988</code></td>\n",
       "            </tr>\n",
       "            \n",
       "                </tbody>\n",
       "            </table>\n",
       "            <div style=\"color: #a0a0a0; font-size: 14px;\">\n",
       "                2 servers (2 running, 0 stopped)\n",
       "            </div>\n",
       "        </div>\n",
       "        "
      ],
      "text/plain": [
       "Name                                   Port  Status      Endpoints    Uptime      PID\n",
       "-----------------------------------  ------  ----------  -----------  --------  -----\n",
       "watcher_sender_liamtrask_gmail_com     8000  ✅ Running  /            31s       35977\n",
       "watcher_sender_andrew_openmined_org    8002  ✅ Running  /            16s       35988\n",
       "2 servers (2 running, 0 stopped)"
      ]
     },
     "execution_count": 7,
     "metadata": {},
     "output_type": "execute_result"
    }
   ],
   "source": [
    "ss.servers"
   ]
  },
  {
   "cell_type": "code",
   "execution_count": 8,
   "id": "378fb1f3-675f-4f67-82b5-7e92d746c1b5",
   "metadata": {},
   "outputs": [
    {
     "name": "stdout",
     "output_type": "stream",
     "text": [
      "Waiting for receiver to initialize...\n",
      "✓ Receiver started successfully at http://localhost:8006\n"
     ]
    },
    {
     "data": {
      "text/plain": [
       "{'status': 'started',\n",
       " 'message': 'Receiver started for liamtrask@gmail.com',\n",
       " 'check_interval': 30,\n",
       " 'auto_accept': True}"
      ]
     },
     "execution_count": 8,
     "metadata": {},
     "output_type": "execute_result"
    }
   ],
   "source": [
    "# Start receivers for both\n",
    "client1.start_receiver()  # or client1.receiver.start()"
   ]
  },
  {
   "cell_type": "code",
   "execution_count": 9,
   "id": "330bbca3-3a93-494d-be2a-fb999f033f1a",
   "metadata": {},
   "outputs": [
    {
     "name": "stdout",
     "output_type": "stream",
     "text": [
      "Waiting for receiver to initialize...\n",
      "✓ Receiver started successfully at http://localhost:8007\n"
     ]
    },
    {
     "data": {
      "text/plain": [
       "{'status': 'started',\n",
       " 'message': 'Receiver started for andrew@openmined.org',\n",
       " 'check_interval': 30,\n",
       " 'auto_accept': True}"
      ]
     },
     "execution_count": 9,
     "metadata": {},
     "output_type": "execute_result"
    }
   ],
   "source": [
    "client2.start_receiver()  # or client2.receiver.start()"
   ]
  },
  {
   "cell_type": "code",
   "execution_count": 11,
   "id": "0ce74048-8712-463d-9895-29cf6a22ff89",
   "metadata": {},
   "outputs": [
    {
     "data": {
      "text/html": [
       "\n",
       "        <div style=\"font-family: -apple-system, BlinkMacSystemFont, 'Segoe UI', Roboto, sans-serif; background: #1e1e1e; border: 1px solid #3e3e3e; border-radius: 5px; padding: 15px;\">\n",
       "            <table style=\"border-collapse: collapse; width: 100%; margin-bottom: 10px; background: #1e1e1e;\">\n",
       "                <thead>\n",
       "                    <tr style=\"border-bottom: 2px solid #3e3e3e; background: #2d2d2d;\">\n",
       "                        <th style=\"padding: 8px; text-align: left; color: #e0e0e0;\">Name</th>\n",
       "                        <th style=\"padding: 8px; text-align: left; color: #e0e0e0;\">Port</th>\n",
       "                        <th style=\"padding: 8px; text-align: left; color: #e0e0e0;\">Status</th>\n",
       "                        <th style=\"padding: 8px; text-align: left; color: #e0e0e0;\">Endpoints</th>\n",
       "                        <th style=\"padding: 8px; text-align: left; color: #e0e0e0;\">Uptime</th>\n",
       "                        <th style=\"padding: 8px; text-align: left; color: #e0e0e0;\">Expires In</th>\n",
       "                        <th style=\"padding: 8px; text-align: left; color: #e0e0e0;\">PID</th>\n",
       "                    </tr>\n",
       "                </thead>\n",
       "                <tbody>\n",
       "                    \n",
       "            <tr style=\"background: #1e1e1e;\">\n",
       "                <td style=\"padding: 8px; color: #e0e0e0;\"><strong>watcher_sender_liamtrask_gmail_com</strong></td>\n",
       "                <td style=\"padding: 8px; color: #e0e0e0;\">8000</td>\n",
       "                <td style=\"padding: 8px; color: #27ae60;\">✅ Running</td>\n",
       "                <td style=\"padding: 8px; color: #e0e0e0;\"><code>/</code></td>\n",
       "                <td style=\"padding: 8px; color: #e0e0e0;\">1m 2s</td>\n",
       "                <td style=\"padding: 8px; color: #f59e0b; font-weight: 500;\">23h 59m</td>\n",
       "                <td style=\"padding: 8px;\"><code style=\"background: #2d2d2d; padding: 2px 4px; border-radius: 3px; color: #e0e0e0;\">35977</code></td>\n",
       "            </tr>\n",
       "            \n",
       "            <tr style=\"background: #1e1e1e;\">\n",
       "                <td style=\"padding: 8px; color: #e0e0e0;\"><strong>watcher_sender_andrew_openmined_org</strong></td>\n",
       "                <td style=\"padding: 8px; color: #e0e0e0;\">8002</td>\n",
       "                <td style=\"padding: 8px; color: #27ae60;\">✅ Running</td>\n",
       "                <td style=\"padding: 8px; color: #e0e0e0;\"><code>/</code></td>\n",
       "                <td style=\"padding: 8px; color: #e0e0e0;\">47s</td>\n",
       "                <td style=\"padding: 8px; color: #f59e0b; font-weight: 500;\">23h 59m</td>\n",
       "                <td style=\"padding: 8px;\"><code style=\"background: #2d2d2d; padding: 2px 4px; border-radius: 3px; color: #e0e0e0;\">35988</code></td>\n",
       "            </tr>\n",
       "            \n",
       "            <tr style=\"background: #1e1e1e;\">\n",
       "                <td style=\"padding: 8px; color: #e0e0e0;\"><strong>receiver_liamtrask_gmail_com</strong></td>\n",
       "                <td style=\"padding: 8px; color: #e0e0e0;\">8006</td>\n",
       "                <td style=\"padding: 8px; color: #27ae60;\">✅ Running</td>\n",
       "                <td style=\"padding: 8px; color: #e0e0e0;\"><code>/</code></td>\n",
       "                <td style=\"padding: 8px; color: #e0e0e0;\">30s</td>\n",
       "                <td style=\"padding: 8px; color: #f59e0b; font-weight: 500;\">23h 59m</td>\n",
       "                <td style=\"padding: 8px;\"><code style=\"background: #2d2d2d; padding: 2px 4px; border-radius: 3px; color: #e0e0e0;\">35998</code></td>\n",
       "            </tr>\n",
       "            \n",
       "            <tr style=\"background: #1e1e1e;\">\n",
       "                <td style=\"padding: 8px; color: #e0e0e0;\"><strong>receiver_andrew_openmined_org</strong></td>\n",
       "                <td style=\"padding: 8px; color: #e0e0e0;\">8007</td>\n",
       "                <td style=\"padding: 8px; color: #27ae60;\">✅ Running</td>\n",
       "                <td style=\"padding: 8px; color: #e0e0e0;\"><code>/</code></td>\n",
       "                <td style=\"padding: 8px; color: #e0e0e0;\">26s</td>\n",
       "                <td style=\"padding: 8px; color: #f59e0b; font-weight: 500;\">23h 59m</td>\n",
       "                <td style=\"padding: 8px;\"><code style=\"background: #2d2d2d; padding: 2px 4px; border-radius: 3px; color: #e0e0e0;\">36003</code></td>\n",
       "            </tr>\n",
       "            \n",
       "                </tbody>\n",
       "            </table>\n",
       "            <div style=\"color: #a0a0a0; font-size: 14px;\">\n",
       "                4 servers (4 running, 0 stopped)\n",
       "            </div>\n",
       "        </div>\n",
       "        "
      ],
      "text/plain": [
       "Name                                   Port  Status      Endpoints    Uptime      PID\n",
       "-----------------------------------  ------  ----------  -----------  --------  -----\n",
       "watcher_sender_liamtrask_gmail_com     8000  ✅ Running  /            1m 2s     35977\n",
       "watcher_sender_andrew_openmined_org    8002  ✅ Running  /            47s       35988\n",
       "receiver_liamtrask_gmail_com           8006  ✅ Running  /            30s       35998\n",
       "receiver_andrew_openmined_org          8007  ✅ Running  /            26s       36003\n",
       "4 servers (4 running, 0 stopped)"
      ]
     },
     "execution_count": 11,
     "metadata": {},
     "output_type": "execute_result"
    }
   ],
   "source": [
    "ss.servers"
   ]
  },
  {
   "cell_type": "code",
   "execution_count": null,
   "id": "1dc6573b-49bd-40f8-921b-be18a7f159ef",
   "metadata": {},
   "outputs": [],
   "source": []
  },
  {
   "cell_type": "code",
   "execution_count": 13,
   "id": "69856aa1-9549-4f2b-814d-cf6610b335dc",
   "metadata": {},
   "outputs": [
    {
     "name": "stdout",
     "output_type": "stream",
     "text": [
      "Liam's watcher: {'running': True, 'server_url': 'http://localhost:8000', 'server_name': 'watcher_sender_liamtrask_gmail_com', 'email': 'liamtrask@gmail.com', 'message': 'Watcher active for liamtrask@gmail.com'}\n",
      "Liam's receiver: {'running': True, 'server_url': 'http://localhost:8002', 'server_name': 'receiver_liamtrask_gmail_com', 'email': 'liamtrask@gmail.com', 'message': 'Receiver active for liamtrask@gmail.com', 'messages_processed': 'unknown', 'last_check': 'unknown', 'peers_monitored': 3}\n",
      "Andrew's watcher: {'running': True, 'server_url': 'http://localhost:8001', 'server_name': 'watcher_sender_andrew_openmined_org', 'email': 'andrew@openmined.org', 'message': 'Watcher active for andrew@openmined.org'}\n",
      "Andrew's receiver: {'running': True, 'server_url': 'http://localhost:8003', 'server_name': 'receiver_andrew_openmined_org', 'email': 'andrew@openmined.org', 'message': 'Receiver active for andrew@openmined.org', 'messages_processed': 'unknown', 'last_check': 'unknown', 'peers_monitored': 3}\n"
     ]
    }
   ],
   "source": [
    "# Check status\n",
    "print(f\"Liam's watcher: {client1.watcher.status()}\")\n",
    "print(f\"Liam's receiver: {client1.receiver.status()}\")\n",
    "print(f\"Andrew's watcher: {client2.watcher.status()}\")\n",
    "print(f\"Andrew's receiver: {client2.receiver.status()}\")"
   ]
  },
  {
   "cell_type": "code",
   "execution_count": 22,
   "id": "223accdc-0684-4696-8c71-ac6cbdfb3a8b",
   "metadata": {},
   "outputs": [
    {
     "data": {
      "text/plain": [
       "['INFO:     127.0.0.1:54784 - \"GET /health HTTP/1.1\" 200 OK',\n",
       " 'INFO:     127.0.0.1:54786 - \"GET /health HTTP/1.1\" 200 OK',\n",
       " 'Starting watcher for liamtrask@gmail.com...',\n",
       " '📁 Using existing SyftBox directory: /Users/atrask/SyftBox_liamtrask@gmail.com',\n",
       " 'Login successful!',\n",
       " 'INFO:     127.0.0.1:54788 - \"GET / HTTP/1.1\" 200 OK',\n",
       " 'INFO:     127.0.0.1:54799 - \"GET /health HTTP/1.1\" 200 OK',\n",
       " 'INFO:     127.0.0.1:54801 - \"GET /syft/info HTTP/1.1\" 200 OK',\n",
       " 'INFO:     127.0.0.1:54803 - \"GET /health HTTP/1.1\" 200 OK',\n",
       " 'INFO:     127.0.0.1:54805 - \"GET /syft/info HTTP/1.1\" 200 OK',\n",
       " 'INFO:     127.0.0.1:54807 - \"GET /health HTTP/1.1\" 200 OK',\n",
       " 'INFO:     127.0.0.1:54809 - \"GET /syft/info HTTP/1.1\" 200 OK',\n",
       " 'INFO:     127.0.0.1:54811 - \"GET /health HTTP/1.1\" 200 OK',\n",
       " 'INFO:     127.0.0.1:54813 - \"GET /syft/info HTTP/1.1\" 200 OK',\n",
       " 'INFO:     127.0.0.1:54821 - \"GET /health HTTP/1.1\" 200 OK',\n",
       " 'INFO:     127.0.0.1:54834 - \"GET /health HTTP/1.1\" 200 OK',\n",
       " 'INFO:     127.0.0.1:54838 - \"GET /syft/info HTTP/1.1\" 200 OK',\n",
       " 'INFO:     127.0.0.1:54842 - \"GET /health HTTP/1.1\" 200 OK',\n",
       " 'INFO:     127.0.0.1:54844 - \"GET /health HTTP/1.1\" 200 OK',\n",
       " 'INFO:     127.0.0.1:54846 - \"GET /health HTTP/1.1\" 200 OK',\n",
       " 'INFO:     127.0.0.1:54854 - \"GET /health HTTP/1.1\" 200 OK',\n",
       " 'INFO:     127.0.0.1:54858 - \"GET /health HTTP/1.1\" 200 OK',\n",
       " 'INFO:     127.0.0.1:54862 - \"GET /syft/info HTTP/1.1\" 200 OK',\n",
       " 'INFO:     127.0.0.1:54866 - \"GET /health HTTP/1.1\" 200 OK',\n",
       " 'INFO:     127.0.0.1:54868 - \"GET /health HTTP/1.1\" 200 OK',\n",
       " 'INFO:     127.0.0.1:54870 - \"GET /health HTTP/1.1\" 200 OK',\n",
       " 'INFO:     127.0.0.1:54872 - \"GET /health HTTP/1.1\" 200 OK',\n",
       " 'INFO:     127.0.0.1:54882 - \"GET /health HTTP/1.1\" 200 OK',\n",
       " 'INFO:     127.0.0.1:54886 - \"GET /health HTTP/1.1\" 200 OK',\n",
       " 'INFO:     127.0.0.1:54890 - \"GET /syft/info HTTP/1.1\" 200 OK',\n",
       " 'INFO:     127.0.0.1:54894 - \"GET /health HTTP/1.1\" 200 OK',\n",
       " 'INFO:     127.0.0.1:54898 - \"GET /syft/info HTTP/1.1\" 200 OK',\n",
       " 'INFO:     127.0.0.1:54902 - \"GET /health HTTP/1.1\" 200 OK',\n",
       " 'INFO:     127.0.0.1:54906 - \"GET /syft/info HTTP/1.1\" 200 OK',\n",
       " 'INFO:     127.0.0.1:54910 - \"GET /health HTTP/1.1\" 200 OK',\n",
       " 'INFO:     127.0.0.1:54914 - \"GET /syft/info HTTP/1.1\" 200 OK',\n",
       " 'INFO:     127.0.0.1:54924 - \"GET /health HTTP/1.1\" 200 OK',\n",
       " 'INFO:     127.0.0.1:54932 - \"GET /health HTTP/1.1\" 200 OK',\n",
       " 'INFO:     127.0.0.1:54938 - \"GET /syft/info HTTP/1.1\" 200 OK',\n",
       " 'INFO:     127.0.0.1:54944 - \"GET /health HTTP/1.1\" 200 OK',\n",
       " 'INFO:     127.0.0.1:54950 - \"GET /syft/info HTTP/1.1\" 200 OK',\n",
       " 'INFO:     127.0.0.1:54956 - \"GET /health HTTP/1.1\" 200 OK',\n",
       " 'INFO:     127.0.0.1:54962 - \"GET /syft/info HTTP/1.1\" 200 OK',\n",
       " 'INFO:     127.0.0.1:54968 - \"GET /health HTTP/1.1\" 200 OK',\n",
       " 'INFO:     127.0.0.1:54974 - \"GET /syft/info HTTP/1.1\" 200 OK',\n",
       " 'INFO:     127.0.0.1:54988 - \"GET /health HTTP/1.1\" 200 OK',\n",
       " 'INFO:     127.0.0.1:54998 - \"GET /health HTTP/1.1\" 200 OK',\n",
       " 'INFO:     127.0.0.1:55007 - \"GET /syft/info HTTP/1.1\" 200 OK',\n",
       " 'INFO:     127.0.0.1:55015 - \"GET /health HTTP/1.1\" 200 OK',\n",
       " 'INFO:     127.0.0.1:55017 - \"GET /health HTTP/1.1\" 200 OK',\n",
       " 'INFO:     127.0.0.1:55019 - \"GET /health HTTP/1.1\" 200 OK',\n",
       " 'INFO:     127.0.0.1:55039 - \"GET /health HTTP/1.1\" 200 OK',\n",
       " 'INFO:     127.0.0.1:55047 - \"GET /health HTTP/1.1\" 200 OK',\n",
       " 'INFO:     127.0.0.1:55055 - \"GET /syft/info HTTP/1.1\" 200 OK',\n",
       " 'INFO:     127.0.0.1:55063 - \"GET /health HTTP/1.1\" 200 OK',\n",
       " 'INFO:     127.0.0.1:55065 - \"GET /health HTTP/1.1\" 200 OK',\n",
       " 'INFO:     127.0.0.1:55067 - \"GET /health HTTP/1.1\" 200 OK',\n",
       " 'INFO:     127.0.0.1:55069 - \"GET /health HTTP/1.1\" 200 OK',\n",
       " 'INFO:     127.0.0.1:55095 - \"GET /health HTTP/1.1\" 200 OK',\n",
       " 'INFO:     127.0.0.1:55103 - \"GET /health HTTP/1.1\" 200 OK',\n",
       " 'INFO:     127.0.0.1:55111 - \"GET /syft/info HTTP/1.1\" 200 OK',\n",
       " 'INFO:     127.0.0.1:55119 - \"GET /health HTTP/1.1\" 200 OK',\n",
       " 'INFO:     127.0.0.1:55127 - \"GET /syft/info HTTP/1.1\" 200 OK',\n",
       " 'INFO:     127.0.0.1:55135 - \"GET /health HTTP/1.1\" 200 OK',\n",
       " 'INFO:     127.0.0.1:55137 - \"GET /health HTTP/1.1\" 200 OK',\n",
       " 'INFO:     127.0.0.1:55145 - \"GET /syft/info HTTP/1.1\" 200 OK',\n",
       " 'INFO:     127.0.0.1:55153 - \"GET /health HTTP/1.1\" 200 OK',\n",
       " 'INFO:     127.0.0.1:55161 - \"GET /syft/info HTTP/1.1\" 200 OK',\n",
       " 'INFO:     127.0.0.1:55169 - \"GET /health HTTP/1.1\" 200 OK',\n",
       " 'INFO:     127.0.0.1:55177 - \"GET /syft/info HTTP/1.1\" 200 OK',\n",
       " 'INFO:     127.0.0.1:55187 - \"GET /health HTTP/1.1\" 200 OK',\n",
       " 'INFO:     127.0.0.1:55195 - \"GET /syft/info HTTP/1.1\" 200 OK',\n",
       " 'INFO:     127.0.0.1:55203 - \"GET /health HTTP/1.1\" 200 OK',\n",
       " 'INFO:     127.0.0.1:55211 - \"GET /syft/info HTTP/1.1\" 200 OK',\n",
       " 'INFO:     127.0.0.1:55219 - \"GET /health HTTP/1.1\" 200 OK',\n",
       " 'INFO:     127.0.0.1:55227 - \"GET /syft/info HTTP/1.1\" 200 OK',\n",
       " 'INFO:     127.0.0.1:55235 - \"GET /health HTTP/1.1\" 200 OK',\n",
       " 'INFO:     127.0.0.1:55243 - \"GET /syft/info HTTP/1.1\" 200 OK',\n",
       " 'INFO:     127.0.0.1:55253 - \"GET /health HTTP/1.1\" 200 OK',\n",
       " 'INFO:     127.0.0.1:55261 - \"GET /syft/info HTTP/1.1\" 200 OK',\n",
       " 'INFO:     127.0.0.1:55269 - \"GET /health HTTP/1.1\" 200 OK',\n",
       " 'INFO:     127.0.0.1:55277 - \"GET /syft/info HTTP/1.1\" 200 OK',\n",
       " 'INFO:     127.0.0.1:55285 - \"GET /health HTTP/1.1\" 200 OK',\n",
       " 'INFO:     127.0.0.1:55293 - \"GET /syft/info HTTP/1.1\" 200 OK',\n",
       " 'INFO:     127.0.0.1:55303 - \"GET /health HTTP/1.1\" 200 OK',\n",
       " 'INFO:     127.0.0.1:55311 - \"GET /syft/info HTTP/1.1\" 200 OK',\n",
       " 'INFO:     127.0.0.1:55319 - \"GET /health HTTP/1.1\" 200 OK',\n",
       " 'INFO:     127.0.0.1:55327 - \"GET /syft/info HTTP/1.1\" 200 OK',\n",
       " 'INFO:     127.0.0.1:55337 - \"GET /health HTTP/1.1\" 200 OK',\n",
       " 'INFO:     127.0.0.1:55345 - \"GET /syft/info HTTP/1.1\" 200 OK',\n",
       " 'INFO:     127.0.0.1:55353 - \"GET /health HTTP/1.1\" 200 OK',\n",
       " 'INFO:     127.0.0.1:55361 - \"GET /syft/info HTTP/1.1\" 200 OK',\n",
       " 'INFO:     127.0.0.1:55369 - \"GET /health HTTP/1.1\" 200 OK',\n",
       " 'INFO:     127.0.0.1:55371 - \"GET /health HTTP/1.1\" 200 OK',\n",
       " 'INFO:     127.0.0.1:55379 - \"GET /syft/info HTTP/1.1\" 200 OK',\n",
       " 'INFO:     127.0.0.1:55387 - \"GET /health HTTP/1.1\" 200 OK',\n",
       " 'INFO:     127.0.0.1:55395 - \"GET /syft/info HTTP/1.1\" 200 OK',\n",
       " 'INFO:     127.0.0.1:55403 - \"GET /health HTTP/1.1\" 200 OK',\n",
       " 'INFO:     127.0.0.1:55411 - \"GET /syft/info HTTP/1.1\" 200 OK',\n",
       " 'INFO:     127.0.0.1:55421 - \"GET /health HTTP/1.1\" 200 OK',\n",
       " 'INFO:     127.0.0.1:55429 - \"GET /syft/info HTTP/1.1\" 200 OK',\n",
       " 'INFO:     127.0.0.1:55437 - \"GET /health HTTP/1.1\" 200 OK',\n",
       " 'INFO:     127.0.0.1:55445 - \"GET /syft/info HTTP/1.1\" 200 OK',\n",
       " 'INFO:     127.0.0.1:55453 - \"GET /health HTTP/1.1\" 200 OK',\n",
       " 'INFO:     127.0.0.1:55461 - \"GET /syft/info HTTP/1.1\" 200 OK',\n",
       " 'INFO:     127.0.0.1:55469 - \"GET /health HTTP/1.1\" 200 OK',\n",
       " 'INFO:     127.0.0.1:55477 - \"GET /syft/info HTTP/1.1\" 200 OK',\n",
       " 'INFO:     127.0.0.1:55487 - \"GET /health HTTP/1.1\" 200 OK',\n",
       " 'INFO:     127.0.0.1:55495 - \"GET /syft/info HTTP/1.1\" 200 OK',\n",
       " 'INFO:     127.0.0.1:55503 - \"GET /health HTTP/1.1\" 200 OK',\n",
       " 'INFO:     127.0.0.1:55511 - \"GET /syft/info HTTP/1.1\" 200 OK',\n",
       " 'INFO:     127.0.0.1:55519 - \"GET /health HTTP/1.1\" 200 OK',\n",
       " 'INFO:     127.0.0.1:55527 - \"GET /syft/info HTTP/1.1\" 200 OK',\n",
       " 'INFO:     127.0.0.1:55537 - \"GET /health HTTP/1.1\" 200 OK',\n",
       " 'INFO:     127.0.0.1:55545 - \"GET /syft/info HTTP/1.1\" 200 OK',\n",
       " 'INFO:     127.0.0.1:55553 - \"GET /health HTTP/1.1\" 200 OK',\n",
       " 'INFO:     127.0.0.1:55562 - \"GET /syft/info HTTP/1.1\" 200 OK',\n",
       " 'Sending modified: test_msg.txt',\n",
       " '',\n",
       " '🔄 Transport negotiation for andrew@openmined.org:',\n",
       " '   File size: 565.0B',\n",
       " '   Priority: normal',\n",
       " '',\n",
       " '   Scores:',\n",
       " '   - gsheets: 0.86 (est. 500ms)',\n",
       " '     • Sub-second latency',\n",
       " '     • Verified transport',\n",
       " '   - gmail: 0.72 (est. 2000ms)',\n",
       " '     • Fast latency (<5s)',\n",
       " '     • Verified transport',\n",
       " '   - gdrive_files: 0.68 (est. 3000ms)',\n",
       " '     • Fast latency (<5s)',\n",
       " '     • Verified transport',\n",
       " '',\n",
       " '   ✅ Selected: gsheets',\n",
       " '📊 Sent message via sheets: msg_20250928_020950_22ae81fe',\n",
       " '   Size: 565 bytes',\n",
       " '✅ Successfully sent via gsheets in 978ms',\n",
       " '',\n",
       " '🔄 Transport negotiation for stephen@openmined.org:',\n",
       " '   File size: 556.0B',\n",
       " '   Priority: normal',\n",
       " '',\n",
       " '   Scores:',\n",
       " '   - gsheets: 0.86 (est. 500ms)',\n",
       " '     • Sub-second latency',\n",
       " '     • Verified transport',\n",
       " '   - gmail: 0.72 (est. 2000ms)',\n",
       " '     • Fast latency (<5s)',\n",
       " '     • Verified transport',\n",
       " '   - gdrive_files: 0.68 (est. 3000ms)',\n",
       " '     • Fast latency (<5s)',\n",
       " '     • Verified transport',\n",
       " '',\n",
       " '   ✅ Selected: gsheets',\n",
       " '📊 Sent message via sheets: msg_20250928_020951_3c206e5b',\n",
       " '   Size: 556 bytes',\n",
       " '✅ Successfully sent via gsheets in 894ms',\n",
       " '',\n",
       " '🔄 Transport negotiation for rasswanth@openmined.org:',\n",
       " '   File size: 563.0B',\n",
       " '   Priority: normal',\n",
       " '',\n",
       " '   Scores:',\n",
       " '   - gsheets: 0.86 (est. 500ms)',\n",
       " '     • Sub-second latency',\n",
       " '     • Verified transport',\n",
       " '   - gmail: 0.72 (est. 2000ms)',\n",
       " '     • Fast latency (<5s)',\n",
       " '     • Verified transport',\n",
       " '   - gdrive_files: 0.68 (est. 3000ms)',\n",
       " '     • Fast latency (<5s)',\n",
       " '     • Verified transport',\n",
       " '',\n",
       " '   ✅ Selected: gsheets',\n",
       " '📊 Sent message via sheets: msg_20250928_020952_ac411e6b',\n",
       " '   Size: 563 bytes',\n",
       " '✅ Successfully sent via gsheets in 1064ms',\n",
       " '✓ Sent to 3/3 peers',\n",
       " 'Sending created: boo.txt',\n",
       " '',\n",
       " '🔄 Transport negotiation for andrew@openmined.org:',\n",
       " '   File size: 543.0B',\n",
       " '   Priority: normal',\n",
       " '',\n",
       " '   Scores:',\n",
       " '   - gsheets: 0.86 (est. 500ms)',\n",
       " '     • Sub-second latency',\n",
       " '     • Verified transport',\n",
       " '   - gmail: 0.72 (est. 2000ms)',\n",
       " '     • Fast latency (<5s)',\n",
       " '     • Verified transport',\n",
       " '   - gdrive_files: 0.68 (est. 3000ms)',\n",
       " '     • Fast latency (<5s)',\n",
       " '     • Verified transport',\n",
       " '',\n",
       " '   ✅ Selected: gsheets',\n",
       " '📊 Sent message via sheets: msg_20250928_020957_4e0ac213',\n",
       " '   Size: 543 bytes',\n",
       " '✅ Successfully sent via gsheets in 701ms',\n",
       " '',\n",
       " '🔄 Transport negotiation for stephen@openmined.org:',\n",
       " '   File size: 543.0B',\n",
       " '   Priority: normal',\n",
       " '',\n",
       " '   Scores:',\n",
       " '   - gsheets: 0.86 (est. 500ms)',\n",
       " '     • Sub-second latency',\n",
       " '     • Verified transport',\n",
       " '   - gmail: 0.72 (est. 2000ms)',\n",
       " '     • Fast latency (<5s)',\n",
       " '     • Verified transport',\n",
       " '   - gdrive_files: 0.68 (est. 3000ms)',\n",
       " '     • Fast latency (<5s)',\n",
       " '     • Verified transport',\n",
       " '',\n",
       " '   ✅ Selected: gsheets',\n",
       " '📊 Sent message via sheets: msg_20250928_020958_3a905681',\n",
       " '   Size: 543 bytes',\n",
       " '✅ Successfully sent via gsheets in 571ms',\n",
       " '',\n",
       " '🔄 Transport negotiation for rasswanth@openmined.org:',\n",
       " '   File size: 547.0B',\n",
       " '   Priority: normal',\n",
       " '',\n",
       " '   Scores:',\n",
       " '   - gsheets: 0.86 (est. 500ms)',\n",
       " '     • Sub-second latency',\n",
       " '     • Verified transport',\n",
       " '   - gmail: 0.72 (est. 2000ms)',\n",
       " '     • Fast latency (<5s)',\n",
       " '     • Verified transport',\n",
       " '   - gdrive_files: 0.68 (est. 3000ms)',\n",
       " '     • Fast latency (<5s)',\n",
       " '     • Verified transport',\n",
       " '',\n",
       " '   ✅ Selected: gsheets',\n",
       " '📊 Sent message via sheets: msg_20250928_020959_2ce837cf',\n",
       " '   Size: 547 bytes',\n",
       " '✅ Successfully sent via gsheets in 615ms',\n",
       " '✓ Sent to 3/3 peers',\n",
       " 'Skipping echo: boo.txt (matches recent sync)',\n",
       " 'Skipping echo: boo.txt (matches recent sync)',\n",
       " 'INFO:     127.0.0.1:55642 - \"GET /health HTTP/1.1\" 200 OK',\n",
       " 'INFO:     127.0.0.1:55650 - \"GET /syft/info HTTP/1.1\" 200 OK',\n",
       " 'INFO:     127.0.0.1:55658 - \"GET /health HTTP/1.1\" 200 OK',\n",
       " 'INFO:     127.0.0.1:55666 - \"GET /syft/info HTTP/1.1\" 200 OK',\n",
       " 'INFO:     127.0.0.1:55674 - \"GET /health HTTP/1.1\" 200 OK',\n",
       " 'INFO:     127.0.0.1:55676 - \"GET /health HTTP/1.1\" 200 OK',\n",
       " 'INFO:     127.0.0.1:55684 - \"GET /syft/info HTTP/1.1\" 200 OK',\n",
       " 'INFO:     127.0.0.1:55708 - \"GET /health HTTP/1.1\" 200 OK',\n",
       " 'INFO:     127.0.0.1:55716 - \"GET /syft/info HTTP/1.1\" 200 OK',\n",
       " 'INFO:     127.0.0.1:55724 - \"GET /health HTTP/1.1\" 200 OK',\n",
       " 'INFO:     127.0.0.1:55726 - \"GET /health HTTP/1.1\" 200 OK',\n",
       " 'INFO:     127.0.0.1:55728 - \"GET /health HTTP/1.1\" 200 OK',\n",
       " 'INFO:     127.0.0.1:55748 - \"GET /health HTTP/1.1\" 200 OK',\n",
       " 'INFO:     127.0.0.1:55756 - \"GET /health HTTP/1.1\" 200 OK',\n",
       " 'INFO:     127.0.0.1:55764 - \"GET /syft/info HTTP/1.1\" 200 OK',\n",
       " 'INFO:     127.0.0.1:55772 - \"GET /health HTTP/1.1\" 200 OK',\n",
       " 'INFO:     127.0.0.1:55780 - \"GET /syft/info HTTP/1.1\" 200 OK',\n",
       " 'INFO:     127.0.0.1:55788 - \"GET /health HTTP/1.1\" 200 OK',\n",
       " 'INFO:     127.0.0.1:55790 - \"GET /health HTTP/1.1\" 200 OK',\n",
       " 'INFO:     127.0.0.1:55792 - \"GET /health HTTP/1.1\" 200 OK',\n",
       " 'INFO:     127.0.0.1:55812 - \"GET /health HTTP/1.1\" 200 OK',\n",
       " 'INFO:     127.0.0.1:55820 - \"GET /health HTTP/1.1\" 200 OK',\n",
       " 'INFO:     127.0.0.1:55828 - \"GET /syft/info HTTP/1.1\" 200 OK',\n",
       " 'INFO:     127.0.0.1:55837 - \"GET /health HTTP/1.1\" 200 OK',\n",
       " 'INFO:     127.0.0.1:55845 - \"GET /syft/info HTTP/1.1\" 200 OK',\n",
       " 'INFO:     127.0.0.1:55853 - \"GET /health HTTP/1.1\" 200 OK',\n",
       " 'INFO:     127.0.0.1:55855 - \"GET /health HTTP/1.1\" 200 OK',\n",
       " 'INFO:     127.0.0.1:55857 - \"GET /health HTTP/1.1\" 200 OK',\n",
       " 'INFO:     127.0.0.1:55859 - \"GET /health HTTP/1.1\" 200 OK',\n",
       " 'INFO:     127.0.0.1:55861 - \"GET /health HTTP/1.1\" 200 OK',\n",
       " 'INFO:     127.0.0.1:55863 - \"GET /health HTTP/1.1\" 200 OK',\n",
       " 'INFO:     127.0.0.1:55865 - \"GET /health HTTP/1.1\" 200 OK',\n",
       " 'INFO:     127.0.0.1:55867 - \"GET /health HTTP/1.1\" 200 OK',\n",
       " 'INFO:     127.0.0.1:55875 - \"GET /syft/info HTTP/1.1\" 200 OK',\n",
       " 'INFO:     127.0.0.1:55899 - \"GET /health HTTP/1.1\" 200 OK',\n",
       " 'INFO:     127.0.0.1:55907 - \"GET /syft/info HTTP/1.1\" 200 OK',\n",
       " 'INFO:     127.0.0.1:55915 - \"GET /health HTTP/1.1\" 200 OK',\n",
       " 'INFO:     127.0.0.1:55923 - \"GET /syft/info HTTP/1.1\" 200 OK',\n",
       " 'INFO:     127.0.0.1:55932 - \"GET /health HTTP/1.1\" 200 OK',\n",
       " 'INFO:     127.0.0.1:55940 - \"GET /syft/info HTTP/1.1\" 200 OK']"
      ]
     },
     "execution_count": 22,
     "metadata": {},
     "output_type": "execute_result"
    }
   ],
   "source": [
    "ss.servers['watcher_sender_liamtrask_gmail_com'].stdout.lines()"
   ]
  },
  {
   "cell_type": "code",
   "execution_count": 17,
   "id": "8c31de3a-f103-4a13-9296-f376623e6778",
   "metadata": {},
   "outputs": [
    {
     "data": {
      "text/plain": [
       "{'running': True,\n",
       " 'server_url': 'http://localhost:8000',\n",
       " 'server_name': 'watcher_sender_liamtrask_gmail_com',\n",
       " 'email': 'liamtrask@gmail.com',\n",
       " 'message': 'Watcher active for liamtrask@gmail.com'}"
      ]
     },
     "execution_count": 17,
     "metadata": {},
     "output_type": "execute_result"
    }
   ],
   "source": [
    "client1.watcher.status()"
   ]
  },
  {
   "cell_type": "code",
   "execution_count": null,
   "id": "d68286b8-4402-4196-ba20-4ba97e82b811",
   "metadata": {},
   "outputs": [],
   "source": []
  },
  {
   "cell_type": "code",
   "execution_count": null,
   "id": "850294b7-088e-4477-9211-ffec054aa958",
   "metadata": {},
   "outputs": [],
   "source": []
  },
  {
   "cell_type": "code",
   "execution_count": null,
   "id": "d2c2531b-d186-452d-b52c-e144f5d1ec84",
   "metadata": {},
   "outputs": [],
   "source": []
  },
  {
   "cell_type": "code",
   "execution_count": null,
   "id": "c42dd19d-e11c-45d3-8e77-63cbcfff0e68",
   "metadata": {},
   "outputs": [],
   "source": []
  },
  {
   "cell_type": "code",
   "execution_count": 22,
   "id": "e3c5396f-456b-4cdf-81b7-bddfe43d6fcd",
   "metadata": {},
   "outputs": [],
   "source": [
    "import syft_serve as ss"
   ]
  },
  {
   "cell_type": "code",
   "execution_count": 61,
   "id": "ad4ccc89-eb6c-4b7b-a0af-9180426126e7",
   "metadata": {},
   "outputs": [
    {
     "data": {
      "text/html": [
       "<p style='color: #a0a0a0;'>No servers</p>"
      ],
      "text/plain": [
       "No servers"
      ]
     },
     "execution_count": 61,
     "metadata": {},
     "output_type": "execute_result"
    }
   ],
   "source": [
    "ss.servers"
   ]
  },
  {
   "cell_type": "code",
   "execution_count": 45,
   "id": "5885cab9-07ef-4279-bd77-906dfe32e9b0",
   "metadata": {},
   "outputs": [
    {
     "name": "stdout",
     "output_type": "stream",
     "text": [
      "\n"
     ]
    }
   ],
   "source": [
    "print(ss.servers[0].stderr.tail(20))"
   ]
  },
  {
   "cell_type": "code",
   "execution_count": 46,
   "id": "5a12db12-9d10-49e1-9e54-7200d91376a8",
   "metadata": {},
   "outputs": [
    {
     "name": "stdout",
     "output_type": "stream",
     "text": [
      "\n"
     ]
    }
   ],
   "source": [
    "print(ss.servers[0].stdout.tail(20))"
   ]
  },
  {
   "cell_type": "code",
   "execution_count": 26,
   "id": "bd5c413e-bb94-4c56-9166-c2a25c09d73d",
   "metadata": {},
   "outputs": [
    {
     "name": "stdout",
     "output_type": "stream",
     "text": [
      "✅ Connected peer-to-peer to 3 peers via: Gmail, Gdrive_Files, Gsheets, Gforms                    \n"
     ]
    }
   ],
   "source": [
    "client2 = sc.login(\"andrew@openmined.org\")"
   ]
  },
  {
   "cell_type": "code",
   "execution_count": 27,
   "id": "1049881e-d13c-4a16-b1c9-6d33a0859166",
   "metadata": {},
   "outputs": [
    {
     "name": "stdout",
     "output_type": "stream",
     "text": [
      "📬 Checking gsheets inbox for messages from liamtrask@gmail.com...\n",
      "\n",
      "🔄 Checking gsheets...\n",
      "   Found message sheet: syft_liamtrask_at_gmail_com_to_andrew_at_openmined_org_messages\n",
      "   📥 Extracted: datasites\n",
      "   📥 Extracted: datasites\n",
      "   📦 Archived 2 messages\n",
      "   ✅ Found 2 messages\n",
      "\n",
      "📊 Summary: Found 2 messages across 1 transport\n"
     ]
    },
    {
     "data": {
      "text/plain": [
       "{'gsheets': [{'id': 'msg_20250927_230656_66915602',\n",
       "   'timestamp': '2025-09-27 23:06:57',\n",
       "   'size': 599,\n",
       "   'metadata': {'message_id': 'msg_20250927_230656_66915602',\n",
       "    'sender': 'liamtrask@gmail.com',\n",
       "    'recipient': 'andrew@openmined.org',\n",
       "    'created_at': '2025-09-27T23:06:56.813971',\n",
       "    'syft_version': '0.1.0'},\n",
       "   'extracted_to': '/Users/atrask/SyftBox_andrew@openmined.org'},\n",
       "  {'id': 'msg_20250927_230926_1a55419a',\n",
       "   'timestamp': '2025-09-27 23:09:27',\n",
       "   'size': 560,\n",
       "   'metadata': {'message_id': 'msg_20250927_230926_1a55419a',\n",
       "    'sender': 'liamtrask@gmail.com',\n",
       "    'recipient': 'andrew@openmined.org',\n",
       "    'created_at': '2025-09-27T23:09:26.018904',\n",
       "    'syft_version': '0.1.0'},\n",
       "   'extracted_to': '/Users/atrask/SyftBox_andrew@openmined.org'}]}"
      ]
     },
     "execution_count": 27,
     "metadata": {},
     "output_type": "execute_result"
    }
   ],
   "source": [
    "client2.peers['liamtrask@gmail.com'].check_inbox(transport=\"gsheets\")"
   ]
  },
  {
   "cell_type": "code",
   "execution_count": null,
   "id": "63be0a27-fba6-4679-866d-894216af82a3",
   "metadata": {},
   "outputs": [],
   "source": []
  },
  {
   "cell_type": "code",
   "execution_count": null,
   "id": "cc42be27-83d0-4bef-bbc4-b10d1fb9880b",
   "metadata": {},
   "outputs": [],
   "source": []
  },
  {
   "cell_type": "code",
   "execution_count": null,
   "id": "babfa261-625e-408f-bd6f-1d51524f9fe0",
   "metadata": {},
   "outputs": [],
   "source": []
  },
  {
   "cell_type": "code",
   "execution_count": 4,
   "id": "80b650b0-8e11-460a-a289-203d6a374e2a",
   "metadata": {},
   "outputs": [],
   "source": [
    "peer = client2.peers[1]"
   ]
  },
  {
   "cell_type": "code",
   "execution_count": 5,
   "id": "1436bf45-a62b-40f0-b613-82a586608440",
   "metadata": {},
   "outputs": [
    {
     "name": "stdout",
     "output_type": "stream",
     "text": [
      "📬 Checking inbox for messages from kj@kj.dev...\n",
      "\n",
      "🔄 Checking gdrive_files...\n",
      "   📭 No messages\n",
      "\n",
      "🔄 Checking gsheets...\n",
      "   No message sheet found: syft_kj@kj.dev_to_andrew@openmined.org_outbox_inbox\n",
      "   📭 No messages\n",
      "\n",
      "🔄 Checking gmail...\n",
      "   ⚠️  Transport doesn't support inbox checking\n",
      "\n",
      "📊 Summary: Found 0 messages across 0 transports\n"
     ]
    },
    {
     "data": {
      "text/plain": [
       "{}"
      ]
     },
     "execution_count": 5,
     "metadata": {},
     "output_type": "execute_result"
    }
   ],
   "source": [
    "peer.check_inbox()"
   ]
  },
  {
   "cell_type": "markdown",
   "id": "44315807-5e9f-4460-acc3-5a552420db32",
   "metadata": {},
   "source": [
    "# Test 1: Test the ability to prepare a message for sending"
   ]
  },
  {
   "cell_type": "code",
   "execution_count": 9,
   "id": "4fc4ca8f-c83e-4f84-8c80-02cfb231ba98",
   "metadata": {},
   "outputs": [
    {
     "data": {
      "text/plain": [
       "'/Users/atrask/SyftBox_liamtrask@gmail.com'"
      ]
     },
     "execution_count": 9,
     "metadata": {},
     "output_type": "execute_result"
    }
   ],
   "source": [
    "client1.folder"
   ]
  },
  {
   "cell_type": "code",
   "execution_count": 8,
   "id": "89747f50-213a-4dac-9d98-e9412516cfd3",
   "metadata": {},
   "outputs": [
    {
     "name": "stdout",
     "output_type": "stream",
     "text": [
      "⚠️  Syncing from outside SyftBox - file will be placed in: external/test_msg.txt\n"
     ]
    }
   ],
   "source": [
    "import tempfile\n",
    "from pathlib import Path\n",
    "\n",
    "f = open('/Users/atrask/SyftBox_liamtrask@gmail.com/datasites/test_msg.txt', 'w')\n",
    "f.write(\"Hello world!!!!!!\")\n",
    "f.close()\n",
    "\n",
    "path = \"/Users/atrask/SyftBox_liamtrask@gmail.com/datasites/test_msg.txt\"\n",
    "\n",
    "temp_dir = tempfile.TemporaryDirectory()\n",
    "\n",
    "(msg_id, msg_path, archive_size) = client1.sync.sender.prepare_message(\n",
    "  path=path,\n",
    "  recipient=\"andrew@openmined.org\",\n",
    "  temp_dir=temp_dir.name,  # Note: use temp_dir.name to get the string path\n",
    "  sync_from_anywhere=True\n",
    ")"
   ]
  },
  {
   "cell_type": "markdown",
   "id": "4845b16d-dcc2-4eed-be1d-04c72160d653",
   "metadata": {},
   "source": [
    "# Test 2: "
   ]
  },
  {
   "cell_type": "code",
   "execution_count": 9,
   "id": "4047f9da-870f-4b19-837b-f9a3282c9f73",
   "metadata": {},
   "outputs": [],
   "source": [
    "import sys\n",
    "sys.path.insert(0, '..')\n",
    "import syft_client as sc"
   ]
  },
  {
   "cell_type": "code",
   "execution_count": 29,
   "id": "793b7189-260f-412e-82ed-457efd4d11fc",
   "metadata": {},
   "outputs": [],
   "source": [
    "import tempfile\n",
    "from pathlib import Path\n",
    "\n",
    "f = open('/Users/atrask/SyftBox_liamtrask@gmail.com/datasites/test_msg.txt', 'w')\n",
    "f.write(\"Hello world?\")\n",
    "f.close()\n",
    "\n",
    "path = \"/Users/atrask/SyftBox_liamtrask@gmail.com/datasites/test_msg.txt\"\n",
    "\n",
    "temp_dir = tempfile.TemporaryDirectory()\n",
    "\n",
    "out = client1.send_to(path=path, recipient=\"andrew@openmined.org\")"
   ]
  },
  {
   "cell_type": "code",
   "execution_count": 30,
   "id": "b291d5b6-7618-446f-b4a6-1b029eabccde",
   "metadata": {},
   "outputs": [
    {
     "name": "stdout",
     "output_type": "stream",
     "text": [
      "\n",
      "🔄 Transport negotiation for andrew@openmined.org:\n",
      "   File size: 514.0B\n",
      "   Priority: normal\n",
      "\n",
      "   Scores:\n",
      "   - gsheets: 0.86 (est. 500ms)\n",
      "     • Sub-second latency\n",
      "     • Verified transport\n",
      "   - gmail: 0.72 (est. 2000ms)\n",
      "     • Fast latency (<5s)\n",
      "     • Verified transport\n",
      "   - gdrive_files: 0.68 (est. 3000ms)\n",
      "     • Fast latency (<5s)\n",
      "     • Verified transport\n",
      "\n",
      "   ✅ Selected: gsheets\n",
      "📊 Sent message via sheets: msg_20250927_204908_1e95aadf\n",
      "   Size: 514 bytes\n",
      "✅ Successfully sent via gsheets in 1800ms\n"
     ]
    }
   ],
   "source": []
  },
  {
   "cell_type": "code",
   "execution_count": 31,
   "id": "7fcbea4d-b717-47f6-a6a8-51ea3585cedb",
   "metadata": {},
   "outputs": [
    {
     "name": "stdout",
     "output_type": "stream",
     "text": [
      "📬 Checking inbox for messages from liamtrask@gmail.com...\n",
      "\n",
      "🔄 Checking gdrive_files...\n",
      "   📭 No messages\n",
      "\n",
      "🔄 Checking gsheets...\n",
      "   No message sheet found: syft_liamtrask@gmail.com_to_andrew@openmined.org_outbox_inbox\n",
      "   📭 No messages\n",
      "\n",
      "🔄 Checking gmail...\n",
      "   ⚠️  Transport doesn't support inbox checking\n",
      "\n",
      "📊 Summary: Found 0 messages across 0 transports\n"
     ]
    },
    {
     "data": {
      "text/plain": [
       "{}"
      ]
     },
     "execution_count": 31,
     "metadata": {},
     "output_type": "execute_result"
    }
   ],
   "source": [
    "client2.peers['liamtrask@gmail.com'].check_inbox()"
   ]
  },
  {
   "cell_type": "code",
   "execution_count": null,
   "id": "fc742359-0055-4165-a0a5-4a8444a7ed85",
   "metadata": {},
   "outputs": [],
   "source": []
  }
 ],
 "metadata": {
  "kernelspec": {
   "display_name": "Python 3 (ipykernel)",
   "language": "python",
   "name": "python3"
  },
  "language_info": {
   "codemirror_mode": {
    "name": "ipython",
    "version": 3
   },
   "file_extension": ".py",
   "mimetype": "text/x-python",
   "name": "python",
   "nbconvert_exporter": "python",
   "pygments_lexer": "ipython3",
   "version": "3.12.9"
  }
 },
 "nbformat": 4,
 "nbformat_minor": 5
}
