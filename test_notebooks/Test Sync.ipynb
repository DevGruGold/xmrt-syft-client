{
 "cells": [
  {
   "cell_type": "code",
   "execution_count": 1,
   "id": "c1597c93-e089-4b7d-9ca7-0997c477ede2",
   "metadata": {},
   "outputs": [],
   "source": [
    "import sys\n",
    "sys.path.insert(0, '..')\n",
    "import syft_client as sc\n",
    "import tempfile\n",
    "from pathlib import Path"
   ]
  },
  {
   "cell_type": "code",
   "execution_count": 13,
   "id": "dd81f06a-1731-4f70-9967-d628bb866c9d",
   "metadata": {},
   "outputs": [
    {
     "name": "stdout",
     "output_type": "stream",
     "text": [
      "📁 Using existing SyftBox directory: /Users/atrask/SyftBox_liamtrask@gmail.com\n"
     ]
    }
   ],
   "source": [
    "client1 = sc.login(\"liamtrask@gmail.com\")"
   ]
  },
  {
   "cell_type": "code",
   "execution_count": 14,
   "id": "e44747c3-41ab-4534-a4cc-a18c20b24c6a",
   "metadata": {},
   "outputs": [
    {
     "data": {
      "text/plain": [
       "Contacts (1): andrew@openmined.org"
      ]
     },
     "execution_count": 14,
     "metadata": {},
     "output_type": "execute_result"
    }
   ],
   "source": [
    "client1.contacts"
   ]
  },
  {
   "cell_type": "code",
   "execution_count": 15,
   "id": "88fd975e-03a0-42c0-b32c-0f5a0d8b94b6",
   "metadata": {},
   "outputs": [
    {
     "data": {
      "text/html": [
       "<pre style=\"white-space:pre;overflow-x:auto;line-height:normal;font-family:Menlo,'DejaVu Sans Mono',consolas,'Courier New',monospace\">╭──────────── Contact: andrew ─────────────╮\n",
       "│                                          │\n",
       "│  <span style=\"color: #008080; text-decoration-color: #008080; font-weight: bold\">Email:</span> andrew@openmined.org             │\n",
       "│  <span style=\"color: #008080; text-decoration-color: #008080; font-weight: bold\">Platform:</span> google_personal               │\n",
       "│                                          │\n",
       "│  <span style=\"color: #7f7f7f; text-decoration-color: #7f7f7f\">Added: 2025-09-26 18:42</span>                 │\n",
       "│  <span style=\"color: #7f7f7f; text-decoration-color: #7f7f7f\">Capabilities updated: 2025-09-26 18:42</span>  │\n",
       "│                                          │\n",
       "│  <span style=\"color: #7f7f7f; text-decoration-color: #7f7f7f\">.platforms</span>                              │\n",
       "│    <span style=\"color: #808000; text-decoration-color: #808000; font-weight: bold\">.google_personal</span>                      │\n",
       "│      <span style=\"color: #008000; text-decoration-color: #008000\">✓</span> <span style=\"color: #008080; text-decoration-color: #008080\">.gsheets</span>                          │\n",
       "│         <span style=\"color: #7f7f7f; text-decoration-color: #7f7f7f\">verified 0 minutes ago</span>           │\n",
       "│      <span style=\"color: #008000; text-decoration-color: #008000\">✓</span> <span style=\"color: #008080; text-decoration-color: #008080\">.gmail</span>                            │\n",
       "│         <span style=\"color: #7f7f7f; text-decoration-color: #7f7f7f\">verified 0 minutes ago</span>           │\n",
       "│                                          │\n",
       "╰──────────────────────────────────────────╯\n",
       "</pre>\n"
      ],
      "text/plain": [
       "╭──────────── Contact: andrew ─────────────╮\n",
       "│                                          │\n",
       "│  \u001b[1;36mEmail:\u001b[0m andrew@openmined.org             │\n",
       "│  \u001b[1;36mPlatform:\u001b[0m google_personal               │\n",
       "│                                          │\n",
       "│  \u001b[2mAdded: 2025-09-26 18:42\u001b[0m                 │\n",
       "│  \u001b[2mCapabilities updated: 2025-09-26 18:42\u001b[0m  │\n",
       "│                                          │\n",
       "│  \u001b[2m.platforms\u001b[0m                              │\n",
       "│    \u001b[1;33m.google_personal\u001b[0m                      │\n",
       "│      \u001b[32m✓\u001b[0m \u001b[36m.gsheets\u001b[0m                          │\n",
       "│         \u001b[2mverified 0 minutes ago\u001b[0m           │\n",
       "│      \u001b[32m✓\u001b[0m \u001b[36m.gmail\u001b[0m                            │\n",
       "│         \u001b[2mverified 0 minutes ago\u001b[0m           │\n",
       "│                                          │\n",
       "╰──────────────────────────────────────────╯\n"
      ]
     },
     "metadata": {},
     "output_type": "display_data"
    },
    {
     "data": {
      "text/plain": []
     },
     "execution_count": 15,
     "metadata": {},
     "output_type": "execute_result"
    }
   ],
   "source": [
    "client1.contacts[0]"
   ]
  },
  {
   "cell_type": "code",
   "execution_count": 5,
   "id": "fba3e2fe-618a-4ce1-8111-ed3fc2aec444",
   "metadata": {},
   "outputs": [
    {
     "name": "stdout",
     "output_type": "stream",
     "text": [
      "🔄 Adding andrew@openmined.org on google_personal.gdrive_files...\n",
      "   ✅ Added on google_personal.gdrive_files\n",
      "🔄 Adding andrew@openmined.org on google_personal.gmail...\n",
      "   ✅ Added on google_personal.gmail\n",
      "🔄 Adding andrew@openmined.org on google_personal.gsheets...\n",
      "   ✅ Added on google_personal.gsheets\n",
      "\n",
      "✅ Contact andrew@openmined.org added successfully on 3 transport(s)\n",
      "   • google_personal.gdrive_files\n",
      "   • google_personal.gmail\n",
      "   • google_personal.gsheets\n"
     ]
    }
   ],
   "source": [
    "client1.add_contact(\"andrew@openmined.org\")\n",
    "contact = client1.contacts[0]"
   ]
  },
  {
   "cell_type": "code",
   "execution_count": 11,
   "id": "6b0e8ce2-ab68-475a-90f7-10ca77ea2ecf",
   "metadata": {},
   "outputs": [],
   "source": [
    "contact.platforms.google_personal.gdrive_files"
   ]
  },
  {
   "cell_type": "code",
   "execution_count": 7,
   "id": "94438e51-af4a-43af-97cc-7556c6277a9a",
   "metadata": {},
   "outputs": [
    {
     "data": {
      "text/plain": [
       "{'email': 'andrew@openmined.org',\n",
       " 'transport': 'gforms',\n",
       " 'platform': 'google_personal',\n",
       " 'available': True}"
      ]
     },
     "execution_count": 7,
     "metadata": {},
     "output_type": "execute_result"
    }
   ],
   "source": [
    "contact.platforms.google_personal.gforms"
   ]
  },
  {
   "cell_type": "code",
   "execution_count": 8,
   "id": "452b4bf1-a36d-44ab-be71-0c83218d4990",
   "metadata": {},
   "outputs": [
    {
     "data": {
      "text/html": [
       "<pre style=\"white-space:pre;overflow-x:auto;line-height:normal;font-family:Menlo,'DejaVu Sans Mono',consolas,'Courier New',monospace\">╭─ Platforms for andrew@openmined.org ─╮\n",
       "│ <span style=\"color: #008000; text-decoration-color: #008000\">✓</span> <span style=\"color: #808000; text-decoration-color: #808000\">.google_personal</span> <span style=\"color: #7f7f7f; text-decoration-color: #7f7f7f\">(1 resources)</span>     │\n",
       "╰──────────────────────────────────────╯\n",
       "</pre>\n"
      ],
      "text/plain": [
       "╭─ Platforms for andrew@openmined.org ─╮\n",
       "│ \u001b[32m✓\u001b[0m \u001b[33m.google_personal\u001b[0m \u001b[2m(1 resources)\u001b[0m     │\n",
       "╰──────────────────────────────────────╯\n"
      ]
     },
     "metadata": {},
     "output_type": "display_data"
    },
    {
     "data": {
      "text/plain": []
     },
     "execution_count": 8,
     "metadata": {},
     "output_type": "execute_result"
    }
   ],
   "source": [
    "contact.platforms"
   ]
  },
  {
   "cell_type": "code",
   "execution_count": 9,
   "id": "c669f603-df30-4f8e-af47-78538e977e2a",
   "metadata": {},
   "outputs": [
    {
     "name": "stdout",
     "output_type": "stream",
     "text": [
      "🔄 Adding andrew@openmined.org on google_personal.gdrive_files...\n",
      "   ✅ Added on google_personal.gdrive_files\n",
      "🔄 Adding andrew@openmined.org on google_personal.gmail...\n",
      "   ✅ Added on google_personal.gmail\n",
      "🔄 Adding andrew@openmined.org on google_personal.gsheets...\n",
      "   ✅ Added on google_personal.gsheets\n",
      "\n",
      "✅ Contact andrew@openmined.org added successfully on 3 transport(s)\n",
      "   • google_personal.gdrive_files\n",
      "   • google_personal.gmail\n",
      "   • google_personal.gsheets\n"
     ]
    },
    {
     "data": {
      "text/plain": [
       "True"
      ]
     },
     "execution_count": 9,
     "metadata": {},
     "output_type": "execute_result"
    }
   ],
   "source": [
    "client1.add_contact(\"andrew@openmined.org\")"
   ]
  },
  {
   "cell_type": "code",
   "execution_count": null,
   "id": "5c879794-502e-408e-9b7c-7e02e9ee4533",
   "metadata": {},
   "outputs": [],
   "source": []
  },
  {
   "cell_type": "markdown",
   "id": "44315807-5e9f-4460-acc3-5a552420db32",
   "metadata": {},
   "source": [
    "# Test 1: Test the ability to prepare a message for sending"
   ]
  },
  {
   "cell_type": "code",
   "execution_count": 16,
   "id": "89747f50-213a-4dac-9d98-e9412516cfd3",
   "metadata": {},
   "outputs": [
    {
     "name": "stdout",
     "output_type": "stream",
     "text": [
      "⚠️  Syncing from outside SyftBox - file will be placed in: external/test_msg.txt\n"
     ]
    }
   ],
   "source": [
    "\n",
    "f = open('test_msg.txt', 'w')\n",
    "f.write(\"Hello world!!!!!!\")\n",
    "f.close()\n",
    "\n",
    "path = \"/Users/atrask/Desktop/Laboratory/syft-client/test_notebooks/test_msg.txt\"\n",
    "\n",
    "temp_dir = tempfile.TemporaryDirectory()\n",
    "\n",
    "(msg_id, msg_path, archive_size) = client1.sync.transport.prepare_message(\n",
    "  path=path,\n",
    "  recipient=\"andrew@openmined.org\",\n",
    "  temp_dir=temp_dir.name,  # Note: use temp_dir.name to get the string path\n",
    "  sync_from_anywhere=True\n",
    ")"
   ]
  },
  {
   "cell_type": "markdown",
   "id": "4845b16d-dcc2-4eed-be1d-04c72160d653",
   "metadata": {},
   "source": [
    "# Test 2: "
   ]
  },
  {
   "cell_type": "code",
   "execution_count": null,
   "id": "b291d5b6-7618-446f-b4a6-1b029eabccde",
   "metadata": {},
   "outputs": [],
   "source": []
  }
 ],
 "metadata": {
  "kernelspec": {
   "display_name": "Python 3 (ipykernel)",
   "language": "python",
   "name": "python3"
  },
  "language_info": {
   "codemirror_mode": {
    "name": "ipython",
    "version": 3
   },
   "file_extension": ".py",
   "mimetype": "text/x-python",
   "name": "python",
   "nbconvert_exporter": "python",
   "pygments_lexer": "ipython3",
   "version": "3.12.9"
  }
 },
 "nbformat": 4,
 "nbformat_minor": 5
}
