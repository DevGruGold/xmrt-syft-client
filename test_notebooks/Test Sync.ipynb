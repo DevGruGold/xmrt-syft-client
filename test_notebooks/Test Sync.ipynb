{
 "cells": [
  {
   "cell_type": "code",
   "execution_count": 1,
   "id": "c1597c93-e089-4b7d-9ca7-0997c477ede2",
   "metadata": {},
   "outputs": [],
   "source": [
    "import sys\n",
    "sys.path.insert(0, '..')\n",
    "import syft_client as sc"
   ]
  },
  {
   "cell_type": "code",
   "execution_count": 2,
   "id": "0c1c4206-a57e-46a8-bc12-d25209cccfa4",
   "metadata": {},
   "outputs": [
    {
     "name": "stdout",
     "output_type": "stream",
     "text": [
      "✅ Connected peer-to-peer to 3 peers via: Gmail, Gdrive_Files, Gsheets, Gforms                   \n"
     ]
    }
   ],
   "source": [
    "client1 = sc.login(\"liamtrask@gmail.com\")"
   ]
  },
  {
   "cell_type": "code",
   "execution_count": 3,
   "id": "bd5c413e-bb94-4c56-9166-c2a25c09d73d",
   "metadata": {},
   "outputs": [
    {
     "name": "stdout",
     "output_type": "stream",
     "text": [
      "✅ Connected peer-to-peer to 3 peers via: Gmail, Gdrive_Files, Gsheets, Gforms                    \n"
     ]
    }
   ],
   "source": [
    "client2 = sc.login(\"andrew@openmined.org\")"
   ]
  },
  {
   "cell_type": "code",
   "execution_count": 4,
   "id": "e22d5fe0-ec6c-45fe-a315-25099d3fb679",
   "metadata": {},
   "outputs": [],
   "source": [
    "import tempfile\n",
    "from pathlib import Path\n",
    "\n",
    "f = open('/Users/atrask/SyftBox_liamtrask@gmail.com/datasites/test_msg.txt', 'w')\n",
    "f.write(\"Hello world?\")\n",
    "f.close()\n",
    "\n",
    "path = \"/Users/atrask/SyftBox_liamtrask@gmail.com/datasites/test_msg.txt\"\n",
    "\n",
    "temp_dir = tempfile.TemporaryDirectory()"
   ]
  },
  {
   "cell_type": "code",
   "execution_count": 5,
   "id": "9a7ef42e-1974-4b83-9f5a-3d96de23c8e9",
   "metadata": {},
   "outputs": [
    {
     "name": "stdout",
     "output_type": "stream",
     "text": [
      "\n",
      "🔄 Transport negotiation for andrew@openmined.org:\n",
      "   File size: 514.0B\n",
      "   Priority: normal\n",
      "\n",
      "   Scores:\n",
      "   - gsheets: 0.86 (est. 500ms)\n",
      "     • Sub-second latency\n",
      "     • Verified transport\n",
      "   - gmail: 0.72 (est. 2000ms)\n",
      "     • Fast latency (<5s)\n",
      "     • Verified transport\n",
      "   - gdrive_files: 0.68 (est. 3000ms)\n",
      "     • Fast latency (<5s)\n",
      "     • Verified transport\n",
      "\n",
      "   ✅ Selected: gsheets\n",
      "📊 Sent message via sheets: msg_20250927_205036_75333fbe\n",
      "   Size: 514 bytes\n",
      "✅ Successfully sent via gsheets in 1823ms\n"
     ]
    }
   ],
   "source": [
    "out = client1.send_to(path=path, recipient=\"andrew@openmined.org\")"
   ]
  },
  {
   "cell_type": "code",
   "execution_count": 7,
   "id": "1049881e-d13c-4a16-b1c9-6d33a0859166",
   "metadata": {},
   "outputs": [
    {
     "name": "stdout",
     "output_type": "stream",
     "text": [
      "📬 Checking inbox for messages from liamtrask@gmail.com...\n",
      "\n",
      "🔄 Checking gdrive_files...\n",
      "   📭 No messages\n",
      "\n",
      "🔄 Checking gsheets...\n",
      "   Found message sheet: syft_liamtrask_at_gmail_com_to_andrew_at_openmined_org_messages\n",
      "   📥 Extracted: datasites\n",
      "   📥 Extracted: datasites\n",
      "   📦 Archived 2 messages\n",
      "   ✅ Found 2 messages\n",
      "\n",
      "🔄 Checking gmail...\n",
      "   ⚠️  Transport doesn't support inbox checking\n",
      "\n",
      "📊 Summary: Found 2 messages across 1 transport\n"
     ]
    },
    {
     "data": {
      "text/plain": [
       "{'gsheets': [{'id': 'msg_20250927_204908_1e95aadf',\n",
       "   'timestamp': '2025-09-27 20:49:09',\n",
       "   'size': 514,\n",
       "   'metadata': {'message_id': 'msg_20250927_204908_1e95aadf',\n",
       "    'sender': 'liamtrask@gmail.com',\n",
       "    'recipient': 'andrew@openmined.org',\n",
       "    'created_at': '2025-09-27T20:49:08.082102',\n",
       "    'syft_version': '0.1.0'},\n",
       "   'extracted_to': '/Users/atrask/SyftBox_andrew@openmined.org'},\n",
       "  {'id': 'msg_20250927_205036_75333fbe',\n",
       "   'timestamp': '2025-09-27 20:50:37',\n",
       "   'size': 514,\n",
       "   'metadata': {'message_id': 'msg_20250927_205036_75333fbe',\n",
       "    'sender': 'liamtrask@gmail.com',\n",
       "    'recipient': 'andrew@openmined.org',\n",
       "    'created_at': '2025-09-27T20:50:36.485574',\n",
       "    'syft_version': '0.1.0'},\n",
       "   'extracted_to': '/Users/atrask/SyftBox_andrew@openmined.org'}]}"
      ]
     },
     "execution_count": 7,
     "metadata": {},
     "output_type": "execute_result"
    }
   ],
   "source": [
    "client2.peers['liamtrask@gmail.com'].check_inbox()"
   ]
  },
  {
   "cell_type": "code",
   "execution_count": null,
   "id": "63be0a27-fba6-4679-866d-894216af82a3",
   "metadata": {},
   "outputs": [],
   "source": []
  },
  {
   "cell_type": "code",
   "execution_count": null,
   "id": "cc42be27-83d0-4bef-bbc4-b10d1fb9880b",
   "metadata": {},
   "outputs": [],
   "source": []
  },
  {
   "cell_type": "code",
   "execution_count": null,
   "id": "babfa261-625e-408f-bd6f-1d51524f9fe0",
   "metadata": {},
   "outputs": [],
   "source": []
  },
  {
   "cell_type": "code",
   "execution_count": 4,
   "id": "80b650b0-8e11-460a-a289-203d6a374e2a",
   "metadata": {},
   "outputs": [],
   "source": [
    "peer = client2.peers[1]"
   ]
  },
  {
   "cell_type": "code",
   "execution_count": 5,
   "id": "1436bf45-a62b-40f0-b613-82a586608440",
   "metadata": {},
   "outputs": [
    {
     "name": "stdout",
     "output_type": "stream",
     "text": [
      "📬 Checking inbox for messages from kj@kj.dev...\n",
      "\n",
      "🔄 Checking gdrive_files...\n",
      "   📭 No messages\n",
      "\n",
      "🔄 Checking gsheets...\n",
      "   No message sheet found: syft_kj@kj.dev_to_andrew@openmined.org_outbox_inbox\n",
      "   📭 No messages\n",
      "\n",
      "🔄 Checking gmail...\n",
      "   ⚠️  Transport doesn't support inbox checking\n",
      "\n",
      "📊 Summary: Found 0 messages across 0 transports\n"
     ]
    },
    {
     "data": {
      "text/plain": [
       "{}"
      ]
     },
     "execution_count": 5,
     "metadata": {},
     "output_type": "execute_result"
    }
   ],
   "source": [
    "peer.check_inbox()"
   ]
  },
  {
   "cell_type": "markdown",
   "id": "44315807-5e9f-4460-acc3-5a552420db32",
   "metadata": {},
   "source": [
    "# Test 1: Test the ability to prepare a message for sending"
   ]
  },
  {
   "cell_type": "code",
   "execution_count": 9,
   "id": "4fc4ca8f-c83e-4f84-8c80-02cfb231ba98",
   "metadata": {},
   "outputs": [
    {
     "data": {
      "text/plain": [
       "'/Users/atrask/SyftBox_liamtrask@gmail.com'"
      ]
     },
     "execution_count": 9,
     "metadata": {},
     "output_type": "execute_result"
    }
   ],
   "source": [
    "client1.folder"
   ]
  },
  {
   "cell_type": "code",
   "execution_count": 8,
   "id": "89747f50-213a-4dac-9d98-e9412516cfd3",
   "metadata": {},
   "outputs": [
    {
     "name": "stdout",
     "output_type": "stream",
     "text": [
      "⚠️  Syncing from outside SyftBox - file will be placed in: external/test_msg.txt\n"
     ]
    }
   ],
   "source": [
    "import tempfile\n",
    "from pathlib import Path\n",
    "\n",
    "f = open('/Users/atrask/SyftBox_liamtrask@gmail.com/datasites/test_msg.txt', 'w')\n",
    "f.write(\"Hello world!!!!!!\")\n",
    "f.close()\n",
    "\n",
    "path = \"/Users/atrask/SyftBox_liamtrask@gmail.com/datasites/test_msg.txt\"\n",
    "\n",
    "temp_dir = tempfile.TemporaryDirectory()\n",
    "\n",
    "(msg_id, msg_path, archive_size) = client1.sync.sender.prepare_message(\n",
    "  path=path,\n",
    "  recipient=\"andrew@openmined.org\",\n",
    "  temp_dir=temp_dir.name,  # Note: use temp_dir.name to get the string path\n",
    "  sync_from_anywhere=True\n",
    ")"
   ]
  },
  {
   "cell_type": "markdown",
   "id": "4845b16d-dcc2-4eed-be1d-04c72160d653",
   "metadata": {},
   "source": [
    "# Test 2: "
   ]
  },
  {
   "cell_type": "code",
   "execution_count": 9,
   "id": "4047f9da-870f-4b19-837b-f9a3282c9f73",
   "metadata": {},
   "outputs": [],
   "source": [
    "import sys\n",
    "sys.path.insert(0, '..')\n",
    "import syft_client as sc"
   ]
  },
  {
   "cell_type": "code",
   "execution_count": 29,
   "id": "793b7189-260f-412e-82ed-457efd4d11fc",
   "metadata": {},
   "outputs": [],
   "source": [
    "import tempfile\n",
    "from pathlib import Path\n",
    "\n",
    "f = open('/Users/atrask/SyftBox_liamtrask@gmail.com/datasites/test_msg.txt', 'w')\n",
    "f.write(\"Hello world?\")\n",
    "f.close()\n",
    "\n",
    "path = \"/Users/atrask/SyftBox_liamtrask@gmail.com/datasites/test_msg.txt\"\n",
    "\n",
    "temp_dir = tempfile.TemporaryDirectory()\n",
    "\n",
    "out = client1.send_to(path=path, recipient=\"andrew@openmined.org\")"
   ]
  },
  {
   "cell_type": "code",
   "execution_count": 30,
   "id": "b291d5b6-7618-446f-b4a6-1b029eabccde",
   "metadata": {},
   "outputs": [
    {
     "name": "stdout",
     "output_type": "stream",
     "text": [
      "\n",
      "🔄 Transport negotiation for andrew@openmined.org:\n",
      "   File size: 514.0B\n",
      "   Priority: normal\n",
      "\n",
      "   Scores:\n",
      "   - gsheets: 0.86 (est. 500ms)\n",
      "     • Sub-second latency\n",
      "     • Verified transport\n",
      "   - gmail: 0.72 (est. 2000ms)\n",
      "     • Fast latency (<5s)\n",
      "     • Verified transport\n",
      "   - gdrive_files: 0.68 (est. 3000ms)\n",
      "     • Fast latency (<5s)\n",
      "     • Verified transport\n",
      "\n",
      "   ✅ Selected: gsheets\n",
      "📊 Sent message via sheets: msg_20250927_204908_1e95aadf\n",
      "   Size: 514 bytes\n",
      "✅ Successfully sent via gsheets in 1800ms\n"
     ]
    }
   ],
   "source": []
  },
  {
   "cell_type": "code",
   "execution_count": 31,
   "id": "7fcbea4d-b717-47f6-a6a8-51ea3585cedb",
   "metadata": {},
   "outputs": [
    {
     "name": "stdout",
     "output_type": "stream",
     "text": [
      "📬 Checking inbox for messages from liamtrask@gmail.com...\n",
      "\n",
      "🔄 Checking gdrive_files...\n",
      "   📭 No messages\n",
      "\n",
      "🔄 Checking gsheets...\n",
      "   No message sheet found: syft_liamtrask@gmail.com_to_andrew@openmined.org_outbox_inbox\n",
      "   📭 No messages\n",
      "\n",
      "🔄 Checking gmail...\n",
      "   ⚠️  Transport doesn't support inbox checking\n",
      "\n",
      "📊 Summary: Found 0 messages across 0 transports\n"
     ]
    },
    {
     "data": {
      "text/plain": [
       "{}"
      ]
     },
     "execution_count": 31,
     "metadata": {},
     "output_type": "execute_result"
    }
   ],
   "source": [
    "client2.peers['liamtrask@gmail.com'].check_inbox()"
   ]
  },
  {
   "cell_type": "code",
   "execution_count": null,
   "id": "fc742359-0055-4165-a0a5-4a8444a7ed85",
   "metadata": {},
   "outputs": [],
   "source": []
  }
 ],
 "metadata": {
  "kernelspec": {
   "display_name": "Python 3 (ipykernel)",
   "language": "python",
   "name": "python3"
  },
  "language_info": {
   "codemirror_mode": {
    "name": "ipython",
    "version": 3
   },
   "file_extension": ".py",
   "mimetype": "text/x-python",
   "name": "python",
   "nbconvert_exporter": "python",
   "pygments_lexer": "ipython3",
   "version": "3.12.9"
  }
 },
 "nbformat": 4,
 "nbformat_minor": 5
}
