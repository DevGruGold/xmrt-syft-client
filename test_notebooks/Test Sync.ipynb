{
 "cells": [
  {
   "cell_type": "code",
   "execution_count": 1,
   "id": "c1597c93-e089-4b7d-9ca7-0997c477ede2",
   "metadata": {},
   "outputs": [],
   "source": [
    "import sys\n",
    "sys.path.insert(0, '..')\n",
    "import syft_client as sc"
   ]
  },
  {
   "cell_type": "code",
   "execution_count": 5,
   "id": "15720272-4c29-48a6-a4b6-4efe825bc897",
   "metadata": {},
   "outputs": [
    {
     "name": "stdout",
     "output_type": "stream",
     "text": [
      "✅ Connected peer-to-peer to 3 peers via: Gmail, Gdrive_Files, Gsheets, Gforms                   \n"
     ]
    }
   ],
   "source": [
    "client1 = sc.login(\"liamtrask@gmail.com\")"
   ]
  },
  {
   "cell_type": "code",
   "execution_count": 6,
   "id": "f45d3740-1618-4013-b73b-4627a6e69867",
   "metadata": {},
   "outputs": [
    {
     "name": "stdout",
     "output_type": "stream",
     "text": [
      "                                                                                "
     ]
    },
    {
     "data": {
      "text/html": [
       "<pre style=\"white-space:pre;overflow-x:auto;line-height:normal;font-family:Menlo,'DejaVu Sans Mono',consolas,'Courier New',monospace\">╭────── SyftClient.email = 'liamtrask@gmail.com' ───────╮\n",
       "│                                                       │\n",
       "│  <span style=\"color: #7f7f7f; text-decoration-color: #7f7f7f\">.folder</span> = /Users/atrask/SyftBox_liamtrask@gmail.com  │\n",
       "│                                                       │\n",
       "│  <span style=\"color: #7f7f7f; text-decoration-color: #7f7f7f\">.platforms</span> <span style=\"color: #7f7f7f; text-decoration-color: #7f7f7f\">(for peer-to-peer communication)</span>          │\n",
       "│    <span style=\"color: #808000; text-decoration-color: #808000; font-weight: bold\">.google_personal</span> <span style=\"color: #7f7f7f; text-decoration-color: #7f7f7f\">(3 peers)</span>                         │\n",
       "│      <span style=\"color: #008000; text-decoration-color: #008000\">✓</span> <span style=\"color: #008000; text-decoration-color: #008000\">✓</span> <span style=\"color: #008000; text-decoration-color: #008000\">.gmail</span> <span style=\"color: #7f7f7f; text-decoration-color: #7f7f7f\">(3 peers)</span>                             │\n",
       "│      <span style=\"color: #008000; text-decoration-color: #008000\">✓</span> <span style=\"color: #008000; text-decoration-color: #008000\">✓</span> <span style=\"color: #008000; text-decoration-color: #008000\">.gdrive_files</span> <span style=\"color: #7f7f7f; text-decoration-color: #7f7f7f\">(3 peers)</span>                      │\n",
       "│      <span style=\"color: #008000; text-decoration-color: #008000\">✓</span> <span style=\"color: #008000; text-decoration-color: #008000\">✓</span> <span style=\"color: #008000; text-decoration-color: #008000\">.gsheets</span> <span style=\"color: #7f7f7f; text-decoration-color: #7f7f7f\">(3 peers)</span>                           │\n",
       "│      <span style=\"color: #008000; text-decoration-color: #008000\">✓</span> <span style=\"color: #008000; text-decoration-color: #008000\">✓</span> <span style=\"color: #008000; text-decoration-color: #008000\">.gforms</span>                                      │\n",
       "│                                                       │\n",
       "│  <span style=\"color: #7f7f7f; text-decoration-color: #7f7f7f\">━━━━━━━━━━━━━━━━━━━━━━━━━━━━━━━━━━━━━━━━━━━━━━━━━━</span>   │\n",
       "│                                                       │\n",
       "│  <span style=\"color: #008080; text-decoration-color: #008080; font-weight: bold\">.peers</span>  <span style=\"color: #7f7f7f; text-decoration-color: #7f7f7f\">(3 active, 0 pending)</span>                        │\n",
       "│                                                       │\n",
       "│    [0] andrew@openmined.org                           │\n",
       "│    [1] stephen@openmined.org                          │\n",
       "│    [2] rasswanth@openmined.org                        │\n",
       "│                                                       │\n",
       "╰───────────────────────────────────────────────────────╯\n",
       "</pre>\n"
      ],
      "text/plain": [
       "╭────── SyftClient.email = 'liamtrask@gmail.com' ───────╮\n",
       "│                                                       │\n",
       "│  \u001b[2m.folder\u001b[0m = /Users/atrask/SyftBox_liamtrask@gmail.com  │\n",
       "│                                                       │\n",
       "│  \u001b[2m.platforms\u001b[0m \u001b[2m(for peer-to-peer communication)\u001b[0m          │\n",
       "│    \u001b[1;33m.google_personal\u001b[0m \u001b[2m(3 peers)\u001b[0m                         │\n",
       "│      \u001b[32m✓\u001b[0m \u001b[32m✓\u001b[0m \u001b[32m.gmail\u001b[0m \u001b[2m(3 peers)\u001b[0m                             │\n",
       "│      \u001b[32m✓\u001b[0m \u001b[32m✓\u001b[0m \u001b[32m.gdrive_files\u001b[0m \u001b[2m(3 peers)\u001b[0m                      │\n",
       "│      \u001b[32m✓\u001b[0m \u001b[32m✓\u001b[0m \u001b[32m.gsheets\u001b[0m \u001b[2m(3 peers)\u001b[0m                           │\n",
       "│      \u001b[32m✓\u001b[0m \u001b[32m✓\u001b[0m \u001b[32m.gforms\u001b[0m                                      │\n",
       "│                                                       │\n",
       "│  \u001b[2m━\u001b[0m\u001b[2m━\u001b[0m\u001b[2m━\u001b[0m\u001b[2m━\u001b[0m\u001b[2m━\u001b[0m\u001b[2m━\u001b[0m\u001b[2m━\u001b[0m\u001b[2m━\u001b[0m\u001b[2m━\u001b[0m\u001b[2m━\u001b[0m\u001b[2m━\u001b[0m\u001b[2m━\u001b[0m\u001b[2m━\u001b[0m\u001b[2m━\u001b[0m\u001b[2m━\u001b[0m\u001b[2m━\u001b[0m\u001b[2m━\u001b[0m\u001b[2m━\u001b[0m\u001b[2m━\u001b[0m\u001b[2m━\u001b[0m\u001b[2m━\u001b[0m\u001b[2m━\u001b[0m\u001b[2m━\u001b[0m\u001b[2m━\u001b[0m\u001b[2m━\u001b[0m\u001b[2m━\u001b[0m\u001b[2m━\u001b[0m\u001b[2m━\u001b[0m\u001b[2m━\u001b[0m\u001b[2m━\u001b[0m\u001b[2m━\u001b[0m\u001b[2m━\u001b[0m\u001b[2m━\u001b[0m\u001b[2m━\u001b[0m\u001b[2m━\u001b[0m\u001b[2m━\u001b[0m\u001b[2m━\u001b[0m\u001b[2m━\u001b[0m\u001b[2m━\u001b[0m\u001b[2m━\u001b[0m\u001b[2m━\u001b[0m\u001b[2m━\u001b[0m\u001b[2m━\u001b[0m\u001b[2m━\u001b[0m\u001b[2m━\u001b[0m\u001b[2m━\u001b[0m\u001b[2m━\u001b[0m\u001b[2m━\u001b[0m\u001b[2m━\u001b[0m\u001b[2m━\u001b[0m   │\n",
       "│                                                       │\n",
       "│  \u001b[1;36m.peers\u001b[0m  \u001b[2m(3 active, 0 pending)\u001b[0m                        │\n",
       "│                                                       │\n",
       "│    [0] andrew@openmined.org                           │\n",
       "│    [1] stephen@openmined.org                          │\n",
       "│    [2] rasswanth@openmined.org                        │\n",
       "│                                                       │\n",
       "╰───────────────────────────────────────────────────────╯\n"
      ]
     },
     "metadata": {},
     "output_type": "display_data"
    },
    {
     "data": {
      "text/plain": []
     },
     "execution_count": 6,
     "metadata": {},
     "output_type": "execute_result"
    }
   ],
   "source": [
    "client1"
   ]
  },
  {
   "cell_type": "code",
   "execution_count": 4,
   "id": "a4e3aa98-e6ae-4154-9ad4-9d6f0595a0fa",
   "metadata": {},
   "outputs": [
    {
     "name": "stdout",
     "output_type": "stream",
     "text": [
      "🔄 Adding stephen@openmined.org on google_personal.gdrive_files...\n",
      "   ✅ Added on google_personal.gdrive_files\n",
      "🔄 Adding stephen@openmined.org on google_personal.gmail...\n",
      "   ✅ Added on google_personal.gmail\n",
      "🔄 Adding stephen@openmined.org on google_personal.gsheets...\n",
      "   ✅ Added on google_personal.gsheets\n",
      "\n",
      "✅ Peer stephen@openmined.org added successfully on 3 transport(s)\n",
      "   • google_personal.gdrive_files\n",
      "   • google_personal.gmail\n",
      "   • google_personal.gsheets\n"
     ]
    },
    {
     "data": {
      "text/plain": [
       "True"
      ]
     },
     "execution_count": 4,
     "metadata": {},
     "output_type": "execute_result"
    }
   ],
   "source": [
    "client1.add_peer(\"stephen@openmined.org\")"
   ]
  },
  {
   "cell_type": "code",
   "execution_count": 14,
   "id": "eb7e460e-20e8-44f3-82e3-151ad391e00b",
   "metadata": {},
   "outputs": [
    {
     "data": {
      "text/html": [
       "<pre style=\"white-space:pre;overflow-x:auto;line-height:normal;font-family:Menlo,'DejaVu Sans Mono',consolas,'Courier New',monospace\">╭──────────── Peer: rasswanth ─────────────╮\n",
       "│                                          │\n",
       "│  <span style=\"color: #008080; text-decoration-color: #008080; font-weight: bold\">Email:</span> rasswanth@openmined.org          │\n",
       "│  <span style=\"color: #008080; text-decoration-color: #008080; font-weight: bold\">Platform:</span> google_personal               │\n",
       "│                                          │\n",
       "│  <span style=\"color: #7f7f7f; text-decoration-color: #7f7f7f\">Added: 2025-09-26 22:26</span>                 │\n",
       "│  <span style=\"color: #7f7f7f; text-decoration-color: #7f7f7f\">Capabilities updated: 2025-09-26 22:26</span>  │\n",
       "│                                          │\n",
       "│  <span style=\"color: #7f7f7f; text-decoration-color: #7f7f7f\">.platforms</span>                              │\n",
       "│    <span style=\"color: #808000; text-decoration-color: #808000; font-weight: bold\">.google_personal</span>                      │\n",
       "│      <span style=\"color: #008000; text-decoration-color: #008000\">✓</span> <span style=\"color: #008080; text-decoration-color: #008080\">.gdrive_files</span>                     │\n",
       "│         <span style=\"color: #7f7f7f; text-decoration-color: #7f7f7f\">verified 0 minutes ago</span>           │\n",
       "│      <span style=\"color: #800000; text-decoration-color: #800000\">✗</span> <span style=\"color: #7f7f7f; text-decoration-color: #7f7f7f\">.gforms</span>                           │\n",
       "│      <span style=\"color: #008000; text-decoration-color: #008000\">✓</span> <span style=\"color: #008080; text-decoration-color: #008080\">.gmail</span>                            │\n",
       "│         <span style=\"color: #7f7f7f; text-decoration-color: #7f7f7f\">verified 0 minutes ago</span>           │\n",
       "│      <span style=\"color: #008000; text-decoration-color: #008000\">✓</span> <span style=\"color: #008080; text-decoration-color: #008080\">.gsheets</span>                          │\n",
       "│         <span style=\"color: #7f7f7f; text-decoration-color: #7f7f7f\">verified 0 minutes ago</span>           │\n",
       "│                                          │\n",
       "╰──────────────────────────────────────────╯\n",
       "</pre>\n"
      ],
      "text/plain": [
       "╭──────────── Peer: rasswanth ─────────────╮\n",
       "│                                          │\n",
       "│  \u001b[1;36mEmail:\u001b[0m rasswanth@openmined.org          │\n",
       "│  \u001b[1;36mPlatform:\u001b[0m google_personal               │\n",
       "│                                          │\n",
       "│  \u001b[2mAdded: 2025-09-26 22:26\u001b[0m                 │\n",
       "│  \u001b[2mCapabilities updated: 2025-09-26 22:26\u001b[0m  │\n",
       "│                                          │\n",
       "│  \u001b[2m.platforms\u001b[0m                              │\n",
       "│    \u001b[1;33m.google_personal\u001b[0m                      │\n",
       "│      \u001b[32m✓\u001b[0m \u001b[36m.gdrive_files\u001b[0m                     │\n",
       "│         \u001b[2mverified 0 minutes ago\u001b[0m           │\n",
       "│      \u001b[31m✗\u001b[0m \u001b[2m.gforms\u001b[0m                           │\n",
       "│      \u001b[32m✓\u001b[0m \u001b[36m.gmail\u001b[0m                            │\n",
       "│         \u001b[2mverified 0 minutes ago\u001b[0m           │\n",
       "│      \u001b[32m✓\u001b[0m \u001b[36m.gsheets\u001b[0m                          │\n",
       "│         \u001b[2mverified 0 minutes ago\u001b[0m           │\n",
       "│                                          │\n",
       "╰──────────────────────────────────────────╯\n"
      ]
     },
     "metadata": {},
     "output_type": "display_data"
    },
    {
     "data": {
      "text/plain": []
     },
     "execution_count": 14,
     "metadata": {},
     "output_type": "execute_result"
    }
   ],
   "source": [
    "rass = client1.peers[1]\n",
    "rass"
   ]
  },
  {
   "cell_type": "code",
   "execution_count": 19,
   "id": "1812ee5b-fcec-4a8c-9162-456d30f61a06",
   "metadata": {},
   "outputs": [
    {
     "data": {
      "text/html": [
       "<pre style=\"white-space:pre;overflow-x:auto;line-height:normal;font-family:Menlo,'DejaVu Sans Mono',consolas,'Courier New',monospace\">╭─────────────────────────── Gsheets Resources ───────────────────────────╮\n",
       "│                                                                         │\n",
       "│  <span style=\"color: #008080; text-decoration-color: #008080; font-weight: bold\">Peer:</span> rasswanth@openmined.org                                          │\n",
       "│  <span style=\"color: #008080; text-decoration-color: #008080; font-weight: bold\">Transport:</span> google_personal.gsheets                                     │\n",
       "│                                                                         │\n",
       "│  <span style=\"font-weight: bold\">Communication Folders:</span>                                                 │\n",
       "│                                                                         │\n",
       "│  <span style=\"color: #008000; text-decoration-color: #008000\">📤 Outbox/Inbox (Shared):</span>                                              │\n",
       "│     <span style=\"color: #7f7f7f; text-decoration-color: #7f7f7f\">syft_liamtrask_at_gmail_com_to_rasswanth_at_openmined_org_messages</span>  │\n",
       "│     <a href=\"https://docs.google.com/spreadsheets/d/1osExv--26RR-NEBkosEwiHCjU4ZUhZlGEKAS4cJReUE\" target=\"_blank\">→ Open in Drive</a>                                                     │\n",
       "│                                                                         │\n",
       "╰─────────────────────────────────────────────────────────────────────────╯\n",
       "</pre>\n"
      ],
      "text/plain": [
       "╭─────────────────────────── Gsheets Resources ───────────────────────────╮\n",
       "│                                                                         │\n",
       "│  \u001b[1;36mPeer:\u001b[0m rasswanth@openmined.org                                          │\n",
       "│  \u001b[1;36mTransport:\u001b[0m google_personal.gsheets                                     │\n",
       "│                                                                         │\n",
       "│  \u001b[1mCommunication Folders:\u001b[0m                                                 │\n",
       "│                                                                         │\n",
       "│  \u001b[32m📤 Outbox/Inbox (Shared):\u001b[0m                                              │\n",
       "│     \u001b[2msyft_liamtrask_at_gmail_com_to_rasswanth_at_openmined_org_messages\u001b[0m  │\n",
       "│     \u001b]8;id=493370;https://docs.google.com/spreadsheets/d/1osExv--26RR-NEBkosEwiHCjU4ZUhZlGEKAS4cJReUE\u001b\\→ Open in Drive\u001b]8;;\u001b\\                                                     │\n",
       "│                                                                         │\n",
       "╰─────────────────────────────────────────────────────────────────────────╯\n"
      ]
     },
     "metadata": {},
     "output_type": "display_data"
    },
    {
     "data": {
      "text/plain": []
     },
     "execution_count": 19,
     "metadata": {},
     "output_type": "execute_result"
    }
   ],
   "source": [
    "rass.platforms.google_personal.gsheets"
   ]
  },
  {
   "cell_type": "code",
   "execution_count": null,
   "id": "5cc66349-175b-4294-89c4-deffc9133288",
   "metadata": {},
   "outputs": [],
   "source": []
  },
  {
   "cell_type": "code",
   "execution_count": null,
   "id": "e781b6d2-88db-4be6-be8e-a3ad9dc84bb7",
   "metadata": {},
   "outputs": [],
   "source": []
  },
  {
   "cell_type": "code",
   "execution_count": null,
   "id": "23fc0e4b-aec3-4f9f-97f6-2280b39e5c1c",
   "metadata": {},
   "outputs": [],
   "source": []
  },
  {
   "cell_type": "code",
   "execution_count": null,
   "id": "b87ac377-9a60-45f2-a791-b37a22994f4d",
   "metadata": {},
   "outputs": [],
   "source": []
  },
  {
   "cell_type": "code",
   "execution_count": null,
   "id": "4bb0c144-874a-463d-891b-2b72935290f1",
   "metadata": {},
   "outputs": [],
   "source": []
  },
  {
   "cell_type": "code",
   "execution_count": null,
   "id": "65063a9c-40a9-4ee4-9f8d-ece7e46baea8",
   "metadata": {},
   "outputs": [],
   "source": []
  },
  {
   "cell_type": "code",
   "execution_count": null,
   "id": "dd81f06a-1731-4f70-9967-d628bb866c9d",
   "metadata": {},
   "outputs": [],
   "source": []
  },
  {
   "cell_type": "code",
   "execution_count": 6,
   "id": "5bb2ba8e-da14-404b-9e97-cc892072f571",
   "metadata": {},
   "outputs": [
    {
     "name": "stdout",
     "output_type": "stream",
     "text": [
      "                                                                                "
     ]
    },
    {
     "data": {
      "text/html": [
       "<pre style=\"white-space:pre;overflow-x:auto;line-height:normal;font-family:Menlo,'DejaVu Sans Mono',consolas,'Courier New',monospace\">╭────── SyftClient.email = 'liamtrask@gmail.com' ───────╮\n",
       "│                                                       │\n",
       "│  <span style=\"color: #7f7f7f; text-decoration-color: #7f7f7f\">.folder</span> = /Users/atrask/SyftBox_liamtrask@gmail.com  │\n",
       "│                                                       │\n",
       "│  <span style=\"color: #7f7f7f; text-decoration-color: #7f7f7f\">.platforms</span> <span style=\"color: #7f7f7f; text-decoration-color: #7f7f7f\">(for peer-to-peer communication)</span>          │\n",
       "│    <span style=\"color: #808000; text-decoration-color: #808000; font-weight: bold\">.google_personal</span> <span style=\"color: #7f7f7f; text-decoration-color: #7f7f7f\">(1 peer)</span>                          │\n",
       "│      <span style=\"color: #008000; text-decoration-color: #008000\">✓</span> <span style=\"color: #008000; text-decoration-color: #008000\">✓</span> <span style=\"color: #008000; text-decoration-color: #008000\">.gmail</span> <span style=\"color: #7f7f7f; text-decoration-color: #7f7f7f\">(1 peer)</span>                              │\n",
       "│      <span style=\"color: #008000; text-decoration-color: #008000\">✓</span> <span style=\"color: #008000; text-decoration-color: #008000\">✓</span> <span style=\"color: #008000; text-decoration-color: #008000\">.gdrive_files</span> <span style=\"color: #7f7f7f; text-decoration-color: #7f7f7f\">(1 peer)</span>                       │\n",
       "│      <span style=\"color: #008000; text-decoration-color: #008000\">✓</span> <span style=\"color: #008000; text-decoration-color: #008000\">✓</span> <span style=\"color: #008000; text-decoration-color: #008000\">.gsheets</span> <span style=\"color: #7f7f7f; text-decoration-color: #7f7f7f\">(1 peer)</span>                            │\n",
       "│      <span style=\"color: #008000; text-decoration-color: #008000\">✓</span> <span style=\"color: #008000; text-decoration-color: #008000\">✓</span> <span style=\"color: #008000; text-decoration-color: #008000\">.gforms</span>                                      │\n",
       "│                                                       │\n",
       "│  <span style=\"color: #7f7f7f; text-decoration-color: #7f7f7f\">━━━━━━━━━━━━━━━━━━━━━━━━━━━━━━━━━━━━━━━━━━━━━━━━━━</span>   │\n",
       "│                                                       │\n",
       "│  <span style=\"color: #008080; text-decoration-color: #008080; font-weight: bold\">.peers</span>  <span style=\"color: #7f7f7f; text-decoration-color: #7f7f7f\">(1 active, 0 pending)</span>                        │\n",
       "│                                                       │\n",
       "│    [0] andrew@openmined.org                           │\n",
       "│                                                       │\n",
       "╰───────────────────────────────────────────────────────╯\n",
       "</pre>\n"
      ],
      "text/plain": [
       "╭────── SyftClient.email = 'liamtrask@gmail.com' ───────╮\n",
       "│                                                       │\n",
       "│  \u001b[2m.folder\u001b[0m = /Users/atrask/SyftBox_liamtrask@gmail.com  │\n",
       "│                                                       │\n",
       "│  \u001b[2m.platforms\u001b[0m \u001b[2m(for peer-to-peer communication)\u001b[0m          │\n",
       "│    \u001b[1;33m.google_personal\u001b[0m \u001b[2m(1 peer)\u001b[0m                          │\n",
       "│      \u001b[32m✓\u001b[0m \u001b[32m✓\u001b[0m \u001b[32m.gmail\u001b[0m \u001b[2m(1 peer)\u001b[0m                              │\n",
       "│      \u001b[32m✓\u001b[0m \u001b[32m✓\u001b[0m \u001b[32m.gdrive_files\u001b[0m \u001b[2m(1 peer)\u001b[0m                       │\n",
       "│      \u001b[32m✓\u001b[0m \u001b[32m✓\u001b[0m \u001b[32m.gsheets\u001b[0m \u001b[2m(1 peer)\u001b[0m                            │\n",
       "│      \u001b[32m✓\u001b[0m \u001b[32m✓\u001b[0m \u001b[32m.gforms\u001b[0m                                      │\n",
       "│                                                       │\n",
       "│  \u001b[2m━\u001b[0m\u001b[2m━\u001b[0m\u001b[2m━\u001b[0m\u001b[2m━\u001b[0m\u001b[2m━\u001b[0m\u001b[2m━\u001b[0m\u001b[2m━\u001b[0m\u001b[2m━\u001b[0m\u001b[2m━\u001b[0m\u001b[2m━\u001b[0m\u001b[2m━\u001b[0m\u001b[2m━\u001b[0m\u001b[2m━\u001b[0m\u001b[2m━\u001b[0m\u001b[2m━\u001b[0m\u001b[2m━\u001b[0m\u001b[2m━\u001b[0m\u001b[2m━\u001b[0m\u001b[2m━\u001b[0m\u001b[2m━\u001b[0m\u001b[2m━\u001b[0m\u001b[2m━\u001b[0m\u001b[2m━\u001b[0m\u001b[2m━\u001b[0m\u001b[2m━\u001b[0m\u001b[2m━\u001b[0m\u001b[2m━\u001b[0m\u001b[2m━\u001b[0m\u001b[2m━\u001b[0m\u001b[2m━\u001b[0m\u001b[2m━\u001b[0m\u001b[2m━\u001b[0m\u001b[2m━\u001b[0m\u001b[2m━\u001b[0m\u001b[2m━\u001b[0m\u001b[2m━\u001b[0m\u001b[2m━\u001b[0m\u001b[2m━\u001b[0m\u001b[2m━\u001b[0m\u001b[2m━\u001b[0m\u001b[2m━\u001b[0m\u001b[2m━\u001b[0m\u001b[2m━\u001b[0m\u001b[2m━\u001b[0m\u001b[2m━\u001b[0m\u001b[2m━\u001b[0m\u001b[2m━\u001b[0m\u001b[2m━\u001b[0m\u001b[2m━\u001b[0m\u001b[2m━\u001b[0m   │\n",
       "│                                                       │\n",
       "│  \u001b[1;36m.peers\u001b[0m  \u001b[2m(1 active, 0 pending)\u001b[0m                        │\n",
       "│                                                       │\n",
       "│    [0] andrew@openmined.org                           │\n",
       "│                                                       │\n",
       "╰───────────────────────────────────────────────────────╯\n"
      ]
     },
     "metadata": {},
     "output_type": "display_data"
    },
    {
     "data": {
      "text/plain": []
     },
     "execution_count": 6,
     "metadata": {},
     "output_type": "execute_result"
    }
   ],
   "source": [
    "client1"
   ]
  },
  {
   "cell_type": "code",
   "execution_count": 20,
   "id": "4f06b90b-5f69-4b15-bedb-4fe115c3da63",
   "metadata": {},
   "outputs": [
    {
     "name": "stdout",
     "output_type": "stream",
     "text": [
      "✅ Connected peer-to-peer to 3 peers via: Gmail, Gdrive_Files, Gsheets, Gforms                    \n"
     ]
    }
   ],
   "source": [
    "client2 = sc.login(\"andrew@openmined.org\")"
   ]
  },
  {
   "cell_type": "code",
   "execution_count": 21,
   "id": "0d81212a-2790-4e9d-bb59-52d183287fa1",
   "metadata": {},
   "outputs": [
    {
     "name": "stdout",
     "output_type": "stream",
     "text": [
      "                                                                                "
     ]
    },
    {
     "data": {
      "text/html": [
       "<pre style=\"white-space:pre;overflow-x:auto;line-height:normal;font-family:Menlo,'DejaVu Sans Mono',consolas,'Courier New',monospace\">╭───────── SyftClient.email = 'andrew@openmined.org' ─────────╮\n",
       "│                                                             │\n",
       "│  <span style=\"color: #7f7f7f; text-decoration-color: #7f7f7f\">.folder</span> = /Users/atrask/SyftBox_andrew@openmined.org       │\n",
       "│                                                             │\n",
       "│  <span style=\"color: #7f7f7f; text-decoration-color: #7f7f7f\">.platforms</span> <span style=\"color: #7f7f7f; text-decoration-color: #7f7f7f\">(for peer-to-peer communication)</span>                │\n",
       "│    <span style=\"color: #808000; text-decoration-color: #808000; font-weight: bold\">.google_org</span> <span style=\"color: #7f7f7f; text-decoration-color: #7f7f7f\">(3 peers)</span> <span style=\"color: #7f7f7f; text-decoration-color: #7f7f7f\">(project: psychic-surf-472920-j9)</span>  │\n",
       "│      <span style=\"color: #008000; text-decoration-color: #008000\">✓</span> <span style=\"color: #008000; text-decoration-color: #008000\">✓</span> <span style=\"color: #008000; text-decoration-color: #008000\">.gmail</span> <span style=\"color: #7f7f7f; text-decoration-color: #7f7f7f\">(3 peers)</span>                                   │\n",
       "│      <span style=\"color: #008000; text-decoration-color: #008000\">✓</span> <span style=\"color: #008000; text-decoration-color: #008000\">✓</span> <span style=\"color: #008000; text-decoration-color: #008000\">.gdrive_files</span> <span style=\"color: #7f7f7f; text-decoration-color: #7f7f7f\">(3 peers)</span>                            │\n",
       "│      <span style=\"color: #008000; text-decoration-color: #008000\">✓</span> <span style=\"color: #008000; text-decoration-color: #008000\">✓</span> <span style=\"color: #008000; text-decoration-color: #008000\">.gsheets</span> <span style=\"color: #7f7f7f; text-decoration-color: #7f7f7f\">(3 peers)</span>                                 │\n",
       "│      <span style=\"color: #008000; text-decoration-color: #008000\">✓</span> <span style=\"color: #008000; text-decoration-color: #008000\">✓</span> <span style=\"color: #008000; text-decoration-color: #008000\">.gforms</span>                                            │\n",
       "│                                                             │\n",
       "│  <span style=\"color: #7f7f7f; text-decoration-color: #7f7f7f\">━━━━━━━━━━━━━━━━━━━━━━━━━━━━━━━━━━━━━━━━━━━━━━━━━━</span>         │\n",
       "│                                                             │\n",
       "│  <span style=\"color: #008080; text-decoration-color: #008080; font-weight: bold\">.peers</span>  <span style=\"color: #7f7f7f; text-decoration-color: #7f7f7f\">(3 active, 0 pending)</span>                              │\n",
       "│                                                             │\n",
       "│    [0] rasswanth@openmined.org                              │\n",
       "│    [1] liamtrask@gmail.com                                  │\n",
       "│    [2] kj@kj.dev                                            │\n",
       "│                                                             │\n",
       "╰─────────────────────────────────────────────────────────────╯\n",
       "</pre>\n"
      ],
      "text/plain": [
       "╭───────── SyftClient.email = 'andrew@openmined.org' ─────────╮\n",
       "│                                                             │\n",
       "│  \u001b[2m.folder\u001b[0m = /Users/atrask/SyftBox_andrew@openmined.org       │\n",
       "│                                                             │\n",
       "│  \u001b[2m.platforms\u001b[0m \u001b[2m(for peer-to-peer communication)\u001b[0m                │\n",
       "│    \u001b[1;33m.google_org\u001b[0m \u001b[2m(3 peers)\u001b[0m \u001b[2m(project: psychic-surf-472920-j9)\u001b[0m  │\n",
       "│      \u001b[32m✓\u001b[0m \u001b[32m✓\u001b[0m \u001b[32m.gmail\u001b[0m \u001b[2m(3 peers)\u001b[0m                                   │\n",
       "│      \u001b[32m✓\u001b[0m \u001b[32m✓\u001b[0m \u001b[32m.gdrive_files\u001b[0m \u001b[2m(3 peers)\u001b[0m                            │\n",
       "│      \u001b[32m✓\u001b[0m \u001b[32m✓\u001b[0m \u001b[32m.gsheets\u001b[0m \u001b[2m(3 peers)\u001b[0m                                 │\n",
       "│      \u001b[32m✓\u001b[0m \u001b[32m✓\u001b[0m \u001b[32m.gforms\u001b[0m                                            │\n",
       "│                                                             │\n",
       "│  \u001b[2m━\u001b[0m\u001b[2m━\u001b[0m\u001b[2m━\u001b[0m\u001b[2m━\u001b[0m\u001b[2m━\u001b[0m\u001b[2m━\u001b[0m\u001b[2m━\u001b[0m\u001b[2m━\u001b[0m\u001b[2m━\u001b[0m\u001b[2m━\u001b[0m\u001b[2m━\u001b[0m\u001b[2m━\u001b[0m\u001b[2m━\u001b[0m\u001b[2m━\u001b[0m\u001b[2m━\u001b[0m\u001b[2m━\u001b[0m\u001b[2m━\u001b[0m\u001b[2m━\u001b[0m\u001b[2m━\u001b[0m\u001b[2m━\u001b[0m\u001b[2m━\u001b[0m\u001b[2m━\u001b[0m\u001b[2m━\u001b[0m\u001b[2m━\u001b[0m\u001b[2m━\u001b[0m\u001b[2m━\u001b[0m\u001b[2m━\u001b[0m\u001b[2m━\u001b[0m\u001b[2m━\u001b[0m\u001b[2m━\u001b[0m\u001b[2m━\u001b[0m\u001b[2m━\u001b[0m\u001b[2m━\u001b[0m\u001b[2m━\u001b[0m\u001b[2m━\u001b[0m\u001b[2m━\u001b[0m\u001b[2m━\u001b[0m\u001b[2m━\u001b[0m\u001b[2m━\u001b[0m\u001b[2m━\u001b[0m\u001b[2m━\u001b[0m\u001b[2m━\u001b[0m\u001b[2m━\u001b[0m\u001b[2m━\u001b[0m\u001b[2m━\u001b[0m\u001b[2m━\u001b[0m\u001b[2m━\u001b[0m\u001b[2m━\u001b[0m\u001b[2m━\u001b[0m\u001b[2m━\u001b[0m         │\n",
       "│                                                             │\n",
       "│  \u001b[1;36m.peers\u001b[0m  \u001b[2m(3 active, 0 pending)\u001b[0m                              │\n",
       "│                                                             │\n",
       "│    [0] rasswanth@openmined.org                              │\n",
       "│    [1] liamtrask@gmail.com                                  │\n",
       "│    [2] kj@kj.dev                                            │\n",
       "│                                                             │\n",
       "╰─────────────────────────────────────────────────────────────╯\n"
      ]
     },
     "metadata": {},
     "output_type": "display_data"
    },
    {
     "data": {
      "text/plain": []
     },
     "execution_count": 21,
     "metadata": {},
     "output_type": "execute_result"
    }
   ],
   "source": [
    "client2"
   ]
  },
  {
   "cell_type": "code",
   "execution_count": null,
   "id": "28b12a57-0308-4b0b-8ac5-be4f88586009",
   "metadata": {},
   "outputs": [],
   "source": []
  },
  {
   "cell_type": "code",
   "execution_count": null,
   "id": "b57cd0cf-847b-48f5-bbf6-1fd1b1a238aa",
   "metadata": {},
   "outputs": [],
   "source": []
  },
  {
   "cell_type": "code",
   "execution_count": null,
   "id": "885b805d-c5bd-4f0b-a2e4-adf21dff6e64",
   "metadata": {},
   "outputs": [],
   "source": []
  },
  {
   "cell_type": "code",
   "execution_count": null,
   "id": "d1b63ae7-09a8-4cf2-8713-ce937d173bf0",
   "metadata": {},
   "outputs": [],
   "source": []
  },
  {
   "cell_type": "code",
   "execution_count": 3,
   "id": "e44747c3-41ab-4534-a4cc-a18c20b24c6a",
   "metadata": {},
   "outputs": [
    {
     "data": {
      "text/plain": [
       "Contacts (1): andrew@openmined.org"
      ]
     },
     "execution_count": 3,
     "metadata": {},
     "output_type": "execute_result"
    }
   ],
   "source": [
    "client1.contacts"
   ]
  },
  {
   "cell_type": "code",
   "execution_count": 5,
   "id": "1b121399-645e-42d3-aa9c-e670c940f2a3",
   "metadata": {},
   "outputs": [
    {
     "name": "stdout",
     "output_type": "stream",
     "text": [
      "\n",
      "📬 You have 2 pending contact requests:\n",
      "   • kj@kj.dev (via google_org.gdrive_files)\n",
      "   • rasswanth@openmined.org (via google_org.gdrive_files)\n",
      "\n",
      "To accept a contact request, use: client.add_contact('email@example.com')\n"
     ]
    },
    {
     "data": {
      "text/plain": [
       "{'google_org.gdrive_files': [ContactRequest(from='kj@kj.dev', via=google_org.gdrive_files, 0 resources),\n",
       "  ContactRequest(from='rasswanth@openmined.org', via=google_org.gdrive_files, 0 resources)]}"
      ]
     },
     "execution_count": 5,
     "metadata": {},
     "output_type": "execute_result"
    }
   ],
   "source": [
    "client2.check_contact_requests()"
   ]
  },
  {
   "cell_type": "code",
   "execution_count": null,
   "id": "e0019277-96e2-47fc-9f60-232a141a33ad",
   "metadata": {},
   "outputs": [],
   "source": []
  },
  {
   "cell_type": "code",
   "execution_count": null,
   "id": "3542226a-d330-4262-ab05-940eddf3844b",
   "metadata": {},
   "outputs": [],
   "source": []
  },
  {
   "cell_type": "code",
   "execution_count": 4,
   "id": "88fd975e-03a0-42c0-b32c-0f5a0d8b94b6",
   "metadata": {},
   "outputs": [
    {
     "data": {
      "text/html": [
       "<pre style=\"white-space:pre;overflow-x:auto;line-height:normal;font-family:Menlo,'DejaVu Sans Mono',consolas,'Courier New',monospace\">╭──────────── Contact: andrew ─────────────╮\n",
       "│                                          │\n",
       "│  <span style=\"color: #008080; text-decoration-color: #008080; font-weight: bold\">Email:</span> andrew@openmined.org             │\n",
       "│  <span style=\"color: #008080; text-decoration-color: #008080; font-weight: bold\">Platform:</span> google_personal               │\n",
       "│                                          │\n",
       "│  <span style=\"color: #7f7f7f; text-decoration-color: #7f7f7f\">Added: 2025-09-26 18:48</span>                 │\n",
       "│  <span style=\"color: #7f7f7f; text-decoration-color: #7f7f7f\">Capabilities updated: 2025-09-26 18:48</span>  │\n",
       "│                                          │\n",
       "│  <span style=\"color: #7f7f7f; text-decoration-color: #7f7f7f\">.platforms</span>                              │\n",
       "│    <span style=\"color: #808000; text-decoration-color: #808000; font-weight: bold\">.google_personal</span>                      │\n",
       "│      <span style=\"color: #800000; text-decoration-color: #800000\">✗</span> <span style=\"color: #7f7f7f; text-decoration-color: #7f7f7f\">.gdrive_files</span>                     │\n",
       "│      <span style=\"color: #800000; text-decoration-color: #800000\">✗</span> <span style=\"color: #7f7f7f; text-decoration-color: #7f7f7f\">.gforms</span>                           │\n",
       "│      <span style=\"color: #008000; text-decoration-color: #008000\">✓</span> <span style=\"color: #008080; text-decoration-color: #008080\">.gmail</span>                            │\n",
       "│         <span style=\"color: #7f7f7f; text-decoration-color: #7f7f7f\">verified 0 minutes ago</span>           │\n",
       "│      <span style=\"color: #008000; text-decoration-color: #008000\">✓</span> <span style=\"color: #008080; text-decoration-color: #008080\">.gsheets</span>                          │\n",
       "│         <span style=\"color: #7f7f7f; text-decoration-color: #7f7f7f\">verified 0 minutes ago</span>           │\n",
       "│                                          │\n",
       "╰──────────────────────────────────────────╯\n",
       "</pre>\n"
      ],
      "text/plain": [
       "╭──────────── Contact: andrew ─────────────╮\n",
       "│                                          │\n",
       "│  \u001b[1;36mEmail:\u001b[0m andrew@openmined.org             │\n",
       "│  \u001b[1;36mPlatform:\u001b[0m google_personal               │\n",
       "│                                          │\n",
       "│  \u001b[2mAdded: 2025-09-26 18:48\u001b[0m                 │\n",
       "│  \u001b[2mCapabilities updated: 2025-09-26 18:48\u001b[0m  │\n",
       "│                                          │\n",
       "│  \u001b[2m.platforms\u001b[0m                              │\n",
       "│    \u001b[1;33m.google_personal\u001b[0m                      │\n",
       "│      \u001b[31m✗\u001b[0m \u001b[2m.gdrive_files\u001b[0m                     │\n",
       "│      \u001b[31m✗\u001b[0m \u001b[2m.gforms\u001b[0m                           │\n",
       "│      \u001b[32m✓\u001b[0m \u001b[36m.gmail\u001b[0m                            │\n",
       "│         \u001b[2mverified 0 minutes ago\u001b[0m           │\n",
       "│      \u001b[32m✓\u001b[0m \u001b[36m.gsheets\u001b[0m                          │\n",
       "│         \u001b[2mverified 0 minutes ago\u001b[0m           │\n",
       "│                                          │\n",
       "╰──────────────────────────────────────────╯\n"
      ]
     },
     "metadata": {},
     "output_type": "display_data"
    },
    {
     "data": {
      "text/plain": []
     },
     "execution_count": 4,
     "metadata": {},
     "output_type": "execute_result"
    }
   ],
   "source": [
    "client1.contacts[0]"
   ]
  },
  {
   "cell_type": "code",
   "execution_count": 5,
   "id": "fba3e2fe-618a-4ce1-8111-ed3fc2aec444",
   "metadata": {},
   "outputs": [
    {
     "name": "stdout",
     "output_type": "stream",
     "text": [
      "🔄 Adding andrew@openmined.org on google_personal.gdrive_files...\n",
      "   ✅ Added on google_personal.gdrive_files\n",
      "🔄 Adding andrew@openmined.org on google_personal.gmail...\n",
      "   ✅ Added on google_personal.gmail\n",
      "🔄 Adding andrew@openmined.org on google_personal.gsheets...\n",
      "   ✅ Added on google_personal.gsheets\n",
      "\n",
      "✅ Contact andrew@openmined.org added successfully on 3 transport(s)\n",
      "   • google_personal.gdrive_files\n",
      "   • google_personal.gmail\n",
      "   • google_personal.gsheets\n"
     ]
    }
   ],
   "source": [
    "client1.add_contact(\"andrew@openmined.org\")\n",
    "contact = client1.contacts[0]"
   ]
  },
  {
   "cell_type": "code",
   "execution_count": 11,
   "id": "6b0e8ce2-ab68-475a-90f7-10ca77ea2ecf",
   "metadata": {},
   "outputs": [],
   "source": [
    "contact.platforms.google_personal.gdrive_files"
   ]
  },
  {
   "cell_type": "code",
   "execution_count": 7,
   "id": "94438e51-af4a-43af-97cc-7556c6277a9a",
   "metadata": {},
   "outputs": [
    {
     "data": {
      "text/plain": [
       "{'email': 'andrew@openmined.org',\n",
       " 'transport': 'gforms',\n",
       " 'platform': 'google_personal',\n",
       " 'available': True}"
      ]
     },
     "execution_count": 7,
     "metadata": {},
     "output_type": "execute_result"
    }
   ],
   "source": [
    "contact.platforms.google_personal.gforms"
   ]
  },
  {
   "cell_type": "code",
   "execution_count": 8,
   "id": "452b4bf1-a36d-44ab-be71-0c83218d4990",
   "metadata": {},
   "outputs": [
    {
     "data": {
      "text/html": [
       "<pre style=\"white-space:pre;overflow-x:auto;line-height:normal;font-family:Menlo,'DejaVu Sans Mono',consolas,'Courier New',monospace\">╭─ Platforms for andrew@openmined.org ─╮\n",
       "│ <span style=\"color: #008000; text-decoration-color: #008000\">✓</span> <span style=\"color: #808000; text-decoration-color: #808000\">.google_personal</span> <span style=\"color: #7f7f7f; text-decoration-color: #7f7f7f\">(1 resources)</span>     │\n",
       "╰──────────────────────────────────────╯\n",
       "</pre>\n"
      ],
      "text/plain": [
       "╭─ Platforms for andrew@openmined.org ─╮\n",
       "│ \u001b[32m✓\u001b[0m \u001b[33m.google_personal\u001b[0m \u001b[2m(1 resources)\u001b[0m     │\n",
       "╰──────────────────────────────────────╯\n"
      ]
     },
     "metadata": {},
     "output_type": "display_data"
    },
    {
     "data": {
      "text/plain": []
     },
     "execution_count": 8,
     "metadata": {},
     "output_type": "execute_result"
    }
   ],
   "source": [
    "contact.platforms"
   ]
  },
  {
   "cell_type": "code",
   "execution_count": 9,
   "id": "c669f603-df30-4f8e-af47-78538e977e2a",
   "metadata": {},
   "outputs": [
    {
     "name": "stdout",
     "output_type": "stream",
     "text": [
      "🔄 Adding andrew@openmined.org on google_personal.gdrive_files...\n",
      "   ✅ Added on google_personal.gdrive_files\n",
      "🔄 Adding andrew@openmined.org on google_personal.gmail...\n",
      "   ✅ Added on google_personal.gmail\n",
      "🔄 Adding andrew@openmined.org on google_personal.gsheets...\n",
      "   ✅ Added on google_personal.gsheets\n",
      "\n",
      "✅ Contact andrew@openmined.org added successfully on 3 transport(s)\n",
      "   • google_personal.gdrive_files\n",
      "   • google_personal.gmail\n",
      "   • google_personal.gsheets\n"
     ]
    },
    {
     "data": {
      "text/plain": [
       "True"
      ]
     },
     "execution_count": 9,
     "metadata": {},
     "output_type": "execute_result"
    }
   ],
   "source": [
    "client1.add_contact(\"andrew@openmined.org\")"
   ]
  },
  {
   "cell_type": "code",
   "execution_count": null,
   "id": "5c879794-502e-408e-9b7c-7e02e9ee4533",
   "metadata": {},
   "outputs": [],
   "source": []
  },
  {
   "cell_type": "markdown",
   "id": "44315807-5e9f-4460-acc3-5a552420db32",
   "metadata": {},
   "source": [
    "# Test 1: Test the ability to prepare a message for sending"
   ]
  },
  {
   "cell_type": "code",
   "execution_count": 6,
   "id": "89747f50-213a-4dac-9d98-e9412516cfd3",
   "metadata": {},
   "outputs": [
    {
     "ename": "AttributeError",
     "evalue": "'SyncManager' object has no attribute 'transport'",
     "output_type": "error",
     "traceback": [
      "\u001b[31m---------------------------------------------------------------------------\u001b[39m",
      "\u001b[31mAttributeError\u001b[39m                            Traceback (most recent call last)",
      "\u001b[36mCell\u001b[39m\u001b[36m \u001b[39m\u001b[32mIn[6]\u001b[39m\u001b[32m, line 9\u001b[39m\n\u001b[32m      5\u001b[39m path = \u001b[33m\"\u001b[39m\u001b[33m/Users/atrask/Desktop/Laboratory/syft-client/test_notebooks/test_msg.txt\u001b[39m\u001b[33m\"\u001b[39m\n\u001b[32m      7\u001b[39m temp_dir = tempfile.TemporaryDirectory()\n\u001b[32m----> \u001b[39m\u001b[32m9\u001b[39m (msg_id, msg_path, archive_size) = \u001b[43mclient1\u001b[49m\u001b[43m.\u001b[49m\u001b[43msync\u001b[49m\u001b[43m.\u001b[49m\u001b[43mtransport\u001b[49m.prepare_message(\n\u001b[32m     10\u001b[39m   path=path,\n\u001b[32m     11\u001b[39m   recipient=\u001b[33m\"\u001b[39m\u001b[33mandrew@openmined.org\u001b[39m\u001b[33m\"\u001b[39m,\n\u001b[32m     12\u001b[39m   temp_dir=temp_dir.name,  \u001b[38;5;66;03m# Note: use temp_dir.name to get the string path\u001b[39;00m\n\u001b[32m     13\u001b[39m   sync_from_anywhere=\u001b[38;5;28;01mTrue\u001b[39;00m\n\u001b[32m     14\u001b[39m )\n",
      "\u001b[31mAttributeError\u001b[39m: 'SyncManager' object has no attribute 'transport'"
     ]
    }
   ],
   "source": [
    "\n",
    "f = open('test_msg.txt', 'w')\n",
    "f.write(\"Hello world!!!!!!\")\n",
    "f.close()\n",
    "\n",
    "path = \"/Users/atrask/Desktop/Laboratory/syft-client/test_notebooks/test_msg.txt\"\n",
    "\n",
    "temp_dir = tempfile.TemporaryDirectory()\n",
    "\n",
    "(msg_id, msg_path, archive_size) = client1.sync.transport.prepare_message(\n",
    "  path=path,\n",
    "  recipient=\"andrew@openmined.org\",\n",
    "  temp_dir=temp_dir.name,  # Note: use temp_dir.name to get the string path\n",
    "  sync_from_anywhere=True\n",
    ")"
   ]
  },
  {
   "cell_type": "markdown",
   "id": "4845b16d-dcc2-4eed-be1d-04c72160d653",
   "metadata": {},
   "source": [
    "# Test 2: "
   ]
  },
  {
   "cell_type": "code",
   "execution_count": null,
   "id": "b291d5b6-7618-446f-b4a6-1b029eabccde",
   "metadata": {},
   "outputs": [],
   "source": []
  }
 ],
 "metadata": {
  "kernelspec": {
   "display_name": "Python 3 (ipykernel)",
   "language": "python",
   "name": "python3"
  },
  "language_info": {
   "codemirror_mode": {
    "name": "ipython",
    "version": 3
   },
   "file_extension": ".py",
   "mimetype": "text/x-python",
   "name": "python",
   "nbconvert_exporter": "python",
   "pygments_lexer": "ipython3",
   "version": "3.12.9"
  }
 },
 "nbformat": 4,
 "nbformat_minor": 5
}
