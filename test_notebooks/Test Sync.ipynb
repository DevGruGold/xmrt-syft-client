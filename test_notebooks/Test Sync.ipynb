{
 "cells": [
  {
   "cell_type": "code",
   "execution_count": 1,
   "id": "c1597c93-e089-4b7d-9ca7-0997c477ede2",
   "metadata": {},
   "outputs": [],
   "source": [
    "import sys\n",
    "sys.path.insert(0, '..')\n",
    "import syft_client as sc\n",
    "import syft_serve as ss"
   ]
  },
  {
   "cell_type": "code",
   "execution_count": 2,
   "id": "b54ced1a-d03e-4c28-bd5f-9e5f2ba74dab",
   "metadata": {},
   "outputs": [
    {
     "name": "stdout",
     "output_type": "stream",
     "text": [
      "Found 1 orphaned process(es), terminated 1\n"
     ]
    },
    {
     "data": {
      "text/plain": [
       "{'tracked_total': 0,\n",
       " 'tracked_terminated': 0,\n",
       " 'tracked_failed': [],\n",
       " 'orphaned_discovered': 1,\n",
       " 'orphaned_terminated': 1,\n",
       " 'orphaned_failed': [],\n",
       " 'success': True}"
      ]
     },
     "execution_count": 2,
     "metadata": {},
     "output_type": "execute_result"
    }
   ],
   "source": [
    "ss.servers.terminate_all()"
   ]
  },
  {
   "cell_type": "code",
   "execution_count": 3,
   "id": "23c05398-0790-4713-9a1c-dc87c86aafce",
   "metadata": {},
   "outputs": [
    {
     "data": {
      "text/html": [
       "<p style='color: #a0a0a0;'>No servers</p>"
      ],
      "text/plain": [
       "No servers"
      ]
     },
     "execution_count": 3,
     "metadata": {},
     "output_type": "execute_result"
    }
   ],
   "source": [
    "ss.servers"
   ]
  },
  {
   "cell_type": "code",
   "execution_count": 4,
   "id": "b3c62feb-71bb-4b7f-a74a-1180fcf4dc1e",
   "metadata": {},
   "outputs": [
    {
     "name": "stdout",
     "output_type": "stream",
     "text": [
      "✅ Connected peer-to-peer to 2 peers via: Gmail, Gdrive_Files, Gforms                             \n"
     ]
    }
   ],
   "source": [
    "client1 = sc.login(\"liamtrask@gmail.com\")"
   ]
  },
  {
   "cell_type": "code",
   "execution_count": 5,
   "id": "0c1c4206-a57e-46a8-bc12-d25209cccfa4",
   "metadata": {},
   "outputs": [
    {
     "name": "stdout",
     "output_type": "stream",
     "text": [
      "✅ Connected peer-to-peer to 1 peer via: Gmail, Gdrive_Files, Gforms                               \n"
     ]
    }
   ],
   "source": [
    "client2 = sc.login(\"andrew@openmined.org\")"
   ]
  },
  {
   "cell_type": "code",
   "execution_count": 6,
   "id": "3996834f-7904-48fa-8d52-499eaab544cf",
   "metadata": {},
   "outputs": [
    {
     "data": {
      "text/html": [
       "\n",
       "        <div style=\"font-family: -apple-system, BlinkMacSystemFont, 'Segoe UI', Roboto, sans-serif; background: #1e1e1e; border: 1px solid #3e3e3e; border-radius: 5px; padding: 15px;\">\n",
       "            <table style=\"border-collapse: collapse; width: 100%; margin-bottom: 10px; background: #1e1e1e;\">\n",
       "                <thead>\n",
       "                    <tr style=\"border-bottom: 2px solid #3e3e3e; background: #2d2d2d;\">\n",
       "                        <th style=\"padding: 8px; text-align: left; color: #e0e0e0;\">Name</th>\n",
       "                        <th style=\"padding: 8px; text-align: left; color: #e0e0e0;\">Port</th>\n",
       "                        <th style=\"padding: 8px; text-align: left; color: #e0e0e0;\">Status</th>\n",
       "                        <th style=\"padding: 8px; text-align: left; color: #e0e0e0;\">Endpoints</th>\n",
       "                        <th style=\"padding: 8px; text-align: left; color: #e0e0e0;\">Uptime</th>\n",
       "                        <th style=\"padding: 8px; text-align: left; color: #e0e0e0;\">Expires In</th>\n",
       "                        <th style=\"padding: 8px; text-align: left; color: #e0e0e0;\">PID</th>\n",
       "                    </tr>\n",
       "                </thead>\n",
       "                <tbody>\n",
       "                    \n",
       "            <tr style=\"background: #1e1e1e;\">\n",
       "                <td style=\"padding: 8px; color: #e0e0e0;\"><strong>watcher_sender_liamtrask_gmail_com</strong></td>\n",
       "                <td style=\"padding: 8px; color: #e0e0e0;\">8000</td>\n",
       "                <td style=\"padding: 8px; color: #27ae60;\">✅ Running</td>\n",
       "                <td style=\"padding: 8px; color: #e0e0e0;\"><code>/</code></td>\n",
       "                <td style=\"padding: 8px; color: #e0e0e0;\">1m 29s</td>\n",
       "                <td style=\"padding: 8px; color: #f59e0b; font-weight: 500;\">23h 59m</td>\n",
       "                <td style=\"padding: 8px;\"><code style=\"background: #2d2d2d; padding: 2px 4px; border-radius: 3px; color: #e0e0e0;\">72825</code></td>\n",
       "            </tr>\n",
       "            \n",
       "            <tr style=\"background: #1e1e1e;\">\n",
       "                <td style=\"padding: 8px; color: #e0e0e0;\"><strong>receiver_liamtrask_gmail_com</strong></td>\n",
       "                <td style=\"padding: 8px; color: #e0e0e0;\">8001</td>\n",
       "                <td style=\"padding: 8px; color: #27ae60;\">✅ Running</td>\n",
       "                <td style=\"padding: 8px; color: #e0e0e0;\"><code>/</code></td>\n",
       "                <td style=\"padding: 8px; color: #e0e0e0;\">1m 20s</td>\n",
       "                <td style=\"padding: 8px; color: #f59e0b; font-weight: 500;\">23h 59m</td>\n",
       "                <td style=\"padding: 8px;\"><code style=\"background: #2d2d2d; padding: 2px 4px; border-radius: 3px; color: #e0e0e0;\">72831</code></td>\n",
       "            </tr>\n",
       "            \n",
       "            <tr style=\"background: #1e1e1e;\">\n",
       "                <td style=\"padding: 8px; color: #e0e0e0;\"><strong>watcher_sender_andrew_openmined_org</strong></td>\n",
       "                <td style=\"padding: 8px; color: #e0e0e0;\">8002</td>\n",
       "                <td style=\"padding: 8px; color: #27ae60;\">✅ Running</td>\n",
       "                <td style=\"padding: 8px; color: #e0e0e0;\"><code>/</code></td>\n",
       "                <td style=\"padding: 8px; color: #e0e0e0;\">42s</td>\n",
       "                <td style=\"padding: 8px; color: #f59e0b; font-weight: 500;\">23h 59m</td>\n",
       "                <td style=\"padding: 8px;\"><code style=\"background: #2d2d2d; padding: 2px 4px; border-radius: 3px; color: #e0e0e0;\">72848</code></td>\n",
       "            </tr>\n",
       "            \n",
       "            <tr style=\"background: #1e1e1e;\">\n",
       "                <td style=\"padding: 8px; color: #e0e0e0;\"><strong>receiver_andrew_openmined_org</strong></td>\n",
       "                <td style=\"padding: 8px; color: #e0e0e0;\">8003</td>\n",
       "                <td style=\"padding: 8px; color: #27ae60;\">✅ Running</td>\n",
       "                <td style=\"padding: 8px; color: #e0e0e0;\"><code>/</code></td>\n",
       "                <td style=\"padding: 8px; color: #e0e0e0;\">33s</td>\n",
       "                <td style=\"padding: 8px; color: #f59e0b; font-weight: 500;\">23h 59m</td>\n",
       "                <td style=\"padding: 8px;\"><code style=\"background: #2d2d2d; padding: 2px 4px; border-radius: 3px; color: #e0e0e0;\">72852</code></td>\n",
       "            </tr>\n",
       "            \n",
       "                </tbody>\n",
       "            </table>\n",
       "            <div style=\"color: #a0a0a0; font-size: 14px;\">\n",
       "                4 servers (4 running, 0 stopped)\n",
       "            </div>\n",
       "        </div>\n",
       "        "
      ],
      "text/plain": [
       "Name                                   Port  Status      Endpoints    Uptime      PID\n",
       "-----------------------------------  ------  ----------  -----------  --------  -----\n",
       "watcher_sender_liamtrask_gmail_com     8000  ✅ Running  /            1m 29s    72825\n",
       "receiver_liamtrask_gmail_com           8001  ✅ Running  /            1m 20s    72831\n",
       "watcher_sender_andrew_openmined_org    8002  ✅ Running  /            42s       72848\n",
       "receiver_andrew_openmined_org          8003  ✅ Running  /            33s       72852\n",
       "4 servers (4 running, 0 stopped)"
      ]
     },
     "execution_count": 6,
     "metadata": {},
     "output_type": "execute_result"
    }
   ],
   "source": [
    "ss.servers"
   ]
  },
  {
   "cell_type": "code",
   "execution_count": 41,
   "id": "7b33324f-2cb7-4999-8285-4127a6ea0430",
   "metadata": {},
   "outputs": [
    {
     "data": {
      "text/plain": [
       "['INFO:     127.0.0.1:64773 - \"GET /health HTTP/1.1\" 200 OK',\n",
       " 'INFO:     127.0.0.1:64775 - \"GET /health HTTP/1.1\" 200 OK',\n",
       " 'Starting watcher for liamtrask@gmail.com...',\n",
       " '📁 Using existing SyftBox directory: /Users/atrask/SyftBox_liamtrask@gmail.com',\n",
       " 'Login successful!',\n",
       " 'INFO:     127.0.0.1:64777 - \"GET / HTTP/1.1\" 200 OK',\n",
       " 'INFO:     127.0.0.1:64791 - \"GET /health HTTP/1.1\" 200 OK',\n",
       " 'INFO:     127.0.0.1:64793 - \"GET /syft/info HTTP/1.1\" 200 OK',\n",
       " 'INFO:     127.0.0.1:64795 - \"GET /health HTTP/1.1\" 200 OK',\n",
       " 'INFO:     127.0.0.1:64797 - \"GET /syft/info HTTP/1.1\" 200 OK',\n",
       " 'INFO:     127.0.0.1:64799 - \"GET /health HTTP/1.1\" 200 OK',\n",
       " 'INFO:     127.0.0.1:64801 - \"GET /syft/info HTTP/1.1\" 200 OK',\n",
       " 'INFO:     127.0.0.1:64803 - \"GET /health HTTP/1.1\" 200 OK',\n",
       " 'INFO:     127.0.0.1:64805 - \"GET /syft/info HTTP/1.1\" 200 OK',\n",
       " 'INFO:     127.0.0.1:64815 - \"GET /health HTTP/1.1\" 200 OK',\n",
       " 'INFO:     127.0.0.1:64927 - \"GET /health HTTP/1.1\" 200 OK',\n",
       " 'INFO:     127.0.0.1:64931 - \"GET /syft/info HTTP/1.1\" 200 OK',\n",
       " 'INFO:     127.0.0.1:64935 - \"GET /health HTTP/1.1\" 200 OK',\n",
       " 'INFO:     127.0.0.1:64939 - \"GET /syft/info HTTP/1.1\" 200 OK',\n",
       " 'INFO:     127.0.0.1:64943 - \"GET /health HTTP/1.1\" 200 OK',\n",
       " 'INFO:     127.0.0.1:64947 - \"GET /syft/info HTTP/1.1\" 200 OK',\n",
       " 'INFO:     127.0.0.1:64951 - \"GET /health HTTP/1.1\" 200 OK',\n",
       " 'INFO:     127.0.0.1:64955 - \"GET /syft/info HTTP/1.1\" 200 OK',\n",
       " 'INFO:     127.0.0.1:64967 - \"GET /health HTTP/1.1\" 200 OK',\n",
       " 'INFO:     127.0.0.1:64981 - \"GET /health HTTP/1.1\" 200 OK',\n",
       " 'INFO:     127.0.0.1:64987 - \"GET /syft/info HTTP/1.1\" 200 OK',\n",
       " 'INFO:     127.0.0.1:64993 - \"GET /health HTTP/1.1\" 200 OK',\n",
       " 'INFO:     127.0.0.1:64999 - \"GET /syft/info HTTP/1.1\" 200 OK',\n",
       " 'INFO:     127.0.0.1:65005 - \"GET /health HTTP/1.1\" 200 OK',\n",
       " 'INFO:     127.0.0.1:65011 - \"GET /syft/info HTTP/1.1\" 200 OK',\n",
       " 'INFO:     127.0.0.1:65017 - \"GET /health HTTP/1.1\" 200 OK',\n",
       " 'INFO:     127.0.0.1:65023 - \"GET /syft/info HTTP/1.1\" 200 OK',\n",
       " 'INFO:     127.0.0.1:65038 - \"GET /health HTTP/1.1\" 200 OK',\n",
       " 'INFO:     127.0.0.1:65138 - \"GET /health HTTP/1.1\" 200 OK',\n",
       " 'INFO:     127.0.0.1:65146 - \"GET /syft/info HTTP/1.1\" 200 OK',\n",
       " 'INFO:     127.0.0.1:65155 - \"GET /health HTTP/1.1\" 200 OK',\n",
       " 'INFO:     127.0.0.1:65157 - \"GET /health HTTP/1.1\" 200 OK',\n",
       " 'INFO:     127.0.0.1:65159 - \"GET /health HTTP/1.1\" 200 OK',\n",
       " 'INFO:     127.0.0.1:65179 - \"GET /health HTTP/1.1\" 200 OK',\n",
       " 'INFO:     127.0.0.1:65190 - \"GET /health HTTP/1.1\" 200 OK',\n",
       " 'INFO:     127.0.0.1:65198 - \"GET /syft/info HTTP/1.1\" 200 OK',\n",
       " 'INFO:     127.0.0.1:65206 - \"GET /health HTTP/1.1\" 200 OK',\n",
       " 'INFO:     127.0.0.1:65208 - \"GET /health HTTP/1.1\" 200 OK',\n",
       " 'INFO:     127.0.0.1:65210 - \"GET /health HTTP/1.1\" 200 OK',\n",
       " 'INFO:     127.0.0.1:65212 - \"GET /health HTTP/1.1\" 200 OK',\n",
       " 'INFO:     127.0.0.1:65239 - \"GET /health HTTP/1.1\" 200 OK',\n",
       " 'INFO:     127.0.0.1:65247 - \"GET /health HTTP/1.1\" 200 OK',\n",
       " 'INFO:     127.0.0.1:65255 - \"GET /syft/info HTTP/1.1\" 200 OK',\n",
       " 'INFO:     127.0.0.1:65264 - \"GET /health HTTP/1.1\" 200 OK',\n",
       " 'INFO:     127.0.0.1:65272 - \"GET /syft/info HTTP/1.1\" 200 OK',\n",
       " 'Sending modified: boo.txt',\n",
       " '',\n",
       " '🔄 Transport negotiation for andrew@openmined.org:',\n",
       " '   File size: 562.0B',\n",
       " '   Priority: normal',\n",
       " '',\n",
       " '   Scores:',\n",
       " '   - gsheets: 0.86 (est. 500ms)',\n",
       " '     • Sub-second latency',\n",
       " '     • Verified transport',\n",
       " '   - gmail: 0.72 (est. 2000ms)',\n",
       " '     • Fast latency (<5s)',\n",
       " '     • Verified transport',\n",
       " '   - gdrive_files: 0.68 (est. 3000ms)',\n",
       " '     • Fast latency (<5s)',\n",
       " '     • Verified transport',\n",
       " '',\n",
       " '   ✅ Selected: gsheets',\n",
       " '📊 Sent message via sheets: msg_20250929_195821_747e1e51',\n",
       " '   Size: 562 bytes',\n",
       " '✅ Successfully sent via gsheets in 705ms',\n",
       " '',\n",
       " '🔄 Transport negotiation for rasswanth@openmined.org:',\n",
       " '   File size: 567.0B',\n",
       " '   Priority: normal',\n",
       " '',\n",
       " '   Scores:',\n",
       " '   - gsheets: 0.86 (est. 500ms)',\n",
       " '     • Sub-second latency',\n",
       " '     • Verified transport',\n",
       " '   - gmail: 0.72 (est. 2000ms)',\n",
       " '     • Fast latency (<5s)',\n",
       " '     • Verified transport',\n",
       " '   - gdrive_files: 0.68 (est. 3000ms)',\n",
       " '     • Fast latency (<5s)',\n",
       " '     • Verified transport',\n",
       " '',\n",
       " '   ✅ Selected: gsheets',\n",
       " '📊 Sent message via sheets: msg_20250929_195822_d1ba5ef6',\n",
       " '   Size: 567 bytes',\n",
       " '✅ Successfully sent via gsheets in 486ms',\n",
       " '✓ Sent to 2/2 peers',\n",
       " 'INFO:     127.0.0.1:65296 - \"GET /health HTTP/1.1\" 200 OK',\n",
       " 'INFO:     127.0.0.1:65304 - \"GET /syft/info HTTP/1.1\" 200 OK',\n",
       " 'Sending modified: boo.txt',\n",
       " '',\n",
       " '🔄 Transport negotiation for andrew@openmined.org:',\n",
       " '   File size: 561.0B',\n",
       " '   Priority: normal',\n",
       " '',\n",
       " '   Scores:',\n",
       " '   - gsheets: 0.86 (est. 500ms)',\n",
       " '     • Sub-second latency',\n",
       " '     • Verified transport',\n",
       " '   - gmail: 0.72 (est. 2000ms)',\n",
       " '     • Fast latency (<5s)',\n",
       " '     • Verified transport',\n",
       " '   - gdrive_files: 0.68 (est. 3000ms)',\n",
       " '     • Fast latency (<5s)',\n",
       " '     • Verified transport',\n",
       " '',\n",
       " '   ✅ Selected: gsheets',\n",
       " '📊 Sent message via sheets: msg_20250929_195855_1be12b9e',\n",
       " '   Size: 561 bytes',\n",
       " '✅ Successfully sent via gsheets in 407ms',\n",
       " '',\n",
       " '🔄 Transport negotiation for rasswanth@openmined.org:',\n",
       " '   File size: 562.0B',\n",
       " '   Priority: normal',\n",
       " '',\n",
       " '   Scores:',\n",
       " '   - gsheets: 0.86 (est. 500ms)',\n",
       " '     • Sub-second latency',\n",
       " '     • Verified transport',\n",
       " '   - gmail: 0.72 (est. 2000ms)',\n",
       " '     • Fast latency (<5s)',\n",
       " '     • Verified transport',\n",
       " '   - gdrive_files: 0.68 (est. 3000ms)',\n",
       " '     • Fast latency (<5s)',\n",
       " '     • Verified transport',\n",
       " '',\n",
       " '   ✅ Selected: gsheets',\n",
       " '📊 Sent message via sheets: msg_20250929_195856_0bb6d440',\n",
       " '   Size: 562 bytes',\n",
       " '✅ Successfully sent via gsheets in 428ms',\n",
       " '✓ Sent to 2/2 peers',\n",
       " 'INFO:     127.0.0.1:65313 - \"GET /health HTTP/1.1\" 200 OK',\n",
       " 'INFO:     127.0.0.1:65321 - \"GET /syft/info HTTP/1.1\" 200 OK',\n",
       " 'INFO:     127.0.0.1:65329 - \"GET /health HTTP/1.1\" 200 OK',\n",
       " 'INFO:     127.0.0.1:65338 - \"GET /syft/info HTTP/1.1\" 200 OK',\n",
       " 'INFO:     127.0.0.1:65348 - \"GET /health HTTP/1.1\" 200 OK',\n",
       " 'INFO:     127.0.0.1:65356 - \"GET /syft/info HTTP/1.1\" 200 OK',\n",
       " 'INFO:     127.0.0.1:65365 - \"GET /health HTTP/1.1\" 200 OK',\n",
       " 'INFO:     127.0.0.1:65373 - \"GET /syft/info HTTP/1.1\" 200 OK',\n",
       " 'INFO:     127.0.0.1:65383 - \"GET /health HTTP/1.1\" 200 OK',\n",
       " 'INFO:     127.0.0.1:65391 - \"GET /syft/info HTTP/1.1\" 200 OK',\n",
       " 'INFO:     127.0.0.1:65399 - \"GET /health HTTP/1.1\" 200 OK',\n",
       " 'INFO:     127.0.0.1:65407 - \"GET /syft/info HTTP/1.1\" 200 OK',\n",
       " 'INFO:     127.0.0.1:65415 - \"GET /health HTTP/1.1\" 200 OK',\n",
       " 'INFO:     127.0.0.1:65423 - \"GET /syft/info HTTP/1.1\" 200 OK',\n",
       " 'INFO:     127.0.0.1:65432 - \"GET /health HTTP/1.1\" 200 OK',\n",
       " 'INFO:     127.0.0.1:65440 - \"GET /syft/info HTTP/1.1\" 200 OK',\n",
       " 'INFO:     127.0.0.1:65448 - \"GET /health HTTP/1.1\" 200 OK',\n",
       " 'INFO:     127.0.0.1:65456 - \"GET /syft/info HTTP/1.1\" 200 OK',\n",
       " 'INFO:     127.0.0.1:65464 - \"GET /health HTTP/1.1\" 200 OK',\n",
       " 'INFO:     127.0.0.1:65472 - \"GET /syft/info HTTP/1.1\" 200 OK',\n",
       " 'INFO:     127.0.0.1:65480 - \"GET /health HTTP/1.1\" 200 OK',\n",
       " 'INFO:     127.0.0.1:65488 - \"GET /syft/info HTTP/1.1\" 200 OK',\n",
       " 'INFO:     127.0.0.1:65496 - \"GET /health HTTP/1.1\" 200 OK',\n",
       " 'INFO:     127.0.0.1:65504 - \"GET /syft/info HTTP/1.1\" 200 OK',\n",
       " 'INFO:     127.0.0.1:65512 - \"GET /health HTTP/1.1\" 200 OK',\n",
       " 'INFO:     127.0.0.1:65520 - \"GET /syft/info HTTP/1.1\" 200 OK',\n",
       " 'INFO:     127.0.0.1:65529 - \"GET /health HTTP/1.1\" 200 OK',\n",
       " 'INFO:     127.0.0.1:49153 - \"GET /syft/info HTTP/1.1\" 200 OK',\n",
       " 'INFO:     127.0.0.1:49161 - \"GET /health HTTP/1.1\" 200 OK',\n",
       " 'INFO:     127.0.0.1:49169 - \"GET /syft/info HTTP/1.1\" 200 OK',\n",
       " 'INFO:     127.0.0.1:49177 - \"GET /health HTTP/1.1\" 200 OK',\n",
       " 'INFO:     127.0.0.1:49185 - \"GET /syft/info HTTP/1.1\" 200 OK',\n",
       " 'INFO:     127.0.0.1:49193 - \"GET /health HTTP/1.1\" 200 OK',\n",
       " 'INFO:     127.0.0.1:49202 - \"GET /syft/info HTTP/1.1\" 200 OK',\n",
       " 'INFO:     127.0.0.1:49210 - \"GET /health HTTP/1.1\" 200 OK',\n",
       " 'INFO:     127.0.0.1:49218 - \"GET /syft/info HTTP/1.1\" 200 OK',\n",
       " 'INFO:     127.0.0.1:49226 - \"GET /health HTTP/1.1\" 200 OK',\n",
       " 'INFO:     127.0.0.1:49234 - \"GET /syft/info HTTP/1.1\" 200 OK',\n",
       " 'INFO:     127.0.0.1:49243 - \"GET /health HTTP/1.1\" 200 OK',\n",
       " 'INFO:     127.0.0.1:49252 - \"GET /syft/info HTTP/1.1\" 200 OK',\n",
       " 'INFO:     127.0.0.1:49261 - \"GET /health HTTP/1.1\" 200 OK',\n",
       " 'INFO:     127.0.0.1:49270 - \"GET /syft/info HTTP/1.1\" 200 OK',\n",
       " 'INFO:     127.0.0.1:49289 - \"GET /health HTTP/1.1\" 200 OK',\n",
       " 'INFO:     127.0.0.1:49298 - \"GET /syft/info HTTP/1.1\" 200 OK']"
      ]
     },
     "execution_count": 41,
     "metadata": {},
     "output_type": "execute_result"
    }
   ],
   "source": [
    "ss.servers['watcher_sender_liamtrask_gmail_com'].stdout.lines()"
   ]
  },
  {
   "cell_type": "code",
   "execution_count": 42,
   "id": "40c74374-2471-4a84-a99a-af5eb39d2d7c",
   "metadata": {},
   "outputs": [
    {
     "name": "stdout",
     "output_type": "stream",
     "text": [
      "\n",
      "Checking inbox from liamtrask@gmail.com...\n",
      "\n",
      "Checking inbox from liamtrask@gmail.com...\n",
      "\n",
      "Checking inbox from liamtrask@gmail.com...\n",
      "\n",
      "Checking inbox from liamtrask@gmail.com...\n",
      "INFO:     127.0.0.1:49315 - \"GET /health HTTP/1.1\" 200 OK\n",
      "INFO:     127.0.0.1:49323 - \"GET /syft/info HTTP/1.1\" 200 OK\n"
     ]
    }
   ],
   "source": [
    "print(ss.servers['receiver_andrew_openmined_org'].stdout.tail())"
   ]
  },
  {
   "cell_type": "code",
   "execution_count": null,
   "id": "a2d06cf3-f775-4646-9db9-49a262eb5a81",
   "metadata": {},
   "outputs": [],
   "source": []
  },
  {
   "cell_type": "code",
   "execution_count": null,
   "id": "05d4b3be-b489-486a-b73e-fe94e322262d",
   "metadata": {},
   "outputs": [],
   "source": []
  },
  {
   "cell_type": "code",
   "execution_count": null,
   "id": "3ba3731a-b98e-42b4-8a5b-2e939400584f",
   "metadata": {},
   "outputs": [],
   "source": []
  },
  {
   "cell_type": "code",
   "execution_count": 5,
   "id": "9aab7cce-6910-45bf-a5c9-6c096d6d22d6",
   "metadata": {},
   "outputs": [
    {
     "name": "stdout",
     "output_type": "stream",
     "text": [
      "✓ Watcher started successfully at http://localhost:8000\n",
      "✓ Watcher started successfully at http://localhost:8001\n"
     ]
    },
    {
     "data": {
      "text/plain": [
       "{'status': 'started', 'message': 'Watcher started for andrew@openmined.org'}"
      ]
     },
     "execution_count": 5,
     "metadata": {},
     "output_type": "execute_result"
    }
   ],
   "source": [
    "# Start watchers for both\n",
    "client1.start_watcher()  # or client1.watcher.start()\n",
    "client2.start_watcher()  # or client2.watcher.start()"
   ]
  },
  {
   "cell_type": "code",
   "execution_count": 6,
   "id": "1d5d9e68-25dd-428d-b67a-f4222f2a962d",
   "metadata": {},
   "outputs": [
    {
     "data": {
      "text/html": [
       "\n",
       "        <div style=\"font-family: -apple-system, BlinkMacSystemFont, 'Segoe UI', Roboto, sans-serif; background: #1e1e1e; border: 1px solid #3e3e3e; border-radius: 5px; padding: 15px;\">\n",
       "            <table style=\"border-collapse: collapse; width: 100%; margin-bottom: 10px; background: #1e1e1e;\">\n",
       "                <thead>\n",
       "                    <tr style=\"border-bottom: 2px solid #3e3e3e; background: #2d2d2d;\">\n",
       "                        <th style=\"padding: 8px; text-align: left; color: #e0e0e0;\">Name</th>\n",
       "                        <th style=\"padding: 8px; text-align: left; color: #e0e0e0;\">Port</th>\n",
       "                        <th style=\"padding: 8px; text-align: left; color: #e0e0e0;\">Status</th>\n",
       "                        <th style=\"padding: 8px; text-align: left; color: #e0e0e0;\">Endpoints</th>\n",
       "                        <th style=\"padding: 8px; text-align: left; color: #e0e0e0;\">Uptime</th>\n",
       "                        <th style=\"padding: 8px; text-align: left; color: #e0e0e0;\">Expires In</th>\n",
       "                        <th style=\"padding: 8px; text-align: left; color: #e0e0e0;\">PID</th>\n",
       "                    </tr>\n",
       "                </thead>\n",
       "                <tbody>\n",
       "                    \n",
       "            <tr style=\"background: #1e1e1e;\">\n",
       "                <td style=\"padding: 8px; color: #e0e0e0;\"><strong>watcher_sender_liamtrask_gmail_com</strong></td>\n",
       "                <td style=\"padding: 8px; color: #e0e0e0;\">8000</td>\n",
       "                <td style=\"padding: 8px; color: #27ae60;\">✅ Running</td>\n",
       "                <td style=\"padding: 8px; color: #e0e0e0;\"><code>/</code></td>\n",
       "                <td style=\"padding: 8px; color: #e0e0e0;\">20s</td>\n",
       "                <td style=\"padding: 8px; color: #f59e0b; font-weight: 500;\">23h 59m</td>\n",
       "                <td style=\"padding: 8px;\"><code style=\"background: #2d2d2d; padding: 2px 4px; border-radius: 3px; color: #e0e0e0;\">69911</code></td>\n",
       "            </tr>\n",
       "            \n",
       "            <tr style=\"background: #1e1e1e;\">\n",
       "                <td style=\"padding: 8px; color: #e0e0e0;\"><strong>watcher_sender_andrew_openmined_org</strong></td>\n",
       "                <td style=\"padding: 8px; color: #e0e0e0;\">8001</td>\n",
       "                <td style=\"padding: 8px; color: #27ae60;\">✅ Running</td>\n",
       "                <td style=\"padding: 8px; color: #e0e0e0;\"><code>/</code></td>\n",
       "                <td style=\"padding: 8px; color: #e0e0e0;\">10s</td>\n",
       "                <td style=\"padding: 8px; color: #f59e0b; font-weight: 500;\">23h 59m</td>\n",
       "                <td style=\"padding: 8px;\"><code style=\"background: #2d2d2d; padding: 2px 4px; border-radius: 3px; color: #e0e0e0;\">69920</code></td>\n",
       "            </tr>\n",
       "            \n",
       "                </tbody>\n",
       "            </table>\n",
       "            <div style=\"color: #a0a0a0; font-size: 14px;\">\n",
       "                2 servers (2 running, 0 stopped)\n",
       "            </div>\n",
       "        </div>\n",
       "        "
      ],
      "text/plain": [
       "Name                                   Port  Status      Endpoints    Uptime      PID\n",
       "-----------------------------------  ------  ----------  -----------  --------  -----\n",
       "watcher_sender_liamtrask_gmail_com     8000  ✅ Running  /            20s       69911\n",
       "watcher_sender_andrew_openmined_org    8001  ✅ Running  /            10s       69920\n",
       "2 servers (2 running, 0 stopped)"
      ]
     },
     "execution_count": 6,
     "metadata": {},
     "output_type": "execute_result"
    }
   ],
   "source": [
    "ss.servers"
   ]
  },
  {
   "cell_type": "code",
   "execution_count": 11,
   "id": "378fb1f3-675f-4f67-82b5-7e92d746c1b5",
   "metadata": {},
   "outputs": [
    {
     "data": {
      "text/plain": [
       "{'status': 'already_running',\n",
       " 'message': 'Receiver already active for liamtrask@gmail.com'}"
      ]
     },
     "execution_count": 11,
     "metadata": {},
     "output_type": "execute_result"
    }
   ],
   "source": [
    "# Start receivers for both\n",
    "client1.start_receiver()  # or client1.receiver.start()"
   ]
  },
  {
   "cell_type": "code",
   "execution_count": 12,
   "id": "330bbca3-3a93-494d-be2a-fb999f033f1a",
   "metadata": {},
   "outputs": [
    {
     "data": {
      "text/plain": [
       "{'status': 'already_running',\n",
       " 'message': 'Receiver already active for andrew@openmined.org'}"
      ]
     },
     "execution_count": 12,
     "metadata": {},
     "output_type": "execute_result"
    }
   ],
   "source": [
    "client2.start_receiver()  # or client2.receiver.start()"
   ]
  },
  {
   "cell_type": "code",
   "execution_count": 13,
   "id": "0ce74048-8712-463d-9895-29cf6a22ff89",
   "metadata": {},
   "outputs": [
    {
     "data": {
      "text/html": [
       "\n",
       "        <div style=\"font-family: -apple-system, BlinkMacSystemFont, 'Segoe UI', Roboto, sans-serif; background: #1e1e1e; border: 1px solid #3e3e3e; border-radius: 5px; padding: 15px;\">\n",
       "            <table style=\"border-collapse: collapse; width: 100%; margin-bottom: 10px; background: #1e1e1e;\">\n",
       "                <thead>\n",
       "                    <tr style=\"border-bottom: 2px solid #3e3e3e; background: #2d2d2d;\">\n",
       "                        <th style=\"padding: 8px; text-align: left; color: #e0e0e0;\">Name</th>\n",
       "                        <th style=\"padding: 8px; text-align: left; color: #e0e0e0;\">Port</th>\n",
       "                        <th style=\"padding: 8px; text-align: left; color: #e0e0e0;\">Status</th>\n",
       "                        <th style=\"padding: 8px; text-align: left; color: #e0e0e0;\">Endpoints</th>\n",
       "                        <th style=\"padding: 8px; text-align: left; color: #e0e0e0;\">Uptime</th>\n",
       "                        <th style=\"padding: 8px; text-align: left; color: #e0e0e0;\">Expires In</th>\n",
       "                        <th style=\"padding: 8px; text-align: left; color: #e0e0e0;\">PID</th>\n",
       "                    </tr>\n",
       "                </thead>\n",
       "                <tbody>\n",
       "                    \n",
       "            <tr style=\"background: #1e1e1e;\">\n",
       "                <td style=\"padding: 8px; color: #e0e0e0;\"><strong>watcher_sender_liamtrask_gmail_com</strong></td>\n",
       "                <td style=\"padding: 8px; color: #e0e0e0;\">8000</td>\n",
       "                <td style=\"padding: 8px; color: #27ae60;\">✅ Running</td>\n",
       "                <td style=\"padding: 8px; color: #e0e0e0;\"><code>/</code></td>\n",
       "                <td style=\"padding: 8px; color: #e0e0e0;\">1m 12s</td>\n",
       "                <td style=\"padding: 8px; color: #f59e0b; font-weight: 500;\">23h 59m</td>\n",
       "                <td style=\"padding: 8px;\"><code style=\"background: #2d2d2d; padding: 2px 4px; border-radius: 3px; color: #e0e0e0;\">69911</code></td>\n",
       "            </tr>\n",
       "            \n",
       "            <tr style=\"background: #1e1e1e;\">\n",
       "                <td style=\"padding: 8px; color: #e0e0e0;\"><strong>watcher_sender_andrew_openmined_org</strong></td>\n",
       "                <td style=\"padding: 8px; color: #e0e0e0;\">8001</td>\n",
       "                <td style=\"padding: 8px; color: #27ae60;\">✅ Running</td>\n",
       "                <td style=\"padding: 8px; color: #e0e0e0;\"><code>/</code></td>\n",
       "                <td style=\"padding: 8px; color: #e0e0e0;\">1m 2s</td>\n",
       "                <td style=\"padding: 8px; color: #f59e0b; font-weight: 500;\">23h 59m</td>\n",
       "                <td style=\"padding: 8px;\"><code style=\"background: #2d2d2d; padding: 2px 4px; border-radius: 3px; color: #e0e0e0;\">69920</code></td>\n",
       "            </tr>\n",
       "            \n",
       "            <tr style=\"background: #1e1e1e;\">\n",
       "                <td style=\"padding: 8px; color: #e0e0e0;\"><strong>receiver_liamtrask_gmail_com</strong></td>\n",
       "                <td style=\"padding: 8px; color: #e0e0e0;\">8002</td>\n",
       "                <td style=\"padding: 8px; color: #27ae60;\">✅ Running</td>\n",
       "                <td style=\"padding: 8px; color: #e0e0e0;\"><code>/</code></td>\n",
       "                <td style=\"padding: 8px; color: #e0e0e0;\">52s</td>\n",
       "                <td style=\"padding: 8px; color: #f59e0b; font-weight: 500;\">23h 59m</td>\n",
       "                <td style=\"padding: 8px;\"><code style=\"background: #2d2d2d; padding: 2px 4px; border-radius: 3px; color: #e0e0e0;\">69931</code></td>\n",
       "            </tr>\n",
       "            \n",
       "            <tr style=\"background: #1e1e1e;\">\n",
       "                <td style=\"padding: 8px; color: #e0e0e0;\"><strong>receiver_andrew_openmined_org</strong></td>\n",
       "                <td style=\"padding: 8px; color: #e0e0e0;\">8003</td>\n",
       "                <td style=\"padding: 8px; color: #27ae60;\">✅ Running</td>\n",
       "                <td style=\"padding: 8px; color: #e0e0e0;\"><code>/</code></td>\n",
       "                <td style=\"padding: 8px; color: #e0e0e0;\">50s</td>\n",
       "                <td style=\"padding: 8px; color: #f59e0b; font-weight: 500;\">23h 59m</td>\n",
       "                <td style=\"padding: 8px;\"><code style=\"background: #2d2d2d; padding: 2px 4px; border-radius: 3px; color: #e0e0e0;\">69937</code></td>\n",
       "            </tr>\n",
       "            \n",
       "                </tbody>\n",
       "            </table>\n",
       "            <div style=\"color: #a0a0a0; font-size: 14px;\">\n",
       "                4 servers (4 running, 0 stopped)\n",
       "            </div>\n",
       "        </div>\n",
       "        "
      ],
      "text/plain": [
       "Name                                   Port  Status      Endpoints    Uptime      PID\n",
       "-----------------------------------  ------  ----------  -----------  --------  -----\n",
       "watcher_sender_liamtrask_gmail_com     8000  ✅ Running  /            1m 12s    69911\n",
       "watcher_sender_andrew_openmined_org    8001  ✅ Running  /            1m 2s     69920\n",
       "receiver_liamtrask_gmail_com           8002  ✅ Running  /            52s       69931\n",
       "receiver_andrew_openmined_org          8003  ✅ Running  /            49s       69937\n",
       "4 servers (4 running, 0 stopped)"
      ]
     },
     "execution_count": 13,
     "metadata": {},
     "output_type": "execute_result"
    }
   ],
   "source": [
    "ss.servers"
   ]
  },
  {
   "cell_type": "code",
   "execution_count": 14,
   "id": "69856aa1-9549-4f2b-814d-cf6610b335dc",
   "metadata": {},
   "outputs": [
    {
     "name": "stdout",
     "output_type": "stream",
     "text": [
      "Liam's watcher: {'running': True, 'server_url': 'http://localhost:8000', 'server_name': 'watcher_sender_liamtrask_gmail_com', 'email': 'liamtrask@gmail.com', 'message': 'Watcher active for liamtrask@gmail.com'}\n",
      "Liam's receiver: {'running': True, 'server_url': 'http://localhost:8002', 'server_name': 'receiver_liamtrask_gmail_com', 'email': 'liamtrask@gmail.com', 'message': 'Receiver active for liamtrask@gmail.com', 'messages_processed': 'unknown', 'last_check': 'unknown', 'peers_monitored': 2}\n",
      "Andrew's watcher: {'running': True, 'server_url': 'http://localhost:8001', 'server_name': 'watcher_sender_andrew_openmined_org', 'email': 'andrew@openmined.org', 'message': 'Watcher active for andrew@openmined.org'}\n",
      "Andrew's receiver: {'running': True, 'server_url': 'http://localhost:8003', 'server_name': 'receiver_andrew_openmined_org', 'email': 'andrew@openmined.org', 'message': 'Receiver active for andrew@openmined.org', 'messages_processed': 'unknown', 'last_check': 'unknown', 'peers_monitored': 1}\n"
     ]
    }
   ],
   "source": [
    "# Check status\n",
    "print(f\"Liam's watcher: {client1.watcher.status()}\")\n",
    "print(f\"Liam's receiver: {client1.receiver.status()}\")\n",
    "print(f\"Andrew's watcher: {client2.watcher.status()}\")\n",
    "print(f\"Andrew's receiver: {client2.receiver.status()}\")"
   ]
  },
  {
   "cell_type": "code",
   "execution_count": 15,
   "id": "223accdc-0684-4696-8c71-ac6cbdfb3a8b",
   "metadata": {},
   "outputs": [
    {
     "data": {
      "text/plain": [
       "['INFO:     127.0.0.1:55873 - \"GET /health HTTP/1.1\" 200 OK',\n",
       " 'INFO:     127.0.0.1:55875 - \"GET /health HTTP/1.1\" 200 OK',\n",
       " 'Starting watcher for liamtrask@gmail.com...',\n",
       " '📁 Using existing SyftBox directory: /Users/atrask/SyftBox_liamtrask@gmail.com',\n",
       " 'Login successful!',\n",
       " 'INFO:     127.0.0.1:55877 - \"GET / HTTP/1.1\" 200 OK',\n",
       " 'INFO:     127.0.0.1:55889 - \"GET /health HTTP/1.1\" 200 OK',\n",
       " 'INFO:     127.0.0.1:55891 - \"GET /syft/info HTTP/1.1\" 200 OK',\n",
       " 'INFO:     127.0.0.1:55893 - \"GET /health HTTP/1.1\" 200 OK',\n",
       " 'INFO:     127.0.0.1:55895 - \"GET /syft/info HTTP/1.1\" 200 OK',\n",
       " 'INFO:     127.0.0.1:55897 - \"GET /health HTTP/1.1\" 200 OK',\n",
       " 'INFO:     127.0.0.1:55899 - \"GET /syft/info HTTP/1.1\" 200 OK',\n",
       " 'INFO:     127.0.0.1:55901 - \"GET /health HTTP/1.1\" 200 OK',\n",
       " 'INFO:     127.0.0.1:55903 - \"GET /syft/info HTTP/1.1\" 200 OK',\n",
       " 'INFO:     127.0.0.1:55941 - \"GET /health HTTP/1.1\" 200 OK',\n",
       " 'INFO:     127.0.0.1:55957 - \"GET /health HTTP/1.1\" 200 OK',\n",
       " 'INFO:     127.0.0.1:55961 - \"GET /syft/info HTTP/1.1\" 200 OK',\n",
       " 'INFO:     127.0.0.1:55965 - \"GET /health HTTP/1.1\" 200 OK',\n",
       " 'INFO:     127.0.0.1:55967 - \"GET /health HTTP/1.1\" 200 OK',\n",
       " 'INFO:     127.0.0.1:55969 - \"GET /health HTTP/1.1\" 200 OK',\n",
       " 'INFO:     127.0.0.1:55977 - \"GET /health HTTP/1.1\" 200 OK',\n",
       " 'INFO:     127.0.0.1:55981 - \"GET /health HTTP/1.1\" 200 OK',\n",
       " 'INFO:     127.0.0.1:55985 - \"GET /syft/info HTTP/1.1\" 200 OK',\n",
       " 'INFO:     127.0.0.1:55989 - \"GET /health HTTP/1.1\" 200 OK',\n",
       " 'INFO:     127.0.0.1:55991 - \"GET /health HTTP/1.1\" 200 OK',\n",
       " 'INFO:     127.0.0.1:55993 - \"GET /health HTTP/1.1\" 200 OK',\n",
       " 'INFO:     127.0.0.1:55995 - \"GET /health HTTP/1.1\" 200 OK',\n",
       " 'INFO:     127.0.0.1:56005 - \"GET /health HTTP/1.1\" 200 OK',\n",
       " 'INFO:     127.0.0.1:56009 - \"GET /health HTTP/1.1\" 200 OK',\n",
       " 'INFO:     127.0.0.1:56013 - \"GET /syft/info HTTP/1.1\" 200 OK',\n",
       " 'INFO:     127.0.0.1:56017 - \"GET /health HTTP/1.1\" 200 OK',\n",
       " 'INFO:     127.0.0.1:56021 - \"GET /syft/info HTTP/1.1\" 200 OK',\n",
       " 'INFO:     127.0.0.1:56025 - \"GET /health HTTP/1.1\" 200 OK',\n",
       " 'INFO:     127.0.0.1:56029 - \"GET /syft/info HTTP/1.1\" 200 OK',\n",
       " 'INFO:     127.0.0.1:56033 - \"GET /health HTTP/1.1\" 200 OK',\n",
       " 'INFO:     127.0.0.1:56037 - \"GET /syft/info HTTP/1.1\" 200 OK',\n",
       " 'INFO:     127.0.0.1:56047 - \"GET /health HTTP/1.1\" 200 OK',\n",
       " 'INFO:     127.0.0.1:56055 - \"GET /health HTTP/1.1\" 200 OK',\n",
       " 'INFO:     127.0.0.1:56061 - \"GET /syft/info HTTP/1.1\" 200 OK',\n",
       " 'INFO:     127.0.0.1:56067 - \"GET /health HTTP/1.1\" 200 OK',\n",
       " 'INFO:     127.0.0.1:56073 - \"GET /syft/info HTTP/1.1\" 200 OK',\n",
       " 'INFO:     127.0.0.1:56079 - \"GET /health HTTP/1.1\" 200 OK',\n",
       " 'INFO:     127.0.0.1:56085 - \"GET /syft/info HTTP/1.1\" 200 OK',\n",
       " 'INFO:     127.0.0.1:56091 - \"GET /health HTTP/1.1\" 200 OK',\n",
       " 'INFO:     127.0.0.1:56097 - \"GET /syft/info HTTP/1.1\" 200 OK',\n",
       " 'INFO:     127.0.0.1:56110 - \"GET /health HTTP/1.1\" 200 OK',\n",
       " 'INFO:     127.0.0.1:56120 - \"GET /health HTTP/1.1\" 200 OK',\n",
       " 'INFO:     127.0.0.1:56128 - \"GET /syft/info HTTP/1.1\" 200 OK',\n",
       " 'INFO:     127.0.0.1:56136 - \"GET /health HTTP/1.1\" 200 OK',\n",
       " 'INFO:     127.0.0.1:56138 - \"GET /health HTTP/1.1\" 200 OK',\n",
       " 'INFO:     127.0.0.1:56140 - \"GET /health HTTP/1.1\" 200 OK',\n",
       " 'INFO:     127.0.0.1:56160 - \"GET /health HTTP/1.1\" 200 OK',\n",
       " 'INFO:     127.0.0.1:56168 - \"GET /health HTTP/1.1\" 200 OK',\n",
       " 'INFO:     127.0.0.1:56176 - \"GET /syft/info HTTP/1.1\" 200 OK',\n",
       " 'INFO:     127.0.0.1:56184 - \"GET /health HTTP/1.1\" 200 OK',\n",
       " 'INFO:     127.0.0.1:56186 - \"GET /health HTTP/1.1\" 200 OK',\n",
       " 'INFO:     127.0.0.1:56188 - \"GET /health HTTP/1.1\" 200 OK',\n",
       " 'INFO:     127.0.0.1:56190 - \"GET /health HTTP/1.1\" 200 OK',\n",
       " 'INFO:     127.0.0.1:56216 - \"GET /health HTTP/1.1\" 200 OK',\n",
       " 'INFO:     127.0.0.1:56224 - \"GET /health HTTP/1.1\" 200 OK',\n",
       " 'INFO:     127.0.0.1:56232 - \"GET /syft/info HTTP/1.1\" 200 OK',\n",
       " 'INFO:     127.0.0.1:56240 - \"GET /health HTTP/1.1\" 200 OK',\n",
       " 'INFO:     127.0.0.1:56248 - \"GET /syft/info HTTP/1.1\" 200 OK',\n",
       " 'INFO:     127.0.0.1:56256 - \"GET /health HTTP/1.1\" 200 OK',\n",
       " 'INFO:     127.0.0.1:56258 - \"GET /health HTTP/1.1\" 200 OK',\n",
       " 'INFO:     127.0.0.1:56266 - \"GET /syft/info HTTP/1.1\" 200 OK',\n",
       " 'INFO:     127.0.0.1:56274 - \"GET /health HTTP/1.1\" 200 OK',\n",
       " 'INFO:     127.0.0.1:56282 - \"GET /syft/info HTTP/1.1\" 200 OK',\n",
       " 'INFO:     127.0.0.1:56290 - \"GET /health HTTP/1.1\" 200 OK',\n",
       " 'INFO:     127.0.0.1:56298 - \"GET /syft/info HTTP/1.1\" 200 OK',\n",
       " 'INFO:     127.0.0.1:56308 - \"GET /health HTTP/1.1\" 200 OK',\n",
       " 'INFO:     127.0.0.1:56316 - \"GET /syft/info HTTP/1.1\" 200 OK',\n",
       " 'INFO:     127.0.0.1:56324 - \"GET /health HTTP/1.1\" 200 OK',\n",
       " 'INFO:     127.0.0.1:56332 - \"GET /syft/info HTTP/1.1\" 200 OK',\n",
       " 'INFO:     127.0.0.1:56340 - \"GET /health HTTP/1.1\" 200 OK',\n",
       " 'INFO:     127.0.0.1:56348 - \"GET /syft/info HTTP/1.1\" 200 OK',\n",
       " 'INFO:     127.0.0.1:56356 - \"GET /health HTTP/1.1\" 200 OK',\n",
       " 'INFO:     127.0.0.1:56364 - \"GET /syft/info HTTP/1.1\" 200 OK',\n",
       " 'INFO:     127.0.0.1:56374 - \"GET /health HTTP/1.1\" 200 OK',\n",
       " 'INFO:     127.0.0.1:56382 - \"GET /syft/info HTTP/1.1\" 200 OK',\n",
       " 'INFO:     127.0.0.1:56390 - \"GET /health HTTP/1.1\" 200 OK',\n",
       " 'INFO:     127.0.0.1:56398 - \"GET /syft/info HTTP/1.1\" 200 OK',\n",
       " 'INFO:     127.0.0.1:56406 - \"GET /health HTTP/1.1\" 200 OK',\n",
       " 'INFO:     127.0.0.1:56414 - \"GET /syft/info HTTP/1.1\" 200 OK',\n",
       " 'INFO:     127.0.0.1:56424 - \"GET /health HTTP/1.1\" 200 OK',\n",
       " 'INFO:     127.0.0.1:56432 - \"GET /syft/info HTTP/1.1\" 200 OK',\n",
       " 'INFO:     127.0.0.1:56440 - \"GET /health HTTP/1.1\" 200 OK',\n",
       " 'INFO:     127.0.0.1:56448 - \"GET /syft/info HTTP/1.1\" 200 OK',\n",
       " 'INFO:     127.0.0.1:56488 - \"GET /health HTTP/1.1\" 200 OK',\n",
       " 'INFO:     127.0.0.1:56496 - \"GET /syft/info HTTP/1.1\" 200 OK',\n",
       " 'INFO:     127.0.0.1:56504 - \"GET /health HTTP/1.1\" 200 OK',\n",
       " 'INFO:     127.0.0.1:56512 - \"GET /syft/info HTTP/1.1\" 200 OK',\n",
       " 'INFO:     127.0.0.1:56522 - \"GET /health HTTP/1.1\" 200 OK',\n",
       " 'INFO:     127.0.0.1:56530 - \"GET /syft/info HTTP/1.1\" 200 OK',\n",
       " 'INFO:     127.0.0.1:56538 - \"GET /health HTTP/1.1\" 200 OK',\n",
       " 'INFO:     127.0.0.1:56546 - \"GET /syft/info HTTP/1.1\" 200 OK',\n",
       " 'INFO:     127.0.0.1:56556 - \"GET /health HTTP/1.1\" 200 OK',\n",
       " 'INFO:     127.0.0.1:56564 - \"GET /syft/info HTTP/1.1\" 200 OK',\n",
       " 'INFO:     127.0.0.1:56572 - \"GET /health HTTP/1.1\" 200 OK',\n",
       " 'INFO:     127.0.0.1:56574 - \"GET /health HTTP/1.1\" 200 OK',\n",
       " 'INFO:     127.0.0.1:56576 - \"GET /health HTTP/1.1\" 200 OK',\n",
       " 'INFO:     127.0.0.1:56596 - \"GET /health HTTP/1.1\" 200 OK',\n",
       " 'INFO:     127.0.0.1:56604 - \"GET /health HTTP/1.1\" 200 OK',\n",
       " 'INFO:     127.0.0.1:56612 - \"GET /syft/info HTTP/1.1\" 200 OK',\n",
       " 'INFO:     127.0.0.1:56620 - \"GET /health HTTP/1.1\" 200 OK',\n",
       " 'INFO:     127.0.0.1:56622 - \"GET /health HTTP/1.1\" 200 OK',\n",
       " 'INFO:     127.0.0.1:56624 - \"GET /health HTTP/1.1\" 200 OK',\n",
       " 'INFO:     127.0.0.1:56626 - \"GET /health HTTP/1.1\" 200 OK',\n",
       " 'INFO:     127.0.0.1:56652 - \"GET /health HTTP/1.1\" 200 OK',\n",
       " 'INFO:     127.0.0.1:56660 - \"GET /health HTTP/1.1\" 200 OK',\n",
       " 'INFO:     127.0.0.1:56668 - \"GET /syft/info HTTP/1.1\" 200 OK',\n",
       " 'INFO:     127.0.0.1:56676 - \"GET /health HTTP/1.1\" 200 OK',\n",
       " 'INFO:     127.0.0.1:56684 - \"GET /syft/info HTTP/1.1\" 200 OK',\n",
       " 'INFO:     127.0.0.1:56692 - \"GET /health HTTP/1.1\" 200 OK',\n",
       " 'INFO:     127.0.0.1:56694 - \"GET /health HTTP/1.1\" 200 OK',\n",
       " 'INFO:     127.0.0.1:56702 - \"GET /syft/info HTTP/1.1\" 200 OK',\n",
       " 'INFO:     127.0.0.1:56710 - \"GET /health HTTP/1.1\" 200 OK',\n",
       " 'INFO:     127.0.0.1:56718 - \"GET /syft/info HTTP/1.1\" 200 OK',\n",
       " 'INFO:     127.0.0.1:56726 - \"GET /health HTTP/1.1\" 200 OK',\n",
       " 'INFO:     127.0.0.1:56734 - \"GET /syft/info HTTP/1.1\" 200 OK',\n",
       " 'INFO:     127.0.0.1:56744 - \"GET /health HTTP/1.1\" 200 OK',\n",
       " 'INFO:     127.0.0.1:56752 - \"GET /syft/info HTTP/1.1\" 200 OK',\n",
       " 'INFO:     127.0.0.1:56760 - \"GET /health HTTP/1.1\" 200 OK',\n",
       " 'INFO:     127.0.0.1:56768 - \"GET /syft/info HTTP/1.1\" 200 OK',\n",
       " 'INFO:     127.0.0.1:56776 - \"GET /health HTTP/1.1\" 200 OK',\n",
       " 'INFO:     127.0.0.1:56784 - \"GET /syft/info HTTP/1.1\" 200 OK',\n",
       " 'INFO:     127.0.0.1:56792 - \"GET /health HTTP/1.1\" 200 OK',\n",
       " 'INFO:     127.0.0.1:56800 - \"GET /syft/info HTTP/1.1\" 200 OK',\n",
       " 'INFO:     127.0.0.1:56810 - \"GET /health HTTP/1.1\" 200 OK',\n",
       " 'INFO:     127.0.0.1:56818 - \"GET /syft/info HTTP/1.1\" 200 OK',\n",
       " 'INFO:     127.0.0.1:56826 - \"GET /health HTTP/1.1\" 200 OK',\n",
       " 'INFO:     127.0.0.1:56834 - \"GET /syft/info HTTP/1.1\" 200 OK',\n",
       " 'INFO:     127.0.0.1:56842 - \"GET /health HTTP/1.1\" 200 OK',\n",
       " 'INFO:     127.0.0.1:56850 - \"GET /syft/info HTTP/1.1\" 200 OK',\n",
       " 'INFO:     127.0.0.1:56860 - \"GET /health HTTP/1.1\" 200 OK',\n",
       " 'INFO:     127.0.0.1:56868 - \"GET /syft/info HTTP/1.1\" 200 OK',\n",
       " 'INFO:     127.0.0.1:56876 - \"GET /health HTTP/1.1\" 200 OK',\n",
       " 'INFO:     127.0.0.1:56884 - \"GET /syft/info HTTP/1.1\" 200 OK',\n",
       " 'INFO:     127.0.0.1:56892 - \"GET /health HTTP/1.1\" 200 OK',\n",
       " 'INFO:     127.0.0.1:56900 - \"GET /syft/info HTTP/1.1\" 200 OK']"
      ]
     },
     "execution_count": 15,
     "metadata": {},
     "output_type": "execute_result"
    }
   ],
   "source": [
    "ss.servers['watcher_sender_liamtrask_gmail_com'].stdout.lines()"
   ]
  },
  {
   "cell_type": "code",
   "execution_count": 17,
   "id": "8c31de3a-f103-4a13-9296-f376623e6778",
   "metadata": {},
   "outputs": [
    {
     "data": {
      "text/plain": [
       "{'running': True,\n",
       " 'server_url': 'http://localhost:8000',\n",
       " 'server_name': 'watcher_sender_liamtrask_gmail_com',\n",
       " 'email': 'liamtrask@gmail.com',\n",
       " 'message': 'Watcher active for liamtrask@gmail.com'}"
      ]
     },
     "execution_count": 17,
     "metadata": {},
     "output_type": "execute_result"
    }
   ],
   "source": [
    "client1.watcher.status()"
   ]
  },
  {
   "cell_type": "code",
   "execution_count": null,
   "id": "d68286b8-4402-4196-ba20-4ba97e82b811",
   "metadata": {},
   "outputs": [],
   "source": []
  },
  {
   "cell_type": "code",
   "execution_count": null,
   "id": "850294b7-088e-4477-9211-ffec054aa958",
   "metadata": {},
   "outputs": [],
   "source": []
  },
  {
   "cell_type": "code",
   "execution_count": null,
   "id": "d2c2531b-d186-452d-b52c-e144f5d1ec84",
   "metadata": {},
   "outputs": [],
   "source": []
  },
  {
   "cell_type": "code",
   "execution_count": null,
   "id": "c42dd19d-e11c-45d3-8e77-63cbcfff0e68",
   "metadata": {},
   "outputs": [],
   "source": []
  },
  {
   "cell_type": "code",
   "execution_count": 22,
   "id": "e3c5396f-456b-4cdf-81b7-bddfe43d6fcd",
   "metadata": {},
   "outputs": [],
   "source": [
    "import syft_serve as ss"
   ]
  },
  {
   "cell_type": "code",
   "execution_count": 61,
   "id": "ad4ccc89-eb6c-4b7b-a0af-9180426126e7",
   "metadata": {},
   "outputs": [
    {
     "data": {
      "text/html": [
       "<p style='color: #a0a0a0;'>No servers</p>"
      ],
      "text/plain": [
       "No servers"
      ]
     },
     "execution_count": 61,
     "metadata": {},
     "output_type": "execute_result"
    }
   ],
   "source": [
    "ss.servers"
   ]
  },
  {
   "cell_type": "code",
   "execution_count": 45,
   "id": "5885cab9-07ef-4279-bd77-906dfe32e9b0",
   "metadata": {},
   "outputs": [
    {
     "name": "stdout",
     "output_type": "stream",
     "text": [
      "\n"
     ]
    }
   ],
   "source": [
    "print(ss.servers[0].stderr.tail(20))"
   ]
  },
  {
   "cell_type": "code",
   "execution_count": 46,
   "id": "5a12db12-9d10-49e1-9e54-7200d91376a8",
   "metadata": {},
   "outputs": [
    {
     "name": "stdout",
     "output_type": "stream",
     "text": [
      "\n"
     ]
    }
   ],
   "source": [
    "print(ss.servers[0].stdout.tail(20))"
   ]
  },
  {
   "cell_type": "code",
   "execution_count": 26,
   "id": "bd5c413e-bb94-4c56-9166-c2a25c09d73d",
   "metadata": {},
   "outputs": [
    {
     "name": "stdout",
     "output_type": "stream",
     "text": [
      "✅ Connected peer-to-peer to 3 peers via: Gmail, Gdrive_Files, Gsheets, Gforms                    \n"
     ]
    }
   ],
   "source": [
    "client2 = sc.login(\"andrew@openmined.org\")"
   ]
  },
  {
   "cell_type": "code",
   "execution_count": 27,
   "id": "1049881e-d13c-4a16-b1c9-6d33a0859166",
   "metadata": {},
   "outputs": [
    {
     "name": "stdout",
     "output_type": "stream",
     "text": [
      "📬 Checking gsheets inbox for messages from liamtrask@gmail.com...\n",
      "\n",
      "🔄 Checking gsheets...\n",
      "   Found message sheet: syft_liamtrask_at_gmail_com_to_andrew_at_openmined_org_messages\n",
      "   📥 Extracted: datasites\n",
      "   📥 Extracted: datasites\n",
      "   📦 Archived 2 messages\n",
      "   ✅ Found 2 messages\n",
      "\n",
      "📊 Summary: Found 2 messages across 1 transport\n"
     ]
    },
    {
     "data": {
      "text/plain": [
       "{'gsheets': [{'id': 'msg_20250927_230656_66915602',\n",
       "   'timestamp': '2025-09-27 23:06:57',\n",
       "   'size': 599,\n",
       "   'metadata': {'message_id': 'msg_20250927_230656_66915602',\n",
       "    'sender': 'liamtrask@gmail.com',\n",
       "    'recipient': 'andrew@openmined.org',\n",
       "    'created_at': '2025-09-27T23:06:56.813971',\n",
       "    'syft_version': '0.1.0'},\n",
       "   'extracted_to': '/Users/atrask/SyftBox_andrew@openmined.org'},\n",
       "  {'id': 'msg_20250927_230926_1a55419a',\n",
       "   'timestamp': '2025-09-27 23:09:27',\n",
       "   'size': 560,\n",
       "   'metadata': {'message_id': 'msg_20250927_230926_1a55419a',\n",
       "    'sender': 'liamtrask@gmail.com',\n",
       "    'recipient': 'andrew@openmined.org',\n",
       "    'created_at': '2025-09-27T23:09:26.018904',\n",
       "    'syft_version': '0.1.0'},\n",
       "   'extracted_to': '/Users/atrask/SyftBox_andrew@openmined.org'}]}"
      ]
     },
     "execution_count": 27,
     "metadata": {},
     "output_type": "execute_result"
    }
   ],
   "source": [
    "client2.peers['liamtrask@gmail.com'].check_inbox(transport=\"gsheets\")"
   ]
  },
  {
   "cell_type": "code",
   "execution_count": null,
   "id": "63be0a27-fba6-4679-866d-894216af82a3",
   "metadata": {},
   "outputs": [],
   "source": []
  },
  {
   "cell_type": "code",
   "execution_count": null,
   "id": "cc42be27-83d0-4bef-bbc4-b10d1fb9880b",
   "metadata": {},
   "outputs": [],
   "source": []
  },
  {
   "cell_type": "code",
   "execution_count": null,
   "id": "babfa261-625e-408f-bd6f-1d51524f9fe0",
   "metadata": {},
   "outputs": [],
   "source": []
  },
  {
   "cell_type": "code",
   "execution_count": 4,
   "id": "80b650b0-8e11-460a-a289-203d6a374e2a",
   "metadata": {},
   "outputs": [],
   "source": [
    "peer = client2.peers[1]"
   ]
  },
  {
   "cell_type": "code",
   "execution_count": 5,
   "id": "1436bf45-a62b-40f0-b613-82a586608440",
   "metadata": {},
   "outputs": [
    {
     "name": "stdout",
     "output_type": "stream",
     "text": [
      "📬 Checking inbox for messages from kj@kj.dev...\n",
      "\n",
      "🔄 Checking gdrive_files...\n",
      "   📭 No messages\n",
      "\n",
      "🔄 Checking gsheets...\n",
      "   No message sheet found: syft_kj@kj.dev_to_andrew@openmined.org_outbox_inbox\n",
      "   📭 No messages\n",
      "\n",
      "🔄 Checking gmail...\n",
      "   ⚠️  Transport doesn't support inbox checking\n",
      "\n",
      "📊 Summary: Found 0 messages across 0 transports\n"
     ]
    },
    {
     "data": {
      "text/plain": [
       "{}"
      ]
     },
     "execution_count": 5,
     "metadata": {},
     "output_type": "execute_result"
    }
   ],
   "source": [
    "peer.check_inbox()"
   ]
  },
  {
   "cell_type": "markdown",
   "id": "44315807-5e9f-4460-acc3-5a552420db32",
   "metadata": {},
   "source": [
    "# Test 1: Test the ability to prepare a message for sending"
   ]
  },
  {
   "cell_type": "code",
   "execution_count": 9,
   "id": "4fc4ca8f-c83e-4f84-8c80-02cfb231ba98",
   "metadata": {},
   "outputs": [
    {
     "data": {
      "text/plain": [
       "'/Users/atrask/SyftBox_liamtrask@gmail.com'"
      ]
     },
     "execution_count": 9,
     "metadata": {},
     "output_type": "execute_result"
    }
   ],
   "source": [
    "client1.folder"
   ]
  },
  {
   "cell_type": "code",
   "execution_count": 8,
   "id": "89747f50-213a-4dac-9d98-e9412516cfd3",
   "metadata": {},
   "outputs": [
    {
     "name": "stdout",
     "output_type": "stream",
     "text": [
      "⚠️  Syncing from outside SyftBox - file will be placed in: external/test_msg.txt\n"
     ]
    }
   ],
   "source": [
    "import tempfile\n",
    "from pathlib import Path\n",
    "\n",
    "f = open('/Users/atrask/SyftBox_liamtrask@gmail.com/datasites/test_msg.txt', 'w')\n",
    "f.write(\"Hello world!!!!!!\")\n",
    "f.close()\n",
    "\n",
    "path = \"/Users/atrask/SyftBox_liamtrask@gmail.com/datasites/test_msg.txt\"\n",
    "\n",
    "temp_dir = tempfile.TemporaryDirectory()\n",
    "\n",
    "(msg_id, msg_path, archive_size) = client1.sync.sender.prepare_message(\n",
    "  path=path,\n",
    "  recipient=\"andrew@openmined.org\",\n",
    "  temp_dir=temp_dir.name,  # Note: use temp_dir.name to get the string path\n",
    "  sync_from_anywhere=True\n",
    ")"
   ]
  },
  {
   "cell_type": "markdown",
   "id": "4845b16d-dcc2-4eed-be1d-04c72160d653",
   "metadata": {},
   "source": [
    "# Test 2: "
   ]
  },
  {
   "cell_type": "code",
   "execution_count": 9,
   "id": "4047f9da-870f-4b19-837b-f9a3282c9f73",
   "metadata": {},
   "outputs": [],
   "source": [
    "import sys\n",
    "sys.path.insert(0, '..')\n",
    "import syft_client as sc"
   ]
  },
  {
   "cell_type": "code",
   "execution_count": 29,
   "id": "793b7189-260f-412e-82ed-457efd4d11fc",
   "metadata": {},
   "outputs": [],
   "source": [
    "import tempfile\n",
    "from pathlib import Path\n",
    "\n",
    "f = open('/Users/atrask/SyftBox_liamtrask@gmail.com/datasites/test_msg.txt', 'w')\n",
    "f.write(\"Hello world?\")\n",
    "f.close()\n",
    "\n",
    "path = \"/Users/atrask/SyftBox_liamtrask@gmail.com/datasites/test_msg.txt\"\n",
    "\n",
    "temp_dir = tempfile.TemporaryDirectory()\n",
    "\n",
    "out = client1.send_to(path=path, recipient=\"andrew@openmined.org\")"
   ]
  },
  {
   "cell_type": "code",
   "execution_count": 30,
   "id": "b291d5b6-7618-446f-b4a6-1b029eabccde",
   "metadata": {},
   "outputs": [
    {
     "name": "stdout",
     "output_type": "stream",
     "text": [
      "\n",
      "🔄 Transport negotiation for andrew@openmined.org:\n",
      "   File size: 514.0B\n",
      "   Priority: normal\n",
      "\n",
      "   Scores:\n",
      "   - gsheets: 0.86 (est. 500ms)\n",
      "     • Sub-second latency\n",
      "     • Verified transport\n",
      "   - gmail: 0.72 (est. 2000ms)\n",
      "     • Fast latency (<5s)\n",
      "     • Verified transport\n",
      "   - gdrive_files: 0.68 (est. 3000ms)\n",
      "     • Fast latency (<5s)\n",
      "     • Verified transport\n",
      "\n",
      "   ✅ Selected: gsheets\n",
      "📊 Sent message via sheets: msg_20250927_204908_1e95aadf\n",
      "   Size: 514 bytes\n",
      "✅ Successfully sent via gsheets in 1800ms\n"
     ]
    }
   ],
   "source": []
  },
  {
   "cell_type": "code",
   "execution_count": 31,
   "id": "7fcbea4d-b717-47f6-a6a8-51ea3585cedb",
   "metadata": {},
   "outputs": [
    {
     "name": "stdout",
     "output_type": "stream",
     "text": [
      "📬 Checking inbox for messages from liamtrask@gmail.com...\n",
      "\n",
      "🔄 Checking gdrive_files...\n",
      "   📭 No messages\n",
      "\n",
      "🔄 Checking gsheets...\n",
      "   No message sheet found: syft_liamtrask@gmail.com_to_andrew@openmined.org_outbox_inbox\n",
      "   📭 No messages\n",
      "\n",
      "🔄 Checking gmail...\n",
      "   ⚠️  Transport doesn't support inbox checking\n",
      "\n",
      "📊 Summary: Found 0 messages across 0 transports\n"
     ]
    },
    {
     "data": {
      "text/plain": [
       "{}"
      ]
     },
     "execution_count": 31,
     "metadata": {},
     "output_type": "execute_result"
    }
   ],
   "source": [
    "client2.peers['liamtrask@gmail.com'].check_inbox()"
   ]
  },
  {
   "cell_type": "code",
   "execution_count": null,
   "id": "fc742359-0055-4165-a0a5-4a8444a7ed85",
   "metadata": {},
   "outputs": [],
   "source": []
  }
 ],
 "metadata": {
  "kernelspec": {
   "display_name": "Python 3 (ipykernel)",
   "language": "python",
   "name": "python3"
  },
  "language_info": {
   "codemirror_mode": {
    "name": "ipython",
    "version": 3
   },
   "file_extension": ".py",
   "mimetype": "text/x-python",
   "name": "python",
   "nbconvert_exporter": "python",
   "pygments_lexer": "ipython3",
   "version": "3.12.9"
  }
 },
 "nbformat": 4,
 "nbformat_minor": 5
}
